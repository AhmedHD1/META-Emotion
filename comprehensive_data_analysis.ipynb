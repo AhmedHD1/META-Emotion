{
 "cells": [
  {
   "cell_type": "code",
   "execution_count": 11,
   "metadata": {},
   "outputs": [],
   "source": [
    "import numpy as np\n",
    "import matplotlib.pyplot as plt\n",
    "import os\n",
    "import pandas as pd\n",
    "import seaborn as sns\n",
    "import re\n",
    "from scipy import stats\n",
    "from tqdm.notebook import tqdm\n",
    "import time \n",
    "from scipy.stats import zscore\n",
    "from scipy.stats import f_oneway\n",
    "import statsmodels.stats.anova as anova\n",
    "import statsmodels.api as sm\n",
    "from statsmodels.formula.api import ols\n",
    "from statsmodels.stats.multicomp import pairwise_tukeyhsd\n",
    "from statsmodels.stats.anova import AnovaRM\n",
    "from statsmodels.stats.multicomp import pairwise_tukeyhsd\n",
    "import statsmodels.api as sm\n",
    "import statsmodels.formula.api as smf\n"
   ]
  },
  {
   "cell_type": "markdown",
   "metadata": {},
   "source": [
    "# Behavioural Data Analysis"
   ]
  },
  {
   "cell_type": "code",
   "execution_count": 12,
   "metadata": {},
   "outputs": [],
   "source": [
    "#dataset_path = r\"C:\\Users\\Nabiya\\OneDrive - Duke University\\Research\\DTI x MetaEmotion\\Paper_Drafting\\dataset\"\n",
    "dataset_path = r\"dataset\"\n",
    "\n",
    "dataframes = []\n",
    "\n",
    "for filename in os.listdir(dataset_path):\n",
    "    if filename.endswith('.csv'):\n",
    "        file_path = os.path.join(dataset_path, filename)\n",
    "        df = pd.read_csv(file_path)\n",
    "        dataframes.append(df)\n",
    "all_participants_dfs = pd.concat(dataframes, ignore_index=True)"
   ]
  },
  {
   "cell_type": "code",
   "execution_count": 13,
   "metadata": {},
   "outputs": [
    {
     "name": "stderr",
     "output_type": "stream",
     "text": [
      "C:\\Users\\Nabiya\\AppData\\Local\\Temp\\ipykernel_14864\\1194084739.py:4: DeprecationWarning: DataFrameGroupBy.apply operated on the grouping columns. This behavior is deprecated, and in a future version of pandas the grouping columns will be excluded from the operation. Either pass `include_groups=False` to exclude the groupings or explicitly select the grouping columns after groupby to silence this warning.\n",
      "  all_participants_dfs = all_participants_dfs.groupby('ID').apply(lambda x: x[np.abs(x['Decision RT'] - x['Decision RT'].mean()) <= (3 * x['Decision RT'].std())])\n"
     ]
    }
   ],
   "source": [
    "# cleaning the data \n",
    "all_participants_dfs = all_participants_dfs.loc[all_participants_dfs['block'] != 'prc']\n",
    "\n",
    "all_participants_dfs = all_participants_dfs.groupby('ID').apply(lambda x: x[np.abs(x['Decision RT'] - x['Decision RT'].mean()) <= (3 * x['Decision RT'].std())])\n"
   ]
  },
  {
   "cell_type": "code",
   "execution_count": 14,
   "metadata": {},
   "outputs": [
    {
     "data": {
      "text/plain": [
       "Index(['instr_resp.rt', 'response', 'accuracy', 'Decision RT', 'Confidence',\n",
       "       'Confidence RT', 'rest rt', 'prac_loop.thisRepN',\n",
       "       'prac_loop.thisTrialN', 'prac_loop.thisN', 'prac_loop.thisIndex',\n",
       "       'prac_loop.ran', 'block', 'condition', 'face', 'choice1', 'choice2',\n",
       "       'emotion', 'intensity', 'Ans', 'ID', '姓名', '年龄', '性别', 'date',\n",
       "       'expName', 'psychopyVersion', 'OS', 'frameRate', 'block1.thisRepN',\n",
       "       'block1.thisTrialN', 'block1.thisN', 'block1.thisIndex', 'block1.ran',\n",
       "       'block2.thisRepN', 'block2.thisTrialN', 'block2.thisN',\n",
       "       'block2.thisIndex', 'block2.ran', 'Accuracy'],\n",
       "      dtype='object')"
      ]
     },
     "execution_count": 14,
     "metadata": {},
     "output_type": "execute_result"
    }
   ],
   "source": [
    "all_participants_dfs['Accuracy'] = (all_participants_dfs['response'] == all_participants_dfs['Ans']).astype(int)\n",
    "all_participants_dfs.columns"
   ]
  },
  {
   "cell_type": "code",
   "execution_count": 15,
   "metadata": {},
   "outputs": [],
   "source": [
    "all_participants_dfs.reset_index(drop=True, inplace=True)"
   ]
  },
  {
   "cell_type": "code",
   "execution_count": 16,
   "metadata": {},
   "outputs": [
    {
     "name": "stdout",
     "output_type": "stream",
     "text": [
      "[ 1  3  4  5  6  7  8  9 10 11 12 13 14 17 18 19 20 21 22 23 24 25 27 28\n",
      " 31 32 34 36 39]\n",
      "['王少刚' '王辉' '董正心' '高倩' '叶帅' '李闯' '钱文莉' '李诗晨' '王梦宣' '姚林林' '赵冰冰' '李思璇' '何金辉'\n",
      " '吴建星' 'bq' 'gxy' 'CTG' 'zwl' nan 'MZY' '林增萍' 'qdl' '庄惠翔' '焦雄' '郭有容' '余鹏程'\n",
      " '陈若羽' 'Xuewei Qin']\n"
     ]
    }
   ],
   "source": [
    "print(all_participants_dfs['ID'].unique())\n",
    "print(all_participants_dfs['姓名'].unique())\n"
   ]
  },
  {
   "cell_type": "code",
   "execution_count": 17,
   "metadata": {},
   "outputs": [
    {
     "name": "stdout",
     "output_type": "stream",
     "text": [
      "  Name  ID  Emotion  Confidence\n",
      "0  王少刚   1  Disgust    3.170213\n",
      "1  王少刚   1     Fear    3.104167\n",
      "2  王少刚   1    Happy    3.625000\n",
      "3   王辉   3  Disgust    3.354167\n",
      "4   王辉   3     Fear    3.422222\n",
      "  Name  ID  Emotion  Decision_RT\n",
      "0  王少刚   1  Disgust     1.274849\n",
      "1  王少刚   1     Fear     1.334447\n",
      "2  王少刚   1    Happy     0.870779\n",
      "3   王辉   3  Disgust     1.770416\n",
      "4   王辉   3     Fear     1.501141\n",
      "  Name  ID  Emotion  Accuracy\n",
      "0  王少刚   1  Disgust  0.617021\n",
      "1  王少刚   1     Fear  0.500000\n",
      "2  王少刚   1    Happy  0.812500\n",
      "3   王辉   3  Disgust  0.812500\n",
      "4   王辉   3     Fear  0.577778\n"
     ]
    }
   ],
   "source": [
    "# group by emotion and take the mean Confidence, Decision RT, and Accuracy. \n",
    "# I want a separate dataframe for each of these variables, aka one df for Confidence, one for Decision RT, and one for Accuracy.\n",
    "\n",
    "# important\n",
    "#######Confidence\n",
    "confidence_df = all_participants_dfs.groupby(['ID', '姓名', 'emotion'])['Confidence'].mean().reset_index()\n",
    "\n",
    "######Decision RT\n",
    "decision_rt_df = all_participants_dfs.groupby(['ID', '姓名', 'emotion'])['Decision RT'].mean().reset_index()\n",
    "\n",
    "#####Accuracy\n",
    "accuracy_df = all_participants_dfs.groupby(['ID', '姓名', 'emotion'])['Accuracy'].mean().reset_index()\n",
    "\n",
    "# rename 姓名 to Name and emotion to Emotion in confidence_df, decision_rt_df, and accuracy_df\n",
    "confidence_df = confidence_df.rename(columns={'姓名': 'Name', 'emotion': 'Emotion', 'Confidence': 'Confidence'})\n",
    "decision_rt_df = decision_rt_df.rename(columns={'姓名': 'Name', 'emotion': 'Emotion', 'Decision RT': 'Decision_RT'})\n",
    "accuracy_df = accuracy_df.rename(columns={'姓名': 'Name', 'emotion': 'Emotion', 'Accuracy': 'Accuracy'})\n",
    "\n",
    "# change order of columns to Name, ID, emotion, Confidence, Decision RT, Accuracy\n",
    "confidence_df = confidence_df[['Name', 'ID', 'Emotion', 'Confidence']]\n",
    "decision_rt_df = decision_rt_df[['Name', 'ID', 'Emotion', 'Decision_RT']]\n",
    "accuracy_df = accuracy_df[['Name', 'ID', 'Emotion', 'Accuracy']]\n",
    "\n",
    "# print heads\n",
    "print(confidence_df.head())\n",
    "print(decision_rt_df.head())\n",
    "print(accuracy_df.head())\n",
    "\n",
    "# merge or join the three dataframes on Name, ID, and emotion"
   ]
  },
  {
   "cell_type": "code",
   "execution_count": 18,
   "metadata": {},
   "outputs": [],
   "source": [
    "confidence_df.to_csv('All_partis_confidence.csv', index=False)\n",
    "decision_rt_df.to_csv('All_partis_decRT.csv', index=False)\n",
    "accuracy_df.to_csv('All_partis_accuracy.csv', index=False)"
   ]
  },
  {
   "cell_type": "code",
   "execution_count": null,
   "metadata": {},
   "outputs": [],
   "source": []
  },
  {
   "cell_type": "code",
   "execution_count": 19,
   "metadata": {},
   "outputs": [],
   "source": [
    "mratio_df = pd.read_excel(r\"All_partis_mratio.xlsx\")\n",
    "dprime_df = pd.read_excel(r\"All_partis_dprime.xlsx\")\n",
    "logmratio_df = pd.read_excel(r\"All_partis_logMratio.xlsx\")\n",
    "metadprime_df = pd.read_excel(r\"All_partis_metad'.xlsx\")\n",
    "dti_df = pd.read_csv(r\"mratio - DTI data.csv\")"
   ]
  },
  {
   "cell_type": "code",
   "execution_count": 20,
   "metadata": {},
   "outputs": [
    {
     "name": "stdout",
     "output_type": "stream",
     "text": [
      "Index(['Name', 'ID', 'Emotion', 'Confidence'], dtype='object')\n",
      "Index(['Name', 'ID', 'Emotion', 'Decision_RT'], dtype='object')\n",
      "Index(['Name', 'ID', 'Emotion', 'Accuracy'], dtype='object')\n",
      "Index(['Name', 'ID', 'All_emotions', 'Disgust', 'Happy', 'Fear'], dtype='object')\n",
      "Index(['Name', 'ID', 'All_emotions', 'Disgust', 'Happy', 'Fear'], dtype='object')\n",
      "Index(['Name', 'ID', 'All_emotions', 'Disgust', 'Happy', 'Fear'], dtype='object')\n",
      "Index(['Name', 'ID', 'All_emotions', 'Disgust', 'Happy', 'Fear'], dtype='object')\n",
      "Index(['ID', '年龄', '性别', '采集日期', 'FA_Fornix', 'FA_Cingulum_L', 'FA_Cingulum_R',\n",
      "       'FA_SLF_L', 'FA_SLF_R', 'MD_Fornix', 'MD_Cingulum_L', 'MD_Cingulum_R',\n",
      "       'MD_SLF_L', 'MD_SLF_R', 'AD_Fornix', 'AD_Cingulum_L', 'AD_Cingulum_R',\n",
      "       'AD_SLF_L', 'AD_SLF_R', 'RD_Fornix', 'RD_Cingulum_L', 'RD_Cingulum_R',\n",
      "       'RD_SLF_L', 'RD_SLF_R', 'FA_Cingulum (hippocampus)_L',\n",
      "       'FA_Cingulum (hippocampus)_R', 'FA_Fornix (cres)_L',\n",
      "       'FA_Fornix (cres)_R', 'MD_Cingulum (hippocampus)_L',\n",
      "       'MD_Cingulum (hippocampus)_R', 'MD_Fornix (cres)_L',\n",
      "       'MD_Fornix (cres)_R', 'AD_Cingulum (hippocampus)_L',\n",
      "       'AD_Cingulum (hippocampus)_R', 'AD_Fornix (cres)_L',\n",
      "       'AD_Fornix (cres)_R', 'RD_Cingulum (hippocampus)_L',\n",
      "       'RD_Cingulum (hippocampus)_R', 'RD_Fornix (cres)_L',\n",
      "       'RD_Fornix (cres)_R', 'FA_UF_L', 'FA_UF_R', 'MD_UF_L', 'MD_UF_R',\n",
      "       'AD_UF_L', 'AD_UF_R', 'RD_UF_L', 'RD_UF_R', 'FA_ACR_L', 'FA_ACR_R',\n",
      "       'MD_ACR_L', 'MD_ACR_R', 'AD_ACR_L', 'AD_ACR_R', 'RD_ACR_L', 'RD_ACR_R',\n",
      "       'FA_SCR_L', 'FA_SCR_R', 'MD_SCR_L', 'MD_SCR_R', 'AD_SCR_L', 'AD_SCR_R',\n",
      "       'RD_SCR_L', 'RD_SCR_R', 'FA_IFO_L', 'FA_IFO_R', 'MD_IFO_L', 'MD_IFO_R',\n",
      "       'AD_IFO_L', 'AD_IFO_R', 'RD_IFO_L', 'RD_IFO_R', 'FA_SFO_L', 'FA_SFO_R',\n",
      "       'MD_SFO_L', 'MD_SFO_R', 'AD_SFO_L', 'AD_SFO_R', 'RD_SFO_L', 'RD_SFO_R',\n",
      "       'FA_Genu', 'MD_Genu', 'AD_Genu', 'RD_Genu'],\n",
      "      dtype='object')\n"
     ]
    }
   ],
   "source": [
    "# print columns from each dataframe\n",
    "\n",
    "for df in [confidence_df, decision_rt_df, accuracy_df, mratio_df, dprime_df, logmratio_df, metadprime_df, dti_df]:\n",
    "    print(f\"{df.columns}\")"
   ]
  },
  {
   "cell_type": "code",
   "execution_count": 21,
   "metadata": {},
   "outputs": [
    {
     "data": {
      "application/vnd.microsoft.datawrangler.viewer.v0+json": {
       "columns": [
        {
         "name": "index",
         "rawType": "int64",
         "type": "integer"
        },
        {
         "name": "Name",
         "rawType": "object",
         "type": "string"
        },
        {
         "name": "ID",
         "rawType": "int64",
         "type": "integer"
        },
        {
         "name": "Emotion",
         "rawType": "object",
         "type": "string"
        },
        {
         "name": "Decision_RT",
         "rawType": "float64",
         "type": "float"
        }
       ],
       "conversionMethod": "pd.DataFrame",
       "ref": "7df5f3fb-1952-4b60-b069-d3a810dbc3f1",
       "rows": [
        [
         "0",
         "王少刚",
         "1",
         "Disgust",
         "1.274849255319149"
        ],
        [
         "1",
         "王少刚",
         "1",
         "Fear",
         "1.3344472916666668"
        ],
        [
         "2",
         "王少刚",
         "1",
         "Happy",
         "0.8707789583333333"
        ],
        [
         "3",
         "王辉",
         "3",
         "Disgust",
         "1.7704157291666667"
        ],
        [
         "4",
         "王辉",
         "3",
         "Fear",
         "1.5011405555555557"
        ]
       ],
       "shape": {
        "columns": 4,
        "rows": 5
       }
      },
      "text/html": [
       "<div>\n",
       "<style scoped>\n",
       "    .dataframe tbody tr th:only-of-type {\n",
       "        vertical-align: middle;\n",
       "    }\n",
       "\n",
       "    .dataframe tbody tr th {\n",
       "        vertical-align: top;\n",
       "    }\n",
       "\n",
       "    .dataframe thead th {\n",
       "        text-align: right;\n",
       "    }\n",
       "</style>\n",
       "<table border=\"1\" class=\"dataframe\">\n",
       "  <thead>\n",
       "    <tr style=\"text-align: right;\">\n",
       "      <th></th>\n",
       "      <th>Name</th>\n",
       "      <th>ID</th>\n",
       "      <th>Emotion</th>\n",
       "      <th>Decision_RT</th>\n",
       "    </tr>\n",
       "  </thead>\n",
       "  <tbody>\n",
       "    <tr>\n",
       "      <th>0</th>\n",
       "      <td>王少刚</td>\n",
       "      <td>1</td>\n",
       "      <td>Disgust</td>\n",
       "      <td>1.274849</td>\n",
       "    </tr>\n",
       "    <tr>\n",
       "      <th>1</th>\n",
       "      <td>王少刚</td>\n",
       "      <td>1</td>\n",
       "      <td>Fear</td>\n",
       "      <td>1.334447</td>\n",
       "    </tr>\n",
       "    <tr>\n",
       "      <th>2</th>\n",
       "      <td>王少刚</td>\n",
       "      <td>1</td>\n",
       "      <td>Happy</td>\n",
       "      <td>0.870779</td>\n",
       "    </tr>\n",
       "    <tr>\n",
       "      <th>3</th>\n",
       "      <td>王辉</td>\n",
       "      <td>3</td>\n",
       "      <td>Disgust</td>\n",
       "      <td>1.770416</td>\n",
       "    </tr>\n",
       "    <tr>\n",
       "      <th>4</th>\n",
       "      <td>王辉</td>\n",
       "      <td>3</td>\n",
       "      <td>Fear</td>\n",
       "      <td>1.501141</td>\n",
       "    </tr>\n",
       "  </tbody>\n",
       "</table>\n",
       "</div>"
      ],
      "text/plain": [
       "  Name  ID  Emotion  Decision_RT\n",
       "0  王少刚   1  Disgust     1.274849\n",
       "1  王少刚   1     Fear     1.334447\n",
       "2  王少刚   1    Happy     0.870779\n",
       "3   王辉   3  Disgust     1.770416\n",
       "4   王辉   3     Fear     1.501141"
      ]
     },
     "execution_count": 21,
     "metadata": {},
     "output_type": "execute_result"
    }
   ],
   "source": [
    "# remove 'All_emotions' column from mratio_df, dprime_df, logmratio_df, metadprime_df\n",
    "mratio_df = mratio_df.drop(columns=['All_emotions'])\n",
    "dprime_df = dprime_df.drop(columns=['All_emotions'])\n",
    "logmratio_df = logmratio_df.drop(columns=['All_emotions'])\n",
    "metadprime_df = metadprime_df.drop(columns=['All_emotions'])\n",
    "\n",
    "# melt mratio_df, dprime_df, logmratio_df, and meta_dprime_df\n",
    "mratio_df = pd.melt(mratio_df, id_vars=['Name', 'ID'], var_name='Emotion', value_name='MRatio')\n",
    "dprime_df = pd.melt(dprime_df, id_vars=['Name', 'ID'], var_name='Emotion', value_name='dprime')\n",
    "logmratio_df = pd.melt(logmratio_df, id_vars=['Name', 'ID'], var_name='Emotion', value_name='logMRatio')\n",
    "metadprime_df = pd.melt(metadprime_df, id_vars=['Name', 'ID'], var_name='Emotion', value_name='metadprime')\n",
    "\n",
    "# sample heads \n",
    "mratio_df.head()\n",
    "dprime_df.head()\n",
    "accuracy_df.head()\n",
    "decision_rt_df.head()\n"
   ]
  },
  {
   "cell_type": "code",
   "execution_count": 22,
   "metadata": {},
   "outputs": [
    {
     "data": {
      "text/plain": [
       "count    81.000000\n",
       "mean      3.482143\n",
       "std       0.262184\n",
       "min       2.644444\n",
       "25%       3.340426\n",
       "50%       3.520833\n",
       "75%       3.659091\n",
       "max       3.916667\n",
       "Name: Confidence, dtype: float64"
      ]
     },
     "execution_count": 22,
     "metadata": {},
     "output_type": "execute_result"
    }
   ],
   "source": [
    "confidence_df.Confidence.describe()"
   ]
  },
  {
   "cell_type": "code",
   "execution_count": 23,
   "metadata": {},
   "outputs": [
    {
     "name": "stdout",
     "output_type": "stream",
     "text": [
      "Index(['Name', 'ID', 'Emotion', 'Accuracy'], dtype='object')\n",
      "Index(['Name', 'ID', 'Emotion', 'Decision_RT'], dtype='object')\n",
      "Index(['Name', 'ID', 'Emotion', 'Confidence'], dtype='object')\n",
      "Index(['Name', 'ID', 'Emotion', 'MRatio'], dtype='object')\n",
      "Index(['Name', 'ID', 'Emotion', 'dprime'], dtype='object')\n",
      "Index(['Name', 'ID', 'Emotion', 'logMRatio'], dtype='object')\n",
      "Index(['Name', 'ID', 'Emotion', 'metadprime'], dtype='object')\n"
     ]
    }
   ],
   "source": [
    "dfs = [accuracy_df, decision_rt_df, confidence_df, mratio_df, dprime_df, logmratio_df, metadprime_df]\n",
    "# print columsn \n",
    "for df in dfs:\n",
    "    print(df.columns)"
   ]
  },
  {
   "cell_type": "code",
   "execution_count": 24,
   "metadata": {},
   "outputs": [],
   "source": [
    "# stats_results path \n",
    "results_path = r\"Main Results\""
   ]
  },
  {
   "cell_type": "code",
   "execution_count": 25,
   "metadata": {},
   "outputs": [],
   "source": [
    "#Conduct anova with repeated measures for each of the dataframes \n",
    "\n",
    "dfs = [accuracy_df, decision_rt_df, confidence_df, mratio_df, dprime_df, logmratio_df, metadprime_df]\n",
    "df_names = ['Accuracy', 'Decision_RT', 'Confidence', 'MRatio', 'dprime', 'logMRatio', 'metadprime']\n",
    "anova_results = {}\n",
    "i = 0  \n",
    "for df in dfs:\n",
    "    dependent_variable = df.columns[-1]\n",
    "    aovrm = AnovaRM(df, depvar=dependent_variable, subject='ID', within=['Emotion'])\n",
    "    res = aovrm.fit()\n",
    "    anova_results[df_names[i]] = res\n",
    "    i += 1\n",
    "\n",
    "\n",
    "# Do post-hoc tests using Tukey's HSD for each of the dataframes\n",
    "\n",
    "tukey_results = {}\n",
    "i = 0\n",
    "for df in dfs:\n",
    "    dependent_variable = df.columns[-1]\n",
    "    # check if the anova result is significant\n",
    "    with open(os.path.join(results_path, f'{df_names[i]}_anova_results.txt'), 'w') as f:\n",
    "        f.write(f\"ANOVA Results for {df_names[i]}\\n\\n\")\n",
    "        f.write(str(anova_results[df_names[i]]))\n",
    "        pvalue = anova_results['Accuracy'].summary().tables[0].loc['Emotion', 'Pr > F']\n",
    "        if pvalue < 0.05:\n",
    "            tukey = pairwise_tukeyhsd(endog=df[dependent_variable], groups=df['Emotion'], alpha=0.05)\n",
    "            tukey_results[df_names[i]] = tukey\n",
    "            # save the tukey results to the text file opened above\n",
    "            f.write(\"\\n\\n\\n\")\n",
    "            f.write(f\"Tukey Results for {df_names[i]}\\n\\n\")\n",
    "            f.write(str(tukey))\n",
    "        else:\n",
    "            f.write(\"\\n\\n\\n\")\n",
    "            f.write(\"No significant results\")\n",
    "    i += 1"
   ]
  },
  {
   "cell_type": "code",
   "execution_count": null,
   "metadata": {},
   "outputs": [
    {
     "name": "stdout",
     "output_type": "stream",
     "text": [
      "ANOVA Results for Accuracy\n",
      "                Anova\n",
      "=====================================\n",
      "        F Value Num DF  Den DF Pr > F\n",
      "-------------------------------------\n",
      "Emotion 90.4813 2.0000 52.0000 0.0000\n",
      "=====================================\n",
      "\n",
      " Multiple Comparison of Means - Tukey HSD, FWER=0.05 \n",
      "=====================================================\n",
      " group1 group2 meandiff p-adj   lower   upper  reject\n",
      "-----------------------------------------------------\n",
      "Disgust   Fear  -0.1724    0.0 -0.2238 -0.1211   True\n",
      "Disgust  Happy   0.0844 0.0005   0.033  0.1357   True\n",
      "   Fear  Happy   0.2568    0.0  0.2054  0.3082   True\n",
      "-----------------------------------------------------\n"
     ]
    },
    {
     "data": {
      "application/vnd.plotly.v1+json": {
       "config": {
        "plotlyServerURL": "https://plot.ly"
       },
       "data": [
        {
         "alignmentgroup": "True",
         "boxpoints": "all",
         "customdata": [
          [
           "王少刚",
           1
          ],
          [
           "王辉",
           3
          ],
          [
           "董正心",
           4
          ],
          [
           "高倩",
           5
          ],
          [
           "叶帅",
           6
          ],
          [
           "李闯",
           7
          ],
          [
           "钱文莉",
           8
          ],
          [
           "李诗晨",
           9
          ],
          [
           "王梦宣",
           10
          ],
          [
           "姚林林",
           11
          ],
          [
           "赵冰冰",
           12
          ],
          [
           "李思璇",
           13
          ],
          [
           "何金辉",
           14
          ],
          [
           "吴建星",
           17
          ],
          [
           "bq",
           18
          ],
          [
           "gxy",
           19
          ],
          [
           "CTG",
           20
          ],
          [
           "zwl",
           21
          ],
          [
           "MZY",
           23
          ],
          [
           "林增萍",
           24
          ],
          [
           "qdl",
           25
          ],
          [
           "庄惠翔",
           27
          ],
          [
           "焦雄",
           28
          ],
          [
           "郭有容",
           31
          ],
          [
           "余鹏程",
           32
          ],
          [
           "陈若羽",
           34
          ],
          [
           "Xuewei Qin",
           39
          ]
         ],
         "hovertemplate": "Emotion=%{x}<br>Accuracy=%{y}<br>Name=%{customdata[0]}<br>ID=%{customdata[1]}<extra></extra>",
         "legendgroup": "Disgust",
         "marker": {
          "color": "#636efa"
         },
         "name": "Disgust",
         "notched": false,
         "offsetgroup": "Disgust",
         "orientation": "v",
         "showlegend": true,
         "type": "box",
         "x": [
          "Disgust",
          "Disgust",
          "Disgust",
          "Disgust",
          "Disgust",
          "Disgust",
          "Disgust",
          "Disgust",
          "Disgust",
          "Disgust",
          "Disgust",
          "Disgust",
          "Disgust",
          "Disgust",
          "Disgust",
          "Disgust",
          "Disgust",
          "Disgust",
          "Disgust",
          "Disgust",
          "Disgust",
          "Disgust",
          "Disgust",
          "Disgust",
          "Disgust",
          "Disgust",
          "Disgust"
         ],
         "x0": " ",
         "xaxis": "x",
         "y": [
          0.6170212765957447,
          0.8125,
          0.9361702127659575,
          0.8913043478260869,
          0.9787234042553191,
          0.8333333333333334,
          0.7659574468085106,
          0.9166666666666666,
          0.782608695652174,
          0.9361702127659575,
          0.851063829787234,
          0.6739130434782609,
          0.875,
          0.7659574468085106,
          0.8478260869565217,
          0.7916666666666666,
          0.851063829787234,
          0.8936170212765957,
          0.9565217391304348,
          0.8125,
          0.7872340425531915,
          0.9565217391304348,
          0.6170212765957447,
          0.9166666666666666,
          0.782608695652174,
          0.7777777777777778,
          0.8297872340425532
         ],
         "y0": " ",
         "yaxis": "y"
        },
        {
         "alignmentgroup": "True",
         "boxpoints": "all",
         "customdata": [
          [
           "王少刚",
           1
          ],
          [
           "王辉",
           3
          ],
          [
           "董正心",
           4
          ],
          [
           "高倩",
           5
          ],
          [
           "叶帅",
           6
          ],
          [
           "李闯",
           7
          ],
          [
           "钱文莉",
           8
          ],
          [
           "李诗晨",
           9
          ],
          [
           "王梦宣",
           10
          ],
          [
           "姚林林",
           11
          ],
          [
           "赵冰冰",
           12
          ],
          [
           "李思璇",
           13
          ],
          [
           "何金辉",
           14
          ],
          [
           "吴建星",
           17
          ],
          [
           "bq",
           18
          ],
          [
           "gxy",
           19
          ],
          [
           "CTG",
           20
          ],
          [
           "zwl",
           21
          ],
          [
           "MZY",
           23
          ],
          [
           "林增萍",
           24
          ],
          [
           "qdl",
           25
          ],
          [
           "庄惠翔",
           27
          ],
          [
           "焦雄",
           28
          ],
          [
           "郭有容",
           31
          ],
          [
           "余鹏程",
           32
          ],
          [
           "陈若羽",
           34
          ],
          [
           "Xuewei Qin",
           39
          ]
         ],
         "hovertemplate": "Emotion=%{x}<br>Accuracy=%{y}<br>Name=%{customdata[0]}<br>ID=%{customdata[1]}<extra></extra>",
         "legendgroup": "Fear",
         "marker": {
          "color": "#EF553B"
         },
         "name": "Fear",
         "notched": false,
         "offsetgroup": "Fear",
         "orientation": "v",
         "showlegend": true,
         "type": "box",
         "x": [
          "Fear",
          "Fear",
          "Fear",
          "Fear",
          "Fear",
          "Fear",
          "Fear",
          "Fear",
          "Fear",
          "Fear",
          "Fear",
          "Fear",
          "Fear",
          "Fear",
          "Fear",
          "Fear",
          "Fear",
          "Fear",
          "Fear",
          "Fear",
          "Fear",
          "Fear",
          "Fear",
          "Fear",
          "Fear",
          "Fear",
          "Fear"
         ],
         "x0": " ",
         "xaxis": "x",
         "y": [
          0.5,
          0.5777777777777777,
          0.717391304347826,
          0.6458333333333334,
          0.6086956521739131,
          0.6739130434782609,
          0.7111111111111111,
          0.6956521739130435,
          0.7446808510638298,
          0.7446808510638298,
          0.6956521739130435,
          0.6458333333333334,
          0.5681818181818182,
          0.6382978723404256,
          0.6521739130434783,
          0.7021276595744681,
          0.6739130434782609,
          0.6595744680851063,
          0.723404255319149,
          0.717391304347826,
          0.5833333333333334,
          0.7608695652173914,
          0.5319148936170213,
          0.5217391304347826,
          0.717391304347826,
          0.723404255319149,
          0.6666666666666666
         ],
         "y0": " ",
         "yaxis": "y"
        },
        {
         "alignmentgroup": "True",
         "boxpoints": "all",
         "customdata": [
          [
           "王少刚",
           1
          ],
          [
           "王辉",
           3
          ],
          [
           "董正心",
           4
          ],
          [
           "高倩",
           5
          ],
          [
           "叶帅",
           6
          ],
          [
           "李闯",
           7
          ],
          [
           "钱文莉",
           8
          ],
          [
           "李诗晨",
           9
          ],
          [
           "王梦宣",
           10
          ],
          [
           "姚林林",
           11
          ],
          [
           "赵冰冰",
           12
          ],
          [
           "李思璇",
           13
          ],
          [
           "何金辉",
           14
          ],
          [
           "吴建星",
           17
          ],
          [
           "bq",
           18
          ],
          [
           "gxy",
           19
          ],
          [
           "CTG",
           20
          ],
          [
           "zwl",
           21
          ],
          [
           "MZY",
           23
          ],
          [
           "林增萍",
           24
          ],
          [
           "qdl",
           25
          ],
          [
           "庄惠翔",
           27
          ],
          [
           "焦雄",
           28
          ],
          [
           "郭有容",
           31
          ],
          [
           "余鹏程",
           32
          ],
          [
           "陈若羽",
           34
          ],
          [
           "Xuewei Qin",
           39
          ]
         ],
         "hovertemplate": "Emotion=%{x}<br>Accuracy=%{y}<br>Name=%{customdata[0]}<br>ID=%{customdata[1]}<extra></extra>",
         "legendgroup": "Happy",
         "marker": {
          "color": "#00cc96"
         },
         "name": "Happy",
         "notched": false,
         "offsetgroup": "Happy",
         "orientation": "v",
         "showlegend": true,
         "type": "box",
         "x": [
          "Happy",
          "Happy",
          "Happy",
          "Happy",
          "Happy",
          "Happy",
          "Happy",
          "Happy",
          "Happy",
          "Happy",
          "Happy",
          "Happy",
          "Happy",
          "Happy",
          "Happy",
          "Happy",
          "Happy",
          "Happy",
          "Happy",
          "Happy",
          "Happy",
          "Happy",
          "Happy",
          "Happy",
          "Happy",
          "Happy",
          "Happy"
         ],
         "x0": " ",
         "xaxis": "x",
         "y": [
          0.8125,
          0.8297872340425532,
          0.9583333333333334,
          0.851063829787234,
          0.9166666666666666,
          0.8723404255319149,
          0.8958333333333334,
          0.8958333333333334,
          0.7291666666666666,
          0.9375,
          0.9583333333333334,
          0.9574468085106383,
          0.9583333333333334,
          1,
          0.9791666666666666,
          0.9166666666666666,
          1,
          0.8958333333333334,
          0.9375,
          0.9375,
          0.8913043478260869,
          0.9375,
          1,
          0.8958333333333334,
          0.8125,
          0.9791666666666666,
          0.9791666666666666
         ],
         "y0": " ",
         "yaxis": "y"
        }
       ],
       "layout": {
        "annotations": [
         {
          "bgcolor": "#1f77b4",
          "bordercolor": "#1f77b4",
          "borderpad": 4,
          "borderwidth": 2,
          "font": {
           "color": "#ffffff",
           "family": "Courier New, monospace",
           "size": 16
          },
          "opacity": 0.8,
          "showarrow": false,
          "text": "p-value: 0.00 (Anova Repeated Measures)",
          "x": 0.9,
          "xref": "paper",
          "y": 1.1,
          "yref": "paper"
         }
        ],
        "boxmode": "overlay",
        "height": 600,
        "legend": {
         "title": {
          "text": "Emotion"
         },
         "tracegroupgap": 0
        },
        "template": {
         "data": {
          "bar": [
           {
            "error_x": {
             "color": "#2a3f5f"
            },
            "error_y": {
             "color": "#2a3f5f"
            },
            "marker": {
             "line": {
              "color": "#E5ECF6",
              "width": 0.5
             },
             "pattern": {
              "fillmode": "overlay",
              "size": 10,
              "solidity": 0.2
             }
            },
            "type": "bar"
           }
          ],
          "barpolar": [
           {
            "marker": {
             "line": {
              "color": "#E5ECF6",
              "width": 0.5
             },
             "pattern": {
              "fillmode": "overlay",
              "size": 10,
              "solidity": 0.2
             }
            },
            "type": "barpolar"
           }
          ],
          "carpet": [
           {
            "aaxis": {
             "endlinecolor": "#2a3f5f",
             "gridcolor": "white",
             "linecolor": "white",
             "minorgridcolor": "white",
             "startlinecolor": "#2a3f5f"
            },
            "baxis": {
             "endlinecolor": "#2a3f5f",
             "gridcolor": "white",
             "linecolor": "white",
             "minorgridcolor": "white",
             "startlinecolor": "#2a3f5f"
            },
            "type": "carpet"
           }
          ],
          "choropleth": [
           {
            "colorbar": {
             "outlinewidth": 0,
             "ticks": ""
            },
            "type": "choropleth"
           }
          ],
          "contour": [
           {
            "colorbar": {
             "outlinewidth": 0,
             "ticks": ""
            },
            "colorscale": [
             [
              0,
              "#0d0887"
             ],
             [
              0.1111111111111111,
              "#46039f"
             ],
             [
              0.2222222222222222,
              "#7201a8"
             ],
             [
              0.3333333333333333,
              "#9c179e"
             ],
             [
              0.4444444444444444,
              "#bd3786"
             ],
             [
              0.5555555555555556,
              "#d8576b"
             ],
             [
              0.6666666666666666,
              "#ed7953"
             ],
             [
              0.7777777777777778,
              "#fb9f3a"
             ],
             [
              0.8888888888888888,
              "#fdca26"
             ],
             [
              1,
              "#f0f921"
             ]
            ],
            "type": "contour"
           }
          ],
          "contourcarpet": [
           {
            "colorbar": {
             "outlinewidth": 0,
             "ticks": ""
            },
            "type": "contourcarpet"
           }
          ],
          "heatmap": [
           {
            "colorbar": {
             "outlinewidth": 0,
             "ticks": ""
            },
            "colorscale": [
             [
              0,
              "#0d0887"
             ],
             [
              0.1111111111111111,
              "#46039f"
             ],
             [
              0.2222222222222222,
              "#7201a8"
             ],
             [
              0.3333333333333333,
              "#9c179e"
             ],
             [
              0.4444444444444444,
              "#bd3786"
             ],
             [
              0.5555555555555556,
              "#d8576b"
             ],
             [
              0.6666666666666666,
              "#ed7953"
             ],
             [
              0.7777777777777778,
              "#fb9f3a"
             ],
             [
              0.8888888888888888,
              "#fdca26"
             ],
             [
              1,
              "#f0f921"
             ]
            ],
            "type": "heatmap"
           }
          ],
          "heatmapgl": [
           {
            "colorbar": {
             "outlinewidth": 0,
             "ticks": ""
            },
            "colorscale": [
             [
              0,
              "#0d0887"
             ],
             [
              0.1111111111111111,
              "#46039f"
             ],
             [
              0.2222222222222222,
              "#7201a8"
             ],
             [
              0.3333333333333333,
              "#9c179e"
             ],
             [
              0.4444444444444444,
              "#bd3786"
             ],
             [
              0.5555555555555556,
              "#d8576b"
             ],
             [
              0.6666666666666666,
              "#ed7953"
             ],
             [
              0.7777777777777778,
              "#fb9f3a"
             ],
             [
              0.8888888888888888,
              "#fdca26"
             ],
             [
              1,
              "#f0f921"
             ]
            ],
            "type": "heatmapgl"
           }
          ],
          "histogram": [
           {
            "marker": {
             "pattern": {
              "fillmode": "overlay",
              "size": 10,
              "solidity": 0.2
             }
            },
            "type": "histogram"
           }
          ],
          "histogram2d": [
           {
            "colorbar": {
             "outlinewidth": 0,
             "ticks": ""
            },
            "colorscale": [
             [
              0,
              "#0d0887"
             ],
             [
              0.1111111111111111,
              "#46039f"
             ],
             [
              0.2222222222222222,
              "#7201a8"
             ],
             [
              0.3333333333333333,
              "#9c179e"
             ],
             [
              0.4444444444444444,
              "#bd3786"
             ],
             [
              0.5555555555555556,
              "#d8576b"
             ],
             [
              0.6666666666666666,
              "#ed7953"
             ],
             [
              0.7777777777777778,
              "#fb9f3a"
             ],
             [
              0.8888888888888888,
              "#fdca26"
             ],
             [
              1,
              "#f0f921"
             ]
            ],
            "type": "histogram2d"
           }
          ],
          "histogram2dcontour": [
           {
            "colorbar": {
             "outlinewidth": 0,
             "ticks": ""
            },
            "colorscale": [
             [
              0,
              "#0d0887"
             ],
             [
              0.1111111111111111,
              "#46039f"
             ],
             [
              0.2222222222222222,
              "#7201a8"
             ],
             [
              0.3333333333333333,
              "#9c179e"
             ],
             [
              0.4444444444444444,
              "#bd3786"
             ],
             [
              0.5555555555555556,
              "#d8576b"
             ],
             [
              0.6666666666666666,
              "#ed7953"
             ],
             [
              0.7777777777777778,
              "#fb9f3a"
             ],
             [
              0.8888888888888888,
              "#fdca26"
             ],
             [
              1,
              "#f0f921"
             ]
            ],
            "type": "histogram2dcontour"
           }
          ],
          "mesh3d": [
           {
            "colorbar": {
             "outlinewidth": 0,
             "ticks": ""
            },
            "type": "mesh3d"
           }
          ],
          "parcoords": [
           {
            "line": {
             "colorbar": {
              "outlinewidth": 0,
              "ticks": ""
             }
            },
            "type": "parcoords"
           }
          ],
          "pie": [
           {
            "automargin": true,
            "type": "pie"
           }
          ],
          "scatter": [
           {
            "fillpattern": {
             "fillmode": "overlay",
             "size": 10,
             "solidity": 0.2
            },
            "type": "scatter"
           }
          ],
          "scatter3d": [
           {
            "line": {
             "colorbar": {
              "outlinewidth": 0,
              "ticks": ""
             }
            },
            "marker": {
             "colorbar": {
              "outlinewidth": 0,
              "ticks": ""
             }
            },
            "type": "scatter3d"
           }
          ],
          "scattercarpet": [
           {
            "marker": {
             "colorbar": {
              "outlinewidth": 0,
              "ticks": ""
             }
            },
            "type": "scattercarpet"
           }
          ],
          "scattergeo": [
           {
            "marker": {
             "colorbar": {
              "outlinewidth": 0,
              "ticks": ""
             }
            },
            "type": "scattergeo"
           }
          ],
          "scattergl": [
           {
            "marker": {
             "colorbar": {
              "outlinewidth": 0,
              "ticks": ""
             }
            },
            "type": "scattergl"
           }
          ],
          "scattermapbox": [
           {
            "marker": {
             "colorbar": {
              "outlinewidth": 0,
              "ticks": ""
             }
            },
            "type": "scattermapbox"
           }
          ],
          "scatterpolar": [
           {
            "marker": {
             "colorbar": {
              "outlinewidth": 0,
              "ticks": ""
             }
            },
            "type": "scatterpolar"
           }
          ],
          "scatterpolargl": [
           {
            "marker": {
             "colorbar": {
              "outlinewidth": 0,
              "ticks": ""
             }
            },
            "type": "scatterpolargl"
           }
          ],
          "scatterternary": [
           {
            "marker": {
             "colorbar": {
              "outlinewidth": 0,
              "ticks": ""
             }
            },
            "type": "scatterternary"
           }
          ],
          "surface": [
           {
            "colorbar": {
             "outlinewidth": 0,
             "ticks": ""
            },
            "colorscale": [
             [
              0,
              "#0d0887"
             ],
             [
              0.1111111111111111,
              "#46039f"
             ],
             [
              0.2222222222222222,
              "#7201a8"
             ],
             [
              0.3333333333333333,
              "#9c179e"
             ],
             [
              0.4444444444444444,
              "#bd3786"
             ],
             [
              0.5555555555555556,
              "#d8576b"
             ],
             [
              0.6666666666666666,
              "#ed7953"
             ],
             [
              0.7777777777777778,
              "#fb9f3a"
             ],
             [
              0.8888888888888888,
              "#fdca26"
             ],
             [
              1,
              "#f0f921"
             ]
            ],
            "type": "surface"
           }
          ],
          "table": [
           {
            "cells": {
             "fill": {
              "color": "#EBF0F8"
             },
             "line": {
              "color": "white"
             }
            },
            "header": {
             "fill": {
              "color": "#C8D4E3"
             },
             "line": {
              "color": "white"
             }
            },
            "type": "table"
           }
          ]
         },
         "layout": {
          "annotationdefaults": {
           "arrowcolor": "#2a3f5f",
           "arrowhead": 0,
           "arrowwidth": 1
          },
          "autotypenumbers": "strict",
          "coloraxis": {
           "colorbar": {
            "outlinewidth": 0,
            "ticks": ""
           }
          },
          "colorscale": {
           "diverging": [
            [
             0,
             "#8e0152"
            ],
            [
             0.1,
             "#c51b7d"
            ],
            [
             0.2,
             "#de77ae"
            ],
            [
             0.3,
             "#f1b6da"
            ],
            [
             0.4,
             "#fde0ef"
            ],
            [
             0.5,
             "#f7f7f7"
            ],
            [
             0.6,
             "#e6f5d0"
            ],
            [
             0.7,
             "#b8e186"
            ],
            [
             0.8,
             "#7fbc41"
            ],
            [
             0.9,
             "#4d9221"
            ],
            [
             1,
             "#276419"
            ]
           ],
           "sequential": [
            [
             0,
             "#0d0887"
            ],
            [
             0.1111111111111111,
             "#46039f"
            ],
            [
             0.2222222222222222,
             "#7201a8"
            ],
            [
             0.3333333333333333,
             "#9c179e"
            ],
            [
             0.4444444444444444,
             "#bd3786"
            ],
            [
             0.5555555555555556,
             "#d8576b"
            ],
            [
             0.6666666666666666,
             "#ed7953"
            ],
            [
             0.7777777777777778,
             "#fb9f3a"
            ],
            [
             0.8888888888888888,
             "#fdca26"
            ],
            [
             1,
             "#f0f921"
            ]
           ],
           "sequentialminus": [
            [
             0,
             "#0d0887"
            ],
            [
             0.1111111111111111,
             "#46039f"
            ],
            [
             0.2222222222222222,
             "#7201a8"
            ],
            [
             0.3333333333333333,
             "#9c179e"
            ],
            [
             0.4444444444444444,
             "#bd3786"
            ],
            [
             0.5555555555555556,
             "#d8576b"
            ],
            [
             0.6666666666666666,
             "#ed7953"
            ],
            [
             0.7777777777777778,
             "#fb9f3a"
            ],
            [
             0.8888888888888888,
             "#fdca26"
            ],
            [
             1,
             "#f0f921"
            ]
           ]
          },
          "colorway": [
           "#636efa",
           "#EF553B",
           "#00cc96",
           "#ab63fa",
           "#FFA15A",
           "#19d3f3",
           "#FF6692",
           "#B6E880",
           "#FF97FF",
           "#FECB52"
          ],
          "font": {
           "color": "#2a3f5f"
          },
          "geo": {
           "bgcolor": "white",
           "lakecolor": "white",
           "landcolor": "#E5ECF6",
           "showlakes": true,
           "showland": true,
           "subunitcolor": "white"
          },
          "hoverlabel": {
           "align": "left"
          },
          "hovermode": "closest",
          "mapbox": {
           "style": "light"
          },
          "paper_bgcolor": "white",
          "plot_bgcolor": "#E5ECF6",
          "polar": {
           "angularaxis": {
            "gridcolor": "white",
            "linecolor": "white",
            "ticks": ""
           },
           "bgcolor": "#E5ECF6",
           "radialaxis": {
            "gridcolor": "white",
            "linecolor": "white",
            "ticks": ""
           }
          },
          "scene": {
           "xaxis": {
            "backgroundcolor": "#E5ECF6",
            "gridcolor": "white",
            "gridwidth": 2,
            "linecolor": "white",
            "showbackground": true,
            "ticks": "",
            "zerolinecolor": "white"
           },
           "yaxis": {
            "backgroundcolor": "#E5ECF6",
            "gridcolor": "white",
            "gridwidth": 2,
            "linecolor": "white",
            "showbackground": true,
            "ticks": "",
            "zerolinecolor": "white"
           },
           "zaxis": {
            "backgroundcolor": "#E5ECF6",
            "gridcolor": "white",
            "gridwidth": 2,
            "linecolor": "white",
            "showbackground": true,
            "ticks": "",
            "zerolinecolor": "white"
           }
          },
          "shapedefaults": {
           "line": {
            "color": "#2a3f5f"
           }
          },
          "ternary": {
           "aaxis": {
            "gridcolor": "white",
            "linecolor": "white",
            "ticks": ""
           },
           "baxis": {
            "gridcolor": "white",
            "linecolor": "white",
            "ticks": ""
           },
           "bgcolor": "#E5ECF6",
           "caxis": {
            "gridcolor": "white",
            "linecolor": "white",
            "ticks": ""
           }
          },
          "title": {
           "x": 0.05
          },
          "xaxis": {
           "automargin": true,
           "gridcolor": "white",
           "linecolor": "white",
           "ticks": "",
           "title": {
            "standoff": 15
           },
           "zerolinecolor": "white",
           "zerolinewidth": 2
          },
          "yaxis": {
           "automargin": true,
           "gridcolor": "white",
           "linecolor": "white",
           "ticks": "",
           "title": {
            "standoff": 15
           },
           "zerolinecolor": "white",
           "zerolinewidth": 2
          }
         }
        },
        "title": {
         "text": "Accuracy by Emotion"
        },
        "width": 1200,
        "xaxis": {
         "anchor": "y",
         "categoryarray": [
          "Disgust",
          "Fear",
          "Happy"
         ],
         "categoryorder": "array",
         "domain": [
          0,
          1
         ],
         "title": {
          "text": "Emotion"
         }
        },
        "yaxis": {
         "anchor": "x",
         "domain": [
          0,
          1
         ],
         "title": {
          "text": "Accuracy"
         }
        }
       }
      }
     },
     "metadata": {},
     "output_type": "display_data"
    },
    {
     "name": "stdout",
     "output_type": "stream",
     "text": [
      "ANOVA Results for Decision_RT\n",
      "                Anova\n",
      "=====================================\n",
      "        F Value Num DF  Den DF Pr > F\n",
      "-------------------------------------\n",
      "Emotion 62.1044 2.0000 52.0000 0.0000\n",
      "=====================================\n",
      "\n",
      "Multiple Comparison of Means - Tukey HSD, FWER=0.05 \n",
      "====================================================\n",
      " group1 group2 meandiff p-adj  lower   upper  reject\n",
      "----------------------------------------------------\n",
      "Disgust   Fear   0.0534 0.912 -0.2585  0.3654  False\n",
      "Disgust  Happy  -0.7008   0.0 -1.0128 -0.3889   True\n",
      "   Fear  Happy  -0.7542   0.0 -1.0662 -0.4423   True\n",
      "----------------------------------------------------\n"
     ]
    },
    {
     "data": {
      "application/vnd.plotly.v1+json": {
       "config": {
        "plotlyServerURL": "https://plot.ly"
       },
       "data": [
        {
         "alignmentgroup": "True",
         "boxpoints": "all",
         "customdata": [
          [
           "王少刚",
           1
          ],
          [
           "王辉",
           3
          ],
          [
           "董正心",
           4
          ],
          [
           "高倩",
           5
          ],
          [
           "叶帅",
           6
          ],
          [
           "李闯",
           7
          ],
          [
           "钱文莉",
           8
          ],
          [
           "李诗晨",
           9
          ],
          [
           "王梦宣",
           10
          ],
          [
           "姚林林",
           11
          ],
          [
           "赵冰冰",
           12
          ],
          [
           "李思璇",
           13
          ],
          [
           "何金辉",
           14
          ],
          [
           "吴建星",
           17
          ],
          [
           "bq",
           18
          ],
          [
           "gxy",
           19
          ],
          [
           "CTG",
           20
          ],
          [
           "zwl",
           21
          ],
          [
           "MZY",
           23
          ],
          [
           "林增萍",
           24
          ],
          [
           "qdl",
           25
          ],
          [
           "庄惠翔",
           27
          ],
          [
           "焦雄",
           28
          ],
          [
           "郭有容",
           31
          ],
          [
           "余鹏程",
           32
          ],
          [
           "陈若羽",
           34
          ],
          [
           "Xuewei Qin",
           39
          ]
         ],
         "hovertemplate": "Emotion=%{x}<br>Decision_RT=%{y}<br>Name=%{customdata[0]}<br>ID=%{customdata[1]}<extra></extra>",
         "legendgroup": "Disgust",
         "marker": {
          "color": "#636efa"
         },
         "name": "Disgust",
         "notched": false,
         "offsetgroup": "Disgust",
         "orientation": "v",
         "showlegend": true,
         "type": "box",
         "x": [
          "Disgust",
          "Disgust",
          "Disgust",
          "Disgust",
          "Disgust",
          "Disgust",
          "Disgust",
          "Disgust",
          "Disgust",
          "Disgust",
          "Disgust",
          "Disgust",
          "Disgust",
          "Disgust",
          "Disgust",
          "Disgust",
          "Disgust",
          "Disgust",
          "Disgust",
          "Disgust",
          "Disgust",
          "Disgust",
          "Disgust",
          "Disgust",
          "Disgust",
          "Disgust",
          "Disgust"
         ],
         "x0": " ",
         "xaxis": "x",
         "y": [
          1.274849255319149,
          1.7704157291666667,
          0.9878812765957447,
          1.361604891304348,
          1.2889736170212767,
          1.7899213541666665,
          2.3224617021276597,
          1.9869928124999998,
          2.0131627173913045,
          1.6174801063829787,
          1.4360556382978722,
          1.1561781521739132,
          2.133355416666667,
          3.4692985106382976,
          2.928688586956522,
          2.013818125,
          2.298623404255319,
          2.0340714893617022,
          1.452049347826087,
          1.3118030208333333,
          1.2617227659574468,
          1.3507155434782607,
          1.748839255319149,
          1.1883360416666666,
          1.6372495652173913,
          1.324555222222222,
          0.8555957446808511
         ],
         "y0": " ",
         "yaxis": "y"
        },
        {
         "alignmentgroup": "True",
         "boxpoints": "all",
         "customdata": [
          [
           "王少刚",
           1
          ],
          [
           "王辉",
           3
          ],
          [
           "董正心",
           4
          ],
          [
           "高倩",
           5
          ],
          [
           "叶帅",
           6
          ],
          [
           "李闯",
           7
          ],
          [
           "钱文莉",
           8
          ],
          [
           "李诗晨",
           9
          ],
          [
           "王梦宣",
           10
          ],
          [
           "姚林林",
           11
          ],
          [
           "赵冰冰",
           12
          ],
          [
           "李思璇",
           13
          ],
          [
           "何金辉",
           14
          ],
          [
           "吴建星",
           17
          ],
          [
           "bq",
           18
          ],
          [
           "gxy",
           19
          ],
          [
           "CTG",
           20
          ],
          [
           "zwl",
           21
          ],
          [
           "MZY",
           23
          ],
          [
           "林增萍",
           24
          ],
          [
           "qdl",
           25
          ],
          [
           "庄惠翔",
           27
          ],
          [
           "焦雄",
           28
          ],
          [
           "郭有容",
           31
          ],
          [
           "余鹏程",
           32
          ],
          [
           "陈若羽",
           34
          ],
          [
           "Xuewei Qin",
           39
          ]
         ],
         "hovertemplate": "Emotion=%{x}<br>Decision_RT=%{y}<br>Name=%{customdata[0]}<br>ID=%{customdata[1]}<extra></extra>",
         "legendgroup": "Fear",
         "marker": {
          "color": "#EF553B"
         },
         "name": "Fear",
         "notched": false,
         "offsetgroup": "Fear",
         "orientation": "v",
         "showlegend": true,
         "type": "box",
         "x": [
          "Fear",
          "Fear",
          "Fear",
          "Fear",
          "Fear",
          "Fear",
          "Fear",
          "Fear",
          "Fear",
          "Fear",
          "Fear",
          "Fear",
          "Fear",
          "Fear",
          "Fear",
          "Fear",
          "Fear",
          "Fear",
          "Fear",
          "Fear",
          "Fear",
          "Fear",
          "Fear",
          "Fear",
          "Fear",
          "Fear",
          "Fear"
         ],
         "x0": " ",
         "xaxis": "x",
         "y": [
          1.3344472916666668,
          1.5011405555555557,
          1.5577059782608698,
          1.2450551041666666,
          1.6939376086956524,
          1.6899706521739133,
          2.706555111111111,
          1.8764059782608695,
          1.6671302127659575,
          2.42700585106383,
          1.7150189130434783,
          1.1682684374999999,
          2.093929659090909,
          2.811534255319149,
          2.5921190217391303,
          2.306611808510638,
          2.2181915217391306,
          2.194446914893617,
          1.3207075531914894,
          1.5125910869565218,
          1.1803213541666666,
          1.4314345652173912,
          1.9426468085106383,
          1.274867608695652,
          1.6521620652173912,
          1.5424302127659575,
          0.8003537777777778
         ],
         "y0": " ",
         "yaxis": "y"
        },
        {
         "alignmentgroup": "True",
         "boxpoints": "all",
         "customdata": [
          [
           "王少刚",
           1
          ],
          [
           "王辉",
           3
          ],
          [
           "董正心",
           4
          ],
          [
           "高倩",
           5
          ],
          [
           "叶帅",
           6
          ],
          [
           "李闯",
           7
          ],
          [
           "钱文莉",
           8
          ],
          [
           "李诗晨",
           9
          ],
          [
           "王梦宣",
           10
          ],
          [
           "姚林林",
           11
          ],
          [
           "赵冰冰",
           12
          ],
          [
           "李思璇",
           13
          ],
          [
           "何金辉",
           14
          ],
          [
           "吴建星",
           17
          ],
          [
           "bq",
           18
          ],
          [
           "gxy",
           19
          ],
          [
           "CTG",
           20
          ],
          [
           "zwl",
           21
          ],
          [
           "MZY",
           23
          ],
          [
           "林增萍",
           24
          ],
          [
           "qdl",
           25
          ],
          [
           "庄惠翔",
           27
          ],
          [
           "焦雄",
           28
          ],
          [
           "郭有容",
           31
          ],
          [
           "余鹏程",
           32
          ],
          [
           "陈若羽",
           34
          ],
          [
           "Xuewei Qin",
           39
          ]
         ],
         "hovertemplate": "Emotion=%{x}<br>Decision_RT=%{y}<br>Name=%{customdata[0]}<br>ID=%{customdata[1]}<extra></extra>",
         "legendgroup": "Happy",
         "marker": {
          "color": "#00cc96"
         },
         "name": "Happy",
         "notched": false,
         "offsetgroup": "Happy",
         "orientation": "v",
         "showlegend": true,
         "type": "box",
         "x": [
          "Happy",
          "Happy",
          "Happy",
          "Happy",
          "Happy",
          "Happy",
          "Happy",
          "Happy",
          "Happy",
          "Happy",
          "Happy",
          "Happy",
          "Happy",
          "Happy",
          "Happy",
          "Happy",
          "Happy",
          "Happy",
          "Happy",
          "Happy",
          "Happy",
          "Happy",
          "Happy",
          "Happy",
          "Happy",
          "Happy",
          "Happy"
         ],
         "x0": " ",
         "xaxis": "x",
         "y": [
          0.8707789583333333,
          1.0800931914893617,
          0.8846163541666666,
          0.9443396808510638,
          0.9488233333333334,
          1.0508034042553192,
          1.0080436458333333,
          1.186446875,
          0.9465351041666666,
          0.8025883333333333,
          0.921543125,
          0.5600852127659575,
          1.458650625,
          1.1553315625,
          1.8907369791666666,
          1.4513590625,
          1.0816422916666666,
          0.9038763541666667,
          0.7874171875,
          1.3067253125,
          1.0020526086956523,
          0.7964583333333333,
          1.118079255319149,
          0.6610958333333333,
          0.9713836458333334,
          0.7719183333333334,
          0.531370625
         ],
         "y0": " ",
         "yaxis": "y"
        }
       ],
       "layout": {
        "annotations": [
         {
          "bgcolor": "#1f77b4",
          "bordercolor": "#1f77b4",
          "borderpad": 4,
          "borderwidth": 2,
          "font": {
           "color": "#ffffff",
           "family": "Courier New, monospace",
           "size": 16
          },
          "opacity": 0.8,
          "showarrow": false,
          "text": "p-value: 0.00 (Anova Repeated Measures)",
          "x": 0.9,
          "xref": "paper",
          "y": 1.1,
          "yref": "paper"
         }
        ],
        "boxmode": "overlay",
        "height": 600,
        "legend": {
         "title": {
          "text": "Emotion"
         },
         "tracegroupgap": 0
        },
        "template": {
         "data": {
          "bar": [
           {
            "error_x": {
             "color": "#2a3f5f"
            },
            "error_y": {
             "color": "#2a3f5f"
            },
            "marker": {
             "line": {
              "color": "#E5ECF6",
              "width": 0.5
             },
             "pattern": {
              "fillmode": "overlay",
              "size": 10,
              "solidity": 0.2
             }
            },
            "type": "bar"
           }
          ],
          "barpolar": [
           {
            "marker": {
             "line": {
              "color": "#E5ECF6",
              "width": 0.5
             },
             "pattern": {
              "fillmode": "overlay",
              "size": 10,
              "solidity": 0.2
             }
            },
            "type": "barpolar"
           }
          ],
          "carpet": [
           {
            "aaxis": {
             "endlinecolor": "#2a3f5f",
             "gridcolor": "white",
             "linecolor": "white",
             "minorgridcolor": "white",
             "startlinecolor": "#2a3f5f"
            },
            "baxis": {
             "endlinecolor": "#2a3f5f",
             "gridcolor": "white",
             "linecolor": "white",
             "minorgridcolor": "white",
             "startlinecolor": "#2a3f5f"
            },
            "type": "carpet"
           }
          ],
          "choropleth": [
           {
            "colorbar": {
             "outlinewidth": 0,
             "ticks": ""
            },
            "type": "choropleth"
           }
          ],
          "contour": [
           {
            "colorbar": {
             "outlinewidth": 0,
             "ticks": ""
            },
            "colorscale": [
             [
              0,
              "#0d0887"
             ],
             [
              0.1111111111111111,
              "#46039f"
             ],
             [
              0.2222222222222222,
              "#7201a8"
             ],
             [
              0.3333333333333333,
              "#9c179e"
             ],
             [
              0.4444444444444444,
              "#bd3786"
             ],
             [
              0.5555555555555556,
              "#d8576b"
             ],
             [
              0.6666666666666666,
              "#ed7953"
             ],
             [
              0.7777777777777778,
              "#fb9f3a"
             ],
             [
              0.8888888888888888,
              "#fdca26"
             ],
             [
              1,
              "#f0f921"
             ]
            ],
            "type": "contour"
           }
          ],
          "contourcarpet": [
           {
            "colorbar": {
             "outlinewidth": 0,
             "ticks": ""
            },
            "type": "contourcarpet"
           }
          ],
          "heatmap": [
           {
            "colorbar": {
             "outlinewidth": 0,
             "ticks": ""
            },
            "colorscale": [
             [
              0,
              "#0d0887"
             ],
             [
              0.1111111111111111,
              "#46039f"
             ],
             [
              0.2222222222222222,
              "#7201a8"
             ],
             [
              0.3333333333333333,
              "#9c179e"
             ],
             [
              0.4444444444444444,
              "#bd3786"
             ],
             [
              0.5555555555555556,
              "#d8576b"
             ],
             [
              0.6666666666666666,
              "#ed7953"
             ],
             [
              0.7777777777777778,
              "#fb9f3a"
             ],
             [
              0.8888888888888888,
              "#fdca26"
             ],
             [
              1,
              "#f0f921"
             ]
            ],
            "type": "heatmap"
           }
          ],
          "heatmapgl": [
           {
            "colorbar": {
             "outlinewidth": 0,
             "ticks": ""
            },
            "colorscale": [
             [
              0,
              "#0d0887"
             ],
             [
              0.1111111111111111,
              "#46039f"
             ],
             [
              0.2222222222222222,
              "#7201a8"
             ],
             [
              0.3333333333333333,
              "#9c179e"
             ],
             [
              0.4444444444444444,
              "#bd3786"
             ],
             [
              0.5555555555555556,
              "#d8576b"
             ],
             [
              0.6666666666666666,
              "#ed7953"
             ],
             [
              0.7777777777777778,
              "#fb9f3a"
             ],
             [
              0.8888888888888888,
              "#fdca26"
             ],
             [
              1,
              "#f0f921"
             ]
            ],
            "type": "heatmapgl"
           }
          ],
          "histogram": [
           {
            "marker": {
             "pattern": {
              "fillmode": "overlay",
              "size": 10,
              "solidity": 0.2
             }
            },
            "type": "histogram"
           }
          ],
          "histogram2d": [
           {
            "colorbar": {
             "outlinewidth": 0,
             "ticks": ""
            },
            "colorscale": [
             [
              0,
              "#0d0887"
             ],
             [
              0.1111111111111111,
              "#46039f"
             ],
             [
              0.2222222222222222,
              "#7201a8"
             ],
             [
              0.3333333333333333,
              "#9c179e"
             ],
             [
              0.4444444444444444,
              "#bd3786"
             ],
             [
              0.5555555555555556,
              "#d8576b"
             ],
             [
              0.6666666666666666,
              "#ed7953"
             ],
             [
              0.7777777777777778,
              "#fb9f3a"
             ],
             [
              0.8888888888888888,
              "#fdca26"
             ],
             [
              1,
              "#f0f921"
             ]
            ],
            "type": "histogram2d"
           }
          ],
          "histogram2dcontour": [
           {
            "colorbar": {
             "outlinewidth": 0,
             "ticks": ""
            },
            "colorscale": [
             [
              0,
              "#0d0887"
             ],
             [
              0.1111111111111111,
              "#46039f"
             ],
             [
              0.2222222222222222,
              "#7201a8"
             ],
             [
              0.3333333333333333,
              "#9c179e"
             ],
             [
              0.4444444444444444,
              "#bd3786"
             ],
             [
              0.5555555555555556,
              "#d8576b"
             ],
             [
              0.6666666666666666,
              "#ed7953"
             ],
             [
              0.7777777777777778,
              "#fb9f3a"
             ],
             [
              0.8888888888888888,
              "#fdca26"
             ],
             [
              1,
              "#f0f921"
             ]
            ],
            "type": "histogram2dcontour"
           }
          ],
          "mesh3d": [
           {
            "colorbar": {
             "outlinewidth": 0,
             "ticks": ""
            },
            "type": "mesh3d"
           }
          ],
          "parcoords": [
           {
            "line": {
             "colorbar": {
              "outlinewidth": 0,
              "ticks": ""
             }
            },
            "type": "parcoords"
           }
          ],
          "pie": [
           {
            "automargin": true,
            "type": "pie"
           }
          ],
          "scatter": [
           {
            "fillpattern": {
             "fillmode": "overlay",
             "size": 10,
             "solidity": 0.2
            },
            "type": "scatter"
           }
          ],
          "scatter3d": [
           {
            "line": {
             "colorbar": {
              "outlinewidth": 0,
              "ticks": ""
             }
            },
            "marker": {
             "colorbar": {
              "outlinewidth": 0,
              "ticks": ""
             }
            },
            "type": "scatter3d"
           }
          ],
          "scattercarpet": [
           {
            "marker": {
             "colorbar": {
              "outlinewidth": 0,
              "ticks": ""
             }
            },
            "type": "scattercarpet"
           }
          ],
          "scattergeo": [
           {
            "marker": {
             "colorbar": {
              "outlinewidth": 0,
              "ticks": ""
             }
            },
            "type": "scattergeo"
           }
          ],
          "scattergl": [
           {
            "marker": {
             "colorbar": {
              "outlinewidth": 0,
              "ticks": ""
             }
            },
            "type": "scattergl"
           }
          ],
          "scattermapbox": [
           {
            "marker": {
             "colorbar": {
              "outlinewidth": 0,
              "ticks": ""
             }
            },
            "type": "scattermapbox"
           }
          ],
          "scatterpolar": [
           {
            "marker": {
             "colorbar": {
              "outlinewidth": 0,
              "ticks": ""
             }
            },
            "type": "scatterpolar"
           }
          ],
          "scatterpolargl": [
           {
            "marker": {
             "colorbar": {
              "outlinewidth": 0,
              "ticks": ""
             }
            },
            "type": "scatterpolargl"
           }
          ],
          "scatterternary": [
           {
            "marker": {
             "colorbar": {
              "outlinewidth": 0,
              "ticks": ""
             }
            },
            "type": "scatterternary"
           }
          ],
          "surface": [
           {
            "colorbar": {
             "outlinewidth": 0,
             "ticks": ""
            },
            "colorscale": [
             [
              0,
              "#0d0887"
             ],
             [
              0.1111111111111111,
              "#46039f"
             ],
             [
              0.2222222222222222,
              "#7201a8"
             ],
             [
              0.3333333333333333,
              "#9c179e"
             ],
             [
              0.4444444444444444,
              "#bd3786"
             ],
             [
              0.5555555555555556,
              "#d8576b"
             ],
             [
              0.6666666666666666,
              "#ed7953"
             ],
             [
              0.7777777777777778,
              "#fb9f3a"
             ],
             [
              0.8888888888888888,
              "#fdca26"
             ],
             [
              1,
              "#f0f921"
             ]
            ],
            "type": "surface"
           }
          ],
          "table": [
           {
            "cells": {
             "fill": {
              "color": "#EBF0F8"
             },
             "line": {
              "color": "white"
             }
            },
            "header": {
             "fill": {
              "color": "#C8D4E3"
             },
             "line": {
              "color": "white"
             }
            },
            "type": "table"
           }
          ]
         },
         "layout": {
          "annotationdefaults": {
           "arrowcolor": "#2a3f5f",
           "arrowhead": 0,
           "arrowwidth": 1
          },
          "autotypenumbers": "strict",
          "coloraxis": {
           "colorbar": {
            "outlinewidth": 0,
            "ticks": ""
           }
          },
          "colorscale": {
           "diverging": [
            [
             0,
             "#8e0152"
            ],
            [
             0.1,
             "#c51b7d"
            ],
            [
             0.2,
             "#de77ae"
            ],
            [
             0.3,
             "#f1b6da"
            ],
            [
             0.4,
             "#fde0ef"
            ],
            [
             0.5,
             "#f7f7f7"
            ],
            [
             0.6,
             "#e6f5d0"
            ],
            [
             0.7,
             "#b8e186"
            ],
            [
             0.8,
             "#7fbc41"
            ],
            [
             0.9,
             "#4d9221"
            ],
            [
             1,
             "#276419"
            ]
           ],
           "sequential": [
            [
             0,
             "#0d0887"
            ],
            [
             0.1111111111111111,
             "#46039f"
            ],
            [
             0.2222222222222222,
             "#7201a8"
            ],
            [
             0.3333333333333333,
             "#9c179e"
            ],
            [
             0.4444444444444444,
             "#bd3786"
            ],
            [
             0.5555555555555556,
             "#d8576b"
            ],
            [
             0.6666666666666666,
             "#ed7953"
            ],
            [
             0.7777777777777778,
             "#fb9f3a"
            ],
            [
             0.8888888888888888,
             "#fdca26"
            ],
            [
             1,
             "#f0f921"
            ]
           ],
           "sequentialminus": [
            [
             0,
             "#0d0887"
            ],
            [
             0.1111111111111111,
             "#46039f"
            ],
            [
             0.2222222222222222,
             "#7201a8"
            ],
            [
             0.3333333333333333,
             "#9c179e"
            ],
            [
             0.4444444444444444,
             "#bd3786"
            ],
            [
             0.5555555555555556,
             "#d8576b"
            ],
            [
             0.6666666666666666,
             "#ed7953"
            ],
            [
             0.7777777777777778,
             "#fb9f3a"
            ],
            [
             0.8888888888888888,
             "#fdca26"
            ],
            [
             1,
             "#f0f921"
            ]
           ]
          },
          "colorway": [
           "#636efa",
           "#EF553B",
           "#00cc96",
           "#ab63fa",
           "#FFA15A",
           "#19d3f3",
           "#FF6692",
           "#B6E880",
           "#FF97FF",
           "#FECB52"
          ],
          "font": {
           "color": "#2a3f5f"
          },
          "geo": {
           "bgcolor": "white",
           "lakecolor": "white",
           "landcolor": "#E5ECF6",
           "showlakes": true,
           "showland": true,
           "subunitcolor": "white"
          },
          "hoverlabel": {
           "align": "left"
          },
          "hovermode": "closest",
          "mapbox": {
           "style": "light"
          },
          "paper_bgcolor": "white",
          "plot_bgcolor": "#E5ECF6",
          "polar": {
           "angularaxis": {
            "gridcolor": "white",
            "linecolor": "white",
            "ticks": ""
           },
           "bgcolor": "#E5ECF6",
           "radialaxis": {
            "gridcolor": "white",
            "linecolor": "white",
            "ticks": ""
           }
          },
          "scene": {
           "xaxis": {
            "backgroundcolor": "#E5ECF6",
            "gridcolor": "white",
            "gridwidth": 2,
            "linecolor": "white",
            "showbackground": true,
            "ticks": "",
            "zerolinecolor": "white"
           },
           "yaxis": {
            "backgroundcolor": "#E5ECF6",
            "gridcolor": "white",
            "gridwidth": 2,
            "linecolor": "white",
            "showbackground": true,
            "ticks": "",
            "zerolinecolor": "white"
           },
           "zaxis": {
            "backgroundcolor": "#E5ECF6",
            "gridcolor": "white",
            "gridwidth": 2,
            "linecolor": "white",
            "showbackground": true,
            "ticks": "",
            "zerolinecolor": "white"
           }
          },
          "shapedefaults": {
           "line": {
            "color": "#2a3f5f"
           }
          },
          "ternary": {
           "aaxis": {
            "gridcolor": "white",
            "linecolor": "white",
            "ticks": ""
           },
           "baxis": {
            "gridcolor": "white",
            "linecolor": "white",
            "ticks": ""
           },
           "bgcolor": "#E5ECF6",
           "caxis": {
            "gridcolor": "white",
            "linecolor": "white",
            "ticks": ""
           }
          },
          "title": {
           "x": 0.05
          },
          "xaxis": {
           "automargin": true,
           "gridcolor": "white",
           "linecolor": "white",
           "ticks": "",
           "title": {
            "standoff": 15
           },
           "zerolinecolor": "white",
           "zerolinewidth": 2
          },
          "yaxis": {
           "automargin": true,
           "gridcolor": "white",
           "linecolor": "white",
           "ticks": "",
           "title": {
            "standoff": 15
           },
           "zerolinecolor": "white",
           "zerolinewidth": 2
          }
         }
        },
        "title": {
         "text": "Decision_RT by Emotion"
        },
        "width": 1200,
        "xaxis": {
         "anchor": "y",
         "categoryarray": [
          "Disgust",
          "Fear",
          "Happy"
         ],
         "categoryorder": "array",
         "domain": [
          0,
          1
         ],
         "title": {
          "text": "Emotion"
         }
        },
        "yaxis": {
         "anchor": "x",
         "domain": [
          0,
          1
         ],
         "title": {
          "text": "Decision_RT"
         }
        }
       }
      }
     },
     "metadata": {},
     "output_type": "display_data"
    },
    {
     "name": "stdout",
     "output_type": "stream",
     "text": [
      "ANOVA Results for Confidence\n",
      "                Anova\n",
      "=====================================\n",
      "        F Value Num DF  Den DF Pr > F\n",
      "-------------------------------------\n",
      "Emotion 37.9244 2.0000 52.0000 0.0000\n",
      "=====================================\n",
      "\n",
      "Multiple Comparison of Means - Tukey HSD, FWER=0.05 \n",
      "====================================================\n",
      " group1 group2 meandiff p-adj   lower  upper  reject\n",
      "----------------------------------------------------\n",
      "Disgust   Fear  -0.0587 0.6047 -0.2049 0.0875  False\n",
      "Disgust  Happy   0.2603 0.0002  0.1141 0.4065   True\n",
      "   Fear  Happy    0.319    0.0  0.1728 0.4652   True\n",
      "----------------------------------------------------\n"
     ]
    },
    {
     "data": {
      "application/vnd.plotly.v1+json": {
       "config": {
        "plotlyServerURL": "https://plot.ly"
       },
       "data": [
        {
         "alignmentgroup": "True",
         "boxpoints": "all",
         "customdata": [
          [
           "王少刚",
           1
          ],
          [
           "王辉",
           3
          ],
          [
           "董正心",
           4
          ],
          [
           "高倩",
           5
          ],
          [
           "叶帅",
           6
          ],
          [
           "李闯",
           7
          ],
          [
           "钱文莉",
           8
          ],
          [
           "李诗晨",
           9
          ],
          [
           "王梦宣",
           10
          ],
          [
           "姚林林",
           11
          ],
          [
           "赵冰冰",
           12
          ],
          [
           "李思璇",
           13
          ],
          [
           "何金辉",
           14
          ],
          [
           "吴建星",
           17
          ],
          [
           "bq",
           18
          ],
          [
           "gxy",
           19
          ],
          [
           "CTG",
           20
          ],
          [
           "zwl",
           21
          ],
          [
           "MZY",
           23
          ],
          [
           "林增萍",
           24
          ],
          [
           "qdl",
           25
          ],
          [
           "庄惠翔",
           27
          ],
          [
           "焦雄",
           28
          ],
          [
           "郭有容",
           31
          ],
          [
           "余鹏程",
           32
          ],
          [
           "陈若羽",
           34
          ],
          [
           "Xuewei Qin",
           39
          ]
         ],
         "hovertemplate": "Emotion=%{x}<br>Confidence=%{y}<br>Name=%{customdata[0]}<br>ID=%{customdata[1]}<extra></extra>",
         "legendgroup": "Disgust",
         "marker": {
          "color": "#636efa"
         },
         "name": "Disgust",
         "notched": false,
         "offsetgroup": "Disgust",
         "orientation": "v",
         "showlegend": true,
         "type": "box",
         "x": [
          "Disgust",
          "Disgust",
          "Disgust",
          "Disgust",
          "Disgust",
          "Disgust",
          "Disgust",
          "Disgust",
          "Disgust",
          "Disgust",
          "Disgust",
          "Disgust",
          "Disgust",
          "Disgust",
          "Disgust",
          "Disgust",
          "Disgust",
          "Disgust",
          "Disgust",
          "Disgust",
          "Disgust",
          "Disgust",
          "Disgust",
          "Disgust",
          "Disgust",
          "Disgust",
          "Disgust"
         ],
         "x0": " ",
         "xaxis": "x",
         "y": [
          3.1702127659574466,
          3.3541666666666665,
          3.6382978723404253,
          3.630434782608696,
          3.425531914893617,
          3.4791666666666665,
          2.9574468085106385,
          3.4791666666666665,
          3.217391304347826,
          3.8297872340425534,
          3.7872340425531914,
          3.4130434782608696,
          3.4791666666666665,
          3.4680851063829787,
          3.391304347826087,
          3.3541666666666665,
          3.595744680851064,
          3.234042553191489,
          3.0434782608695654,
          3.2916666666666665,
          3.4680851063829787,
          3.760869565217391,
          3.382978723404255,
          3.2708333333333335,
          3.5869565217391304,
          3.111111111111111,
          3.382978723404255
         ],
         "y0": " ",
         "yaxis": "y"
        },
        {
         "alignmentgroup": "True",
         "boxpoints": "all",
         "customdata": [
          [
           "王少刚",
           1
          ],
          [
           "王辉",
           3
          ],
          [
           "董正心",
           4
          ],
          [
           "高倩",
           5
          ],
          [
           "叶帅",
           6
          ],
          [
           "李闯",
           7
          ],
          [
           "钱文莉",
           8
          ],
          [
           "李诗晨",
           9
          ],
          [
           "王梦宣",
           10
          ],
          [
           "姚林林",
           11
          ],
          [
           "赵冰冰",
           12
          ],
          [
           "李思璇",
           13
          ],
          [
           "何金辉",
           14
          ],
          [
           "吴建星",
           17
          ],
          [
           "bq",
           18
          ],
          [
           "gxy",
           19
          ],
          [
           "CTG",
           20
          ],
          [
           "zwl",
           21
          ],
          [
           "MZY",
           23
          ],
          [
           "林增萍",
           24
          ],
          [
           "qdl",
           25
          ],
          [
           "庄惠翔",
           27
          ],
          [
           "焦雄",
           28
          ],
          [
           "郭有容",
           31
          ],
          [
           "余鹏程",
           32
          ],
          [
           "陈若羽",
           34
          ],
          [
           "Xuewei Qin",
           39
          ]
         ],
         "hovertemplate": "Emotion=%{x}<br>Confidence=%{y}<br>Name=%{customdata[0]}<br>ID=%{customdata[1]}<extra></extra>",
         "legendgroup": "Fear",
         "marker": {
          "color": "#EF553B"
         },
         "name": "Fear",
         "notched": false,
         "offsetgroup": "Fear",
         "orientation": "v",
         "showlegend": true,
         "type": "box",
         "x": [
          "Fear",
          "Fear",
          "Fear",
          "Fear",
          "Fear",
          "Fear",
          "Fear",
          "Fear",
          "Fear",
          "Fear",
          "Fear",
          "Fear",
          "Fear",
          "Fear",
          "Fear",
          "Fear",
          "Fear",
          "Fear",
          "Fear",
          "Fear",
          "Fear",
          "Fear",
          "Fear",
          "Fear",
          "Fear",
          "Fear",
          "Fear"
         ],
         "x0": " ",
         "xaxis": "x",
         "y": [
          3.1041666666666665,
          3.422222222222222,
          2.9565217391304346,
          3.8333333333333335,
          3.239130434782609,
          3.652173913043478,
          2.6444444444444444,
          3.4782608695652173,
          3.3404255319148937,
          3.6595744680851063,
          3.5217391304347827,
          3.4375,
          3.659090909090909,
          3.574468085106383,
          3.369565217391304,
          3.0425531914893615,
          3.5434782608695654,
          3.3191489361702127,
          3.148936170212766,
          3.3260869565217392,
          3.5833333333333335,
          3.6739130434782608,
          3.3404255319148937,
          2.9782608695652173,
          3.652173913043478,
          2.851063829787234,
          3.2666666666666666
         ],
         "y0": " ",
         "yaxis": "y"
        },
        {
         "alignmentgroup": "True",
         "boxpoints": "all",
         "customdata": [
          [
           "王少刚",
           1
          ],
          [
           "王辉",
           3
          ],
          [
           "董正心",
           4
          ],
          [
           "高倩",
           5
          ],
          [
           "叶帅",
           6
          ],
          [
           "李闯",
           7
          ],
          [
           "钱文莉",
           8
          ],
          [
           "李诗晨",
           9
          ],
          [
           "王梦宣",
           10
          ],
          [
           "姚林林",
           11
          ],
          [
           "赵冰冰",
           12
          ],
          [
           "李思璇",
           13
          ],
          [
           "何金辉",
           14
          ],
          [
           "吴建星",
           17
          ],
          [
           "bq",
           18
          ],
          [
           "gxy",
           19
          ],
          [
           "CTG",
           20
          ],
          [
           "zwl",
           21
          ],
          [
           "MZY",
           23
          ],
          [
           "林增萍",
           24
          ],
          [
           "qdl",
           25
          ],
          [
           "庄惠翔",
           27
          ],
          [
           "焦雄",
           28
          ],
          [
           "郭有容",
           31
          ],
          [
           "余鹏程",
           32
          ],
          [
           "陈若羽",
           34
          ],
          [
           "Xuewei Qin",
           39
          ]
         ],
         "hovertemplate": "Emotion=%{x}<br>Confidence=%{y}<br>Name=%{customdata[0]}<br>ID=%{customdata[1]}<extra></extra>",
         "legendgroup": "Happy",
         "marker": {
          "color": "#00cc96"
         },
         "name": "Happy",
         "notched": false,
         "offsetgroup": "Happy",
         "orientation": "v",
         "showlegend": true,
         "type": "box",
         "x": [
          "Happy",
          "Happy",
          "Happy",
          "Happy",
          "Happy",
          "Happy",
          "Happy",
          "Happy",
          "Happy",
          "Happy",
          "Happy",
          "Happy",
          "Happy",
          "Happy",
          "Happy",
          "Happy",
          "Happy",
          "Happy",
          "Happy",
          "Happy",
          "Happy",
          "Happy",
          "Happy",
          "Happy",
          "Happy",
          "Happy",
          "Happy"
         ],
         "x0": " ",
         "xaxis": "x",
         "y": [
          3.625,
          3.595744680851064,
          3.625,
          3.872340425531915,
          3.7083333333333335,
          3.765957446808511,
          3.3958333333333335,
          3.6041666666666665,
          3.6875,
          3.75,
          3.8958333333333335,
          3.7872340425531914,
          3.7708333333333335,
          3.8541666666666665,
          3.5,
          3.5208333333333335,
          3.9166666666666665,
          3.3333333333333335,
          3.7291666666666665,
          3.7291666666666665,
          3.739130434782609,
          3.8333333333333335,
          3.617021276595745,
          3.5625,
          3.625,
          3.625,
          3.5625
         ],
         "y0": " ",
         "yaxis": "y"
        }
       ],
       "layout": {
        "annotations": [
         {
          "bgcolor": "#1f77b4",
          "bordercolor": "#1f77b4",
          "borderpad": 4,
          "borderwidth": 2,
          "font": {
           "color": "#ffffff",
           "family": "Courier New, monospace",
           "size": 16
          },
          "opacity": 0.8,
          "showarrow": false,
          "text": "p-value: 0.00 (Anova Repeated Measures)",
          "x": 0.9,
          "xref": "paper",
          "y": 1.1,
          "yref": "paper"
         }
        ],
        "boxmode": "overlay",
        "height": 600,
        "legend": {
         "title": {
          "text": "Emotion"
         },
         "tracegroupgap": 0
        },
        "template": {
         "data": {
          "bar": [
           {
            "error_x": {
             "color": "#2a3f5f"
            },
            "error_y": {
             "color": "#2a3f5f"
            },
            "marker": {
             "line": {
              "color": "#E5ECF6",
              "width": 0.5
             },
             "pattern": {
              "fillmode": "overlay",
              "size": 10,
              "solidity": 0.2
             }
            },
            "type": "bar"
           }
          ],
          "barpolar": [
           {
            "marker": {
             "line": {
              "color": "#E5ECF6",
              "width": 0.5
             },
             "pattern": {
              "fillmode": "overlay",
              "size": 10,
              "solidity": 0.2
             }
            },
            "type": "barpolar"
           }
          ],
          "carpet": [
           {
            "aaxis": {
             "endlinecolor": "#2a3f5f",
             "gridcolor": "white",
             "linecolor": "white",
             "minorgridcolor": "white",
             "startlinecolor": "#2a3f5f"
            },
            "baxis": {
             "endlinecolor": "#2a3f5f",
             "gridcolor": "white",
             "linecolor": "white",
             "minorgridcolor": "white",
             "startlinecolor": "#2a3f5f"
            },
            "type": "carpet"
           }
          ],
          "choropleth": [
           {
            "colorbar": {
             "outlinewidth": 0,
             "ticks": ""
            },
            "type": "choropleth"
           }
          ],
          "contour": [
           {
            "colorbar": {
             "outlinewidth": 0,
             "ticks": ""
            },
            "colorscale": [
             [
              0,
              "#0d0887"
             ],
             [
              0.1111111111111111,
              "#46039f"
             ],
             [
              0.2222222222222222,
              "#7201a8"
             ],
             [
              0.3333333333333333,
              "#9c179e"
             ],
             [
              0.4444444444444444,
              "#bd3786"
             ],
             [
              0.5555555555555556,
              "#d8576b"
             ],
             [
              0.6666666666666666,
              "#ed7953"
             ],
             [
              0.7777777777777778,
              "#fb9f3a"
             ],
             [
              0.8888888888888888,
              "#fdca26"
             ],
             [
              1,
              "#f0f921"
             ]
            ],
            "type": "contour"
           }
          ],
          "contourcarpet": [
           {
            "colorbar": {
             "outlinewidth": 0,
             "ticks": ""
            },
            "type": "contourcarpet"
           }
          ],
          "heatmap": [
           {
            "colorbar": {
             "outlinewidth": 0,
             "ticks": ""
            },
            "colorscale": [
             [
              0,
              "#0d0887"
             ],
             [
              0.1111111111111111,
              "#46039f"
             ],
             [
              0.2222222222222222,
              "#7201a8"
             ],
             [
              0.3333333333333333,
              "#9c179e"
             ],
             [
              0.4444444444444444,
              "#bd3786"
             ],
             [
              0.5555555555555556,
              "#d8576b"
             ],
             [
              0.6666666666666666,
              "#ed7953"
             ],
             [
              0.7777777777777778,
              "#fb9f3a"
             ],
             [
              0.8888888888888888,
              "#fdca26"
             ],
             [
              1,
              "#f0f921"
             ]
            ],
            "type": "heatmap"
           }
          ],
          "heatmapgl": [
           {
            "colorbar": {
             "outlinewidth": 0,
             "ticks": ""
            },
            "colorscale": [
             [
              0,
              "#0d0887"
             ],
             [
              0.1111111111111111,
              "#46039f"
             ],
             [
              0.2222222222222222,
              "#7201a8"
             ],
             [
              0.3333333333333333,
              "#9c179e"
             ],
             [
              0.4444444444444444,
              "#bd3786"
             ],
             [
              0.5555555555555556,
              "#d8576b"
             ],
             [
              0.6666666666666666,
              "#ed7953"
             ],
             [
              0.7777777777777778,
              "#fb9f3a"
             ],
             [
              0.8888888888888888,
              "#fdca26"
             ],
             [
              1,
              "#f0f921"
             ]
            ],
            "type": "heatmapgl"
           }
          ],
          "histogram": [
           {
            "marker": {
             "pattern": {
              "fillmode": "overlay",
              "size": 10,
              "solidity": 0.2
             }
            },
            "type": "histogram"
           }
          ],
          "histogram2d": [
           {
            "colorbar": {
             "outlinewidth": 0,
             "ticks": ""
            },
            "colorscale": [
             [
              0,
              "#0d0887"
             ],
             [
              0.1111111111111111,
              "#46039f"
             ],
             [
              0.2222222222222222,
              "#7201a8"
             ],
             [
              0.3333333333333333,
              "#9c179e"
             ],
             [
              0.4444444444444444,
              "#bd3786"
             ],
             [
              0.5555555555555556,
              "#d8576b"
             ],
             [
              0.6666666666666666,
              "#ed7953"
             ],
             [
              0.7777777777777778,
              "#fb9f3a"
             ],
             [
              0.8888888888888888,
              "#fdca26"
             ],
             [
              1,
              "#f0f921"
             ]
            ],
            "type": "histogram2d"
           }
          ],
          "histogram2dcontour": [
           {
            "colorbar": {
             "outlinewidth": 0,
             "ticks": ""
            },
            "colorscale": [
             [
              0,
              "#0d0887"
             ],
             [
              0.1111111111111111,
              "#46039f"
             ],
             [
              0.2222222222222222,
              "#7201a8"
             ],
             [
              0.3333333333333333,
              "#9c179e"
             ],
             [
              0.4444444444444444,
              "#bd3786"
             ],
             [
              0.5555555555555556,
              "#d8576b"
             ],
             [
              0.6666666666666666,
              "#ed7953"
             ],
             [
              0.7777777777777778,
              "#fb9f3a"
             ],
             [
              0.8888888888888888,
              "#fdca26"
             ],
             [
              1,
              "#f0f921"
             ]
            ],
            "type": "histogram2dcontour"
           }
          ],
          "mesh3d": [
           {
            "colorbar": {
             "outlinewidth": 0,
             "ticks": ""
            },
            "type": "mesh3d"
           }
          ],
          "parcoords": [
           {
            "line": {
             "colorbar": {
              "outlinewidth": 0,
              "ticks": ""
             }
            },
            "type": "parcoords"
           }
          ],
          "pie": [
           {
            "automargin": true,
            "type": "pie"
           }
          ],
          "scatter": [
           {
            "fillpattern": {
             "fillmode": "overlay",
             "size": 10,
             "solidity": 0.2
            },
            "type": "scatter"
           }
          ],
          "scatter3d": [
           {
            "line": {
             "colorbar": {
              "outlinewidth": 0,
              "ticks": ""
             }
            },
            "marker": {
             "colorbar": {
              "outlinewidth": 0,
              "ticks": ""
             }
            },
            "type": "scatter3d"
           }
          ],
          "scattercarpet": [
           {
            "marker": {
             "colorbar": {
              "outlinewidth": 0,
              "ticks": ""
             }
            },
            "type": "scattercarpet"
           }
          ],
          "scattergeo": [
           {
            "marker": {
             "colorbar": {
              "outlinewidth": 0,
              "ticks": ""
             }
            },
            "type": "scattergeo"
           }
          ],
          "scattergl": [
           {
            "marker": {
             "colorbar": {
              "outlinewidth": 0,
              "ticks": ""
             }
            },
            "type": "scattergl"
           }
          ],
          "scattermapbox": [
           {
            "marker": {
             "colorbar": {
              "outlinewidth": 0,
              "ticks": ""
             }
            },
            "type": "scattermapbox"
           }
          ],
          "scatterpolar": [
           {
            "marker": {
             "colorbar": {
              "outlinewidth": 0,
              "ticks": ""
             }
            },
            "type": "scatterpolar"
           }
          ],
          "scatterpolargl": [
           {
            "marker": {
             "colorbar": {
              "outlinewidth": 0,
              "ticks": ""
             }
            },
            "type": "scatterpolargl"
           }
          ],
          "scatterternary": [
           {
            "marker": {
             "colorbar": {
              "outlinewidth": 0,
              "ticks": ""
             }
            },
            "type": "scatterternary"
           }
          ],
          "surface": [
           {
            "colorbar": {
             "outlinewidth": 0,
             "ticks": ""
            },
            "colorscale": [
             [
              0,
              "#0d0887"
             ],
             [
              0.1111111111111111,
              "#46039f"
             ],
             [
              0.2222222222222222,
              "#7201a8"
             ],
             [
              0.3333333333333333,
              "#9c179e"
             ],
             [
              0.4444444444444444,
              "#bd3786"
             ],
             [
              0.5555555555555556,
              "#d8576b"
             ],
             [
              0.6666666666666666,
              "#ed7953"
             ],
             [
              0.7777777777777778,
              "#fb9f3a"
             ],
             [
              0.8888888888888888,
              "#fdca26"
             ],
             [
              1,
              "#f0f921"
             ]
            ],
            "type": "surface"
           }
          ],
          "table": [
           {
            "cells": {
             "fill": {
              "color": "#EBF0F8"
             },
             "line": {
              "color": "white"
             }
            },
            "header": {
             "fill": {
              "color": "#C8D4E3"
             },
             "line": {
              "color": "white"
             }
            },
            "type": "table"
           }
          ]
         },
         "layout": {
          "annotationdefaults": {
           "arrowcolor": "#2a3f5f",
           "arrowhead": 0,
           "arrowwidth": 1
          },
          "autotypenumbers": "strict",
          "coloraxis": {
           "colorbar": {
            "outlinewidth": 0,
            "ticks": ""
           }
          },
          "colorscale": {
           "diverging": [
            [
             0,
             "#8e0152"
            ],
            [
             0.1,
             "#c51b7d"
            ],
            [
             0.2,
             "#de77ae"
            ],
            [
             0.3,
             "#f1b6da"
            ],
            [
             0.4,
             "#fde0ef"
            ],
            [
             0.5,
             "#f7f7f7"
            ],
            [
             0.6,
             "#e6f5d0"
            ],
            [
             0.7,
             "#b8e186"
            ],
            [
             0.8,
             "#7fbc41"
            ],
            [
             0.9,
             "#4d9221"
            ],
            [
             1,
             "#276419"
            ]
           ],
           "sequential": [
            [
             0,
             "#0d0887"
            ],
            [
             0.1111111111111111,
             "#46039f"
            ],
            [
             0.2222222222222222,
             "#7201a8"
            ],
            [
             0.3333333333333333,
             "#9c179e"
            ],
            [
             0.4444444444444444,
             "#bd3786"
            ],
            [
             0.5555555555555556,
             "#d8576b"
            ],
            [
             0.6666666666666666,
             "#ed7953"
            ],
            [
             0.7777777777777778,
             "#fb9f3a"
            ],
            [
             0.8888888888888888,
             "#fdca26"
            ],
            [
             1,
             "#f0f921"
            ]
           ],
           "sequentialminus": [
            [
             0,
             "#0d0887"
            ],
            [
             0.1111111111111111,
             "#46039f"
            ],
            [
             0.2222222222222222,
             "#7201a8"
            ],
            [
             0.3333333333333333,
             "#9c179e"
            ],
            [
             0.4444444444444444,
             "#bd3786"
            ],
            [
             0.5555555555555556,
             "#d8576b"
            ],
            [
             0.6666666666666666,
             "#ed7953"
            ],
            [
             0.7777777777777778,
             "#fb9f3a"
            ],
            [
             0.8888888888888888,
             "#fdca26"
            ],
            [
             1,
             "#f0f921"
            ]
           ]
          },
          "colorway": [
           "#636efa",
           "#EF553B",
           "#00cc96",
           "#ab63fa",
           "#FFA15A",
           "#19d3f3",
           "#FF6692",
           "#B6E880",
           "#FF97FF",
           "#FECB52"
          ],
          "font": {
           "color": "#2a3f5f"
          },
          "geo": {
           "bgcolor": "white",
           "lakecolor": "white",
           "landcolor": "#E5ECF6",
           "showlakes": true,
           "showland": true,
           "subunitcolor": "white"
          },
          "hoverlabel": {
           "align": "left"
          },
          "hovermode": "closest",
          "mapbox": {
           "style": "light"
          },
          "paper_bgcolor": "white",
          "plot_bgcolor": "#E5ECF6",
          "polar": {
           "angularaxis": {
            "gridcolor": "white",
            "linecolor": "white",
            "ticks": ""
           },
           "bgcolor": "#E5ECF6",
           "radialaxis": {
            "gridcolor": "white",
            "linecolor": "white",
            "ticks": ""
           }
          },
          "scene": {
           "xaxis": {
            "backgroundcolor": "#E5ECF6",
            "gridcolor": "white",
            "gridwidth": 2,
            "linecolor": "white",
            "showbackground": true,
            "ticks": "",
            "zerolinecolor": "white"
           },
           "yaxis": {
            "backgroundcolor": "#E5ECF6",
            "gridcolor": "white",
            "gridwidth": 2,
            "linecolor": "white",
            "showbackground": true,
            "ticks": "",
            "zerolinecolor": "white"
           },
           "zaxis": {
            "backgroundcolor": "#E5ECF6",
            "gridcolor": "white",
            "gridwidth": 2,
            "linecolor": "white",
            "showbackground": true,
            "ticks": "",
            "zerolinecolor": "white"
           }
          },
          "shapedefaults": {
           "line": {
            "color": "#2a3f5f"
           }
          },
          "ternary": {
           "aaxis": {
            "gridcolor": "white",
            "linecolor": "white",
            "ticks": ""
           },
           "baxis": {
            "gridcolor": "white",
            "linecolor": "white",
            "ticks": ""
           },
           "bgcolor": "#E5ECF6",
           "caxis": {
            "gridcolor": "white",
            "linecolor": "white",
            "ticks": ""
           }
          },
          "title": {
           "x": 0.05
          },
          "xaxis": {
           "automargin": true,
           "gridcolor": "white",
           "linecolor": "white",
           "ticks": "",
           "title": {
            "standoff": 15
           },
           "zerolinecolor": "white",
           "zerolinewidth": 2
          },
          "yaxis": {
           "automargin": true,
           "gridcolor": "white",
           "linecolor": "white",
           "ticks": "",
           "title": {
            "standoff": 15
           },
           "zerolinecolor": "white",
           "zerolinewidth": 2
          }
         }
        },
        "title": {
         "text": "Confidence by Emotion"
        },
        "width": 1200,
        "xaxis": {
         "anchor": "y",
         "categoryarray": [
          "Disgust",
          "Fear",
          "Happy"
         ],
         "categoryorder": "array",
         "domain": [
          0,
          1
         ],
         "title": {
          "text": "Emotion"
         }
        },
        "yaxis": {
         "anchor": "x",
         "domain": [
          0,
          1
         ],
         "title": {
          "text": "Confidence"
         }
        }
       }
      }
     },
     "metadata": {},
     "output_type": "display_data"
    },
    {
     "data": {
      "application/vnd.plotly.v1+json": {
       "config": {
        "plotlyServerURL": "https://plot.ly"
       },
       "data": [
        {
         "alignmentgroup": "True",
         "boxpoints": "all",
         "customdata": [
          [
           "王少刚",
           1
          ],
          [
           "王梦宣",
           10
          ],
          [
           "姚林林",
           11
          ],
          [
           "赵冰冰",
           12
          ],
          [
           "李思璇",
           13
          ],
          [
           "何金辉",
           14
          ],
          [
           "吴建星",
           17
          ],
          [
           "bq",
           18
          ],
          [
           "gxy",
           19
          ],
          [
           "CTG",
           20
          ],
          [
           "zwl",
           21
          ],
          [
           null,
           22
          ],
          [
           "MZY",
           23
          ],
          [
           "林增萍",
           24
          ],
          [
           "qdl",
           25
          ],
          [
           "庄惠翔",
           27
          ],
          [
           "焦雄",
           28
          ],
          [
           "王辉",
           3
          ],
          [
           "郭有容",
           31
          ],
          [
           "余鹏程",
           32
          ],
          [
           "陈若羽",
           34
          ],
          [
           null,
           36
          ],
          [
           "Xuewei Qin",
           39
          ],
          [
           "董正心",
           4
          ],
          [
           "高倩",
           5
          ],
          [
           "叶帅",
           6
          ],
          [
           "李闯",
           7
          ],
          [
           "钱文莉",
           8
          ],
          [
           "李诗晨",
           9
          ]
         ],
         "hovertemplate": "Emotion=%{x}<br>MRatio=%{y}<br>Name=%{customdata[0]}<br>ID=%{customdata[1]}<extra></extra>",
         "legendgroup": "Disgust",
         "marker": {
          "color": "#636efa"
         },
         "name": "Disgust",
         "notched": false,
         "offsetgroup": "Disgust",
         "orientation": "v",
         "showlegend": true,
         "type": "box",
         "x": [
          "Disgust",
          "Disgust",
          "Disgust",
          "Disgust",
          "Disgust",
          "Disgust",
          "Disgust",
          "Disgust",
          "Disgust",
          "Disgust",
          "Disgust",
          "Disgust",
          "Disgust",
          "Disgust",
          "Disgust",
          "Disgust",
          "Disgust",
          "Disgust",
          "Disgust",
          "Disgust",
          "Disgust",
          "Disgust",
          "Disgust",
          "Disgust",
          "Disgust",
          "Disgust",
          "Disgust",
          "Disgust",
          "Disgust"
         ],
         "x0": " ",
         "xaxis": "x",
         "y": [
          0.3707124,
          2.460481,
          1.511516,
          1.381233,
          2.719129,
          1.183536,
          1.300135,
          1.02045,
          1.99068,
          1.319272,
          1.100705,
          0.6331801,
          0.832684,
          0.2032219,
          1.124547,
          1.33135,
          3.991747,
          1.827291,
          1.19445,
          0.538702,
          1.838426,
          0.8399413,
          1.71553,
          1.285737,
          1.791908,
          0.8588558,
          1.643292,
          1.023732,
          1.469267
         ],
         "y0": " ",
         "yaxis": "y"
        },
        {
         "alignmentgroup": "True",
         "boxpoints": "all",
         "customdata": [
          [
           "王少刚",
           1
          ],
          [
           "王梦宣",
           10
          ],
          [
           "姚林林",
           11
          ],
          [
           "赵冰冰",
           12
          ],
          [
           "李思璇",
           13
          ],
          [
           "何金辉",
           14
          ],
          [
           "吴建星",
           17
          ],
          [
           "bq",
           18
          ],
          [
           "gxy",
           19
          ],
          [
           "CTG",
           20
          ],
          [
           "zwl",
           21
          ],
          [
           null,
           22
          ],
          [
           "MZY",
           23
          ],
          [
           "林增萍",
           24
          ],
          [
           "qdl",
           25
          ],
          [
           "庄惠翔",
           27
          ],
          [
           "焦雄",
           28
          ],
          [
           "王辉",
           3
          ],
          [
           "郭有容",
           31
          ],
          [
           "余鹏程",
           32
          ],
          [
           "陈若羽",
           34
          ],
          [
           null,
           36
          ],
          [
           "Xuewei Qin",
           39
          ],
          [
           "董正心",
           4
          ],
          [
           "高倩",
           5
          ],
          [
           "叶帅",
           6
          ],
          [
           "李闯",
           7
          ],
          [
           "钱文莉",
           8
          ],
          [
           "李诗晨",
           9
          ]
         ],
         "hovertemplate": "Emotion=%{x}<br>MRatio=%{y}<br>Name=%{customdata[0]}<br>ID=%{customdata[1]}<extra></extra>",
         "legendgroup": "Happy",
         "marker": {
          "color": "#EF553B"
         },
         "name": "Happy",
         "notched": false,
         "offsetgroup": "Happy",
         "orientation": "v",
         "showlegend": true,
         "type": "box",
         "x": [
          "Happy",
          "Happy",
          "Happy",
          "Happy",
          "Happy",
          "Happy",
          "Happy",
          "Happy",
          "Happy",
          "Happy",
          "Happy",
          "Happy",
          "Happy",
          "Happy",
          "Happy",
          "Happy",
          "Happy",
          "Happy",
          "Happy",
          "Happy",
          "Happy",
          "Happy",
          "Happy",
          "Happy",
          "Happy",
          "Happy",
          "Happy",
          "Happy",
          "Happy"
         ],
         "x0": " ",
         "xaxis": "x",
         "y": [
          2.245553,
          3.038429,
          1.818733,
          1.74961,
          1.975555,
          1.666977,
          1.522645,
          1.174471,
          1.402152,
          1.688015,
          1.872835,
          1.485152,
          2.023884,
          1.681,
          1.056512,
          2.163208,
          1.40757,
          2.265336,
          1.796614,
          0.8205032,
          1.352168,
          1.157132,
          1.323463,
          1.568833,
          1.571189,
          1.928647,
          1.300449,
          1.387723,
          1.328997
         ],
         "y0": " ",
         "yaxis": "y"
        },
        {
         "alignmentgroup": "True",
         "boxpoints": "all",
         "customdata": [
          [
           "王少刚",
           1
          ],
          [
           "王梦宣",
           10
          ],
          [
           "姚林林",
           11
          ],
          [
           "赵冰冰",
           12
          ],
          [
           "李思璇",
           13
          ],
          [
           "何金辉",
           14
          ],
          [
           "吴建星",
           17
          ],
          [
           "bq",
           18
          ],
          [
           "gxy",
           19
          ],
          [
           "CTG",
           20
          ],
          [
           "zwl",
           21
          ],
          [
           null,
           22
          ],
          [
           "MZY",
           23
          ],
          [
           "林增萍",
           24
          ],
          [
           "qdl",
           25
          ],
          [
           "庄惠翔",
           27
          ],
          [
           "焦雄",
           28
          ],
          [
           "王辉",
           3
          ],
          [
           "郭有容",
           31
          ],
          [
           "余鹏程",
           32
          ],
          [
           "陈若羽",
           34
          ],
          [
           null,
           36
          ],
          [
           "Xuewei Qin",
           39
          ],
          [
           "董正心",
           4
          ],
          [
           "高倩",
           5
          ],
          [
           "叶帅",
           6
          ],
          [
           "李闯",
           7
          ],
          [
           "钱文莉",
           8
          ],
          [
           "李诗晨",
           9
          ]
         ],
         "hovertemplate": "Emotion=%{x}<br>MRatio=%{y}<br>Name=%{customdata[0]}<br>ID=%{customdata[1]}<extra></extra>",
         "legendgroup": "Fear",
         "marker": {
          "color": "#00cc96"
         },
         "name": "Fear",
         "notched": false,
         "offsetgroup": "Fear",
         "orientation": "v",
         "showlegend": true,
         "type": "box",
         "x": [
          "Fear",
          "Fear",
          "Fear",
          "Fear",
          "Fear",
          "Fear",
          "Fear",
          "Fear",
          "Fear",
          "Fear",
          "Fear",
          "Fear",
          "Fear",
          "Fear",
          "Fear",
          "Fear",
          "Fear",
          "Fear",
          "Fear",
          "Fear",
          "Fear",
          "Fear",
          "Fear",
          "Fear",
          "Fear",
          "Fear",
          "Fear",
          "Fear",
          "Fear"
         ],
         "x0": " ",
         "xaxis": "x",
         "y": [
          2.468977,
          0.969158,
          1.315258,
          0.7697655,
          1.835482,
          3.288871,
          1.579383,
          2.264428,
          1.910503,
          1.727713,
          1.243461,
          1.7809,
          1.014309,
          1.98809,
          0.7190908,
          1.174097,
          0.7896399,
          0.9957918,
          3.043107,
          1.080373,
          0.9689307,
          1.214395,
          0.8804376,
          2.298144,
          1.716431,
          2.96085,
          1.323249,
          0.2061253,
          1.058729
         ],
         "y0": " ",
         "yaxis": "y"
        }
       ],
       "layout": {
        "annotations": [
         {
          "bgcolor": "#1f77b4",
          "bordercolor": "#1f77b4",
          "borderpad": 4,
          "borderwidth": 2,
          "font": {
           "color": "#ffffff",
           "family": "Courier New, monospace",
           "size": 16
          },
          "opacity": 0.8,
          "showarrow": false,
          "text": "No significant difference",
          "x": 0.9,
          "xref": "paper",
          "y": 1.1,
          "yref": "paper"
         }
        ],
        "boxmode": "overlay",
        "height": 600,
        "legend": {
         "title": {
          "text": "Emotion"
         },
         "tracegroupgap": 0
        },
        "template": {
         "data": {
          "bar": [
           {
            "error_x": {
             "color": "#2a3f5f"
            },
            "error_y": {
             "color": "#2a3f5f"
            },
            "marker": {
             "line": {
              "color": "#E5ECF6",
              "width": 0.5
             },
             "pattern": {
              "fillmode": "overlay",
              "size": 10,
              "solidity": 0.2
             }
            },
            "type": "bar"
           }
          ],
          "barpolar": [
           {
            "marker": {
             "line": {
              "color": "#E5ECF6",
              "width": 0.5
             },
             "pattern": {
              "fillmode": "overlay",
              "size": 10,
              "solidity": 0.2
             }
            },
            "type": "barpolar"
           }
          ],
          "carpet": [
           {
            "aaxis": {
             "endlinecolor": "#2a3f5f",
             "gridcolor": "white",
             "linecolor": "white",
             "minorgridcolor": "white",
             "startlinecolor": "#2a3f5f"
            },
            "baxis": {
             "endlinecolor": "#2a3f5f",
             "gridcolor": "white",
             "linecolor": "white",
             "minorgridcolor": "white",
             "startlinecolor": "#2a3f5f"
            },
            "type": "carpet"
           }
          ],
          "choropleth": [
           {
            "colorbar": {
             "outlinewidth": 0,
             "ticks": ""
            },
            "type": "choropleth"
           }
          ],
          "contour": [
           {
            "colorbar": {
             "outlinewidth": 0,
             "ticks": ""
            },
            "colorscale": [
             [
              0,
              "#0d0887"
             ],
             [
              0.1111111111111111,
              "#46039f"
             ],
             [
              0.2222222222222222,
              "#7201a8"
             ],
             [
              0.3333333333333333,
              "#9c179e"
             ],
             [
              0.4444444444444444,
              "#bd3786"
             ],
             [
              0.5555555555555556,
              "#d8576b"
             ],
             [
              0.6666666666666666,
              "#ed7953"
             ],
             [
              0.7777777777777778,
              "#fb9f3a"
             ],
             [
              0.8888888888888888,
              "#fdca26"
             ],
             [
              1,
              "#f0f921"
             ]
            ],
            "type": "contour"
           }
          ],
          "contourcarpet": [
           {
            "colorbar": {
             "outlinewidth": 0,
             "ticks": ""
            },
            "type": "contourcarpet"
           }
          ],
          "heatmap": [
           {
            "colorbar": {
             "outlinewidth": 0,
             "ticks": ""
            },
            "colorscale": [
             [
              0,
              "#0d0887"
             ],
             [
              0.1111111111111111,
              "#46039f"
             ],
             [
              0.2222222222222222,
              "#7201a8"
             ],
             [
              0.3333333333333333,
              "#9c179e"
             ],
             [
              0.4444444444444444,
              "#bd3786"
             ],
             [
              0.5555555555555556,
              "#d8576b"
             ],
             [
              0.6666666666666666,
              "#ed7953"
             ],
             [
              0.7777777777777778,
              "#fb9f3a"
             ],
             [
              0.8888888888888888,
              "#fdca26"
             ],
             [
              1,
              "#f0f921"
             ]
            ],
            "type": "heatmap"
           }
          ],
          "heatmapgl": [
           {
            "colorbar": {
             "outlinewidth": 0,
             "ticks": ""
            },
            "colorscale": [
             [
              0,
              "#0d0887"
             ],
             [
              0.1111111111111111,
              "#46039f"
             ],
             [
              0.2222222222222222,
              "#7201a8"
             ],
             [
              0.3333333333333333,
              "#9c179e"
             ],
             [
              0.4444444444444444,
              "#bd3786"
             ],
             [
              0.5555555555555556,
              "#d8576b"
             ],
             [
              0.6666666666666666,
              "#ed7953"
             ],
             [
              0.7777777777777778,
              "#fb9f3a"
             ],
             [
              0.8888888888888888,
              "#fdca26"
             ],
             [
              1,
              "#f0f921"
             ]
            ],
            "type": "heatmapgl"
           }
          ],
          "histogram": [
           {
            "marker": {
             "pattern": {
              "fillmode": "overlay",
              "size": 10,
              "solidity": 0.2
             }
            },
            "type": "histogram"
           }
          ],
          "histogram2d": [
           {
            "colorbar": {
             "outlinewidth": 0,
             "ticks": ""
            },
            "colorscale": [
             [
              0,
              "#0d0887"
             ],
             [
              0.1111111111111111,
              "#46039f"
             ],
             [
              0.2222222222222222,
              "#7201a8"
             ],
             [
              0.3333333333333333,
              "#9c179e"
             ],
             [
              0.4444444444444444,
              "#bd3786"
             ],
             [
              0.5555555555555556,
              "#d8576b"
             ],
             [
              0.6666666666666666,
              "#ed7953"
             ],
             [
              0.7777777777777778,
              "#fb9f3a"
             ],
             [
              0.8888888888888888,
              "#fdca26"
             ],
             [
              1,
              "#f0f921"
             ]
            ],
            "type": "histogram2d"
           }
          ],
          "histogram2dcontour": [
           {
            "colorbar": {
             "outlinewidth": 0,
             "ticks": ""
            },
            "colorscale": [
             [
              0,
              "#0d0887"
             ],
             [
              0.1111111111111111,
              "#46039f"
             ],
             [
              0.2222222222222222,
              "#7201a8"
             ],
             [
              0.3333333333333333,
              "#9c179e"
             ],
             [
              0.4444444444444444,
              "#bd3786"
             ],
             [
              0.5555555555555556,
              "#d8576b"
             ],
             [
              0.6666666666666666,
              "#ed7953"
             ],
             [
              0.7777777777777778,
              "#fb9f3a"
             ],
             [
              0.8888888888888888,
              "#fdca26"
             ],
             [
              1,
              "#f0f921"
             ]
            ],
            "type": "histogram2dcontour"
           }
          ],
          "mesh3d": [
           {
            "colorbar": {
             "outlinewidth": 0,
             "ticks": ""
            },
            "type": "mesh3d"
           }
          ],
          "parcoords": [
           {
            "line": {
             "colorbar": {
              "outlinewidth": 0,
              "ticks": ""
             }
            },
            "type": "parcoords"
           }
          ],
          "pie": [
           {
            "automargin": true,
            "type": "pie"
           }
          ],
          "scatter": [
           {
            "fillpattern": {
             "fillmode": "overlay",
             "size": 10,
             "solidity": 0.2
            },
            "type": "scatter"
           }
          ],
          "scatter3d": [
           {
            "line": {
             "colorbar": {
              "outlinewidth": 0,
              "ticks": ""
             }
            },
            "marker": {
             "colorbar": {
              "outlinewidth": 0,
              "ticks": ""
             }
            },
            "type": "scatter3d"
           }
          ],
          "scattercarpet": [
           {
            "marker": {
             "colorbar": {
              "outlinewidth": 0,
              "ticks": ""
             }
            },
            "type": "scattercarpet"
           }
          ],
          "scattergeo": [
           {
            "marker": {
             "colorbar": {
              "outlinewidth": 0,
              "ticks": ""
             }
            },
            "type": "scattergeo"
           }
          ],
          "scattergl": [
           {
            "marker": {
             "colorbar": {
              "outlinewidth": 0,
              "ticks": ""
             }
            },
            "type": "scattergl"
           }
          ],
          "scattermapbox": [
           {
            "marker": {
             "colorbar": {
              "outlinewidth": 0,
              "ticks": ""
             }
            },
            "type": "scattermapbox"
           }
          ],
          "scatterpolar": [
           {
            "marker": {
             "colorbar": {
              "outlinewidth": 0,
              "ticks": ""
             }
            },
            "type": "scatterpolar"
           }
          ],
          "scatterpolargl": [
           {
            "marker": {
             "colorbar": {
              "outlinewidth": 0,
              "ticks": ""
             }
            },
            "type": "scatterpolargl"
           }
          ],
          "scatterternary": [
           {
            "marker": {
             "colorbar": {
              "outlinewidth": 0,
              "ticks": ""
             }
            },
            "type": "scatterternary"
           }
          ],
          "surface": [
           {
            "colorbar": {
             "outlinewidth": 0,
             "ticks": ""
            },
            "colorscale": [
             [
              0,
              "#0d0887"
             ],
             [
              0.1111111111111111,
              "#46039f"
             ],
             [
              0.2222222222222222,
              "#7201a8"
             ],
             [
              0.3333333333333333,
              "#9c179e"
             ],
             [
              0.4444444444444444,
              "#bd3786"
             ],
             [
              0.5555555555555556,
              "#d8576b"
             ],
             [
              0.6666666666666666,
              "#ed7953"
             ],
             [
              0.7777777777777778,
              "#fb9f3a"
             ],
             [
              0.8888888888888888,
              "#fdca26"
             ],
             [
              1,
              "#f0f921"
             ]
            ],
            "type": "surface"
           }
          ],
          "table": [
           {
            "cells": {
             "fill": {
              "color": "#EBF0F8"
             },
             "line": {
              "color": "white"
             }
            },
            "header": {
             "fill": {
              "color": "#C8D4E3"
             },
             "line": {
              "color": "white"
             }
            },
            "type": "table"
           }
          ]
         },
         "layout": {
          "annotationdefaults": {
           "arrowcolor": "#2a3f5f",
           "arrowhead": 0,
           "arrowwidth": 1
          },
          "autotypenumbers": "strict",
          "coloraxis": {
           "colorbar": {
            "outlinewidth": 0,
            "ticks": ""
           }
          },
          "colorscale": {
           "diverging": [
            [
             0,
             "#8e0152"
            ],
            [
             0.1,
             "#c51b7d"
            ],
            [
             0.2,
             "#de77ae"
            ],
            [
             0.3,
             "#f1b6da"
            ],
            [
             0.4,
             "#fde0ef"
            ],
            [
             0.5,
             "#f7f7f7"
            ],
            [
             0.6,
             "#e6f5d0"
            ],
            [
             0.7,
             "#b8e186"
            ],
            [
             0.8,
             "#7fbc41"
            ],
            [
             0.9,
             "#4d9221"
            ],
            [
             1,
             "#276419"
            ]
           ],
           "sequential": [
            [
             0,
             "#0d0887"
            ],
            [
             0.1111111111111111,
             "#46039f"
            ],
            [
             0.2222222222222222,
             "#7201a8"
            ],
            [
             0.3333333333333333,
             "#9c179e"
            ],
            [
             0.4444444444444444,
             "#bd3786"
            ],
            [
             0.5555555555555556,
             "#d8576b"
            ],
            [
             0.6666666666666666,
             "#ed7953"
            ],
            [
             0.7777777777777778,
             "#fb9f3a"
            ],
            [
             0.8888888888888888,
             "#fdca26"
            ],
            [
             1,
             "#f0f921"
            ]
           ],
           "sequentialminus": [
            [
             0,
             "#0d0887"
            ],
            [
             0.1111111111111111,
             "#46039f"
            ],
            [
             0.2222222222222222,
             "#7201a8"
            ],
            [
             0.3333333333333333,
             "#9c179e"
            ],
            [
             0.4444444444444444,
             "#bd3786"
            ],
            [
             0.5555555555555556,
             "#d8576b"
            ],
            [
             0.6666666666666666,
             "#ed7953"
            ],
            [
             0.7777777777777778,
             "#fb9f3a"
            ],
            [
             0.8888888888888888,
             "#fdca26"
            ],
            [
             1,
             "#f0f921"
            ]
           ]
          },
          "colorway": [
           "#636efa",
           "#EF553B",
           "#00cc96",
           "#ab63fa",
           "#FFA15A",
           "#19d3f3",
           "#FF6692",
           "#B6E880",
           "#FF97FF",
           "#FECB52"
          ],
          "font": {
           "color": "#2a3f5f"
          },
          "geo": {
           "bgcolor": "white",
           "lakecolor": "white",
           "landcolor": "#E5ECF6",
           "showlakes": true,
           "showland": true,
           "subunitcolor": "white"
          },
          "hoverlabel": {
           "align": "left"
          },
          "hovermode": "closest",
          "mapbox": {
           "style": "light"
          },
          "paper_bgcolor": "white",
          "plot_bgcolor": "#E5ECF6",
          "polar": {
           "angularaxis": {
            "gridcolor": "white",
            "linecolor": "white",
            "ticks": ""
           },
           "bgcolor": "#E5ECF6",
           "radialaxis": {
            "gridcolor": "white",
            "linecolor": "white",
            "ticks": ""
           }
          },
          "scene": {
           "xaxis": {
            "backgroundcolor": "#E5ECF6",
            "gridcolor": "white",
            "gridwidth": 2,
            "linecolor": "white",
            "showbackground": true,
            "ticks": "",
            "zerolinecolor": "white"
           },
           "yaxis": {
            "backgroundcolor": "#E5ECF6",
            "gridcolor": "white",
            "gridwidth": 2,
            "linecolor": "white",
            "showbackground": true,
            "ticks": "",
            "zerolinecolor": "white"
           },
           "zaxis": {
            "backgroundcolor": "#E5ECF6",
            "gridcolor": "white",
            "gridwidth": 2,
            "linecolor": "white",
            "showbackground": true,
            "ticks": "",
            "zerolinecolor": "white"
           }
          },
          "shapedefaults": {
           "line": {
            "color": "#2a3f5f"
           }
          },
          "ternary": {
           "aaxis": {
            "gridcolor": "white",
            "linecolor": "white",
            "ticks": ""
           },
           "baxis": {
            "gridcolor": "white",
            "linecolor": "white",
            "ticks": ""
           },
           "bgcolor": "#E5ECF6",
           "caxis": {
            "gridcolor": "white",
            "linecolor": "white",
            "ticks": ""
           }
          },
          "title": {
           "x": 0.05
          },
          "xaxis": {
           "automargin": true,
           "gridcolor": "white",
           "linecolor": "white",
           "ticks": "",
           "title": {
            "standoff": 15
           },
           "zerolinecolor": "white",
           "zerolinewidth": 2
          },
          "yaxis": {
           "automargin": true,
           "gridcolor": "white",
           "linecolor": "white",
           "ticks": "",
           "title": {
            "standoff": 15
           },
           "zerolinecolor": "white",
           "zerolinewidth": 2
          }
         }
        },
        "title": {
         "text": "MRatio by Emotion"
        },
        "width": 1200,
        "xaxis": {
         "anchor": "y",
         "categoryarray": [
          "Disgust",
          "Happy",
          "Fear"
         ],
         "categoryorder": "array",
         "domain": [
          0,
          1
         ],
         "title": {
          "text": "Emotion"
         }
        },
        "yaxis": {
         "anchor": "x",
         "domain": [
          0,
          1
         ],
         "title": {
          "text": "MRatio"
         }
        }
       }
      }
     },
     "metadata": {},
     "output_type": "display_data"
    },
    {
     "name": "stdout",
     "output_type": "stream",
     "text": [
      "ANOVA Results for dprime\n",
      "                Anova\n",
      "=====================================\n",
      "        F Value Num DF  Den DF Pr > F\n",
      "-------------------------------------\n",
      "Emotion 12.7007 2.0000 56.0000 0.0000\n",
      "=====================================\n",
      "\n",
      "Multiple Comparison of Means - Tukey HSD, FWER=0.05 \n",
      "====================================================\n",
      " group1 group2 meandiff p-adj   lower  upper  reject\n",
      "----------------------------------------------------\n",
      "Disgust   Fear  -0.1093 0.6773 -0.4187    0.2  False\n",
      "Disgust  Happy   0.4789 0.0011  0.1695 0.7882   True\n",
      "   Fear  Happy   0.5882 0.0001  0.2788 0.8976   True\n",
      "----------------------------------------------------\n"
     ]
    },
    {
     "data": {
      "application/vnd.plotly.v1+json": {
       "config": {
        "plotlyServerURL": "https://plot.ly"
       },
       "data": [
        {
         "alignmentgroup": "True",
         "boxpoints": "all",
         "customdata": [
          [
           "王少刚",
           1
          ],
          [
           "王梦宣",
           10
          ],
          [
           "姚林林",
           11
          ],
          [
           "赵冰冰",
           12
          ],
          [
           "李思璇",
           13
          ],
          [
           "何金辉",
           14
          ],
          [
           "吴建星",
           17
          ],
          [
           "bq",
           18
          ],
          [
           "gxy",
           19
          ],
          [
           "CTG",
           20
          ],
          [
           "zwl",
           21
          ],
          [
           null,
           22
          ],
          [
           "MZY",
           23
          ],
          [
           "林增萍",
           24
          ],
          [
           "qdl",
           25
          ],
          [
           "庄惠翔",
           27
          ],
          [
           "焦雄",
           28
          ],
          [
           "王辉",
           3
          ],
          [
           "郭有容",
           31
          ],
          [
           "余鹏程",
           32
          ],
          [
           "陈若羽",
           34
          ],
          [
           null,
           36
          ],
          [
           "Xuewei Qin",
           39
          ],
          [
           "董正心",
           4
          ],
          [
           "高倩",
           5
          ],
          [
           "叶帅",
           6
          ],
          [
           "李闯",
           7
          ],
          [
           "钱文莉",
           8
          ],
          [
           "李诗晨",
           9
          ]
         ],
         "hovertemplate": "Emotion=%{x}<br>dprime=%{y}<br>Name=%{customdata[0]}<br>ID=%{customdata[1]}<extra></extra>",
         "legendgroup": "Disgust",
         "marker": {
          "color": "#636efa"
         },
         "name": "Disgust",
         "notched": false,
         "offsetgroup": "Disgust",
         "orientation": "v",
         "showlegend": true,
         "type": "box",
         "x": [
          "Disgust",
          "Disgust",
          "Disgust",
          "Disgust",
          "Disgust",
          "Disgust",
          "Disgust",
          "Disgust",
          "Disgust",
          "Disgust",
          "Disgust",
          "Disgust",
          "Disgust",
          "Disgust",
          "Disgust",
          "Disgust",
          "Disgust",
          "Disgust",
          "Disgust",
          "Disgust",
          "Disgust",
          "Disgust",
          "Disgust",
          "Disgust",
          "Disgust",
          "Disgust",
          "Disgust",
          "Disgust",
          "Disgust"
         ],
         "x0": " ",
         "xaxis": "x",
         "y": [
          0.6660073,
          1.094778,
          2.204602,
          1.70718,
          0.9168513,
          1.962567,
          1.094778,
          1.775492,
          1.363,
          1.775492,
          1.779639,
          1.486708,
          2.350416,
          1.592037,
          1.223508,
          2.295183,
          0.6343799,
          1.622655,
          1.962567,
          1.105217,
          1.248733,
          2.057484,
          1.487336,
          2.300699,
          1.942579,
          2.534724,
          1.482288,
          1.192161,
          1.933272
         ],
         "y0": " ",
         "yaxis": "y"
        },
        {
         "alignmentgroup": "True",
         "boxpoints": "all",
         "customdata": [
          [
           "王少刚",
           1
          ],
          [
           "王梦宣",
           10
          ],
          [
           "姚林林",
           11
          ],
          [
           "赵冰冰",
           12
          ],
          [
           "李思璇",
           13
          ],
          [
           "何金辉",
           14
          ],
          [
           "吴建星",
           17
          ],
          [
           "bq",
           18
          ],
          [
           "gxy",
           19
          ],
          [
           "CTG",
           20
          ],
          [
           "zwl",
           21
          ],
          [
           null,
           22
          ],
          [
           "MZY",
           23
          ],
          [
           "林增萍",
           24
          ],
          [
           "qdl",
           25
          ],
          [
           "庄惠翔",
           27
          ],
          [
           "焦雄",
           28
          ],
          [
           "王辉",
           3
          ],
          [
           "郭有容",
           31
          ],
          [
           "余鹏程",
           32
          ],
          [
           "陈若羽",
           34
          ],
          [
           null,
           36
          ],
          [
           "Xuewei Qin",
           39
          ],
          [
           "董正心",
           4
          ],
          [
           "高倩",
           5
          ],
          [
           "叶帅",
           6
          ],
          [
           "李闯",
           7
          ],
          [
           "钱文莉",
           8
          ],
          [
           "李诗晨",
           9
          ]
         ],
         "hovertemplate": "Emotion=%{x}<br>dprime=%{y}<br>Name=%{customdata[0]}<br>ID=%{customdata[1]}<extra></extra>",
         "legendgroup": "Happy",
         "marker": {
          "color": "#EF553B"
         },
         "name": "Happy",
         "notched": false,
         "offsetgroup": "Happy",
         "orientation": "v",
         "showlegend": true,
         "type": "box",
         "x": [
          "Happy",
          "Happy",
          "Happy",
          "Happy",
          "Happy",
          "Happy",
          "Happy",
          "Happy",
          "Happy",
          "Happy",
          "Happy",
          "Happy",
          "Happy",
          "Happy",
          "Happy",
          "Happy",
          "Happy",
          "Happy",
          "Happy",
          "Happy",
          "Happy",
          "Happy",
          "Happy",
          "Happy",
          "Happy",
          "Happy",
          "Happy",
          "Happy",
          "Happy"
         ],
         "x0": " ",
         "xaxis": "x",
         "y": [
          1.363875,
          1.34898,
          2.343886,
          2.534724,
          2.343886,
          2.299325,
          2.761255,
          2.533557,
          1.956021,
          2.764809,
          1.956021,
          2.343886,
          2.106838,
          2.118796,
          1.780436,
          2.117771,
          2.764809,
          1.482288,
          1.815654,
          1.477153,
          2.52941,
          2.117771,
          2.533344,
          2.343886,
          1.635125,
          1.934843,
          1.635125,
          1.956021,
          1.779639
         ],
         "y0": " ",
         "yaxis": "y"
        },
        {
         "alignmentgroup": "True",
         "boxpoints": "all",
         "customdata": [
          [
           "王少刚",
           1
          ],
          [
           "王梦宣",
           10
          ],
          [
           "姚林林",
           11
          ],
          [
           "赵冰冰",
           12
          ],
          [
           "李思璇",
           13
          ],
          [
           "何金辉",
           14
          ],
          [
           "吴建星",
           17
          ],
          [
           "bq",
           18
          ],
          [
           "gxy",
           19
          ],
          [
           "CTG",
           20
          ],
          [
           "zwl",
           21
          ],
          [
           null,
           22
          ],
          [
           "MZY",
           23
          ],
          [
           "林增萍",
           24
          ],
          [
           "qdl",
           25
          ],
          [
           "庄惠翔",
           27
          ],
          [
           "焦雄",
           28
          ],
          [
           "王辉",
           3
          ],
          [
           "郭有容",
           31
          ],
          [
           "余鹏程",
           32
          ],
          [
           "陈若羽",
           34
          ],
          [
           null,
           36
          ],
          [
           "Xuewei Qin",
           39
          ],
          [
           "董正心",
           4
          ],
          [
           "高倩",
           5
          ],
          [
           "叶帅",
           6
          ],
          [
           "李闯",
           7
          ],
          [
           "钱文莉",
           8
          ],
          [
           "李诗晨",
           9
          ]
         ],
         "hovertemplate": "Emotion=%{x}<br>dprime=%{y}<br>Name=%{customdata[0]}<br>ID=%{customdata[1]}<extra></extra>",
         "legendgroup": "Fear",
         "marker": {
          "color": "#00cc96"
         },
         "name": "Fear",
         "notched": false,
         "offsetgroup": "Fear",
         "orientation": "v",
         "showlegend": true,
         "type": "box",
         "x": [
          "Fear",
          "Fear",
          "Fear",
          "Fear",
          "Fear",
          "Fear",
          "Fear",
          "Fear",
          "Fear",
          "Fear",
          "Fear",
          "Fear",
          "Fear",
          "Fear",
          "Fear",
          "Fear",
          "Fear",
          "Fear",
          "Fear",
          "Fear",
          "Fear",
          "Fear",
          "Fear",
          "Fear",
          "Fear",
          "Fear",
          "Fear",
          "Fear",
          "Fear"
         ],
         "x0": " ",
         "xaxis": "x",
         "y": [
          0.3039399,
          2.300699,
          2.113801,
          2.295183,
          1.242945,
          0.9792496,
          1.624436,
          1.353557,
          0.870395,
          1.248733,
          1.698872,
          1.08793,
          2.11688,
          1.218239,
          1.956021,
          2.299325,
          0.9792496,
          1.624436,
          0.6411557,
          1.777882,
          1.521774,
          1.779639,
          1.928534,
          0.9418867,
          1.482288,
          0.8450252,
          1.363,
          1.671169,
          2.355254
         ],
         "y0": " ",
         "yaxis": "y"
        }
       ],
       "layout": {
        "annotations": [
         {
          "bgcolor": "#1f77b4",
          "bordercolor": "#1f77b4",
          "borderpad": 4,
          "borderwidth": 2,
          "font": {
           "color": "#ffffff",
           "family": "Courier New, monospace",
           "size": 16
          },
          "opacity": 0.8,
          "showarrow": false,
          "text": "p-value: 0.00 (Anova Repeated Measures)",
          "x": 0.9,
          "xref": "paper",
          "y": 1.1,
          "yref": "paper"
         }
        ],
        "boxmode": "overlay",
        "height": 600,
        "legend": {
         "title": {
          "text": "Emotion"
         },
         "tracegroupgap": 0
        },
        "template": {
         "data": {
          "bar": [
           {
            "error_x": {
             "color": "#2a3f5f"
            },
            "error_y": {
             "color": "#2a3f5f"
            },
            "marker": {
             "line": {
              "color": "#E5ECF6",
              "width": 0.5
             },
             "pattern": {
              "fillmode": "overlay",
              "size": 10,
              "solidity": 0.2
             }
            },
            "type": "bar"
           }
          ],
          "barpolar": [
           {
            "marker": {
             "line": {
              "color": "#E5ECF6",
              "width": 0.5
             },
             "pattern": {
              "fillmode": "overlay",
              "size": 10,
              "solidity": 0.2
             }
            },
            "type": "barpolar"
           }
          ],
          "carpet": [
           {
            "aaxis": {
             "endlinecolor": "#2a3f5f",
             "gridcolor": "white",
             "linecolor": "white",
             "minorgridcolor": "white",
             "startlinecolor": "#2a3f5f"
            },
            "baxis": {
             "endlinecolor": "#2a3f5f",
             "gridcolor": "white",
             "linecolor": "white",
             "minorgridcolor": "white",
             "startlinecolor": "#2a3f5f"
            },
            "type": "carpet"
           }
          ],
          "choropleth": [
           {
            "colorbar": {
             "outlinewidth": 0,
             "ticks": ""
            },
            "type": "choropleth"
           }
          ],
          "contour": [
           {
            "colorbar": {
             "outlinewidth": 0,
             "ticks": ""
            },
            "colorscale": [
             [
              0,
              "#0d0887"
             ],
             [
              0.1111111111111111,
              "#46039f"
             ],
             [
              0.2222222222222222,
              "#7201a8"
             ],
             [
              0.3333333333333333,
              "#9c179e"
             ],
             [
              0.4444444444444444,
              "#bd3786"
             ],
             [
              0.5555555555555556,
              "#d8576b"
             ],
             [
              0.6666666666666666,
              "#ed7953"
             ],
             [
              0.7777777777777778,
              "#fb9f3a"
             ],
             [
              0.8888888888888888,
              "#fdca26"
             ],
             [
              1,
              "#f0f921"
             ]
            ],
            "type": "contour"
           }
          ],
          "contourcarpet": [
           {
            "colorbar": {
             "outlinewidth": 0,
             "ticks": ""
            },
            "type": "contourcarpet"
           }
          ],
          "heatmap": [
           {
            "colorbar": {
             "outlinewidth": 0,
             "ticks": ""
            },
            "colorscale": [
             [
              0,
              "#0d0887"
             ],
             [
              0.1111111111111111,
              "#46039f"
             ],
             [
              0.2222222222222222,
              "#7201a8"
             ],
             [
              0.3333333333333333,
              "#9c179e"
             ],
             [
              0.4444444444444444,
              "#bd3786"
             ],
             [
              0.5555555555555556,
              "#d8576b"
             ],
             [
              0.6666666666666666,
              "#ed7953"
             ],
             [
              0.7777777777777778,
              "#fb9f3a"
             ],
             [
              0.8888888888888888,
              "#fdca26"
             ],
             [
              1,
              "#f0f921"
             ]
            ],
            "type": "heatmap"
           }
          ],
          "heatmapgl": [
           {
            "colorbar": {
             "outlinewidth": 0,
             "ticks": ""
            },
            "colorscale": [
             [
              0,
              "#0d0887"
             ],
             [
              0.1111111111111111,
              "#46039f"
             ],
             [
              0.2222222222222222,
              "#7201a8"
             ],
             [
              0.3333333333333333,
              "#9c179e"
             ],
             [
              0.4444444444444444,
              "#bd3786"
             ],
             [
              0.5555555555555556,
              "#d8576b"
             ],
             [
              0.6666666666666666,
              "#ed7953"
             ],
             [
              0.7777777777777778,
              "#fb9f3a"
             ],
             [
              0.8888888888888888,
              "#fdca26"
             ],
             [
              1,
              "#f0f921"
             ]
            ],
            "type": "heatmapgl"
           }
          ],
          "histogram": [
           {
            "marker": {
             "pattern": {
              "fillmode": "overlay",
              "size": 10,
              "solidity": 0.2
             }
            },
            "type": "histogram"
           }
          ],
          "histogram2d": [
           {
            "colorbar": {
             "outlinewidth": 0,
             "ticks": ""
            },
            "colorscale": [
             [
              0,
              "#0d0887"
             ],
             [
              0.1111111111111111,
              "#46039f"
             ],
             [
              0.2222222222222222,
              "#7201a8"
             ],
             [
              0.3333333333333333,
              "#9c179e"
             ],
             [
              0.4444444444444444,
              "#bd3786"
             ],
             [
              0.5555555555555556,
              "#d8576b"
             ],
             [
              0.6666666666666666,
              "#ed7953"
             ],
             [
              0.7777777777777778,
              "#fb9f3a"
             ],
             [
              0.8888888888888888,
              "#fdca26"
             ],
             [
              1,
              "#f0f921"
             ]
            ],
            "type": "histogram2d"
           }
          ],
          "histogram2dcontour": [
           {
            "colorbar": {
             "outlinewidth": 0,
             "ticks": ""
            },
            "colorscale": [
             [
              0,
              "#0d0887"
             ],
             [
              0.1111111111111111,
              "#46039f"
             ],
             [
              0.2222222222222222,
              "#7201a8"
             ],
             [
              0.3333333333333333,
              "#9c179e"
             ],
             [
              0.4444444444444444,
              "#bd3786"
             ],
             [
              0.5555555555555556,
              "#d8576b"
             ],
             [
              0.6666666666666666,
              "#ed7953"
             ],
             [
              0.7777777777777778,
              "#fb9f3a"
             ],
             [
              0.8888888888888888,
              "#fdca26"
             ],
             [
              1,
              "#f0f921"
             ]
            ],
            "type": "histogram2dcontour"
           }
          ],
          "mesh3d": [
           {
            "colorbar": {
             "outlinewidth": 0,
             "ticks": ""
            },
            "type": "mesh3d"
           }
          ],
          "parcoords": [
           {
            "line": {
             "colorbar": {
              "outlinewidth": 0,
              "ticks": ""
             }
            },
            "type": "parcoords"
           }
          ],
          "pie": [
           {
            "automargin": true,
            "type": "pie"
           }
          ],
          "scatter": [
           {
            "fillpattern": {
             "fillmode": "overlay",
             "size": 10,
             "solidity": 0.2
            },
            "type": "scatter"
           }
          ],
          "scatter3d": [
           {
            "line": {
             "colorbar": {
              "outlinewidth": 0,
              "ticks": ""
             }
            },
            "marker": {
             "colorbar": {
              "outlinewidth": 0,
              "ticks": ""
             }
            },
            "type": "scatter3d"
           }
          ],
          "scattercarpet": [
           {
            "marker": {
             "colorbar": {
              "outlinewidth": 0,
              "ticks": ""
             }
            },
            "type": "scattercarpet"
           }
          ],
          "scattergeo": [
           {
            "marker": {
             "colorbar": {
              "outlinewidth": 0,
              "ticks": ""
             }
            },
            "type": "scattergeo"
           }
          ],
          "scattergl": [
           {
            "marker": {
             "colorbar": {
              "outlinewidth": 0,
              "ticks": ""
             }
            },
            "type": "scattergl"
           }
          ],
          "scattermapbox": [
           {
            "marker": {
             "colorbar": {
              "outlinewidth": 0,
              "ticks": ""
             }
            },
            "type": "scattermapbox"
           }
          ],
          "scatterpolar": [
           {
            "marker": {
             "colorbar": {
              "outlinewidth": 0,
              "ticks": ""
             }
            },
            "type": "scatterpolar"
           }
          ],
          "scatterpolargl": [
           {
            "marker": {
             "colorbar": {
              "outlinewidth": 0,
              "ticks": ""
             }
            },
            "type": "scatterpolargl"
           }
          ],
          "scatterternary": [
           {
            "marker": {
             "colorbar": {
              "outlinewidth": 0,
              "ticks": ""
             }
            },
            "type": "scatterternary"
           }
          ],
          "surface": [
           {
            "colorbar": {
             "outlinewidth": 0,
             "ticks": ""
            },
            "colorscale": [
             [
              0,
              "#0d0887"
             ],
             [
              0.1111111111111111,
              "#46039f"
             ],
             [
              0.2222222222222222,
              "#7201a8"
             ],
             [
              0.3333333333333333,
              "#9c179e"
             ],
             [
              0.4444444444444444,
              "#bd3786"
             ],
             [
              0.5555555555555556,
              "#d8576b"
             ],
             [
              0.6666666666666666,
              "#ed7953"
             ],
             [
              0.7777777777777778,
              "#fb9f3a"
             ],
             [
              0.8888888888888888,
              "#fdca26"
             ],
             [
              1,
              "#f0f921"
             ]
            ],
            "type": "surface"
           }
          ],
          "table": [
           {
            "cells": {
             "fill": {
              "color": "#EBF0F8"
             },
             "line": {
              "color": "white"
             }
            },
            "header": {
             "fill": {
              "color": "#C8D4E3"
             },
             "line": {
              "color": "white"
             }
            },
            "type": "table"
           }
          ]
         },
         "layout": {
          "annotationdefaults": {
           "arrowcolor": "#2a3f5f",
           "arrowhead": 0,
           "arrowwidth": 1
          },
          "autotypenumbers": "strict",
          "coloraxis": {
           "colorbar": {
            "outlinewidth": 0,
            "ticks": ""
           }
          },
          "colorscale": {
           "diverging": [
            [
             0,
             "#8e0152"
            ],
            [
             0.1,
             "#c51b7d"
            ],
            [
             0.2,
             "#de77ae"
            ],
            [
             0.3,
             "#f1b6da"
            ],
            [
             0.4,
             "#fde0ef"
            ],
            [
             0.5,
             "#f7f7f7"
            ],
            [
             0.6,
             "#e6f5d0"
            ],
            [
             0.7,
             "#b8e186"
            ],
            [
             0.8,
             "#7fbc41"
            ],
            [
             0.9,
             "#4d9221"
            ],
            [
             1,
             "#276419"
            ]
           ],
           "sequential": [
            [
             0,
             "#0d0887"
            ],
            [
             0.1111111111111111,
             "#46039f"
            ],
            [
             0.2222222222222222,
             "#7201a8"
            ],
            [
             0.3333333333333333,
             "#9c179e"
            ],
            [
             0.4444444444444444,
             "#bd3786"
            ],
            [
             0.5555555555555556,
             "#d8576b"
            ],
            [
             0.6666666666666666,
             "#ed7953"
            ],
            [
             0.7777777777777778,
             "#fb9f3a"
            ],
            [
             0.8888888888888888,
             "#fdca26"
            ],
            [
             1,
             "#f0f921"
            ]
           ],
           "sequentialminus": [
            [
             0,
             "#0d0887"
            ],
            [
             0.1111111111111111,
             "#46039f"
            ],
            [
             0.2222222222222222,
             "#7201a8"
            ],
            [
             0.3333333333333333,
             "#9c179e"
            ],
            [
             0.4444444444444444,
             "#bd3786"
            ],
            [
             0.5555555555555556,
             "#d8576b"
            ],
            [
             0.6666666666666666,
             "#ed7953"
            ],
            [
             0.7777777777777778,
             "#fb9f3a"
            ],
            [
             0.8888888888888888,
             "#fdca26"
            ],
            [
             1,
             "#f0f921"
            ]
           ]
          },
          "colorway": [
           "#636efa",
           "#EF553B",
           "#00cc96",
           "#ab63fa",
           "#FFA15A",
           "#19d3f3",
           "#FF6692",
           "#B6E880",
           "#FF97FF",
           "#FECB52"
          ],
          "font": {
           "color": "#2a3f5f"
          },
          "geo": {
           "bgcolor": "white",
           "lakecolor": "white",
           "landcolor": "#E5ECF6",
           "showlakes": true,
           "showland": true,
           "subunitcolor": "white"
          },
          "hoverlabel": {
           "align": "left"
          },
          "hovermode": "closest",
          "mapbox": {
           "style": "light"
          },
          "paper_bgcolor": "white",
          "plot_bgcolor": "#E5ECF6",
          "polar": {
           "angularaxis": {
            "gridcolor": "white",
            "linecolor": "white",
            "ticks": ""
           },
           "bgcolor": "#E5ECF6",
           "radialaxis": {
            "gridcolor": "white",
            "linecolor": "white",
            "ticks": ""
           }
          },
          "scene": {
           "xaxis": {
            "backgroundcolor": "#E5ECF6",
            "gridcolor": "white",
            "gridwidth": 2,
            "linecolor": "white",
            "showbackground": true,
            "ticks": "",
            "zerolinecolor": "white"
           },
           "yaxis": {
            "backgroundcolor": "#E5ECF6",
            "gridcolor": "white",
            "gridwidth": 2,
            "linecolor": "white",
            "showbackground": true,
            "ticks": "",
            "zerolinecolor": "white"
           },
           "zaxis": {
            "backgroundcolor": "#E5ECF6",
            "gridcolor": "white",
            "gridwidth": 2,
            "linecolor": "white",
            "showbackground": true,
            "ticks": "",
            "zerolinecolor": "white"
           }
          },
          "shapedefaults": {
           "line": {
            "color": "#2a3f5f"
           }
          },
          "ternary": {
           "aaxis": {
            "gridcolor": "white",
            "linecolor": "white",
            "ticks": ""
           },
           "baxis": {
            "gridcolor": "white",
            "linecolor": "white",
            "ticks": ""
           },
           "bgcolor": "#E5ECF6",
           "caxis": {
            "gridcolor": "white",
            "linecolor": "white",
            "ticks": ""
           }
          },
          "title": {
           "x": 0.05
          },
          "xaxis": {
           "automargin": true,
           "gridcolor": "white",
           "linecolor": "white",
           "ticks": "",
           "title": {
            "standoff": 15
           },
           "zerolinecolor": "white",
           "zerolinewidth": 2
          },
          "yaxis": {
           "automargin": true,
           "gridcolor": "white",
           "linecolor": "white",
           "ticks": "",
           "title": {
            "standoff": 15
           },
           "zerolinecolor": "white",
           "zerolinewidth": 2
          }
         }
        },
        "title": {
         "text": "dprime by Emotion"
        },
        "width": 1200,
        "xaxis": {
         "anchor": "y",
         "categoryarray": [
          "Disgust",
          "Happy",
          "Fear"
         ],
         "categoryorder": "array",
         "domain": [
          0,
          1
         ],
         "title": {
          "text": "Emotion"
         }
        },
        "yaxis": {
         "anchor": "x",
         "domain": [
          0,
          1
         ],
         "title": {
          "text": "dprime"
         }
        }
       }
      }
     },
     "metadata": {},
     "output_type": "display_data"
    },
    {
     "data": {
      "application/vnd.plotly.v1+json": {
       "config": {
        "plotlyServerURL": "https://plot.ly"
       },
       "data": [
        {
         "alignmentgroup": "True",
         "boxpoints": "all",
         "customdata": [
          [
           "王少刚",
           1
          ],
          [
           "王梦宣",
           10
          ],
          [
           "姚林林",
           11
          ],
          [
           "赵冰冰",
           12
          ],
          [
           "李思璇",
           13
          ],
          [
           "何金辉",
           14
          ],
          [
           "吴建星",
           17
          ],
          [
           "bq",
           18
          ],
          [
           "gxy",
           19
          ],
          [
           "CTG",
           20
          ],
          [
           "zwl",
           21
          ],
          [
           null,
           22
          ],
          [
           "MZY",
           23
          ],
          [
           "林增萍",
           24
          ],
          [
           "qdl",
           25
          ],
          [
           "庄惠翔",
           27
          ],
          [
           "焦雄",
           28
          ],
          [
           "王辉",
           3
          ],
          [
           "郭有容",
           31
          ],
          [
           "余鹏程",
           32
          ],
          [
           "陈若羽",
           34
          ],
          [
           null,
           36
          ],
          [
           "Xuewei Qin",
           39
          ],
          [
           "董正心",
           4
          ],
          [
           "高倩",
           5
          ],
          [
           "叶帅",
           6
          ],
          [
           "李闯",
           7
          ],
          [
           "钱文莉",
           8
          ],
          [
           "李诗晨",
           9
          ]
         ],
         "hovertemplate": "Emotion=%{x}<br>logMRatio=%{y}<br>Name=%{customdata[0]}<br>ID=%{customdata[1]}<extra></extra>",
         "legendgroup": "Disgust",
         "marker": {
          "color": "#636efa"
         },
         "name": "Disgust",
         "notched": false,
         "offsetgroup": "Disgust",
         "orientation": "v",
         "showlegend": true,
         "type": "box",
         "x": [
          "Disgust",
          "Disgust",
          "Disgust",
          "Disgust",
          "Disgust",
          "Disgust",
          "Disgust",
          "Disgust",
          "Disgust",
          "Disgust",
          "Disgust",
          "Disgust",
          "Disgust",
          "Disgust",
          "Disgust",
          "Disgust",
          "Disgust",
          "Disgust",
          "Disgust",
          "Disgust",
          "Disgust",
          "Disgust",
          "Disgust",
          "Disgust",
          "Disgust",
          "Disgust",
          "Disgust",
          "Disgust",
          "Disgust"
         ],
         "x0": " ",
         "xaxis": "x",
         "y": [
          -0.430962887,
          0.3910200157,
          0.1794127487,
          0.1402669458,
          0.4344298117,
          0.07318147254,
          0.1139884498,
          0.008791730016,
          0.2990014532,
          0.1203343451,
          0.04167093928,
          -0.1984727429,
          -0.07951978022,
          -0.6920294926,
          0.05097761132,
          0.1242922426,
          0.6011630076,
          0.2618077152,
          0.07716797478,
          -0.2686514121,
          0.2644461534,
          -0.07575106391,
          0.2343983171,
          0.1091521419,
          0.2533157084,
          -0.06607974714,
          0.215714741,
          0.01018627875,
          0.1671007244
         ],
         "y0": " ",
         "yaxis": "y"
        },
        {
         "alignmentgroup": "True",
         "boxpoints": "all",
         "customdata": [
          [
           "王少刚",
           1
          ],
          [
           "王梦宣",
           10
          ],
          [
           "姚林林",
           11
          ],
          [
           "赵冰冰",
           12
          ],
          [
           "李思璇",
           13
          ],
          [
           "何金辉",
           14
          ],
          [
           "吴建星",
           17
          ],
          [
           "bq",
           18
          ],
          [
           "gxy",
           19
          ],
          [
           "CTG",
           20
          ],
          [
           "zwl",
           21
          ],
          [
           null,
           22
          ],
          [
           "MZY",
           23
          ],
          [
           "林增萍",
           24
          ],
          [
           "qdl",
           25
          ],
          [
           "庄惠翔",
           27
          ],
          [
           "焦雄",
           28
          ],
          [
           "王辉",
           3
          ],
          [
           "郭有容",
           31
          ],
          [
           "余鹏程",
           32
          ],
          [
           "陈若羽",
           34
          ],
          [
           null,
           36
          ],
          [
           "Xuewei Qin",
           39
          ],
          [
           "董正心",
           4
          ],
          [
           "高倩",
           5
          ],
          [
           "叶帅",
           6
          ],
          [
           "李闯",
           7
          ],
          [
           "钱文莉",
           8
          ],
          [
           "李诗晨",
           9
          ]
         ],
         "hovertemplate": "Emotion=%{x}<br>logMRatio=%{y}<br>Name=%{customdata[0]}<br>ID=%{customdata[1]}<extra></extra>",
         "legendgroup": "Happy",
         "marker": {
          "color": "#EF553B"
         },
         "name": "Happy",
         "notched": false,
         "offsetgroup": "Happy",
         "orientation": "v",
         "showlegend": true,
         "type": "box",
         "x": [
          "Happy",
          "Happy",
          "Happy",
          "Happy",
          "Happy",
          "Happy",
          "Happy",
          "Happy",
          "Happy",
          "Happy",
          "Happy",
          "Happy",
          "Happy",
          "Happy",
          "Happy",
          "Happy",
          "Happy",
          "Happy",
          "Happy",
          "Happy",
          "Happy",
          "Happy",
          "Happy",
          "Happy",
          "Happy",
          "Happy",
          "Happy",
          "Happy",
          "Happy"
         ],
         "x0": " ",
         "xaxis": "x",
         "y": [
          0.3513233098,
          0.4826490925,
          0.2597689469,
          0.2429412523,
          0.2956891251,
          0.2219296077,
          0.1825986607,
          0.06984229766,
          0.1467950958,
          0.2273763015,
          0.272499517,
          0.1717709044,
          0.3061856171,
          0.2255677134,
          0.02387443419,
          0.3350982804,
          0.148470002,
          0.3551326267,
          0.2544547796,
          -0.08591972084,
          0.1310306538,
          0.06338290398,
          0.1217118043,
          0.195576716,
          0.1962284299,
          0.2852527461,
          0.114093325,
          0.1423027863,
          0.1235240006
         ],
         "y0": " ",
         "yaxis": "y"
        },
        {
         "alignmentgroup": "True",
         "boxpoints": "all",
         "customdata": [
          [
           "王少刚",
           1
          ],
          [
           "王梦宣",
           10
          ],
          [
           "姚林林",
           11
          ],
          [
           "赵冰冰",
           12
          ],
          [
           "李思璇",
           13
          ],
          [
           "何金辉",
           14
          ],
          [
           "吴建星",
           17
          ],
          [
           "bq",
           18
          ],
          [
           "gxy",
           19
          ],
          [
           "CTG",
           20
          ],
          [
           "zwl",
           21
          ],
          [
           null,
           22
          ],
          [
           "MZY",
           23
          ],
          [
           "林增萍",
           24
          ],
          [
           "qdl",
           25
          ],
          [
           "庄惠翔",
           27
          ],
          [
           "焦雄",
           28
          ],
          [
           "王辉",
           3
          ],
          [
           "郭有容",
           31
          ],
          [
           "余鹏程",
           32
          ],
          [
           "陈若羽",
           34
          ],
          [
           null,
           36
          ],
          [
           "Xuewei Qin",
           39
          ],
          [
           "董正心",
           4
          ],
          [
           "高倩",
           5
          ],
          [
           "叶帅",
           6
          ],
          [
           "李闯",
           7
          ],
          [
           "钱文莉",
           8
          ],
          [
           "李诗晨",
           9
          ]
         ],
         "hovertemplate": "Emotion=%{x}<br>logMRatio=%{y}<br>Name=%{customdata[0]}<br>ID=%{customdata[1]}<extra></extra>",
         "legendgroup": "Fear",
         "marker": {
          "color": "#00cc96"
         },
         "name": "Fear",
         "notched": false,
         "offsetgroup": "Fear",
         "orientation": "v",
         "showlegend": true,
         "type": "box",
         "x": [
          "Fear",
          "Fear",
          "Fear",
          "Fear",
          "Fear",
          "Fear",
          "Fear",
          "Fear",
          "Fear",
          "Fear",
          "Fear",
          "Fear",
          "Fear",
          "Fear",
          "Fear",
          "Fear",
          "Fear",
          "Fear",
          "Fear",
          "Fear",
          "Fear",
          "Fear",
          "Fear",
          "Fear",
          "Fear",
          "Fear",
          "Fear",
          "Fear",
          "Fear"
         ],
         "x0": " ",
         "xaxis": "x",
         "y": [
          0.3925170442,
          -0.01360541497,
          0.1190109521,
          -0.1136415574,
          0.2637501299,
          0.5170468394,
          0.1984874591,
          0.3549585164,
          0.281147724,
          0.2374716011,
          0.09463216858,
          0.2506395339,
          0.006170279013,
          0.2984360408,
          -0.1432162675,
          0.06970397836,
          -0.1025709152,
          -0.00183145431,
          0.483317223,
          0.03357372204,
          -0.01370728351,
          0.08435997044,
          -0.05530141873,
          0.3613772378,
          0.2346263496,
          0.4714164061,
          0.1216415745,
          -0.6858686993,
          0.02478480915
         ],
         "y0": " ",
         "yaxis": "y"
        }
       ],
       "layout": {
        "annotations": [
         {
          "bgcolor": "#1f77b4",
          "bordercolor": "#1f77b4",
          "borderpad": 4,
          "borderwidth": 2,
          "font": {
           "color": "#ffffff",
           "family": "Courier New, monospace",
           "size": 16
          },
          "opacity": 0.8,
          "showarrow": false,
          "text": "No significant difference",
          "x": 0.9,
          "xref": "paper",
          "y": 1.1,
          "yref": "paper"
         }
        ],
        "boxmode": "overlay",
        "height": 600,
        "legend": {
         "title": {
          "text": "Emotion"
         },
         "tracegroupgap": 0
        },
        "template": {
         "data": {
          "bar": [
           {
            "error_x": {
             "color": "#2a3f5f"
            },
            "error_y": {
             "color": "#2a3f5f"
            },
            "marker": {
             "line": {
              "color": "#E5ECF6",
              "width": 0.5
             },
             "pattern": {
              "fillmode": "overlay",
              "size": 10,
              "solidity": 0.2
             }
            },
            "type": "bar"
           }
          ],
          "barpolar": [
           {
            "marker": {
             "line": {
              "color": "#E5ECF6",
              "width": 0.5
             },
             "pattern": {
              "fillmode": "overlay",
              "size": 10,
              "solidity": 0.2
             }
            },
            "type": "barpolar"
           }
          ],
          "carpet": [
           {
            "aaxis": {
             "endlinecolor": "#2a3f5f",
             "gridcolor": "white",
             "linecolor": "white",
             "minorgridcolor": "white",
             "startlinecolor": "#2a3f5f"
            },
            "baxis": {
             "endlinecolor": "#2a3f5f",
             "gridcolor": "white",
             "linecolor": "white",
             "minorgridcolor": "white",
             "startlinecolor": "#2a3f5f"
            },
            "type": "carpet"
           }
          ],
          "choropleth": [
           {
            "colorbar": {
             "outlinewidth": 0,
             "ticks": ""
            },
            "type": "choropleth"
           }
          ],
          "contour": [
           {
            "colorbar": {
             "outlinewidth": 0,
             "ticks": ""
            },
            "colorscale": [
             [
              0,
              "#0d0887"
             ],
             [
              0.1111111111111111,
              "#46039f"
             ],
             [
              0.2222222222222222,
              "#7201a8"
             ],
             [
              0.3333333333333333,
              "#9c179e"
             ],
             [
              0.4444444444444444,
              "#bd3786"
             ],
             [
              0.5555555555555556,
              "#d8576b"
             ],
             [
              0.6666666666666666,
              "#ed7953"
             ],
             [
              0.7777777777777778,
              "#fb9f3a"
             ],
             [
              0.8888888888888888,
              "#fdca26"
             ],
             [
              1,
              "#f0f921"
             ]
            ],
            "type": "contour"
           }
          ],
          "contourcarpet": [
           {
            "colorbar": {
             "outlinewidth": 0,
             "ticks": ""
            },
            "type": "contourcarpet"
           }
          ],
          "heatmap": [
           {
            "colorbar": {
             "outlinewidth": 0,
             "ticks": ""
            },
            "colorscale": [
             [
              0,
              "#0d0887"
             ],
             [
              0.1111111111111111,
              "#46039f"
             ],
             [
              0.2222222222222222,
              "#7201a8"
             ],
             [
              0.3333333333333333,
              "#9c179e"
             ],
             [
              0.4444444444444444,
              "#bd3786"
             ],
             [
              0.5555555555555556,
              "#d8576b"
             ],
             [
              0.6666666666666666,
              "#ed7953"
             ],
             [
              0.7777777777777778,
              "#fb9f3a"
             ],
             [
              0.8888888888888888,
              "#fdca26"
             ],
             [
              1,
              "#f0f921"
             ]
            ],
            "type": "heatmap"
           }
          ],
          "heatmapgl": [
           {
            "colorbar": {
             "outlinewidth": 0,
             "ticks": ""
            },
            "colorscale": [
             [
              0,
              "#0d0887"
             ],
             [
              0.1111111111111111,
              "#46039f"
             ],
             [
              0.2222222222222222,
              "#7201a8"
             ],
             [
              0.3333333333333333,
              "#9c179e"
             ],
             [
              0.4444444444444444,
              "#bd3786"
             ],
             [
              0.5555555555555556,
              "#d8576b"
             ],
             [
              0.6666666666666666,
              "#ed7953"
             ],
             [
              0.7777777777777778,
              "#fb9f3a"
             ],
             [
              0.8888888888888888,
              "#fdca26"
             ],
             [
              1,
              "#f0f921"
             ]
            ],
            "type": "heatmapgl"
           }
          ],
          "histogram": [
           {
            "marker": {
             "pattern": {
              "fillmode": "overlay",
              "size": 10,
              "solidity": 0.2
             }
            },
            "type": "histogram"
           }
          ],
          "histogram2d": [
           {
            "colorbar": {
             "outlinewidth": 0,
             "ticks": ""
            },
            "colorscale": [
             [
              0,
              "#0d0887"
             ],
             [
              0.1111111111111111,
              "#46039f"
             ],
             [
              0.2222222222222222,
              "#7201a8"
             ],
             [
              0.3333333333333333,
              "#9c179e"
             ],
             [
              0.4444444444444444,
              "#bd3786"
             ],
             [
              0.5555555555555556,
              "#d8576b"
             ],
             [
              0.6666666666666666,
              "#ed7953"
             ],
             [
              0.7777777777777778,
              "#fb9f3a"
             ],
             [
              0.8888888888888888,
              "#fdca26"
             ],
             [
              1,
              "#f0f921"
             ]
            ],
            "type": "histogram2d"
           }
          ],
          "histogram2dcontour": [
           {
            "colorbar": {
             "outlinewidth": 0,
             "ticks": ""
            },
            "colorscale": [
             [
              0,
              "#0d0887"
             ],
             [
              0.1111111111111111,
              "#46039f"
             ],
             [
              0.2222222222222222,
              "#7201a8"
             ],
             [
              0.3333333333333333,
              "#9c179e"
             ],
             [
              0.4444444444444444,
              "#bd3786"
             ],
             [
              0.5555555555555556,
              "#d8576b"
             ],
             [
              0.6666666666666666,
              "#ed7953"
             ],
             [
              0.7777777777777778,
              "#fb9f3a"
             ],
             [
              0.8888888888888888,
              "#fdca26"
             ],
             [
              1,
              "#f0f921"
             ]
            ],
            "type": "histogram2dcontour"
           }
          ],
          "mesh3d": [
           {
            "colorbar": {
             "outlinewidth": 0,
             "ticks": ""
            },
            "type": "mesh3d"
           }
          ],
          "parcoords": [
           {
            "line": {
             "colorbar": {
              "outlinewidth": 0,
              "ticks": ""
             }
            },
            "type": "parcoords"
           }
          ],
          "pie": [
           {
            "automargin": true,
            "type": "pie"
           }
          ],
          "scatter": [
           {
            "fillpattern": {
             "fillmode": "overlay",
             "size": 10,
             "solidity": 0.2
            },
            "type": "scatter"
           }
          ],
          "scatter3d": [
           {
            "line": {
             "colorbar": {
              "outlinewidth": 0,
              "ticks": ""
             }
            },
            "marker": {
             "colorbar": {
              "outlinewidth": 0,
              "ticks": ""
             }
            },
            "type": "scatter3d"
           }
          ],
          "scattercarpet": [
           {
            "marker": {
             "colorbar": {
              "outlinewidth": 0,
              "ticks": ""
             }
            },
            "type": "scattercarpet"
           }
          ],
          "scattergeo": [
           {
            "marker": {
             "colorbar": {
              "outlinewidth": 0,
              "ticks": ""
             }
            },
            "type": "scattergeo"
           }
          ],
          "scattergl": [
           {
            "marker": {
             "colorbar": {
              "outlinewidth": 0,
              "ticks": ""
             }
            },
            "type": "scattergl"
           }
          ],
          "scattermapbox": [
           {
            "marker": {
             "colorbar": {
              "outlinewidth": 0,
              "ticks": ""
             }
            },
            "type": "scattermapbox"
           }
          ],
          "scatterpolar": [
           {
            "marker": {
             "colorbar": {
              "outlinewidth": 0,
              "ticks": ""
             }
            },
            "type": "scatterpolar"
           }
          ],
          "scatterpolargl": [
           {
            "marker": {
             "colorbar": {
              "outlinewidth": 0,
              "ticks": ""
             }
            },
            "type": "scatterpolargl"
           }
          ],
          "scatterternary": [
           {
            "marker": {
             "colorbar": {
              "outlinewidth": 0,
              "ticks": ""
             }
            },
            "type": "scatterternary"
           }
          ],
          "surface": [
           {
            "colorbar": {
             "outlinewidth": 0,
             "ticks": ""
            },
            "colorscale": [
             [
              0,
              "#0d0887"
             ],
             [
              0.1111111111111111,
              "#46039f"
             ],
             [
              0.2222222222222222,
              "#7201a8"
             ],
             [
              0.3333333333333333,
              "#9c179e"
             ],
             [
              0.4444444444444444,
              "#bd3786"
             ],
             [
              0.5555555555555556,
              "#d8576b"
             ],
             [
              0.6666666666666666,
              "#ed7953"
             ],
             [
              0.7777777777777778,
              "#fb9f3a"
             ],
             [
              0.8888888888888888,
              "#fdca26"
             ],
             [
              1,
              "#f0f921"
             ]
            ],
            "type": "surface"
           }
          ],
          "table": [
           {
            "cells": {
             "fill": {
              "color": "#EBF0F8"
             },
             "line": {
              "color": "white"
             }
            },
            "header": {
             "fill": {
              "color": "#C8D4E3"
             },
             "line": {
              "color": "white"
             }
            },
            "type": "table"
           }
          ]
         },
         "layout": {
          "annotationdefaults": {
           "arrowcolor": "#2a3f5f",
           "arrowhead": 0,
           "arrowwidth": 1
          },
          "autotypenumbers": "strict",
          "coloraxis": {
           "colorbar": {
            "outlinewidth": 0,
            "ticks": ""
           }
          },
          "colorscale": {
           "diverging": [
            [
             0,
             "#8e0152"
            ],
            [
             0.1,
             "#c51b7d"
            ],
            [
             0.2,
             "#de77ae"
            ],
            [
             0.3,
             "#f1b6da"
            ],
            [
             0.4,
             "#fde0ef"
            ],
            [
             0.5,
             "#f7f7f7"
            ],
            [
             0.6,
             "#e6f5d0"
            ],
            [
             0.7,
             "#b8e186"
            ],
            [
             0.8,
             "#7fbc41"
            ],
            [
             0.9,
             "#4d9221"
            ],
            [
             1,
             "#276419"
            ]
           ],
           "sequential": [
            [
             0,
             "#0d0887"
            ],
            [
             0.1111111111111111,
             "#46039f"
            ],
            [
             0.2222222222222222,
             "#7201a8"
            ],
            [
             0.3333333333333333,
             "#9c179e"
            ],
            [
             0.4444444444444444,
             "#bd3786"
            ],
            [
             0.5555555555555556,
             "#d8576b"
            ],
            [
             0.6666666666666666,
             "#ed7953"
            ],
            [
             0.7777777777777778,
             "#fb9f3a"
            ],
            [
             0.8888888888888888,
             "#fdca26"
            ],
            [
             1,
             "#f0f921"
            ]
           ],
           "sequentialminus": [
            [
             0,
             "#0d0887"
            ],
            [
             0.1111111111111111,
             "#46039f"
            ],
            [
             0.2222222222222222,
             "#7201a8"
            ],
            [
             0.3333333333333333,
             "#9c179e"
            ],
            [
             0.4444444444444444,
             "#bd3786"
            ],
            [
             0.5555555555555556,
             "#d8576b"
            ],
            [
             0.6666666666666666,
             "#ed7953"
            ],
            [
             0.7777777777777778,
             "#fb9f3a"
            ],
            [
             0.8888888888888888,
             "#fdca26"
            ],
            [
             1,
             "#f0f921"
            ]
           ]
          },
          "colorway": [
           "#636efa",
           "#EF553B",
           "#00cc96",
           "#ab63fa",
           "#FFA15A",
           "#19d3f3",
           "#FF6692",
           "#B6E880",
           "#FF97FF",
           "#FECB52"
          ],
          "font": {
           "color": "#2a3f5f"
          },
          "geo": {
           "bgcolor": "white",
           "lakecolor": "white",
           "landcolor": "#E5ECF6",
           "showlakes": true,
           "showland": true,
           "subunitcolor": "white"
          },
          "hoverlabel": {
           "align": "left"
          },
          "hovermode": "closest",
          "mapbox": {
           "style": "light"
          },
          "paper_bgcolor": "white",
          "plot_bgcolor": "#E5ECF6",
          "polar": {
           "angularaxis": {
            "gridcolor": "white",
            "linecolor": "white",
            "ticks": ""
           },
           "bgcolor": "#E5ECF6",
           "radialaxis": {
            "gridcolor": "white",
            "linecolor": "white",
            "ticks": ""
           }
          },
          "scene": {
           "xaxis": {
            "backgroundcolor": "#E5ECF6",
            "gridcolor": "white",
            "gridwidth": 2,
            "linecolor": "white",
            "showbackground": true,
            "ticks": "",
            "zerolinecolor": "white"
           },
           "yaxis": {
            "backgroundcolor": "#E5ECF6",
            "gridcolor": "white",
            "gridwidth": 2,
            "linecolor": "white",
            "showbackground": true,
            "ticks": "",
            "zerolinecolor": "white"
           },
           "zaxis": {
            "backgroundcolor": "#E5ECF6",
            "gridcolor": "white",
            "gridwidth": 2,
            "linecolor": "white",
            "showbackground": true,
            "ticks": "",
            "zerolinecolor": "white"
           }
          },
          "shapedefaults": {
           "line": {
            "color": "#2a3f5f"
           }
          },
          "ternary": {
           "aaxis": {
            "gridcolor": "white",
            "linecolor": "white",
            "ticks": ""
           },
           "baxis": {
            "gridcolor": "white",
            "linecolor": "white",
            "ticks": ""
           },
           "bgcolor": "#E5ECF6",
           "caxis": {
            "gridcolor": "white",
            "linecolor": "white",
            "ticks": ""
           }
          },
          "title": {
           "x": 0.05
          },
          "xaxis": {
           "automargin": true,
           "gridcolor": "white",
           "linecolor": "white",
           "ticks": "",
           "title": {
            "standoff": 15
           },
           "zerolinecolor": "white",
           "zerolinewidth": 2
          },
          "yaxis": {
           "automargin": true,
           "gridcolor": "white",
           "linecolor": "white",
           "ticks": "",
           "title": {
            "standoff": 15
           },
           "zerolinecolor": "white",
           "zerolinewidth": 2
          }
         }
        },
        "title": {
         "text": "logMRatio by Emotion"
        },
        "width": 1200,
        "xaxis": {
         "anchor": "y",
         "categoryarray": [
          "Disgust",
          "Happy",
          "Fear"
         ],
         "categoryorder": "array",
         "domain": [
          0,
          1
         ],
         "title": {
          "text": "Emotion"
         }
        },
        "yaxis": {
         "anchor": "x",
         "domain": [
          0,
          1
         ],
         "title": {
          "text": "logMRatio"
         }
        }
       }
      }
     },
     "metadata": {},
     "output_type": "display_data"
    },
    {
     "name": "stdout",
     "output_type": "stream",
     "text": [
      "ANOVA Results for metadprime\n",
      "                Anova\n",
      "=====================================\n",
      "        F Value Num DF  Den DF Pr > F\n",
      "-------------------------------------\n",
      "Emotion 37.3750 2.0000 56.0000 0.0000\n",
      "=====================================\n",
      "\n",
      "Multiple Comparison of Means - Tukey HSD, FWER=0.05 \n",
      "====================================================\n",
      " group1 group2 meandiff p-adj   lower  upper  reject\n",
      "----------------------------------------------------\n",
      "Disgust   Fear  -0.0971 0.8895 -0.5991  0.405  False\n",
      "Disgust  Happy   1.2761    0.0   0.774 1.7781   True\n",
      "   Fear  Happy   1.3731    0.0  0.8711 1.8752   True\n",
      "----------------------------------------------------\n"
     ]
    },
    {
     "data": {
      "application/vnd.plotly.v1+json": {
       "config": {
        "plotlyServerURL": "https://plot.ly"
       },
       "data": [
        {
         "alignmentgroup": "True",
         "boxpoints": "all",
         "customdata": [
          [
           "王少刚",
           1
          ],
          [
           "王梦宣",
           10
          ],
          [
           "姚林林",
           11
          ],
          [
           "赵冰冰",
           12
          ],
          [
           "李思璇",
           13
          ],
          [
           "何金辉",
           14
          ],
          [
           "吴建星",
           17
          ],
          [
           "bq",
           18
          ],
          [
           "gxy",
           19
          ],
          [
           "CTG",
           20
          ],
          [
           "zwl",
           21
          ],
          [
           null,
           22
          ],
          [
           "MZY",
           23
          ],
          [
           "林增萍",
           24
          ],
          [
           "qdl",
           25
          ],
          [
           "庄惠翔",
           27
          ],
          [
           "焦雄",
           28
          ],
          [
           "王辉",
           3
          ],
          [
           "郭有容",
           31
          ],
          [
           "余鹏程",
           32
          ],
          [
           "陈若羽",
           34
          ],
          [
           null,
           36
          ],
          [
           "Xuewei Qin",
           39
          ],
          [
           "董正心",
           4
          ],
          [
           "高倩",
           5
          ],
          [
           "叶帅",
           6
          ],
          [
           "李闯",
           7
          ],
          [
           "钱文莉",
           8
          ],
          [
           "李诗晨",
           9
          ]
         ],
         "hovertemplate": "Emotion=%{x}<br>metadprime=%{y}<br>Name=%{customdata[0]}<br>ID=%{customdata[1]}<extra></extra>",
         "legendgroup": "Disgust",
         "marker": {
          "color": "#636efa"
         },
         "name": "Disgust",
         "notched": false,
         "offsetgroup": "Disgust",
         "orientation": "v",
         "showlegend": true,
         "type": "box",
         "x": [
          "Disgust",
          "Disgust",
          "Disgust",
          "Disgust",
          "Disgust",
          "Disgust",
          "Disgust",
          "Disgust",
          "Disgust",
          "Disgust",
          "Disgust",
          "Disgust",
          "Disgust",
          "Disgust",
          "Disgust",
          "Disgust",
          "Disgust",
          "Disgust",
          "Disgust",
          "Disgust",
          "Disgust",
          "Disgust",
          "Disgust",
          "Disgust",
          "Disgust",
          "Disgust",
          "Disgust",
          "Disgust",
          "Disgust"
         ],
         "x0": " ",
         "xaxis": "x",
         "y": [
          0.2408861,
          2.69368,
          3.332291,
          2.358013,
          2.493037,
          2.322769,
          1.423359,
          1.8118,
          2.713296,
          2.342357,
          1.958858,
          0.9413537,
          1.957154,
          0.3235368,
          1.375893,
          3.055693,
          2.532284,
          2.965064,
          2.344189,
          0.5953827,
          2.295702,
          1.728166,
          2.551571,
          2.958094,
          3.480922,
          2.176962,
          2.435832,
          1.220453,
          2.840492
         ],
         "y0": " ",
         "yaxis": "y"
        },
        {
         "alignmentgroup": "True",
         "boxpoints": "all",
         "customdata": [
          [
           "王少刚",
           1
          ],
          [
           "王梦宣",
           10
          ],
          [
           "姚林林",
           11
          ],
          [
           "赵冰冰",
           12
          ],
          [
           "李思璇",
           13
          ],
          [
           "何金辉",
           14
          ],
          [
           "吴建星",
           17
          ],
          [
           "bq",
           18
          ],
          [
           "gxy",
           19
          ],
          [
           "CTG",
           20
          ],
          [
           "zwl",
           21
          ],
          [
           null,
           22
          ],
          [
           "MZY",
           23
          ],
          [
           "林增萍",
           24
          ],
          [
           "qdl",
           25
          ],
          [
           "庄惠翔",
           27
          ],
          [
           "焦雄",
           28
          ],
          [
           "王辉",
           3
          ],
          [
           "郭有容",
           31
          ],
          [
           "余鹏程",
           32
          ],
          [
           "陈若羽",
           34
          ],
          [
           null,
           36
          ],
          [
           "Xuewei Qin",
           39
          ],
          [
           "董正心",
           4
          ],
          [
           "高倩",
           5
          ],
          [
           "叶帅",
           6
          ],
          [
           "李闯",
           7
          ],
          [
           "钱文莉",
           8
          ],
          [
           "李诗晨",
           9
          ]
         ],
         "hovertemplate": "Emotion=%{x}<br>metadprime=%{y}<br>Name=%{customdata[0]}<br>ID=%{customdata[1]}<extra></extra>",
         "legendgroup": "Happy",
         "marker": {
          "color": "#EF553B"
         },
         "name": "Happy",
         "notched": false,
         "offsetgroup": "Happy",
         "orientation": "v",
         "showlegend": true,
         "type": "box",
         "x": [
          "Happy",
          "Happy",
          "Happy",
          "Happy",
          "Happy",
          "Happy",
          "Happy",
          "Happy",
          "Happy",
          "Happy",
          "Happy",
          "Happy",
          "Happy",
          "Happy",
          "Happy",
          "Happy",
          "Happy",
          "Happy",
          "Happy",
          "Happy",
          "Happy",
          "Happy",
          "Happy",
          "Happy",
          "Happy",
          "Happy",
          "Happy",
          "Happy",
          "Happy"
         ],
         "x0": " ",
         "xaxis": "x",
         "y": [
          3.062654,
          4.098778,
          4.262904,
          4.434778,
          4.630475,
          3.832922,
          4.20441,
          2.97559,
          2.742638,
          4.66704,
          3.663304,
          3.481026,
          4.263995,
          3.561697,
          1.881051,
          4.581178,
          3.891662,
          3.35788,
          3.262029,
          1.212009,
          3.420188,
          2.45054,
          3.352787,
          3.677165,
          2.56909,
          3.73163,
          2.126396,
          2.714415,
          2.365136
         ],
         "y0": " ",
         "yaxis": "y"
        },
        {
         "alignmentgroup": "True",
         "boxpoints": "all",
         "customdata": [
          [
           "王少刚",
           1
          ],
          [
           "王梦宣",
           10
          ],
          [
           "姚林林",
           11
          ],
          [
           "赵冰冰",
           12
          ],
          [
           "李思璇",
           13
          ],
          [
           "何金辉",
           14
          ],
          [
           "吴建星",
           17
          ],
          [
           "bq",
           18
          ],
          [
           "gxy",
           19
          ],
          [
           "CTG",
           20
          ],
          [
           "zwl",
           21
          ],
          [
           null,
           22
          ],
          [
           "MZY",
           23
          ],
          [
           "林增萍",
           24
          ],
          [
           "qdl",
           25
          ],
          [
           "庄惠翔",
           27
          ],
          [
           "焦雄",
           28
          ],
          [
           "王辉",
           3
          ],
          [
           "郭有容",
           31
          ],
          [
           "余鹏程",
           32
          ],
          [
           "陈若羽",
           34
          ],
          [
           null,
           36
          ],
          [
           "Xuewei Qin",
           39
          ],
          [
           "董正心",
           4
          ],
          [
           "高倩",
           5
          ],
          [
           "叶帅",
           6
          ],
          [
           "李闯",
           7
          ],
          [
           "钱文莉",
           8
          ],
          [
           "李诗晨",
           9
          ]
         ],
         "hovertemplate": "Emotion=%{x}<br>metadprime=%{y}<br>Name=%{customdata[0]}<br>ID=%{customdata[1]}<extra></extra>",
         "legendgroup": "Fear",
         "marker": {
          "color": "#00cc96"
         },
         "name": "Fear",
         "notched": false,
         "offsetgroup": "Fear",
         "orientation": "v",
         "showlegend": true,
         "type": "box",
         "x": [
          "Fear",
          "Fear",
          "Fear",
          "Fear",
          "Fear",
          "Fear",
          "Fear",
          "Fear",
          "Fear",
          "Fear",
          "Fear",
          "Fear",
          "Fear",
          "Fear",
          "Fear",
          "Fear",
          "Fear",
          "Fear",
          "Fear",
          "Fear",
          "Fear",
          "Fear",
          "Fear",
          "Fear",
          "Fear",
          "Fear",
          "Fear",
          "Fear",
          "Fear"
         ],
         "x0": " ",
         "xaxis": "x",
         "y": [
          0.7504206,
          2.229741,
          2.780194,
          1.766753,
          2.281403,
          3.220626,
          2.565605,
          3.065033,
          1.662892,
          2.157452,
          2.112481,
          1.937495,
          2.14717,
          2.421968,
          1.406556,
          2.699632,
          0.7732546,
          1.6176,
          1.951105,
          1.920775,
          1.474493,
          2.161185,
          1.697954,
          2.164592,
          2.544246,
          2.501993,
          1.803587,
          0.3444702,
          2.493575
         ],
         "y0": " ",
         "yaxis": "y"
        }
       ],
       "layout": {
        "annotations": [
         {
          "bgcolor": "#1f77b4",
          "bordercolor": "#1f77b4",
          "borderpad": 4,
          "borderwidth": 2,
          "font": {
           "color": "#ffffff",
           "family": "Courier New, monospace",
           "size": 16
          },
          "opacity": 0.8,
          "showarrow": false,
          "text": "p-value: 0.00 (Anova Repeated Measures)",
          "x": 0.9,
          "xref": "paper",
          "y": 1.1,
          "yref": "paper"
         }
        ],
        "boxmode": "overlay",
        "height": 600,
        "legend": {
         "title": {
          "text": "Emotion"
         },
         "tracegroupgap": 0
        },
        "template": {
         "data": {
          "bar": [
           {
            "error_x": {
             "color": "#2a3f5f"
            },
            "error_y": {
             "color": "#2a3f5f"
            },
            "marker": {
             "line": {
              "color": "#E5ECF6",
              "width": 0.5
             },
             "pattern": {
              "fillmode": "overlay",
              "size": 10,
              "solidity": 0.2
             }
            },
            "type": "bar"
           }
          ],
          "barpolar": [
           {
            "marker": {
             "line": {
              "color": "#E5ECF6",
              "width": 0.5
             },
             "pattern": {
              "fillmode": "overlay",
              "size": 10,
              "solidity": 0.2
             }
            },
            "type": "barpolar"
           }
          ],
          "carpet": [
           {
            "aaxis": {
             "endlinecolor": "#2a3f5f",
             "gridcolor": "white",
             "linecolor": "white",
             "minorgridcolor": "white",
             "startlinecolor": "#2a3f5f"
            },
            "baxis": {
             "endlinecolor": "#2a3f5f",
             "gridcolor": "white",
             "linecolor": "white",
             "minorgridcolor": "white",
             "startlinecolor": "#2a3f5f"
            },
            "type": "carpet"
           }
          ],
          "choropleth": [
           {
            "colorbar": {
             "outlinewidth": 0,
             "ticks": ""
            },
            "type": "choropleth"
           }
          ],
          "contour": [
           {
            "colorbar": {
             "outlinewidth": 0,
             "ticks": ""
            },
            "colorscale": [
             [
              0,
              "#0d0887"
             ],
             [
              0.1111111111111111,
              "#46039f"
             ],
             [
              0.2222222222222222,
              "#7201a8"
             ],
             [
              0.3333333333333333,
              "#9c179e"
             ],
             [
              0.4444444444444444,
              "#bd3786"
             ],
             [
              0.5555555555555556,
              "#d8576b"
             ],
             [
              0.6666666666666666,
              "#ed7953"
             ],
             [
              0.7777777777777778,
              "#fb9f3a"
             ],
             [
              0.8888888888888888,
              "#fdca26"
             ],
             [
              1,
              "#f0f921"
             ]
            ],
            "type": "contour"
           }
          ],
          "contourcarpet": [
           {
            "colorbar": {
             "outlinewidth": 0,
             "ticks": ""
            },
            "type": "contourcarpet"
           }
          ],
          "heatmap": [
           {
            "colorbar": {
             "outlinewidth": 0,
             "ticks": ""
            },
            "colorscale": [
             [
              0,
              "#0d0887"
             ],
             [
              0.1111111111111111,
              "#46039f"
             ],
             [
              0.2222222222222222,
              "#7201a8"
             ],
             [
              0.3333333333333333,
              "#9c179e"
             ],
             [
              0.4444444444444444,
              "#bd3786"
             ],
             [
              0.5555555555555556,
              "#d8576b"
             ],
             [
              0.6666666666666666,
              "#ed7953"
             ],
             [
              0.7777777777777778,
              "#fb9f3a"
             ],
             [
              0.8888888888888888,
              "#fdca26"
             ],
             [
              1,
              "#f0f921"
             ]
            ],
            "type": "heatmap"
           }
          ],
          "heatmapgl": [
           {
            "colorbar": {
             "outlinewidth": 0,
             "ticks": ""
            },
            "colorscale": [
             [
              0,
              "#0d0887"
             ],
             [
              0.1111111111111111,
              "#46039f"
             ],
             [
              0.2222222222222222,
              "#7201a8"
             ],
             [
              0.3333333333333333,
              "#9c179e"
             ],
             [
              0.4444444444444444,
              "#bd3786"
             ],
             [
              0.5555555555555556,
              "#d8576b"
             ],
             [
              0.6666666666666666,
              "#ed7953"
             ],
             [
              0.7777777777777778,
              "#fb9f3a"
             ],
             [
              0.8888888888888888,
              "#fdca26"
             ],
             [
              1,
              "#f0f921"
             ]
            ],
            "type": "heatmapgl"
           }
          ],
          "histogram": [
           {
            "marker": {
             "pattern": {
              "fillmode": "overlay",
              "size": 10,
              "solidity": 0.2
             }
            },
            "type": "histogram"
           }
          ],
          "histogram2d": [
           {
            "colorbar": {
             "outlinewidth": 0,
             "ticks": ""
            },
            "colorscale": [
             [
              0,
              "#0d0887"
             ],
             [
              0.1111111111111111,
              "#46039f"
             ],
             [
              0.2222222222222222,
              "#7201a8"
             ],
             [
              0.3333333333333333,
              "#9c179e"
             ],
             [
              0.4444444444444444,
              "#bd3786"
             ],
             [
              0.5555555555555556,
              "#d8576b"
             ],
             [
              0.6666666666666666,
              "#ed7953"
             ],
             [
              0.7777777777777778,
              "#fb9f3a"
             ],
             [
              0.8888888888888888,
              "#fdca26"
             ],
             [
              1,
              "#f0f921"
             ]
            ],
            "type": "histogram2d"
           }
          ],
          "histogram2dcontour": [
           {
            "colorbar": {
             "outlinewidth": 0,
             "ticks": ""
            },
            "colorscale": [
             [
              0,
              "#0d0887"
             ],
             [
              0.1111111111111111,
              "#46039f"
             ],
             [
              0.2222222222222222,
              "#7201a8"
             ],
             [
              0.3333333333333333,
              "#9c179e"
             ],
             [
              0.4444444444444444,
              "#bd3786"
             ],
             [
              0.5555555555555556,
              "#d8576b"
             ],
             [
              0.6666666666666666,
              "#ed7953"
             ],
             [
              0.7777777777777778,
              "#fb9f3a"
             ],
             [
              0.8888888888888888,
              "#fdca26"
             ],
             [
              1,
              "#f0f921"
             ]
            ],
            "type": "histogram2dcontour"
           }
          ],
          "mesh3d": [
           {
            "colorbar": {
             "outlinewidth": 0,
             "ticks": ""
            },
            "type": "mesh3d"
           }
          ],
          "parcoords": [
           {
            "line": {
             "colorbar": {
              "outlinewidth": 0,
              "ticks": ""
             }
            },
            "type": "parcoords"
           }
          ],
          "pie": [
           {
            "automargin": true,
            "type": "pie"
           }
          ],
          "scatter": [
           {
            "fillpattern": {
             "fillmode": "overlay",
             "size": 10,
             "solidity": 0.2
            },
            "type": "scatter"
           }
          ],
          "scatter3d": [
           {
            "line": {
             "colorbar": {
              "outlinewidth": 0,
              "ticks": ""
             }
            },
            "marker": {
             "colorbar": {
              "outlinewidth": 0,
              "ticks": ""
             }
            },
            "type": "scatter3d"
           }
          ],
          "scattercarpet": [
           {
            "marker": {
             "colorbar": {
              "outlinewidth": 0,
              "ticks": ""
             }
            },
            "type": "scattercarpet"
           }
          ],
          "scattergeo": [
           {
            "marker": {
             "colorbar": {
              "outlinewidth": 0,
              "ticks": ""
             }
            },
            "type": "scattergeo"
           }
          ],
          "scattergl": [
           {
            "marker": {
             "colorbar": {
              "outlinewidth": 0,
              "ticks": ""
             }
            },
            "type": "scattergl"
           }
          ],
          "scattermapbox": [
           {
            "marker": {
             "colorbar": {
              "outlinewidth": 0,
              "ticks": ""
             }
            },
            "type": "scattermapbox"
           }
          ],
          "scatterpolar": [
           {
            "marker": {
             "colorbar": {
              "outlinewidth": 0,
              "ticks": ""
             }
            },
            "type": "scatterpolar"
           }
          ],
          "scatterpolargl": [
           {
            "marker": {
             "colorbar": {
              "outlinewidth": 0,
              "ticks": ""
             }
            },
            "type": "scatterpolargl"
           }
          ],
          "scatterternary": [
           {
            "marker": {
             "colorbar": {
              "outlinewidth": 0,
              "ticks": ""
             }
            },
            "type": "scatterternary"
           }
          ],
          "surface": [
           {
            "colorbar": {
             "outlinewidth": 0,
             "ticks": ""
            },
            "colorscale": [
             [
              0,
              "#0d0887"
             ],
             [
              0.1111111111111111,
              "#46039f"
             ],
             [
              0.2222222222222222,
              "#7201a8"
             ],
             [
              0.3333333333333333,
              "#9c179e"
             ],
             [
              0.4444444444444444,
              "#bd3786"
             ],
             [
              0.5555555555555556,
              "#d8576b"
             ],
             [
              0.6666666666666666,
              "#ed7953"
             ],
             [
              0.7777777777777778,
              "#fb9f3a"
             ],
             [
              0.8888888888888888,
              "#fdca26"
             ],
             [
              1,
              "#f0f921"
             ]
            ],
            "type": "surface"
           }
          ],
          "table": [
           {
            "cells": {
             "fill": {
              "color": "#EBF0F8"
             },
             "line": {
              "color": "white"
             }
            },
            "header": {
             "fill": {
              "color": "#C8D4E3"
             },
             "line": {
              "color": "white"
             }
            },
            "type": "table"
           }
          ]
         },
         "layout": {
          "annotationdefaults": {
           "arrowcolor": "#2a3f5f",
           "arrowhead": 0,
           "arrowwidth": 1
          },
          "autotypenumbers": "strict",
          "coloraxis": {
           "colorbar": {
            "outlinewidth": 0,
            "ticks": ""
           }
          },
          "colorscale": {
           "diverging": [
            [
             0,
             "#8e0152"
            ],
            [
             0.1,
             "#c51b7d"
            ],
            [
             0.2,
             "#de77ae"
            ],
            [
             0.3,
             "#f1b6da"
            ],
            [
             0.4,
             "#fde0ef"
            ],
            [
             0.5,
             "#f7f7f7"
            ],
            [
             0.6,
             "#e6f5d0"
            ],
            [
             0.7,
             "#b8e186"
            ],
            [
             0.8,
             "#7fbc41"
            ],
            [
             0.9,
             "#4d9221"
            ],
            [
             1,
             "#276419"
            ]
           ],
           "sequential": [
            [
             0,
             "#0d0887"
            ],
            [
             0.1111111111111111,
             "#46039f"
            ],
            [
             0.2222222222222222,
             "#7201a8"
            ],
            [
             0.3333333333333333,
             "#9c179e"
            ],
            [
             0.4444444444444444,
             "#bd3786"
            ],
            [
             0.5555555555555556,
             "#d8576b"
            ],
            [
             0.6666666666666666,
             "#ed7953"
            ],
            [
             0.7777777777777778,
             "#fb9f3a"
            ],
            [
             0.8888888888888888,
             "#fdca26"
            ],
            [
             1,
             "#f0f921"
            ]
           ],
           "sequentialminus": [
            [
             0,
             "#0d0887"
            ],
            [
             0.1111111111111111,
             "#46039f"
            ],
            [
             0.2222222222222222,
             "#7201a8"
            ],
            [
             0.3333333333333333,
             "#9c179e"
            ],
            [
             0.4444444444444444,
             "#bd3786"
            ],
            [
             0.5555555555555556,
             "#d8576b"
            ],
            [
             0.6666666666666666,
             "#ed7953"
            ],
            [
             0.7777777777777778,
             "#fb9f3a"
            ],
            [
             0.8888888888888888,
             "#fdca26"
            ],
            [
             1,
             "#f0f921"
            ]
           ]
          },
          "colorway": [
           "#636efa",
           "#EF553B",
           "#00cc96",
           "#ab63fa",
           "#FFA15A",
           "#19d3f3",
           "#FF6692",
           "#B6E880",
           "#FF97FF",
           "#FECB52"
          ],
          "font": {
           "color": "#2a3f5f"
          },
          "geo": {
           "bgcolor": "white",
           "lakecolor": "white",
           "landcolor": "#E5ECF6",
           "showlakes": true,
           "showland": true,
           "subunitcolor": "white"
          },
          "hoverlabel": {
           "align": "left"
          },
          "hovermode": "closest",
          "mapbox": {
           "style": "light"
          },
          "paper_bgcolor": "white",
          "plot_bgcolor": "#E5ECF6",
          "polar": {
           "angularaxis": {
            "gridcolor": "white",
            "linecolor": "white",
            "ticks": ""
           },
           "bgcolor": "#E5ECF6",
           "radialaxis": {
            "gridcolor": "white",
            "linecolor": "white",
            "ticks": ""
           }
          },
          "scene": {
           "xaxis": {
            "backgroundcolor": "#E5ECF6",
            "gridcolor": "white",
            "gridwidth": 2,
            "linecolor": "white",
            "showbackground": true,
            "ticks": "",
            "zerolinecolor": "white"
           },
           "yaxis": {
            "backgroundcolor": "#E5ECF6",
            "gridcolor": "white",
            "gridwidth": 2,
            "linecolor": "white",
            "showbackground": true,
            "ticks": "",
            "zerolinecolor": "white"
           },
           "zaxis": {
            "backgroundcolor": "#E5ECF6",
            "gridcolor": "white",
            "gridwidth": 2,
            "linecolor": "white",
            "showbackground": true,
            "ticks": "",
            "zerolinecolor": "white"
           }
          },
          "shapedefaults": {
           "line": {
            "color": "#2a3f5f"
           }
          },
          "ternary": {
           "aaxis": {
            "gridcolor": "white",
            "linecolor": "white",
            "ticks": ""
           },
           "baxis": {
            "gridcolor": "white",
            "linecolor": "white",
            "ticks": ""
           },
           "bgcolor": "#E5ECF6",
           "caxis": {
            "gridcolor": "white",
            "linecolor": "white",
            "ticks": ""
           }
          },
          "title": {
           "x": 0.05
          },
          "xaxis": {
           "automargin": true,
           "gridcolor": "white",
           "linecolor": "white",
           "ticks": "",
           "title": {
            "standoff": 15
           },
           "zerolinecolor": "white",
           "zerolinewidth": 2
          },
          "yaxis": {
           "automargin": true,
           "gridcolor": "white",
           "linecolor": "white",
           "ticks": "",
           "title": {
            "standoff": 15
           },
           "zerolinecolor": "white",
           "zerolinewidth": 2
          }
         }
        },
        "title": {
         "text": "metadprime by Emotion"
        },
        "width": 1200,
        "xaxis": {
         "anchor": "y",
         "categoryarray": [
          "Disgust",
          "Happy",
          "Fear"
         ],
         "categoryorder": "array",
         "domain": [
          0,
          1
         ],
         "title": {
          "text": "Emotion"
         }
        },
        "yaxis": {
         "anchor": "x",
         "domain": [
          0,
          1
         ],
         "title": {
          "text": "metadprime"
         }
        }
       }
      }
     },
     "metadata": {},
     "output_type": "display_data"
    }
   ],
   "source": [
    "# we now have all dfs, all anova results, and all post hoc results. we shall plot. \n",
    "\n",
    "# produce a box plot for each dataframe, with the x axis as Emotion and the y axis as the dependent variable... \n",
    "# in the occurence of a significant anova result, we can add the post hoc results to the plot. \n",
    "# import plotly\n",
    "\n",
    "import plotly.express as px\n",
    "\n",
    "dfs = [accuracy_df, decision_rt_df, confidence_df, mratio_df, dprime_df, logmratio_df, metadprime_df]\n",
    "df_names = ['Accuracy', 'Decision_RT', 'Confidence', 'MRatio', 'dprime', 'logMRatio', 'metadprime']\n",
    "\n",
    "for df in dfs:\n",
    "    dependent_variable = df.columns[-1]\n",
    "    # use plotly \n",
    "    fig = px.box(df, x='Emotion', y=dependent_variable, points='all', title=f'{dependent_variable} by Emotion', \n",
    "                    hover_data=['Name', 'ID', 'Emotion', dependent_variable], color='Emotion')\n",
    "    fig.update_layout(yaxis_title=dependent_variable, width=1200, height=600)\n",
    "    # check if the anova result is significant\n",
    "    pvalue = anova_results[dependent_variable].summary().tables[0].loc['Emotion', 'Pr > F']\n",
    "    if pvalue < 0.05:\n",
    "        tukey = tukey_results[dependent_variable]\n",
    "        # print anova and tukey results\n",
    "        print(f\"ANOVA Results for {dependent_variable}\")\n",
    "        print(anova_results[dependent_variable].summary())\n",
    "        print(tukey.summary())\n",
    "        # add pvalue to the plot\n",
    "        fig.add_annotation(text=f\"p-value: {pvalue:.2f} (Anova Repeated Measures)\", x=0.9, \n",
    "                           y = 1.2, \n",
    "                            showarrow=False, \n",
    "                            font=dict(\n",
    "                                family=\"Courier New, monospace\",\n",
    "                                size=16,\n",
    "                                color=\"#ffffff\"\n",
    "                            ), xref=\"paper\", yref=\"paper\", bgcolor=\"#1f77b4\", bordercolor=\"#1f77b4\", borderwidth=2, borderpad=4, opacity=0.8)\n",
    "    else:\n",
    "        fig.add_annotation(text=\"No significant difference\", x=0.9,\n",
    "                            y = 1.1, \n",
    "                             showarrow=False, \n",
    "                             font=dict(\n",
    "                                  family=\"Courier New, monospace\",\n",
    "                                  size=16,\n",
    "                                  color=\"#ffffff\"\n",
    "                             ), xref=\"paper\", yref=\"paper\", bgcolor=\"#1f77b4\", bordercolor=\"#1f77b4\", borderwidth=2, borderpad=4, opacity=0.8)\n",
    "\n",
    "    fig.show()\n"
   ]
  },
  {
   "cell_type": "markdown",
   "metadata": {},
   "source": [
    "# Correlating with DTI Data (LogMRatio Only)"
   ]
  },
  {
   "cell_type": "code",
   "execution_count": 27,
   "metadata": {},
   "outputs": [
    {
     "data": {
      "application/vnd.microsoft.datawrangler.viewer.v0+json": {
       "columns": [
        {
         "name": "index",
         "rawType": "int64",
         "type": "integer"
        },
        {
         "name": "Name",
         "rawType": "object",
         "type": "string"
        },
        {
         "name": "ID",
         "rawType": "int64",
         "type": "integer"
        },
        {
         "name": "Emotion",
         "rawType": "object",
         "type": "string"
        },
        {
         "name": "logMRatio",
         "rawType": "float64",
         "type": "float"
        },
        {
         "name": "年龄",
         "rawType": "float64",
         "type": "float"
        },
        {
         "name": "性别",
         "rawType": "object",
         "type": "string"
        },
        {
         "name": "采集日期",
         "rawType": "object",
         "type": "string"
        },
        {
         "name": "FA_Fornix",
         "rawType": "float64",
         "type": "float"
        },
        {
         "name": "FA_Cingulum_L",
         "rawType": "float64",
         "type": "float"
        },
        {
         "name": "FA_Cingulum_R",
         "rawType": "float64",
         "type": "float"
        },
        {
         "name": "FA_SLF_L",
         "rawType": "float64",
         "type": "float"
        },
        {
         "name": "FA_SLF_R",
         "rawType": "float64",
         "type": "float"
        },
        {
         "name": "MD_Fornix",
         "rawType": "float64",
         "type": "float"
        },
        {
         "name": "MD_Cingulum_L",
         "rawType": "float64",
         "type": "float"
        },
        {
         "name": "MD_Cingulum_R",
         "rawType": "float64",
         "type": "float"
        },
        {
         "name": "MD_SLF_L",
         "rawType": "float64",
         "type": "float"
        },
        {
         "name": "MD_SLF_R",
         "rawType": "float64",
         "type": "float"
        },
        {
         "name": "AD_Fornix",
         "rawType": "float64",
         "type": "float"
        },
        {
         "name": "AD_Cingulum_L",
         "rawType": "float64",
         "type": "float"
        },
        {
         "name": "AD_Cingulum_R",
         "rawType": "float64",
         "type": "float"
        },
        {
         "name": "AD_SLF_L",
         "rawType": "float64",
         "type": "float"
        },
        {
         "name": "AD_SLF_R",
         "rawType": "float64",
         "type": "float"
        },
        {
         "name": "RD_Fornix",
         "rawType": "float64",
         "type": "float"
        },
        {
         "name": "RD_Cingulum_L",
         "rawType": "float64",
         "type": "float"
        },
        {
         "name": "RD_Cingulum_R",
         "rawType": "float64",
         "type": "float"
        },
        {
         "name": "RD_SLF_L",
         "rawType": "float64",
         "type": "float"
        },
        {
         "name": "RD_SLF_R",
         "rawType": "float64",
         "type": "float"
        },
        {
         "name": "FA_Cingulum (hippocampus)_L",
         "rawType": "float64",
         "type": "float"
        },
        {
         "name": "FA_Cingulum (hippocampus)_R",
         "rawType": "float64",
         "type": "float"
        },
        {
         "name": "FA_Fornix (cres)_L",
         "rawType": "float64",
         "type": "float"
        },
        {
         "name": "FA_Fornix (cres)_R",
         "rawType": "float64",
         "type": "float"
        },
        {
         "name": "MD_Cingulum (hippocampus)_L",
         "rawType": "float64",
         "type": "float"
        },
        {
         "name": "MD_Cingulum (hippocampus)_R",
         "rawType": "float64",
         "type": "float"
        },
        {
         "name": "MD_Fornix (cres)_L",
         "rawType": "float64",
         "type": "float"
        },
        {
         "name": "MD_Fornix (cres)_R",
         "rawType": "float64",
         "type": "float"
        },
        {
         "name": "AD_Cingulum (hippocampus)_L",
         "rawType": "float64",
         "type": "float"
        },
        {
         "name": "AD_Cingulum (hippocampus)_R",
         "rawType": "float64",
         "type": "float"
        },
        {
         "name": "AD_Fornix (cres)_L",
         "rawType": "float64",
         "type": "float"
        },
        {
         "name": "AD_Fornix (cres)_R",
         "rawType": "float64",
         "type": "float"
        },
        {
         "name": "RD_Cingulum (hippocampus)_L",
         "rawType": "float64",
         "type": "float"
        },
        {
         "name": "RD_Cingulum (hippocampus)_R",
         "rawType": "float64",
         "type": "float"
        },
        {
         "name": "RD_Fornix (cres)_L",
         "rawType": "float64",
         "type": "float"
        },
        {
         "name": "RD_Fornix (cres)_R",
         "rawType": "float64",
         "type": "float"
        },
        {
         "name": "FA_UF_L",
         "rawType": "float64",
         "type": "float"
        },
        {
         "name": "FA_UF_R",
         "rawType": "float64",
         "type": "float"
        },
        {
         "name": "MD_UF_L",
         "rawType": "float64",
         "type": "float"
        },
        {
         "name": "MD_UF_R",
         "rawType": "float64",
         "type": "float"
        },
        {
         "name": "AD_UF_L",
         "rawType": "float64",
         "type": "float"
        },
        {
         "name": "AD_UF_R",
         "rawType": "float64",
         "type": "float"
        },
        {
         "name": "RD_UF_L",
         "rawType": "float64",
         "type": "float"
        },
        {
         "name": "RD_UF_R",
         "rawType": "float64",
         "type": "float"
        },
        {
         "name": "FA_ACR_L",
         "rawType": "float64",
         "type": "float"
        },
        {
         "name": "FA_ACR_R",
         "rawType": "float64",
         "type": "float"
        },
        {
         "name": "MD_ACR_L",
         "rawType": "float64",
         "type": "float"
        },
        {
         "name": "MD_ACR_R",
         "rawType": "float64",
         "type": "float"
        },
        {
         "name": "AD_ACR_L",
         "rawType": "float64",
         "type": "float"
        },
        {
         "name": "AD_ACR_R",
         "rawType": "float64",
         "type": "float"
        },
        {
         "name": "RD_ACR_L",
         "rawType": "float64",
         "type": "float"
        },
        {
         "name": "RD_ACR_R",
         "rawType": "float64",
         "type": "float"
        },
        {
         "name": "FA_SCR_L",
         "rawType": "float64",
         "type": "float"
        },
        {
         "name": "FA_SCR_R",
         "rawType": "float64",
         "type": "float"
        },
        {
         "name": "MD_SCR_L",
         "rawType": "float64",
         "type": "float"
        },
        {
         "name": "MD_SCR_R",
         "rawType": "float64",
         "type": "float"
        },
        {
         "name": "AD_SCR_L",
         "rawType": "float64",
         "type": "float"
        },
        {
         "name": "AD_SCR_R",
         "rawType": "float64",
         "type": "float"
        },
        {
         "name": "RD_SCR_L",
         "rawType": "float64",
         "type": "float"
        },
        {
         "name": "RD_SCR_R",
         "rawType": "float64",
         "type": "float"
        },
        {
         "name": "FA_IFO_L",
         "rawType": "float64",
         "type": "float"
        },
        {
         "name": "FA_IFO_R",
         "rawType": "float64",
         "type": "float"
        },
        {
         "name": "MD_IFO_L",
         "rawType": "float64",
         "type": "float"
        },
        {
         "name": "MD_IFO_R",
         "rawType": "float64",
         "type": "float"
        },
        {
         "name": "AD_IFO_L",
         "rawType": "float64",
         "type": "float"
        },
        {
         "name": "AD_IFO_R",
         "rawType": "float64",
         "type": "float"
        },
        {
         "name": "RD_IFO_L",
         "rawType": "float64",
         "type": "float"
        },
        {
         "name": "RD_IFO_R",
         "rawType": "float64",
         "type": "float"
        },
        {
         "name": "FA_SFO_L",
         "rawType": "float64",
         "type": "float"
        },
        {
         "name": "FA_SFO_R",
         "rawType": "float64",
         "type": "float"
        },
        {
         "name": "MD_SFO_L",
         "rawType": "float64",
         "type": "float"
        },
        {
         "name": "MD_SFO_R",
         "rawType": "float64",
         "type": "float"
        },
        {
         "name": "AD_SFO_L",
         "rawType": "float64",
         "type": "float"
        },
        {
         "name": "AD_SFO_R",
         "rawType": "float64",
         "type": "float"
        },
        {
         "name": "RD_SFO_L",
         "rawType": "float64",
         "type": "float"
        },
        {
         "name": "RD_SFO_R",
         "rawType": "float64",
         "type": "float"
        },
        {
         "name": "FA_Genu",
         "rawType": "float64",
         "type": "float"
        },
        {
         "name": "MD_Genu",
         "rawType": "float64",
         "type": "float"
        },
        {
         "name": "AD_Genu",
         "rawType": "float64",
         "type": "float"
        },
        {
         "name": "RD_Genu",
         "rawType": "float64",
         "type": "float"
        }
       ],
       "conversionMethod": "pd.DataFrame",
       "ref": "8ee39d8f-cae1-4b39-a256-0078641e90d8",
       "rows": [
        [
         "0",
         "王少刚",
         "1",
         "Disgust",
         "-0.430962887",
         "30.0",
         "男",
         "10/17/20",
         "0.573723",
         "0.62287",
         "0.557041",
         "0.565784",
         "0.563069",
         "0.000553",
         "0.000525",
         "0.000541",
         "0.000483",
         "0.000488",
         "0.000969",
         "0.000967",
         "0.000922",
         "0.000838",
         "0.000839",
         "0.000345",
         "0.000304",
         "0.00035",
         "0.000305",
         "0.000313",
         "0.495761",
         "0.47386",
         "0.592133",
         "0.569143",
         "0.000557",
         "0.000554",
         "0.00054",
         "0.000538",
         "0.000894",
         "0.000864",
         "0.000944",
         "0.000916",
         "0.000388",
         "0.000399",
         "0.000338",
         "0.000348",
         "0.563203",
         "0.608367",
         "0.000575",
         "0.000559",
         "0.000989",
         "0.001006",
         "0.000368",
         "0.000336",
         "0.491322",
         "0.466191",
         "0.000522",
         "0.000533",
         "0.000829",
         "0.000831",
         "0.000368",
         "0.000385",
         "0.567056",
         "0.544661",
         "0.000483",
         "0.000481",
         "0.000828",
         "0.000804",
         "0.00031",
         "0.00032",
         "0.562896",
         "0.594611",
         "0.000576",
         "0.000543",
         "0.000977",
         "0.000949",
         "0.000376",
         "0.000341",
         "0.571467",
         "0.546733",
         "0.000488",
         "0.000494",
         "0.000841",
         "0.000827",
         "0.000312",
         "0.000328",
         "0.639504",
         "0.000566",
         "0.001053",
         "0.000323"
        ],
        [
         "1",
         "王梦宣",
         "10",
         "Disgust",
         "0.3910200157",
         "29.0",
         "女",
         "10/25/20",
         "0.451164",
         "0.606037",
         "0.550508",
         "0.55951",
         "0.572518",
         "0.000645",
         "0.000532",
         "0.000533",
         "0.000492",
         "0.000498",
         "0.000964",
         "0.000963",
         "0.000901",
         "0.000837",
         "0.000859",
         "0.000486",
         "0.000316",
         "0.00035",
         "0.000319",
         "0.000317",
         "0.499891",
         "0.487159",
         "0.5563",
         "0.542999",
         "0.000546",
         "0.000544",
         "0.00056",
         "0.000565",
         "0.000878",
         "0.000866",
         "0.000934",
         "0.000937",
         "0.00038",
         "0.000384",
         "0.000373",
         "0.000379",
         "0.474282",
         "0.539469",
         "0.0006",
         "0.000593",
         "0.000937",
         "0.000994",
         "0.000431",
         "0.000393",
         "0.479396",
         "0.471632",
         "0.000573",
         "0.00056",
         "0.000894",
         "0.000866",
         "0.000412",
         "0.000408",
         "0.544701",
         "0.560061",
         "0.000509",
         "0.0005",
         "0.000849",
         "0.00085",
         "0.000339",
         "0.000325",
         "0.545194",
         "0.562689",
         "0.00059",
         "0.00059",
         "0.00099",
         "0.001003",
         "0.00039",
         "0.000384",
         "0.536542",
         "0.527659",
         "0.000524",
         "0.000518",
         "0.000871",
         "0.000852",
         "0.00035",
         "0.00035",
         "0.612827",
         "0.000608",
         "0.001092",
         "0.000366"
        ],
        [
         "2",
         "姚林林",
         "11",
         "Disgust",
         "0.1794127487",
         "26.0",
         "女",
         "10/25/20",
         "0.570839",
         "0.60493",
         "0.525909",
         "0.546183",
         "0.547813",
         "0.00057",
         "0.000524",
         "0.000546",
         "0.000485",
         "0.000487",
         "0.000988",
         "0.000947",
         "0.000902",
         "0.000813",
         "0.000819",
         "0.000361",
         "0.000313",
         "0.000369",
         "0.00032",
         "0.000322",
         "0.401938",
         "0.465063",
         "0.598898",
         "0.59242",
         "0.000589",
         "0.000585",
         "0.000537",
         "0.000572",
         "0.000856",
         "0.000906",
         "0.000939",
         "0.000999",
         "0.000455",
         "0.000424",
         "0.000337",
         "0.000358",
         "0.513192",
         "0.568014",
         "0.000598",
         "0.000616",
         "0.00098",
         "0.001069",
         "0.000407",
         "0.000389",
         "0.512951",
         "0.499405",
         "0.000509",
         "0.000516",
         "0.000825",
         "0.000829",
         "0.000351",
         "0.00036",
         "0.592371",
         "0.557139",
         "0.000483",
         "0.000481",
         "0.000848",
         "0.000813",
         "0.0003",
         "0.000315",
         "0.559204",
         "0.599351",
         "0.000577",
         "0.000572",
         "0.000971",
         "0.001008",
         "0.00038",
         "0.000355",
         "0.599806",
         "0.587922",
         "0.000481",
         "0.0005",
         "0.000853",
         "0.000877",
         "0.000296",
         "0.000311",
         "0.642949",
         "0.000566",
         "0.001051",
         "0.000323"
        ],
        [
         "3",
         "赵冰冰",
         "12",
         "Disgust",
         "0.1402669458",
         "26.0",
         "女",
         "10/25/20",
         "0.538577",
         "0.655879",
         "0.625258",
         "0.535167",
         "0.543563",
         "0.000609",
         "0.000514",
         "0.000525",
         "0.000491",
         "0.000495",
         "0.001013",
         "0.000979",
         "0.000965",
         "0.000819",
         "0.000831",
         "0.000406",
         "0.000281",
         "0.000305",
         "0.000327",
         "0.000327",
         "0.42886",
         "0.447467",
         "0.588877",
         "0.572484",
         "0.000578",
         "0.000572",
         "0.000518",
         "0.000557",
         "0.000861",
         "0.00087",
         "0.000896",
         "0.000953",
         "0.000436",
         "0.000423",
         "0.000329",
         "0.000359",
         "0.611975",
         "0.616135",
         "0.000559",
         "0.000592",
         "0.001016",
         "0.001081",
         "0.000331",
         "0.000348",
         "0.532605",
         "0.534387",
         "0.000525",
         "0.000528",
         "0.00087",
         "0.000877",
         "0.000352",
         "0.000354",
         "0.563032",
         "0.578829",
         "0.000493",
         "0.000487",
         "0.000839",
         "0.000841",
         "0.000321",
         "0.000309",
         "0.575463",
         "0.599514",
         "0.000561",
         "0.000569",
         "0.000967",
         "0.001004",
         "0.000358",
         "0.000351",
         "0.561784",
         "0.545002",
         "0.000514",
         "0.000505",
         "0.000885",
         "0.000852",
         "0.000328",
         "0.000331",
         "0.656406",
         "0.000569",
         "0.001073",
         "0.000317"
        ],
        [
         "4",
         "李思璇",
         "13",
         "Disgust",
         "0.4344298117",
         "26.0",
         "女",
         "10/25/20",
         "0.601769",
         "0.604695",
         "0.595042",
         "0.537531",
         "0.573079",
         "0.000527",
         "0.000514",
         "0.000516",
         "0.000485",
         "0.000495",
         "0.000942",
         "0.000924",
         "0.000911",
         "0.000806",
         "0.000856",
         "0.000319",
         "0.00031",
         "0.000318",
         "0.000325",
         "0.000315",
         "0.462828",
         "0.521172",
         "0.63549",
         "0.629853",
         "0.000563",
         "0.000531",
         "0.000524",
         "0.000538",
         "0.000871",
         "0.000869",
         "0.000963",
         "0.000978",
         "0.000409",
         "0.000362",
         "0.000305",
         "0.000318",
         "0.595632",
         "0.595467",
         "0.000566",
         "0.00057",
         "0.001005",
         "0.001018",
         "0.000346",
         "0.000346",
         "0.526122",
         "0.504256",
         "0.000517",
         "0.00053",
         "0.000851",
         "0.000855",
         "0.00035",
         "0.000368",
         "0.564441",
         "0.566546",
         "0.000483",
         "0.000483",
         "0.000819",
         "0.000826",
         "0.000315",
         "0.000312",
         "0.558033",
         "0.593346",
         "0.000593",
         "0.000552",
         "0.001003",
         "0.000966",
         "0.000388",
         "0.000345",
         "0.547624",
         "0.554998",
         "0.000487",
         "0.00049",
         "0.000815",
         "0.00083",
         "0.000322",
         "0.00032",
         "0.639033",
         "0.000573",
         "0.00106",
         "0.000329"
        ]
       ],
       "shape": {
        "columns": 87,
        "rows": 5
       }
      },
      "text/html": [
       "<div>\n",
       "<style scoped>\n",
       "    .dataframe tbody tr th:only-of-type {\n",
       "        vertical-align: middle;\n",
       "    }\n",
       "\n",
       "    .dataframe tbody tr th {\n",
       "        vertical-align: top;\n",
       "    }\n",
       "\n",
       "    .dataframe thead th {\n",
       "        text-align: right;\n",
       "    }\n",
       "</style>\n",
       "<table border=\"1\" class=\"dataframe\">\n",
       "  <thead>\n",
       "    <tr style=\"text-align: right;\">\n",
       "      <th></th>\n",
       "      <th>Name</th>\n",
       "      <th>ID</th>\n",
       "      <th>Emotion</th>\n",
       "      <th>logMRatio</th>\n",
       "      <th>年龄</th>\n",
       "      <th>性别</th>\n",
       "      <th>采集日期</th>\n",
       "      <th>FA_Fornix</th>\n",
       "      <th>FA_Cingulum_L</th>\n",
       "      <th>FA_Cingulum_R</th>\n",
       "      <th>...</th>\n",
       "      <th>MD_SFO_L</th>\n",
       "      <th>MD_SFO_R</th>\n",
       "      <th>AD_SFO_L</th>\n",
       "      <th>AD_SFO_R</th>\n",
       "      <th>RD_SFO_L</th>\n",
       "      <th>RD_SFO_R</th>\n",
       "      <th>FA_Genu</th>\n",
       "      <th>MD_Genu</th>\n",
       "      <th>AD_Genu</th>\n",
       "      <th>RD_Genu</th>\n",
       "    </tr>\n",
       "  </thead>\n",
       "  <tbody>\n",
       "    <tr>\n",
       "      <th>0</th>\n",
       "      <td>王少刚</td>\n",
       "      <td>1</td>\n",
       "      <td>Disgust</td>\n",
       "      <td>-0.430963</td>\n",
       "      <td>30.0</td>\n",
       "      <td>男</td>\n",
       "      <td>10/17/20</td>\n",
       "      <td>0.573723</td>\n",
       "      <td>0.622870</td>\n",
       "      <td>0.557041</td>\n",
       "      <td>...</td>\n",
       "      <td>0.000488</td>\n",
       "      <td>0.000494</td>\n",
       "      <td>0.000841</td>\n",
       "      <td>0.000827</td>\n",
       "      <td>0.000312</td>\n",
       "      <td>0.000328</td>\n",
       "      <td>0.639504</td>\n",
       "      <td>0.000566</td>\n",
       "      <td>0.001053</td>\n",
       "      <td>0.000323</td>\n",
       "    </tr>\n",
       "    <tr>\n",
       "      <th>1</th>\n",
       "      <td>王梦宣</td>\n",
       "      <td>10</td>\n",
       "      <td>Disgust</td>\n",
       "      <td>0.391020</td>\n",
       "      <td>29.0</td>\n",
       "      <td>女</td>\n",
       "      <td>10/25/20</td>\n",
       "      <td>0.451164</td>\n",
       "      <td>0.606037</td>\n",
       "      <td>0.550508</td>\n",
       "      <td>...</td>\n",
       "      <td>0.000524</td>\n",
       "      <td>0.000518</td>\n",
       "      <td>0.000871</td>\n",
       "      <td>0.000852</td>\n",
       "      <td>0.000350</td>\n",
       "      <td>0.000350</td>\n",
       "      <td>0.612827</td>\n",
       "      <td>0.000608</td>\n",
       "      <td>0.001092</td>\n",
       "      <td>0.000366</td>\n",
       "    </tr>\n",
       "    <tr>\n",
       "      <th>2</th>\n",
       "      <td>姚林林</td>\n",
       "      <td>11</td>\n",
       "      <td>Disgust</td>\n",
       "      <td>0.179413</td>\n",
       "      <td>26.0</td>\n",
       "      <td>女</td>\n",
       "      <td>10/25/20</td>\n",
       "      <td>0.570839</td>\n",
       "      <td>0.604930</td>\n",
       "      <td>0.525909</td>\n",
       "      <td>...</td>\n",
       "      <td>0.000481</td>\n",
       "      <td>0.000500</td>\n",
       "      <td>0.000853</td>\n",
       "      <td>0.000877</td>\n",
       "      <td>0.000296</td>\n",
       "      <td>0.000311</td>\n",
       "      <td>0.642949</td>\n",
       "      <td>0.000566</td>\n",
       "      <td>0.001051</td>\n",
       "      <td>0.000323</td>\n",
       "    </tr>\n",
       "    <tr>\n",
       "      <th>3</th>\n",
       "      <td>赵冰冰</td>\n",
       "      <td>12</td>\n",
       "      <td>Disgust</td>\n",
       "      <td>0.140267</td>\n",
       "      <td>26.0</td>\n",
       "      <td>女</td>\n",
       "      <td>10/25/20</td>\n",
       "      <td>0.538577</td>\n",
       "      <td>0.655879</td>\n",
       "      <td>0.625258</td>\n",
       "      <td>...</td>\n",
       "      <td>0.000514</td>\n",
       "      <td>0.000505</td>\n",
       "      <td>0.000885</td>\n",
       "      <td>0.000852</td>\n",
       "      <td>0.000328</td>\n",
       "      <td>0.000331</td>\n",
       "      <td>0.656406</td>\n",
       "      <td>0.000569</td>\n",
       "      <td>0.001073</td>\n",
       "      <td>0.000317</td>\n",
       "    </tr>\n",
       "    <tr>\n",
       "      <th>4</th>\n",
       "      <td>李思璇</td>\n",
       "      <td>13</td>\n",
       "      <td>Disgust</td>\n",
       "      <td>0.434430</td>\n",
       "      <td>26.0</td>\n",
       "      <td>女</td>\n",
       "      <td>10/25/20</td>\n",
       "      <td>0.601769</td>\n",
       "      <td>0.604695</td>\n",
       "      <td>0.595042</td>\n",
       "      <td>...</td>\n",
       "      <td>0.000487</td>\n",
       "      <td>0.000490</td>\n",
       "      <td>0.000815</td>\n",
       "      <td>0.000830</td>\n",
       "      <td>0.000322</td>\n",
       "      <td>0.000320</td>\n",
       "      <td>0.639033</td>\n",
       "      <td>0.000573</td>\n",
       "      <td>0.001060</td>\n",
       "      <td>0.000329</td>\n",
       "    </tr>\n",
       "  </tbody>\n",
       "</table>\n",
       "<p>5 rows × 87 columns</p>\n",
       "</div>"
      ],
      "text/plain": [
       "  Name  ID  Emotion  logMRatio    年龄 性别      采集日期  FA_Fornix  FA_Cingulum_L  \\\n",
       "0  王少刚   1  Disgust  -0.430963  30.0  男  10/17/20   0.573723       0.622870   \n",
       "1  王梦宣  10  Disgust   0.391020  29.0  女  10/25/20   0.451164       0.606037   \n",
       "2  姚林林  11  Disgust   0.179413  26.0  女  10/25/20   0.570839       0.604930   \n",
       "3  赵冰冰  12  Disgust   0.140267  26.0  女  10/25/20   0.538577       0.655879   \n",
       "4  李思璇  13  Disgust   0.434430  26.0  女  10/25/20   0.601769       0.604695   \n",
       "\n",
       "   FA_Cingulum_R  ...  MD_SFO_L  MD_SFO_R  AD_SFO_L  AD_SFO_R  RD_SFO_L  \\\n",
       "0       0.557041  ...  0.000488  0.000494  0.000841  0.000827  0.000312   \n",
       "1       0.550508  ...  0.000524  0.000518  0.000871  0.000852  0.000350   \n",
       "2       0.525909  ...  0.000481  0.000500  0.000853  0.000877  0.000296   \n",
       "3       0.625258  ...  0.000514  0.000505  0.000885  0.000852  0.000328   \n",
       "4       0.595042  ...  0.000487  0.000490  0.000815  0.000830  0.000322   \n",
       "\n",
       "   RD_SFO_R   FA_Genu   MD_Genu   AD_Genu   RD_Genu  \n",
       "0  0.000328  0.639504  0.000566  0.001053  0.000323  \n",
       "1  0.000350  0.612827  0.000608  0.001092  0.000366  \n",
       "2  0.000311  0.642949  0.000566  0.001051  0.000323  \n",
       "3  0.000331  0.656406  0.000569  0.001073  0.000317  \n",
       "4  0.000320  0.639033  0.000573  0.001060  0.000329  \n",
       "\n",
       "[5 rows x 87 columns]"
      ]
     },
     "execution_count": 27,
     "metadata": {},
     "output_type": "execute_result"
    }
   ],
   "source": [
    "tracts = [column for column in dti_df.columns if ('Cingulum' in column or 'IFO' in column or 'SLF' in column or 'UF' in column or 'Genu' in column) and not any(substring in column for substring in ('AD', 'RD'))]\n",
    "tractdict = {'IFO': ['FA_IFO_L', 'FA_IFO_R', 'MD_IFO_L', 'MD_IFO_R'],\n",
    "             'SLF': ['FA_SLF_L', 'FA_SLF_R', 'MD_SLF_L', 'MD_SLF_R'],\n",
    "             'UF': ['FA_UF_L', 'FA_UF_R', 'MD_UF_L', 'MD_UF_R'],\n",
    "             'Cingulum': ['FA_Cingulum_L', 'FA_Cingulum_R', 'MD_Cingulum_L', 'MD_Cingulum_R'],\n",
    "             'Cingulum (hippocampus)': ['FA_Cingulum (hippocampus)_L', 'FA_Cingulum (hippocampus)_R', 'MD_Cingulum (hippocampus)_L', 'MD_Cingulum (hippocampus)_R']}\n",
    "\n",
    "# merge dti_df with logmratio_df \n",
    "logmratio_dti = pd.merge(logmratio_df, dti_df, on=['ID'], how='inner')\n",
    "logmratio_dti.head()"
   ]
  },
  {
   "cell_type": "code",
   "execution_count": 28,
   "metadata": {},
   "outputs": [
    {
     "data": {
      "text/plain": [
       "Index(['Name', 'ID', 'Emotion', 'logMRatio', '年龄', '性别', '采集日期', 'FA_Fornix',\n",
       "       'FA_Cingulum_L', 'FA_Cingulum_R', 'FA_SLF_L', 'FA_SLF_R', 'MD_Fornix',\n",
       "       'MD_Cingulum_L', 'MD_Cingulum_R', 'MD_SLF_L', 'MD_SLF_R', 'AD_Fornix',\n",
       "       'AD_Cingulum_L', 'AD_Cingulum_R', 'AD_SLF_L', 'AD_SLF_R', 'RD_Fornix',\n",
       "       'RD_Cingulum_L', 'RD_Cingulum_R', 'RD_SLF_L', 'RD_SLF_R',\n",
       "       'FA_Cingulum (hippocampus)_L', 'FA_Cingulum (hippocampus)_R',\n",
       "       'FA_Fornix (cres)_L', 'FA_Fornix (cres)_R',\n",
       "       'MD_Cingulum (hippocampus)_L', 'MD_Cingulum (hippocampus)_R',\n",
       "       'MD_Fornix (cres)_L', 'MD_Fornix (cres)_R',\n",
       "       'AD_Cingulum (hippocampus)_L', 'AD_Cingulum (hippocampus)_R',\n",
       "       'AD_Fornix (cres)_L', 'AD_Fornix (cres)_R',\n",
       "       'RD_Cingulum (hippocampus)_L', 'RD_Cingulum (hippocampus)_R',\n",
       "       'RD_Fornix (cres)_L', 'RD_Fornix (cres)_R', 'FA_UF_L', 'FA_UF_R',\n",
       "       'MD_UF_L', 'MD_UF_R', 'AD_UF_L', 'AD_UF_R', 'RD_UF_L', 'RD_UF_R',\n",
       "       'FA_ACR_L', 'FA_ACR_R', 'MD_ACR_L', 'MD_ACR_R', 'AD_ACR_L', 'AD_ACR_R',\n",
       "       'RD_ACR_L', 'RD_ACR_R', 'FA_SCR_L', 'FA_SCR_R', 'MD_SCR_L', 'MD_SCR_R',\n",
       "       'AD_SCR_L', 'AD_SCR_R', 'RD_SCR_L', 'RD_SCR_R', 'FA_IFO_L', 'FA_IFO_R',\n",
       "       'MD_IFO_L', 'MD_IFO_R', 'AD_IFO_L', 'AD_IFO_R', 'RD_IFO_L', 'RD_IFO_R',\n",
       "       'FA_SFO_L', 'FA_SFO_R', 'MD_SFO_L', 'MD_SFO_R', 'AD_SFO_L', 'AD_SFO_R',\n",
       "       'RD_SFO_L', 'RD_SFO_R', 'FA_Genu', 'MD_Genu', 'AD_Genu', 'RD_Genu'],\n",
       "      dtype='object')"
      ]
     },
     "execution_count": 28,
     "metadata": {},
     "output_type": "execute_result"
    }
   ],
   "source": [
    "logmratio_dti['性别']"
   ]
  },
  {
   "cell_type": "code",
   "execution_count": 31,
   "metadata": {},
   "outputs": [],
   "source": [
    "dicti = get_gender()"
   ]
  },
  {
   "cell_type": "code",
   "execution_count": 32,
   "metadata": {},
   "outputs": [
    {
     "data": {
      "text/plain": [
       "{1: '男',\n",
       " 10: '女',\n",
       " 11: '女',\n",
       " 12: '女',\n",
       " 13: '女',\n",
       " 14: '男',\n",
       " 17: '男',\n",
       " 18: '女',\n",
       " 19: '女',\n",
       " 20: '男',\n",
       " 21: '男',\n",
       " 22: '男',\n",
       " 23: '女',\n",
       " 24: '女',\n",
       " 25: '女',\n",
       " 27: '男',\n",
       " 28: '男',\n",
       " 3: '男',\n",
       " 31: '女',\n",
       " 32: '男',\n",
       " 34: '女',\n",
       " 36: '男',\n",
       " 39: '女',\n",
       " 4: '女',\n",
       " 5: '女',\n",
       " 6: '男',\n",
       " 7: '男',\n",
       " 8: '女',\n",
       " 9: '女'}"
      ]
     },
     "execution_count": 32,
     "metadata": {},
     "output_type": "execute_result"
    }
   ],
   "source": [
    "dicti"
   ]
  },
  {
   "cell_type": "markdown",
   "metadata": {},
   "source": [
    "### Ignore this block as it is not key to the analysis"
   ]
  },
  {
   "cell_type": "code",
   "execution_count": 16,
   "metadata": {},
   "outputs": [
    {
     "data": {
      "application/vnd.plotly.v1+json": {
       "config": {
        "plotlyServerURL": "https://plot.ly"
       },
       "data": [
        {
         "alignmentgroup": "True",
         "boxmean": true,
         "boxpoints": "all",
         "customdata": [
          [
           "IFO"
          ],
          [
           "IFO"
          ],
          [
           "IFO"
          ],
          [
           "IFO"
          ],
          [
           "IFO"
          ],
          [
           "IFO"
          ],
          [
           "IFO"
          ],
          [
           "IFO"
          ],
          [
           "IFO"
          ],
          [
           "IFO"
          ],
          [
           "IFO"
          ],
          [
           "IFO"
          ],
          [
           "IFO"
          ],
          [
           "IFO"
          ],
          [
           "IFO"
          ],
          [
           "IFO"
          ],
          [
           "IFO"
          ],
          [
           "IFO"
          ],
          [
           "IFO"
          ],
          [
           "IFO"
          ],
          [
           "IFO"
          ],
          [
           "IFO"
          ],
          [
           "IFO"
          ],
          [
           "IFO"
          ],
          [
           "IFO"
          ],
          [
           "IFO"
          ],
          [
           "IFO"
          ],
          [
           "IFO"
          ],
          [
           "IFO"
          ],
          [
           "IFO"
          ],
          [
           "IFO"
          ],
          [
           "IFO"
          ],
          [
           "IFO"
          ],
          [
           "IFO"
          ],
          [
           "IFO"
          ],
          [
           "IFO"
          ],
          [
           "IFO"
          ],
          [
           "IFO"
          ],
          [
           "IFO"
          ],
          [
           "IFO"
          ],
          [
           "IFO"
          ],
          [
           "IFO"
          ],
          [
           "IFO"
          ],
          [
           "IFO"
          ],
          [
           "IFO"
          ],
          [
           "IFO"
          ],
          [
           "IFO"
          ],
          [
           "IFO"
          ],
          [
           "IFO"
          ],
          [
           "IFO"
          ],
          [
           "IFO"
          ],
          [
           "IFO"
          ],
          [
           "IFO"
          ],
          [
           "IFO"
          ],
          [
           "IFO"
          ],
          [
           "IFO"
          ],
          [
           "IFO"
          ],
          [
           "IFO"
          ],
          [
           "IFO"
          ],
          [
           "IFO"
          ],
          [
           "IFO"
          ],
          [
           "IFO"
          ],
          [
           "IFO"
          ],
          [
           "IFO"
          ],
          [
           "IFO"
          ],
          [
           "IFO"
          ],
          [
           "IFO"
          ],
          [
           "IFO"
          ],
          [
           "IFO"
          ],
          [
           "IFO"
          ],
          [
           "IFO"
          ],
          [
           "IFO"
          ],
          [
           "IFO"
          ],
          [
           "IFO"
          ],
          [
           "IFO"
          ],
          [
           "IFO"
          ],
          [
           "IFO"
          ],
          [
           "IFO"
          ],
          [
           "IFO"
          ],
          [
           "IFO"
          ],
          [
           "IFO"
          ],
          [
           "IFO"
          ],
          [
           "IFO"
          ],
          [
           "IFO"
          ],
          [
           "IFO"
          ],
          [
           "IFO"
          ],
          [
           "IFO"
          ],
          [
           "IFO"
          ],
          [
           "IFO"
          ],
          [
           "IFO"
          ],
          [
           "IFO"
          ],
          [
           "IFO"
          ],
          [
           "IFO"
          ],
          [
           "IFO"
          ],
          [
           "IFO"
          ],
          [
           "IFO"
          ],
          [
           "IFO"
          ],
          [
           "IFO"
          ],
          [
           "IFO"
          ],
          [
           "IFO"
          ],
          [
           "IFO"
          ],
          [
           "IFO"
          ],
          [
           "IFO"
          ],
          [
           "IFO"
          ],
          [
           "IFO"
          ],
          [
           "IFO"
          ],
          [
           "IFO"
          ],
          [
           "IFO"
          ],
          [
           "IFO"
          ],
          [
           "IFO"
          ],
          [
           "IFO"
          ],
          [
           "IFO"
          ],
          [
           "IFO"
          ],
          [
           "IFO"
          ],
          [
           "IFO"
          ],
          [
           "IFO"
          ],
          [
           "IFO"
          ],
          [
           "IFO"
          ],
          [
           "IFO"
          ],
          [
           "IFO"
          ],
          [
           "IFO"
          ],
          [
           "IFO"
          ],
          [
           "IFO"
          ],
          [
           "IFO"
          ],
          [
           "IFO"
          ],
          [
           "IFO"
          ],
          [
           "IFO"
          ],
          [
           "IFO"
          ],
          [
           "IFO"
          ],
          [
           "IFO"
          ],
          [
           "IFO"
          ],
          [
           "IFO"
          ],
          [
           "IFO"
          ],
          [
           "IFO"
          ],
          [
           "IFO"
          ],
          [
           "IFO"
          ],
          [
           "IFO"
          ],
          [
           "IFO"
          ],
          [
           "IFO"
          ],
          [
           "IFO"
          ],
          [
           "IFO"
          ],
          [
           "IFO"
          ],
          [
           "IFO"
          ],
          [
           "IFO"
          ],
          [
           "IFO"
          ],
          [
           "IFO"
          ],
          [
           "IFO"
          ],
          [
           "IFO"
          ],
          [
           "IFO"
          ],
          [
           "IFO"
          ],
          [
           "IFO"
          ],
          [
           "IFO"
          ],
          [
           "IFO"
          ],
          [
           "IFO"
          ],
          [
           "IFO"
          ],
          [
           "IFO"
          ],
          [
           "IFO"
          ],
          [
           "IFO"
          ],
          [
           "IFO"
          ],
          [
           "IFO"
          ],
          [
           "IFO"
          ],
          [
           "IFO"
          ],
          [
           "IFO"
          ],
          [
           "IFO"
          ],
          [
           "IFO"
          ],
          [
           "IFO"
          ],
          [
           "IFO"
          ],
          [
           "IFO"
          ],
          [
           "IFO"
          ],
          [
           "IFO"
          ],
          [
           "IFO"
          ],
          [
           "IFO"
          ],
          [
           "IFO"
          ],
          [
           "IFO"
          ]
         ],
         "hovertemplate": "Tract=%{customdata[0]}<br>Tract/FA/MD=%{x}<br>FA/MD Value=%{y}<extra></extra>",
         "jitter": 0.3,
         "legendgroup": "IFO",
         "line": {
          "width": 4
         },
         "marker": {
          "color": "#636efa",
          "opacity": 0.6,
          "size": 4
         },
         "name": "IFO",
         "notched": false,
         "offsetgroup": "IFO",
         "orientation": "v",
         "showlegend": true,
         "type": "box",
         "x": [
          "FA_IFO_L",
          "FA_IFO_L",
          "FA_IFO_L",
          "FA_IFO_L",
          "FA_IFO_L",
          "FA_IFO_L",
          "FA_IFO_L",
          "FA_IFO_L",
          "FA_IFO_L",
          "FA_IFO_L",
          "FA_IFO_L",
          "FA_IFO_L",
          "FA_IFO_L",
          "FA_IFO_L",
          "FA_IFO_L",
          "FA_IFO_L",
          "FA_IFO_L",
          "FA_IFO_L",
          "FA_IFO_L",
          "FA_IFO_L",
          "FA_IFO_L",
          "FA_IFO_L",
          "FA_IFO_L",
          "FA_IFO_L",
          "FA_IFO_L",
          "FA_IFO_L",
          "FA_IFO_L",
          "FA_IFO_L",
          "FA_IFO_L",
          "FA_IFO_L",
          "FA_IFO_L",
          "FA_IFO_L",
          "FA_IFO_L",
          "FA_IFO_L",
          "FA_IFO_L",
          "FA_IFO_L",
          "FA_IFO_L",
          "FA_IFO_L",
          "FA_IFO_L",
          "FA_IFO_L",
          "FA_IFO_L",
          "FA_IFO_L",
          "FA_IFO_L",
          "FA_IFO_L",
          "FA_IFO_L",
          "FA_IFO_L",
          "FA_IFO_L",
          "FA_IFO_L",
          "FA_IFO_L",
          "FA_IFO_L",
          "FA_IFO_L",
          "FA_IFO_L",
          "FA_IFO_L",
          "FA_IFO_L",
          "FA_IFO_L",
          "FA_IFO_L",
          "FA_IFO_L",
          "FA_IFO_L",
          "FA_IFO_L",
          "FA_IFO_L",
          "FA_IFO_L",
          "FA_IFO_L",
          "FA_IFO_L",
          "FA_IFO_L",
          "FA_IFO_L",
          "FA_IFO_L",
          "FA_IFO_L",
          "FA_IFO_L",
          "FA_IFO_L",
          "FA_IFO_L",
          "FA_IFO_L",
          "FA_IFO_L",
          "FA_IFO_L",
          "FA_IFO_L",
          "FA_IFO_L",
          "FA_IFO_L",
          "FA_IFO_L",
          "FA_IFO_L",
          "FA_IFO_L",
          "FA_IFO_L",
          "FA_IFO_L",
          "FA_IFO_L",
          "FA_IFO_L",
          "FA_IFO_L",
          "FA_IFO_L",
          "FA_IFO_L",
          "FA_IFO_L",
          "FA_IFO_R",
          "FA_IFO_R",
          "FA_IFO_R",
          "FA_IFO_R",
          "FA_IFO_R",
          "FA_IFO_R",
          "FA_IFO_R",
          "FA_IFO_R",
          "FA_IFO_R",
          "FA_IFO_R",
          "FA_IFO_R",
          "FA_IFO_R",
          "FA_IFO_R",
          "FA_IFO_R",
          "FA_IFO_R",
          "FA_IFO_R",
          "FA_IFO_R",
          "FA_IFO_R",
          "FA_IFO_R",
          "FA_IFO_R",
          "FA_IFO_R",
          "FA_IFO_R",
          "FA_IFO_R",
          "FA_IFO_R",
          "FA_IFO_R",
          "FA_IFO_R",
          "FA_IFO_R",
          "FA_IFO_R",
          "FA_IFO_R",
          "FA_IFO_R",
          "FA_IFO_R",
          "FA_IFO_R",
          "FA_IFO_R",
          "FA_IFO_R",
          "FA_IFO_R",
          "FA_IFO_R",
          "FA_IFO_R",
          "FA_IFO_R",
          "FA_IFO_R",
          "FA_IFO_R",
          "FA_IFO_R",
          "FA_IFO_R",
          "FA_IFO_R",
          "FA_IFO_R",
          "FA_IFO_R",
          "FA_IFO_R",
          "FA_IFO_R",
          "FA_IFO_R",
          "FA_IFO_R",
          "FA_IFO_R",
          "FA_IFO_R",
          "FA_IFO_R",
          "FA_IFO_R",
          "FA_IFO_R",
          "FA_IFO_R",
          "FA_IFO_R",
          "FA_IFO_R",
          "FA_IFO_R",
          "FA_IFO_R",
          "FA_IFO_R",
          "FA_IFO_R",
          "FA_IFO_R",
          "FA_IFO_R",
          "FA_IFO_R",
          "FA_IFO_R",
          "FA_IFO_R",
          "FA_IFO_R",
          "FA_IFO_R",
          "FA_IFO_R",
          "FA_IFO_R",
          "FA_IFO_R",
          "FA_IFO_R",
          "FA_IFO_R",
          "FA_IFO_R",
          "FA_IFO_R",
          "FA_IFO_R",
          "FA_IFO_R",
          "FA_IFO_R",
          "FA_IFO_R",
          "FA_IFO_R",
          "FA_IFO_R",
          "FA_IFO_R",
          "FA_IFO_R",
          "FA_IFO_R",
          "FA_IFO_R",
          "FA_IFO_R",
          "FA_IFO_R"
         ],
         "x0": " ",
         "xaxis": "x",
         "y": [
          0.562896,
          0.545194,
          0.559204,
          0.575463,
          0.558033,
          0.531396,
          0.536885,
          0.546298,
          0.543062,
          0.539274,
          0.558478,
          0.546401,
          0.542443,
          0.581525,
          0.533638,
          0.502077,
          0.553186,
          0.566868,
          0.547492,
          0.550153,
          0.552317,
          0.538178,
          0.561545,
          0.561965,
          0.55424,
          0.520034,
          0.553408,
          0.524074,
          0.538806,
          0.562896,
          0.545194,
          0.559204,
          0.575463,
          0.558033,
          0.531396,
          0.536885,
          0.546298,
          0.543062,
          0.539274,
          0.558478,
          0.546401,
          0.542443,
          0.581525,
          0.533638,
          0.502077,
          0.553186,
          0.566868,
          0.547492,
          0.550153,
          0.552317,
          0.538178,
          0.561545,
          0.561965,
          0.55424,
          0.520034,
          0.553408,
          0.524074,
          0.538806,
          0.562896,
          0.545194,
          0.559204,
          0.575463,
          0.558033,
          0.531396,
          0.536885,
          0.546298,
          0.543062,
          0.539274,
          0.558478,
          0.546401,
          0.542443,
          0.581525,
          0.533638,
          0.502077,
          0.553186,
          0.566868,
          0.547492,
          0.550153,
          0.552317,
          0.538178,
          0.561545,
          0.561965,
          0.55424,
          0.520034,
          0.553408,
          0.524074,
          0.538806,
          0.594611,
          0.562689,
          0.599351,
          0.599514,
          0.593346,
          0.560938,
          0.569609,
          0.591169,
          0.572956,
          0.550434,
          0.603514,
          0.557004,
          0.573403,
          0.597033,
          0.567377,
          0.543374,
          0.592889,
          0.594134,
          0.577884,
          0.588771,
          0.575692,
          0.542704,
          0.580592,
          0.585245,
          0.593982,
          0.541317,
          0.54722,
          0.544977,
          0.594969,
          0.594611,
          0.562689,
          0.599351,
          0.599514,
          0.593346,
          0.560938,
          0.569609,
          0.591169,
          0.572956,
          0.550434,
          0.603514,
          0.557004,
          0.573403,
          0.597033,
          0.567377,
          0.543374,
          0.592889,
          0.594134,
          0.577884,
          0.588771,
          0.575692,
          0.542704,
          0.580592,
          0.585245,
          0.593982,
          0.541317,
          0.54722,
          0.544977,
          0.594969,
          0.594611,
          0.562689,
          0.599351,
          0.599514,
          0.593346,
          0.560938,
          0.569609,
          0.591169,
          0.572956,
          0.550434,
          0.603514,
          0.557004,
          0.573403,
          0.597033,
          0.567377,
          0.543374,
          0.592889,
          0.594134,
          0.577884,
          0.588771,
          0.575692,
          0.542704,
          0.580592,
          0.585245,
          0.593982,
          0.541317,
          0.54722,
          0.544977,
          0.594969
         ],
         "y0": " ",
         "yaxis": "y"
        },
        {
         "alignmentgroup": "True",
         "boxmean": true,
         "boxpoints": "all",
         "customdata": [
          [
           "SLF"
          ],
          [
           "SLF"
          ],
          [
           "SLF"
          ],
          [
           "SLF"
          ],
          [
           "SLF"
          ],
          [
           "SLF"
          ],
          [
           "SLF"
          ],
          [
           "SLF"
          ],
          [
           "SLF"
          ],
          [
           "SLF"
          ],
          [
           "SLF"
          ],
          [
           "SLF"
          ],
          [
           "SLF"
          ],
          [
           "SLF"
          ],
          [
           "SLF"
          ],
          [
           "SLF"
          ],
          [
           "SLF"
          ],
          [
           "SLF"
          ],
          [
           "SLF"
          ],
          [
           "SLF"
          ],
          [
           "SLF"
          ],
          [
           "SLF"
          ],
          [
           "SLF"
          ],
          [
           "SLF"
          ],
          [
           "SLF"
          ],
          [
           "SLF"
          ],
          [
           "SLF"
          ],
          [
           "SLF"
          ],
          [
           "SLF"
          ],
          [
           "SLF"
          ],
          [
           "SLF"
          ],
          [
           "SLF"
          ],
          [
           "SLF"
          ],
          [
           "SLF"
          ],
          [
           "SLF"
          ],
          [
           "SLF"
          ],
          [
           "SLF"
          ],
          [
           "SLF"
          ],
          [
           "SLF"
          ],
          [
           "SLF"
          ],
          [
           "SLF"
          ],
          [
           "SLF"
          ],
          [
           "SLF"
          ],
          [
           "SLF"
          ],
          [
           "SLF"
          ],
          [
           "SLF"
          ],
          [
           "SLF"
          ],
          [
           "SLF"
          ],
          [
           "SLF"
          ],
          [
           "SLF"
          ],
          [
           "SLF"
          ],
          [
           "SLF"
          ],
          [
           "SLF"
          ],
          [
           "SLF"
          ],
          [
           "SLF"
          ],
          [
           "SLF"
          ],
          [
           "SLF"
          ],
          [
           "SLF"
          ],
          [
           "SLF"
          ],
          [
           "SLF"
          ],
          [
           "SLF"
          ],
          [
           "SLF"
          ],
          [
           "SLF"
          ],
          [
           "SLF"
          ],
          [
           "SLF"
          ],
          [
           "SLF"
          ],
          [
           "SLF"
          ],
          [
           "SLF"
          ],
          [
           "SLF"
          ],
          [
           "SLF"
          ],
          [
           "SLF"
          ],
          [
           "SLF"
          ],
          [
           "SLF"
          ],
          [
           "SLF"
          ],
          [
           "SLF"
          ],
          [
           "SLF"
          ],
          [
           "SLF"
          ],
          [
           "SLF"
          ],
          [
           "SLF"
          ],
          [
           "SLF"
          ],
          [
           "SLF"
          ],
          [
           "SLF"
          ],
          [
           "SLF"
          ],
          [
           "SLF"
          ],
          [
           "SLF"
          ],
          [
           "SLF"
          ],
          [
           "SLF"
          ],
          [
           "SLF"
          ],
          [
           "SLF"
          ],
          [
           "SLF"
          ],
          [
           "SLF"
          ],
          [
           "SLF"
          ],
          [
           "SLF"
          ],
          [
           "SLF"
          ],
          [
           "SLF"
          ],
          [
           "SLF"
          ],
          [
           "SLF"
          ],
          [
           "SLF"
          ],
          [
           "SLF"
          ],
          [
           "SLF"
          ],
          [
           "SLF"
          ],
          [
           "SLF"
          ],
          [
           "SLF"
          ],
          [
           "SLF"
          ],
          [
           "SLF"
          ],
          [
           "SLF"
          ],
          [
           "SLF"
          ],
          [
           "SLF"
          ],
          [
           "SLF"
          ],
          [
           "SLF"
          ],
          [
           "SLF"
          ],
          [
           "SLF"
          ],
          [
           "SLF"
          ],
          [
           "SLF"
          ],
          [
           "SLF"
          ],
          [
           "SLF"
          ],
          [
           "SLF"
          ],
          [
           "SLF"
          ],
          [
           "SLF"
          ],
          [
           "SLF"
          ],
          [
           "SLF"
          ],
          [
           "SLF"
          ],
          [
           "SLF"
          ],
          [
           "SLF"
          ],
          [
           "SLF"
          ],
          [
           "SLF"
          ],
          [
           "SLF"
          ],
          [
           "SLF"
          ],
          [
           "SLF"
          ],
          [
           "SLF"
          ],
          [
           "SLF"
          ],
          [
           "SLF"
          ],
          [
           "SLF"
          ],
          [
           "SLF"
          ],
          [
           "SLF"
          ],
          [
           "SLF"
          ],
          [
           "SLF"
          ],
          [
           "SLF"
          ],
          [
           "SLF"
          ],
          [
           "SLF"
          ],
          [
           "SLF"
          ],
          [
           "SLF"
          ],
          [
           "SLF"
          ],
          [
           "SLF"
          ],
          [
           "SLF"
          ],
          [
           "SLF"
          ],
          [
           "SLF"
          ],
          [
           "SLF"
          ],
          [
           "SLF"
          ],
          [
           "SLF"
          ],
          [
           "SLF"
          ],
          [
           "SLF"
          ],
          [
           "SLF"
          ],
          [
           "SLF"
          ],
          [
           "SLF"
          ],
          [
           "SLF"
          ],
          [
           "SLF"
          ],
          [
           "SLF"
          ],
          [
           "SLF"
          ],
          [
           "SLF"
          ],
          [
           "SLF"
          ],
          [
           "SLF"
          ],
          [
           "SLF"
          ],
          [
           "SLF"
          ],
          [
           "SLF"
          ],
          [
           "SLF"
          ],
          [
           "SLF"
          ],
          [
           "SLF"
          ],
          [
           "SLF"
          ],
          [
           "SLF"
          ],
          [
           "SLF"
          ],
          [
           "SLF"
          ],
          [
           "SLF"
          ],
          [
           "SLF"
          ]
         ],
         "hovertemplate": "Tract=%{customdata[0]}<br>Tract/FA/MD=%{x}<br>FA/MD Value=%{y}<extra></extra>",
         "jitter": 0.3,
         "legendgroup": "SLF",
         "line": {
          "width": 4
         },
         "marker": {
          "color": "#EF553B",
          "opacity": 0.6,
          "size": 4
         },
         "name": "SLF",
         "notched": false,
         "offsetgroup": "SLF",
         "orientation": "v",
         "showlegend": true,
         "type": "box",
         "x": [
          "FA_SLF_L",
          "FA_SLF_L",
          "FA_SLF_L",
          "FA_SLF_L",
          "FA_SLF_L",
          "FA_SLF_L",
          "FA_SLF_L",
          "FA_SLF_L",
          "FA_SLF_L",
          "FA_SLF_L",
          "FA_SLF_L",
          "FA_SLF_L",
          "FA_SLF_L",
          "FA_SLF_L",
          "FA_SLF_L",
          "FA_SLF_L",
          "FA_SLF_L",
          "FA_SLF_L",
          "FA_SLF_L",
          "FA_SLF_L",
          "FA_SLF_L",
          "FA_SLF_L",
          "FA_SLF_L",
          "FA_SLF_L",
          "FA_SLF_L",
          "FA_SLF_L",
          "FA_SLF_L",
          "FA_SLF_L",
          "FA_SLF_L",
          "FA_SLF_L",
          "FA_SLF_L",
          "FA_SLF_L",
          "FA_SLF_L",
          "FA_SLF_L",
          "FA_SLF_L",
          "FA_SLF_L",
          "FA_SLF_L",
          "FA_SLF_L",
          "FA_SLF_L",
          "FA_SLF_L",
          "FA_SLF_L",
          "FA_SLF_L",
          "FA_SLF_L",
          "FA_SLF_L",
          "FA_SLF_L",
          "FA_SLF_L",
          "FA_SLF_L",
          "FA_SLF_L",
          "FA_SLF_L",
          "FA_SLF_L",
          "FA_SLF_L",
          "FA_SLF_L",
          "FA_SLF_L",
          "FA_SLF_L",
          "FA_SLF_L",
          "FA_SLF_L",
          "FA_SLF_L",
          "FA_SLF_L",
          "FA_SLF_L",
          "FA_SLF_L",
          "FA_SLF_L",
          "FA_SLF_L",
          "FA_SLF_L",
          "FA_SLF_L",
          "FA_SLF_L",
          "FA_SLF_L",
          "FA_SLF_L",
          "FA_SLF_L",
          "FA_SLF_L",
          "FA_SLF_L",
          "FA_SLF_L",
          "FA_SLF_L",
          "FA_SLF_L",
          "FA_SLF_L",
          "FA_SLF_L",
          "FA_SLF_L",
          "FA_SLF_L",
          "FA_SLF_L",
          "FA_SLF_L",
          "FA_SLF_L",
          "FA_SLF_L",
          "FA_SLF_L",
          "FA_SLF_L",
          "FA_SLF_L",
          "FA_SLF_L",
          "FA_SLF_L",
          "FA_SLF_L",
          "FA_SLF_R",
          "FA_SLF_R",
          "FA_SLF_R",
          "FA_SLF_R",
          "FA_SLF_R",
          "FA_SLF_R",
          "FA_SLF_R",
          "FA_SLF_R",
          "FA_SLF_R",
          "FA_SLF_R",
          "FA_SLF_R",
          "FA_SLF_R",
          "FA_SLF_R",
          "FA_SLF_R",
          "FA_SLF_R",
          "FA_SLF_R",
          "FA_SLF_R",
          "FA_SLF_R",
          "FA_SLF_R",
          "FA_SLF_R",
          "FA_SLF_R",
          "FA_SLF_R",
          "FA_SLF_R",
          "FA_SLF_R",
          "FA_SLF_R",
          "FA_SLF_R",
          "FA_SLF_R",
          "FA_SLF_R",
          "FA_SLF_R",
          "FA_SLF_R",
          "FA_SLF_R",
          "FA_SLF_R",
          "FA_SLF_R",
          "FA_SLF_R",
          "FA_SLF_R",
          "FA_SLF_R",
          "FA_SLF_R",
          "FA_SLF_R",
          "FA_SLF_R",
          "FA_SLF_R",
          "FA_SLF_R",
          "FA_SLF_R",
          "FA_SLF_R",
          "FA_SLF_R",
          "FA_SLF_R",
          "FA_SLF_R",
          "FA_SLF_R",
          "FA_SLF_R",
          "FA_SLF_R",
          "FA_SLF_R",
          "FA_SLF_R",
          "FA_SLF_R",
          "FA_SLF_R",
          "FA_SLF_R",
          "FA_SLF_R",
          "FA_SLF_R",
          "FA_SLF_R",
          "FA_SLF_R",
          "FA_SLF_R",
          "FA_SLF_R",
          "FA_SLF_R",
          "FA_SLF_R",
          "FA_SLF_R",
          "FA_SLF_R",
          "FA_SLF_R",
          "FA_SLF_R",
          "FA_SLF_R",
          "FA_SLF_R",
          "FA_SLF_R",
          "FA_SLF_R",
          "FA_SLF_R",
          "FA_SLF_R",
          "FA_SLF_R",
          "FA_SLF_R",
          "FA_SLF_R",
          "FA_SLF_R",
          "FA_SLF_R",
          "FA_SLF_R",
          "FA_SLF_R",
          "FA_SLF_R",
          "FA_SLF_R",
          "FA_SLF_R",
          "FA_SLF_R",
          "FA_SLF_R",
          "FA_SLF_R",
          "FA_SLF_R",
          "FA_SLF_R"
         ],
         "x0": " ",
         "xaxis": "x",
         "y": [
          0.565784,
          0.55951,
          0.546183,
          0.535167,
          0.537531,
          0.518677,
          0.549793,
          0.52285,
          0.54077,
          0.55845,
          0.528034,
          0.534793,
          0.530714,
          0.52164,
          0.534218,
          0.508919,
          0.537075,
          0.556769,
          0.508706,
          0.525988,
          0.551971,
          0.503886,
          0.524241,
          0.513721,
          0.556387,
          0.520385,
          0.525851,
          0.521189,
          0.525633,
          0.565784,
          0.55951,
          0.546183,
          0.535167,
          0.537531,
          0.518677,
          0.549793,
          0.52285,
          0.54077,
          0.55845,
          0.528034,
          0.534793,
          0.530714,
          0.52164,
          0.534218,
          0.508919,
          0.537075,
          0.556769,
          0.508706,
          0.525988,
          0.551971,
          0.503886,
          0.524241,
          0.513721,
          0.556387,
          0.520385,
          0.525851,
          0.521189,
          0.525633,
          0.565784,
          0.55951,
          0.546183,
          0.535167,
          0.537531,
          0.518677,
          0.549793,
          0.52285,
          0.54077,
          0.55845,
          0.528034,
          0.534793,
          0.530714,
          0.52164,
          0.534218,
          0.508919,
          0.537075,
          0.556769,
          0.508706,
          0.525988,
          0.551971,
          0.503886,
          0.524241,
          0.513721,
          0.556387,
          0.520385,
          0.525851,
          0.521189,
          0.525633,
          0.563069,
          0.572518,
          0.547813,
          0.543563,
          0.573079,
          0.513145,
          0.54892,
          0.527572,
          0.549156,
          0.541826,
          0.533342,
          0.51406,
          0.535786,
          0.545475,
          0.528334,
          0.500498,
          0.546279,
          0.549167,
          0.503523,
          0.538219,
          0.537119,
          0.520265,
          0.521467,
          0.514057,
          0.55285,
          0.516581,
          0.523445,
          0.533033,
          0.518254,
          0.563069,
          0.572518,
          0.547813,
          0.543563,
          0.573079,
          0.513145,
          0.54892,
          0.527572,
          0.549156,
          0.541826,
          0.533342,
          0.51406,
          0.535786,
          0.545475,
          0.528334,
          0.500498,
          0.546279,
          0.549167,
          0.503523,
          0.538219,
          0.537119,
          0.520265,
          0.521467,
          0.514057,
          0.55285,
          0.516581,
          0.523445,
          0.533033,
          0.518254,
          0.563069,
          0.572518,
          0.547813,
          0.543563,
          0.573079,
          0.513145,
          0.54892,
          0.527572,
          0.549156,
          0.541826,
          0.533342,
          0.51406,
          0.535786,
          0.545475,
          0.528334,
          0.500498,
          0.546279,
          0.549167,
          0.503523,
          0.538219,
          0.537119,
          0.520265,
          0.521467,
          0.514057,
          0.55285,
          0.516581,
          0.523445,
          0.533033,
          0.518254
         ],
         "y0": " ",
         "yaxis": "y"
        },
        {
         "alignmentgroup": "True",
         "boxmean": true,
         "boxpoints": "all",
         "customdata": [
          [
           "UF"
          ],
          [
           "UF"
          ],
          [
           "UF"
          ],
          [
           "UF"
          ],
          [
           "UF"
          ],
          [
           "UF"
          ],
          [
           "UF"
          ],
          [
           "UF"
          ],
          [
           "UF"
          ],
          [
           "UF"
          ],
          [
           "UF"
          ],
          [
           "UF"
          ],
          [
           "UF"
          ],
          [
           "UF"
          ],
          [
           "UF"
          ],
          [
           "UF"
          ],
          [
           "UF"
          ],
          [
           "UF"
          ],
          [
           "UF"
          ],
          [
           "UF"
          ],
          [
           "UF"
          ],
          [
           "UF"
          ],
          [
           "UF"
          ],
          [
           "UF"
          ],
          [
           "UF"
          ],
          [
           "UF"
          ],
          [
           "UF"
          ],
          [
           "UF"
          ],
          [
           "UF"
          ],
          [
           "UF"
          ],
          [
           "UF"
          ],
          [
           "UF"
          ],
          [
           "UF"
          ],
          [
           "UF"
          ],
          [
           "UF"
          ],
          [
           "UF"
          ],
          [
           "UF"
          ],
          [
           "UF"
          ],
          [
           "UF"
          ],
          [
           "UF"
          ],
          [
           "UF"
          ],
          [
           "UF"
          ],
          [
           "UF"
          ],
          [
           "UF"
          ],
          [
           "UF"
          ],
          [
           "UF"
          ],
          [
           "UF"
          ],
          [
           "UF"
          ],
          [
           "UF"
          ],
          [
           "UF"
          ],
          [
           "UF"
          ],
          [
           "UF"
          ],
          [
           "UF"
          ],
          [
           "UF"
          ],
          [
           "UF"
          ],
          [
           "UF"
          ],
          [
           "UF"
          ],
          [
           "UF"
          ],
          [
           "UF"
          ],
          [
           "UF"
          ],
          [
           "UF"
          ],
          [
           "UF"
          ],
          [
           "UF"
          ],
          [
           "UF"
          ],
          [
           "UF"
          ],
          [
           "UF"
          ],
          [
           "UF"
          ],
          [
           "UF"
          ],
          [
           "UF"
          ],
          [
           "UF"
          ],
          [
           "UF"
          ],
          [
           "UF"
          ],
          [
           "UF"
          ],
          [
           "UF"
          ],
          [
           "UF"
          ],
          [
           "UF"
          ],
          [
           "UF"
          ],
          [
           "UF"
          ],
          [
           "UF"
          ],
          [
           "UF"
          ],
          [
           "UF"
          ],
          [
           "UF"
          ],
          [
           "UF"
          ],
          [
           "UF"
          ],
          [
           "UF"
          ],
          [
           "UF"
          ],
          [
           "UF"
          ],
          [
           "UF"
          ],
          [
           "UF"
          ],
          [
           "UF"
          ],
          [
           "UF"
          ],
          [
           "UF"
          ],
          [
           "UF"
          ],
          [
           "UF"
          ],
          [
           "UF"
          ],
          [
           "UF"
          ],
          [
           "UF"
          ],
          [
           "UF"
          ],
          [
           "UF"
          ],
          [
           "UF"
          ],
          [
           "UF"
          ],
          [
           "UF"
          ],
          [
           "UF"
          ],
          [
           "UF"
          ],
          [
           "UF"
          ],
          [
           "UF"
          ],
          [
           "UF"
          ],
          [
           "UF"
          ],
          [
           "UF"
          ],
          [
           "UF"
          ],
          [
           "UF"
          ],
          [
           "UF"
          ],
          [
           "UF"
          ],
          [
           "UF"
          ],
          [
           "UF"
          ],
          [
           "UF"
          ],
          [
           "UF"
          ],
          [
           "UF"
          ],
          [
           "UF"
          ],
          [
           "UF"
          ],
          [
           "UF"
          ],
          [
           "UF"
          ],
          [
           "UF"
          ],
          [
           "UF"
          ],
          [
           "UF"
          ],
          [
           "UF"
          ],
          [
           "UF"
          ],
          [
           "UF"
          ],
          [
           "UF"
          ],
          [
           "UF"
          ],
          [
           "UF"
          ],
          [
           "UF"
          ],
          [
           "UF"
          ],
          [
           "UF"
          ],
          [
           "UF"
          ],
          [
           "UF"
          ],
          [
           "UF"
          ],
          [
           "UF"
          ],
          [
           "UF"
          ],
          [
           "UF"
          ],
          [
           "UF"
          ],
          [
           "UF"
          ],
          [
           "UF"
          ],
          [
           "UF"
          ],
          [
           "UF"
          ],
          [
           "UF"
          ],
          [
           "UF"
          ],
          [
           "UF"
          ],
          [
           "UF"
          ],
          [
           "UF"
          ],
          [
           "UF"
          ],
          [
           "UF"
          ],
          [
           "UF"
          ],
          [
           "UF"
          ],
          [
           "UF"
          ],
          [
           "UF"
          ],
          [
           "UF"
          ],
          [
           "UF"
          ],
          [
           "UF"
          ],
          [
           "UF"
          ],
          [
           "UF"
          ],
          [
           "UF"
          ],
          [
           "UF"
          ],
          [
           "UF"
          ],
          [
           "UF"
          ],
          [
           "UF"
          ],
          [
           "UF"
          ],
          [
           "UF"
          ],
          [
           "UF"
          ],
          [
           "UF"
          ],
          [
           "UF"
          ],
          [
           "UF"
          ],
          [
           "UF"
          ],
          [
           "UF"
          ]
         ],
         "hovertemplate": "Tract=%{customdata[0]}<br>Tract/FA/MD=%{x}<br>FA/MD Value=%{y}<extra></extra>",
         "jitter": 0.3,
         "legendgroup": "UF",
         "line": {
          "width": 4
         },
         "marker": {
          "color": "#00cc96",
          "opacity": 0.6,
          "size": 4
         },
         "name": "UF",
         "notched": false,
         "offsetgroup": "UF",
         "orientation": "v",
         "showlegend": true,
         "type": "box",
         "x": [
          "FA_UF_L",
          "FA_UF_L",
          "FA_UF_L",
          "FA_UF_L",
          "FA_UF_L",
          "FA_UF_L",
          "FA_UF_L",
          "FA_UF_L",
          "FA_UF_L",
          "FA_UF_L",
          "FA_UF_L",
          "FA_UF_L",
          "FA_UF_L",
          "FA_UF_L",
          "FA_UF_L",
          "FA_UF_L",
          "FA_UF_L",
          "FA_UF_L",
          "FA_UF_L",
          "FA_UF_L",
          "FA_UF_L",
          "FA_UF_L",
          "FA_UF_L",
          "FA_UF_L",
          "FA_UF_L",
          "FA_UF_L",
          "FA_UF_L",
          "FA_UF_L",
          "FA_UF_L",
          "FA_UF_L",
          "FA_UF_L",
          "FA_UF_L",
          "FA_UF_L",
          "FA_UF_L",
          "FA_UF_L",
          "FA_UF_L",
          "FA_UF_L",
          "FA_UF_L",
          "FA_UF_L",
          "FA_UF_L",
          "FA_UF_L",
          "FA_UF_L",
          "FA_UF_L",
          "FA_UF_L",
          "FA_UF_L",
          "FA_UF_L",
          "FA_UF_L",
          "FA_UF_L",
          "FA_UF_L",
          "FA_UF_L",
          "FA_UF_L",
          "FA_UF_L",
          "FA_UF_L",
          "FA_UF_L",
          "FA_UF_L",
          "FA_UF_L",
          "FA_UF_L",
          "FA_UF_L",
          "FA_UF_L",
          "FA_UF_L",
          "FA_UF_L",
          "FA_UF_L",
          "FA_UF_L",
          "FA_UF_L",
          "FA_UF_L",
          "FA_UF_L",
          "FA_UF_L",
          "FA_UF_L",
          "FA_UF_L",
          "FA_UF_L",
          "FA_UF_L",
          "FA_UF_L",
          "FA_UF_L",
          "FA_UF_L",
          "FA_UF_L",
          "FA_UF_L",
          "FA_UF_L",
          "FA_UF_L",
          "FA_UF_L",
          "FA_UF_L",
          "FA_UF_L",
          "FA_UF_L",
          "FA_UF_L",
          "FA_UF_L",
          "FA_UF_L",
          "FA_UF_L",
          "FA_UF_L",
          "FA_UF_R",
          "FA_UF_R",
          "FA_UF_R",
          "FA_UF_R",
          "FA_UF_R",
          "FA_UF_R",
          "FA_UF_R",
          "FA_UF_R",
          "FA_UF_R",
          "FA_UF_R",
          "FA_UF_R",
          "FA_UF_R",
          "FA_UF_R",
          "FA_UF_R",
          "FA_UF_R",
          "FA_UF_R",
          "FA_UF_R",
          "FA_UF_R",
          "FA_UF_R",
          "FA_UF_R",
          "FA_UF_R",
          "FA_UF_R",
          "FA_UF_R",
          "FA_UF_R",
          "FA_UF_R",
          "FA_UF_R",
          "FA_UF_R",
          "FA_UF_R",
          "FA_UF_R",
          "FA_UF_R",
          "FA_UF_R",
          "FA_UF_R",
          "FA_UF_R",
          "FA_UF_R",
          "FA_UF_R",
          "FA_UF_R",
          "FA_UF_R",
          "FA_UF_R",
          "FA_UF_R",
          "FA_UF_R",
          "FA_UF_R",
          "FA_UF_R",
          "FA_UF_R",
          "FA_UF_R",
          "FA_UF_R",
          "FA_UF_R",
          "FA_UF_R",
          "FA_UF_R",
          "FA_UF_R",
          "FA_UF_R",
          "FA_UF_R",
          "FA_UF_R",
          "FA_UF_R",
          "FA_UF_R",
          "FA_UF_R",
          "FA_UF_R",
          "FA_UF_R",
          "FA_UF_R",
          "FA_UF_R",
          "FA_UF_R",
          "FA_UF_R",
          "FA_UF_R",
          "FA_UF_R",
          "FA_UF_R",
          "FA_UF_R",
          "FA_UF_R",
          "FA_UF_R",
          "FA_UF_R",
          "FA_UF_R",
          "FA_UF_R",
          "FA_UF_R",
          "FA_UF_R",
          "FA_UF_R",
          "FA_UF_R",
          "FA_UF_R",
          "FA_UF_R",
          "FA_UF_R",
          "FA_UF_R",
          "FA_UF_R",
          "FA_UF_R",
          "FA_UF_R",
          "FA_UF_R",
          "FA_UF_R",
          "FA_UF_R",
          "FA_UF_R",
          "FA_UF_R",
          "FA_UF_R"
         ],
         "x0": " ",
         "xaxis": "x",
         "y": [
          0.563203,
          0.474282,
          0.513192,
          0.611975,
          0.595632,
          0.514616,
          0.501442,
          0.552853,
          0.508437,
          0.552003,
          0.527963,
          0.533474,
          0.549368,
          0.508069,
          0.493914,
          0.521002,
          0.466378,
          0.507366,
          0.512337,
          0.525589,
          0.517921,
          0.572304,
          0.484729,
          0.497104,
          0.502044,
          0.520572,
          0.58061,
          0.500748,
          0.574769,
          0.563203,
          0.474282,
          0.513192,
          0.611975,
          0.595632,
          0.514616,
          0.501442,
          0.552853,
          0.508437,
          0.552003,
          0.527963,
          0.533474,
          0.549368,
          0.508069,
          0.493914,
          0.521002,
          0.466378,
          0.507366,
          0.512337,
          0.525589,
          0.517921,
          0.572304,
          0.484729,
          0.497104,
          0.502044,
          0.520572,
          0.58061,
          0.500748,
          0.574769,
          0.563203,
          0.474282,
          0.513192,
          0.611975,
          0.595632,
          0.514616,
          0.501442,
          0.552853,
          0.508437,
          0.552003,
          0.527963,
          0.533474,
          0.549368,
          0.508069,
          0.493914,
          0.521002,
          0.466378,
          0.507366,
          0.512337,
          0.525589,
          0.517921,
          0.572304,
          0.484729,
          0.497104,
          0.502044,
          0.520572,
          0.58061,
          0.500748,
          0.574769,
          0.608367,
          0.539469,
          0.568014,
          0.616135,
          0.595467,
          0.529636,
          0.546025,
          0.542394,
          0.549395,
          0.588577,
          0.546068,
          0.539099,
          0.54114,
          0.534091,
          0.512197,
          0.53662,
          0.475869,
          0.559685,
          0.5126,
          0.551594,
          0.56603,
          0.575336,
          0.504892,
          0.534951,
          0.526209,
          0.580468,
          0.605998,
          0.522802,
          0.558005,
          0.608367,
          0.539469,
          0.568014,
          0.616135,
          0.595467,
          0.529636,
          0.546025,
          0.542394,
          0.549395,
          0.588577,
          0.546068,
          0.539099,
          0.54114,
          0.534091,
          0.512197,
          0.53662,
          0.475869,
          0.559685,
          0.5126,
          0.551594,
          0.56603,
          0.575336,
          0.504892,
          0.534951,
          0.526209,
          0.580468,
          0.605998,
          0.522802,
          0.558005,
          0.608367,
          0.539469,
          0.568014,
          0.616135,
          0.595467,
          0.529636,
          0.546025,
          0.542394,
          0.549395,
          0.588577,
          0.546068,
          0.539099,
          0.54114,
          0.534091,
          0.512197,
          0.53662,
          0.475869,
          0.559685,
          0.5126,
          0.551594,
          0.56603,
          0.575336,
          0.504892,
          0.534951,
          0.526209,
          0.580468,
          0.605998,
          0.522802,
          0.558005
         ],
         "y0": " ",
         "yaxis": "y"
        },
        {
         "alignmentgroup": "True",
         "boxmean": true,
         "boxpoints": "all",
         "customdata": [
          [
           "Cingulum"
          ],
          [
           "Cingulum"
          ],
          [
           "Cingulum"
          ],
          [
           "Cingulum"
          ],
          [
           "Cingulum"
          ],
          [
           "Cingulum"
          ],
          [
           "Cingulum"
          ],
          [
           "Cingulum"
          ],
          [
           "Cingulum"
          ],
          [
           "Cingulum"
          ],
          [
           "Cingulum"
          ],
          [
           "Cingulum"
          ],
          [
           "Cingulum"
          ],
          [
           "Cingulum"
          ],
          [
           "Cingulum"
          ],
          [
           "Cingulum"
          ],
          [
           "Cingulum"
          ],
          [
           "Cingulum"
          ],
          [
           "Cingulum"
          ],
          [
           "Cingulum"
          ],
          [
           "Cingulum"
          ],
          [
           "Cingulum"
          ],
          [
           "Cingulum"
          ],
          [
           "Cingulum"
          ],
          [
           "Cingulum"
          ],
          [
           "Cingulum"
          ],
          [
           "Cingulum"
          ],
          [
           "Cingulum"
          ],
          [
           "Cingulum"
          ],
          [
           "Cingulum"
          ],
          [
           "Cingulum"
          ],
          [
           "Cingulum"
          ],
          [
           "Cingulum"
          ],
          [
           "Cingulum"
          ],
          [
           "Cingulum"
          ],
          [
           "Cingulum"
          ],
          [
           "Cingulum"
          ],
          [
           "Cingulum"
          ],
          [
           "Cingulum"
          ],
          [
           "Cingulum"
          ],
          [
           "Cingulum"
          ],
          [
           "Cingulum"
          ],
          [
           "Cingulum"
          ],
          [
           "Cingulum"
          ],
          [
           "Cingulum"
          ],
          [
           "Cingulum"
          ],
          [
           "Cingulum"
          ],
          [
           "Cingulum"
          ],
          [
           "Cingulum"
          ],
          [
           "Cingulum"
          ],
          [
           "Cingulum"
          ],
          [
           "Cingulum"
          ],
          [
           "Cingulum"
          ],
          [
           "Cingulum"
          ],
          [
           "Cingulum"
          ],
          [
           "Cingulum"
          ],
          [
           "Cingulum"
          ],
          [
           "Cingulum"
          ],
          [
           "Cingulum"
          ],
          [
           "Cingulum"
          ],
          [
           "Cingulum"
          ],
          [
           "Cingulum"
          ],
          [
           "Cingulum"
          ],
          [
           "Cingulum"
          ],
          [
           "Cingulum"
          ],
          [
           "Cingulum"
          ],
          [
           "Cingulum"
          ],
          [
           "Cingulum"
          ],
          [
           "Cingulum"
          ],
          [
           "Cingulum"
          ],
          [
           "Cingulum"
          ],
          [
           "Cingulum"
          ],
          [
           "Cingulum"
          ],
          [
           "Cingulum"
          ],
          [
           "Cingulum"
          ],
          [
           "Cingulum"
          ],
          [
           "Cingulum"
          ],
          [
           "Cingulum"
          ],
          [
           "Cingulum"
          ],
          [
           "Cingulum"
          ],
          [
           "Cingulum"
          ],
          [
           "Cingulum"
          ],
          [
           "Cingulum"
          ],
          [
           "Cingulum"
          ],
          [
           "Cingulum"
          ],
          [
           "Cingulum"
          ],
          [
           "Cingulum"
          ],
          [
           "Cingulum"
          ],
          [
           "Cingulum"
          ],
          [
           "Cingulum"
          ],
          [
           "Cingulum"
          ],
          [
           "Cingulum"
          ],
          [
           "Cingulum"
          ],
          [
           "Cingulum"
          ],
          [
           "Cingulum"
          ],
          [
           "Cingulum"
          ],
          [
           "Cingulum"
          ],
          [
           "Cingulum"
          ],
          [
           "Cingulum"
          ],
          [
           "Cingulum"
          ],
          [
           "Cingulum"
          ],
          [
           "Cingulum"
          ],
          [
           "Cingulum"
          ],
          [
           "Cingulum"
          ],
          [
           "Cingulum"
          ],
          [
           "Cingulum"
          ],
          [
           "Cingulum"
          ],
          [
           "Cingulum"
          ],
          [
           "Cingulum"
          ],
          [
           "Cingulum"
          ],
          [
           "Cingulum"
          ],
          [
           "Cingulum"
          ],
          [
           "Cingulum"
          ],
          [
           "Cingulum"
          ],
          [
           "Cingulum"
          ],
          [
           "Cingulum"
          ],
          [
           "Cingulum"
          ],
          [
           "Cingulum"
          ],
          [
           "Cingulum"
          ],
          [
           "Cingulum"
          ],
          [
           "Cingulum"
          ],
          [
           "Cingulum"
          ],
          [
           "Cingulum"
          ],
          [
           "Cingulum"
          ],
          [
           "Cingulum"
          ],
          [
           "Cingulum"
          ],
          [
           "Cingulum"
          ],
          [
           "Cingulum"
          ],
          [
           "Cingulum"
          ],
          [
           "Cingulum"
          ],
          [
           "Cingulum"
          ],
          [
           "Cingulum"
          ],
          [
           "Cingulum"
          ],
          [
           "Cingulum"
          ],
          [
           "Cingulum"
          ],
          [
           "Cingulum"
          ],
          [
           "Cingulum"
          ],
          [
           "Cingulum"
          ],
          [
           "Cingulum"
          ],
          [
           "Cingulum"
          ],
          [
           "Cingulum"
          ],
          [
           "Cingulum"
          ],
          [
           "Cingulum"
          ],
          [
           "Cingulum"
          ],
          [
           "Cingulum"
          ],
          [
           "Cingulum"
          ],
          [
           "Cingulum"
          ],
          [
           "Cingulum"
          ],
          [
           "Cingulum"
          ],
          [
           "Cingulum"
          ],
          [
           "Cingulum"
          ],
          [
           "Cingulum"
          ],
          [
           "Cingulum"
          ],
          [
           "Cingulum"
          ],
          [
           "Cingulum"
          ],
          [
           "Cingulum"
          ],
          [
           "Cingulum"
          ],
          [
           "Cingulum"
          ],
          [
           "Cingulum"
          ],
          [
           "Cingulum"
          ],
          [
           "Cingulum"
          ],
          [
           "Cingulum"
          ],
          [
           "Cingulum"
          ],
          [
           "Cingulum"
          ],
          [
           "Cingulum"
          ],
          [
           "Cingulum"
          ],
          [
           "Cingulum"
          ],
          [
           "Cingulum"
          ],
          [
           "Cingulum"
          ],
          [
           "Cingulum"
          ],
          [
           "Cingulum"
          ],
          [
           "Cingulum"
          ],
          [
           "Cingulum"
          ],
          [
           "Cingulum"
          ]
         ],
         "hovertemplate": "Tract=%{customdata[0]}<br>Tract/FA/MD=%{x}<br>FA/MD Value=%{y}<extra></extra>",
         "jitter": 0.3,
         "legendgroup": "Cingulum",
         "line": {
          "width": 4
         },
         "marker": {
          "color": "#ab63fa",
          "opacity": 0.6,
          "size": 4
         },
         "name": "Cingulum",
         "notched": false,
         "offsetgroup": "Cingulum",
         "orientation": "v",
         "showlegend": true,
         "type": "box",
         "x": [
          "FA_Cingulum_L",
          "FA_Cingulum_L",
          "FA_Cingulum_L",
          "FA_Cingulum_L",
          "FA_Cingulum_L",
          "FA_Cingulum_L",
          "FA_Cingulum_L",
          "FA_Cingulum_L",
          "FA_Cingulum_L",
          "FA_Cingulum_L",
          "FA_Cingulum_L",
          "FA_Cingulum_L",
          "FA_Cingulum_L",
          "FA_Cingulum_L",
          "FA_Cingulum_L",
          "FA_Cingulum_L",
          "FA_Cingulum_L",
          "FA_Cingulum_L",
          "FA_Cingulum_L",
          "FA_Cingulum_L",
          "FA_Cingulum_L",
          "FA_Cingulum_L",
          "FA_Cingulum_L",
          "FA_Cingulum_L",
          "FA_Cingulum_L",
          "FA_Cingulum_L",
          "FA_Cingulum_L",
          "FA_Cingulum_L",
          "FA_Cingulum_L",
          "FA_Cingulum_L",
          "FA_Cingulum_L",
          "FA_Cingulum_L",
          "FA_Cingulum_L",
          "FA_Cingulum_L",
          "FA_Cingulum_L",
          "FA_Cingulum_L",
          "FA_Cingulum_L",
          "FA_Cingulum_L",
          "FA_Cingulum_L",
          "FA_Cingulum_L",
          "FA_Cingulum_L",
          "FA_Cingulum_L",
          "FA_Cingulum_L",
          "FA_Cingulum_L",
          "FA_Cingulum_L",
          "FA_Cingulum_L",
          "FA_Cingulum_L",
          "FA_Cingulum_L",
          "FA_Cingulum_L",
          "FA_Cingulum_L",
          "FA_Cingulum_L",
          "FA_Cingulum_L",
          "FA_Cingulum_L",
          "FA_Cingulum_L",
          "FA_Cingulum_L",
          "FA_Cingulum_L",
          "FA_Cingulum_L",
          "FA_Cingulum_L",
          "FA_Cingulum_L",
          "FA_Cingulum_L",
          "FA_Cingulum_L",
          "FA_Cingulum_L",
          "FA_Cingulum_L",
          "FA_Cingulum_L",
          "FA_Cingulum_L",
          "FA_Cingulum_L",
          "FA_Cingulum_L",
          "FA_Cingulum_L",
          "FA_Cingulum_L",
          "FA_Cingulum_L",
          "FA_Cingulum_L",
          "FA_Cingulum_L",
          "FA_Cingulum_L",
          "FA_Cingulum_L",
          "FA_Cingulum_L",
          "FA_Cingulum_L",
          "FA_Cingulum_L",
          "FA_Cingulum_L",
          "FA_Cingulum_L",
          "FA_Cingulum_L",
          "FA_Cingulum_L",
          "FA_Cingulum_L",
          "FA_Cingulum_L",
          "FA_Cingulum_L",
          "FA_Cingulum_L",
          "FA_Cingulum_L",
          "FA_Cingulum_L",
          "FA_Cingulum_R",
          "FA_Cingulum_R",
          "FA_Cingulum_R",
          "FA_Cingulum_R",
          "FA_Cingulum_R",
          "FA_Cingulum_R",
          "FA_Cingulum_R",
          "FA_Cingulum_R",
          "FA_Cingulum_R",
          "FA_Cingulum_R",
          "FA_Cingulum_R",
          "FA_Cingulum_R",
          "FA_Cingulum_R",
          "FA_Cingulum_R",
          "FA_Cingulum_R",
          "FA_Cingulum_R",
          "FA_Cingulum_R",
          "FA_Cingulum_R",
          "FA_Cingulum_R",
          "FA_Cingulum_R",
          "FA_Cingulum_R",
          "FA_Cingulum_R",
          "FA_Cingulum_R",
          "FA_Cingulum_R",
          "FA_Cingulum_R",
          "FA_Cingulum_R",
          "FA_Cingulum_R",
          "FA_Cingulum_R",
          "FA_Cingulum_R",
          "FA_Cingulum_R",
          "FA_Cingulum_R",
          "FA_Cingulum_R",
          "FA_Cingulum_R",
          "FA_Cingulum_R",
          "FA_Cingulum_R",
          "FA_Cingulum_R",
          "FA_Cingulum_R",
          "FA_Cingulum_R",
          "FA_Cingulum_R",
          "FA_Cingulum_R",
          "FA_Cingulum_R",
          "FA_Cingulum_R",
          "FA_Cingulum_R",
          "FA_Cingulum_R",
          "FA_Cingulum_R",
          "FA_Cingulum_R",
          "FA_Cingulum_R",
          "FA_Cingulum_R",
          "FA_Cingulum_R",
          "FA_Cingulum_R",
          "FA_Cingulum_R",
          "FA_Cingulum_R",
          "FA_Cingulum_R",
          "FA_Cingulum_R",
          "FA_Cingulum_R",
          "FA_Cingulum_R",
          "FA_Cingulum_R",
          "FA_Cingulum_R",
          "FA_Cingulum_R",
          "FA_Cingulum_R",
          "FA_Cingulum_R",
          "FA_Cingulum_R",
          "FA_Cingulum_R",
          "FA_Cingulum_R",
          "FA_Cingulum_R",
          "FA_Cingulum_R",
          "FA_Cingulum_R",
          "FA_Cingulum_R",
          "FA_Cingulum_R",
          "FA_Cingulum_R",
          "FA_Cingulum_R",
          "FA_Cingulum_R",
          "FA_Cingulum_R",
          "FA_Cingulum_R",
          "FA_Cingulum_R",
          "FA_Cingulum_R",
          "FA_Cingulum_R",
          "FA_Cingulum_R",
          "FA_Cingulum_R",
          "FA_Cingulum_R",
          "FA_Cingulum_R",
          "FA_Cingulum_R",
          "FA_Cingulum_R",
          "FA_Cingulum_R",
          "FA_Cingulum_R",
          "FA_Cingulum_R",
          "FA_Cingulum_R"
         ],
         "x0": " ",
         "xaxis": "x",
         "y": [
          0.62287,
          0.606037,
          0.60493,
          0.655879,
          0.604695,
          0.573706,
          0.593242,
          0.564535,
          0.612985,
          0.625611,
          0.589261,
          0.596532,
          0.57599,
          0.633214,
          0.569445,
          0.584713,
          0.567155,
          0.608268,
          0.587196,
          0.563036,
          0.617974,
          0.548733,
          0.590439,
          0.594413,
          0.591718,
          0.574968,
          0.594689,
          0.585707,
          0.603756,
          0.62287,
          0.606037,
          0.60493,
          0.655879,
          0.604695,
          0.573706,
          0.593242,
          0.564535,
          0.612985,
          0.625611,
          0.589261,
          0.596532,
          0.57599,
          0.633214,
          0.569445,
          0.584713,
          0.567155,
          0.608268,
          0.587196,
          0.563036,
          0.617974,
          0.548733,
          0.590439,
          0.594413,
          0.591718,
          0.574968,
          0.594689,
          0.585707,
          0.603756,
          0.62287,
          0.606037,
          0.60493,
          0.655879,
          0.604695,
          0.573706,
          0.593242,
          0.564535,
          0.612985,
          0.625611,
          0.589261,
          0.596532,
          0.57599,
          0.633214,
          0.569445,
          0.584713,
          0.567155,
          0.608268,
          0.587196,
          0.563036,
          0.617974,
          0.548733,
          0.590439,
          0.594413,
          0.591718,
          0.574968,
          0.594689,
          0.585707,
          0.603756,
          0.557041,
          0.550508,
          0.525909,
          0.625258,
          0.595042,
          0.547374,
          0.575865,
          0.515294,
          0.568577,
          0.525771,
          0.541802,
          0.530846,
          0.520436,
          0.559774,
          0.516044,
          0.539679,
          0.503003,
          0.55548,
          0.50938,
          0.498781,
          0.572325,
          0.519822,
          0.518678,
          0.536256,
          0.554488,
          0.522858,
          0.528627,
          0.544502,
          0.524005,
          0.557041,
          0.550508,
          0.525909,
          0.625258,
          0.595042,
          0.547374,
          0.575865,
          0.515294,
          0.568577,
          0.525771,
          0.541802,
          0.530846,
          0.520436,
          0.559774,
          0.516044,
          0.539679,
          0.503003,
          0.55548,
          0.50938,
          0.498781,
          0.572325,
          0.519822,
          0.518678,
          0.536256,
          0.554488,
          0.522858,
          0.528627,
          0.544502,
          0.524005,
          0.557041,
          0.550508,
          0.525909,
          0.625258,
          0.595042,
          0.547374,
          0.575865,
          0.515294,
          0.568577,
          0.525771,
          0.541802,
          0.530846,
          0.520436,
          0.559774,
          0.516044,
          0.539679,
          0.503003,
          0.55548,
          0.50938,
          0.498781,
          0.572325,
          0.519822,
          0.518678,
          0.536256,
          0.554488,
          0.522858,
          0.528627,
          0.544502,
          0.524005
         ],
         "y0": " ",
         "yaxis": "y"
        },
        {
         "alignmentgroup": "True",
         "boxmean": true,
         "boxpoints": "all",
         "customdata": [
          [
           "Cingulum (hippocampus)"
          ],
          [
           "Cingulum (hippocampus)"
          ],
          [
           "Cingulum (hippocampus)"
          ],
          [
           "Cingulum (hippocampus)"
          ],
          [
           "Cingulum (hippocampus)"
          ],
          [
           "Cingulum (hippocampus)"
          ],
          [
           "Cingulum (hippocampus)"
          ],
          [
           "Cingulum (hippocampus)"
          ],
          [
           "Cingulum (hippocampus)"
          ],
          [
           "Cingulum (hippocampus)"
          ],
          [
           "Cingulum (hippocampus)"
          ],
          [
           "Cingulum (hippocampus)"
          ],
          [
           "Cingulum (hippocampus)"
          ],
          [
           "Cingulum (hippocampus)"
          ],
          [
           "Cingulum (hippocampus)"
          ],
          [
           "Cingulum (hippocampus)"
          ],
          [
           "Cingulum (hippocampus)"
          ],
          [
           "Cingulum (hippocampus)"
          ],
          [
           "Cingulum (hippocampus)"
          ],
          [
           "Cingulum (hippocampus)"
          ],
          [
           "Cingulum (hippocampus)"
          ],
          [
           "Cingulum (hippocampus)"
          ],
          [
           "Cingulum (hippocampus)"
          ],
          [
           "Cingulum (hippocampus)"
          ],
          [
           "Cingulum (hippocampus)"
          ],
          [
           "Cingulum (hippocampus)"
          ],
          [
           "Cingulum (hippocampus)"
          ],
          [
           "Cingulum (hippocampus)"
          ],
          [
           "Cingulum (hippocampus)"
          ],
          [
           "Cingulum (hippocampus)"
          ],
          [
           "Cingulum (hippocampus)"
          ],
          [
           "Cingulum (hippocampus)"
          ],
          [
           "Cingulum (hippocampus)"
          ],
          [
           "Cingulum (hippocampus)"
          ],
          [
           "Cingulum (hippocampus)"
          ],
          [
           "Cingulum (hippocampus)"
          ],
          [
           "Cingulum (hippocampus)"
          ],
          [
           "Cingulum (hippocampus)"
          ],
          [
           "Cingulum (hippocampus)"
          ],
          [
           "Cingulum (hippocampus)"
          ],
          [
           "Cingulum (hippocampus)"
          ],
          [
           "Cingulum (hippocampus)"
          ],
          [
           "Cingulum (hippocampus)"
          ],
          [
           "Cingulum (hippocampus)"
          ],
          [
           "Cingulum (hippocampus)"
          ],
          [
           "Cingulum (hippocampus)"
          ],
          [
           "Cingulum (hippocampus)"
          ],
          [
           "Cingulum (hippocampus)"
          ],
          [
           "Cingulum (hippocampus)"
          ],
          [
           "Cingulum (hippocampus)"
          ],
          [
           "Cingulum (hippocampus)"
          ],
          [
           "Cingulum (hippocampus)"
          ],
          [
           "Cingulum (hippocampus)"
          ],
          [
           "Cingulum (hippocampus)"
          ],
          [
           "Cingulum (hippocampus)"
          ],
          [
           "Cingulum (hippocampus)"
          ],
          [
           "Cingulum (hippocampus)"
          ],
          [
           "Cingulum (hippocampus)"
          ],
          [
           "Cingulum (hippocampus)"
          ],
          [
           "Cingulum (hippocampus)"
          ],
          [
           "Cingulum (hippocampus)"
          ],
          [
           "Cingulum (hippocampus)"
          ],
          [
           "Cingulum (hippocampus)"
          ],
          [
           "Cingulum (hippocampus)"
          ],
          [
           "Cingulum (hippocampus)"
          ],
          [
           "Cingulum (hippocampus)"
          ],
          [
           "Cingulum (hippocampus)"
          ],
          [
           "Cingulum (hippocampus)"
          ],
          [
           "Cingulum (hippocampus)"
          ],
          [
           "Cingulum (hippocampus)"
          ],
          [
           "Cingulum (hippocampus)"
          ],
          [
           "Cingulum (hippocampus)"
          ],
          [
           "Cingulum (hippocampus)"
          ],
          [
           "Cingulum (hippocampus)"
          ],
          [
           "Cingulum (hippocampus)"
          ],
          [
           "Cingulum (hippocampus)"
          ],
          [
           "Cingulum (hippocampus)"
          ],
          [
           "Cingulum (hippocampus)"
          ],
          [
           "Cingulum (hippocampus)"
          ],
          [
           "Cingulum (hippocampus)"
          ],
          [
           "Cingulum (hippocampus)"
          ],
          [
           "Cingulum (hippocampus)"
          ],
          [
           "Cingulum (hippocampus)"
          ],
          [
           "Cingulum (hippocampus)"
          ],
          [
           "Cingulum (hippocampus)"
          ],
          [
           "Cingulum (hippocampus)"
          ],
          [
           "Cingulum (hippocampus)"
          ],
          [
           "Cingulum (hippocampus)"
          ],
          [
           "Cingulum (hippocampus)"
          ],
          [
           "Cingulum (hippocampus)"
          ],
          [
           "Cingulum (hippocampus)"
          ],
          [
           "Cingulum (hippocampus)"
          ],
          [
           "Cingulum (hippocampus)"
          ],
          [
           "Cingulum (hippocampus)"
          ],
          [
           "Cingulum (hippocampus)"
          ],
          [
           "Cingulum (hippocampus)"
          ],
          [
           "Cingulum (hippocampus)"
          ],
          [
           "Cingulum (hippocampus)"
          ],
          [
           "Cingulum (hippocampus)"
          ],
          [
           "Cingulum (hippocampus)"
          ],
          [
           "Cingulum (hippocampus)"
          ],
          [
           "Cingulum (hippocampus)"
          ],
          [
           "Cingulum (hippocampus)"
          ],
          [
           "Cingulum (hippocampus)"
          ],
          [
           "Cingulum (hippocampus)"
          ],
          [
           "Cingulum (hippocampus)"
          ],
          [
           "Cingulum (hippocampus)"
          ],
          [
           "Cingulum (hippocampus)"
          ],
          [
           "Cingulum (hippocampus)"
          ],
          [
           "Cingulum (hippocampus)"
          ],
          [
           "Cingulum (hippocampus)"
          ],
          [
           "Cingulum (hippocampus)"
          ],
          [
           "Cingulum (hippocampus)"
          ],
          [
           "Cingulum (hippocampus)"
          ],
          [
           "Cingulum (hippocampus)"
          ],
          [
           "Cingulum (hippocampus)"
          ],
          [
           "Cingulum (hippocampus)"
          ],
          [
           "Cingulum (hippocampus)"
          ],
          [
           "Cingulum (hippocampus)"
          ],
          [
           "Cingulum (hippocampus)"
          ],
          [
           "Cingulum (hippocampus)"
          ],
          [
           "Cingulum (hippocampus)"
          ],
          [
           "Cingulum (hippocampus)"
          ],
          [
           "Cingulum (hippocampus)"
          ],
          [
           "Cingulum (hippocampus)"
          ],
          [
           "Cingulum (hippocampus)"
          ],
          [
           "Cingulum (hippocampus)"
          ],
          [
           "Cingulum (hippocampus)"
          ],
          [
           "Cingulum (hippocampus)"
          ],
          [
           "Cingulum (hippocampus)"
          ],
          [
           "Cingulum (hippocampus)"
          ],
          [
           "Cingulum (hippocampus)"
          ],
          [
           "Cingulum (hippocampus)"
          ],
          [
           "Cingulum (hippocampus)"
          ],
          [
           "Cingulum (hippocampus)"
          ],
          [
           "Cingulum (hippocampus)"
          ],
          [
           "Cingulum (hippocampus)"
          ],
          [
           "Cingulum (hippocampus)"
          ],
          [
           "Cingulum (hippocampus)"
          ],
          [
           "Cingulum (hippocampus)"
          ],
          [
           "Cingulum (hippocampus)"
          ],
          [
           "Cingulum (hippocampus)"
          ],
          [
           "Cingulum (hippocampus)"
          ],
          [
           "Cingulum (hippocampus)"
          ],
          [
           "Cingulum (hippocampus)"
          ],
          [
           "Cingulum (hippocampus)"
          ],
          [
           "Cingulum (hippocampus)"
          ],
          [
           "Cingulum (hippocampus)"
          ],
          [
           "Cingulum (hippocampus)"
          ],
          [
           "Cingulum (hippocampus)"
          ],
          [
           "Cingulum (hippocampus)"
          ],
          [
           "Cingulum (hippocampus)"
          ],
          [
           "Cingulum (hippocampus)"
          ],
          [
           "Cingulum (hippocampus)"
          ],
          [
           "Cingulum (hippocampus)"
          ],
          [
           "Cingulum (hippocampus)"
          ],
          [
           "Cingulum (hippocampus)"
          ],
          [
           "Cingulum (hippocampus)"
          ],
          [
           "Cingulum (hippocampus)"
          ],
          [
           "Cingulum (hippocampus)"
          ],
          [
           "Cingulum (hippocampus)"
          ],
          [
           "Cingulum (hippocampus)"
          ],
          [
           "Cingulum (hippocampus)"
          ],
          [
           "Cingulum (hippocampus)"
          ],
          [
           "Cingulum (hippocampus)"
          ],
          [
           "Cingulum (hippocampus)"
          ],
          [
           "Cingulum (hippocampus)"
          ],
          [
           "Cingulum (hippocampus)"
          ],
          [
           "Cingulum (hippocampus)"
          ],
          [
           "Cingulum (hippocampus)"
          ],
          [
           "Cingulum (hippocampus)"
          ],
          [
           "Cingulum (hippocampus)"
          ],
          [
           "Cingulum (hippocampus)"
          ],
          [
           "Cingulum (hippocampus)"
          ]
         ],
         "hovertemplate": "Tract=%{customdata[0]}<br>Tract/FA/MD=%{x}<br>FA/MD Value=%{y}<extra></extra>",
         "jitter": 0.3,
         "legendgroup": "Cingulum (hippocampus)",
         "line": {
          "width": 4
         },
         "marker": {
          "color": "#FFA15A",
          "opacity": 0.6,
          "size": 4
         },
         "name": "Cingulum (hippocampus)",
         "notched": false,
         "offsetgroup": "Cingulum (hippocampus)",
         "orientation": "v",
         "showlegend": true,
         "type": "box",
         "x": [
          "FA_Cingulum (hippocampus)_L",
          "FA_Cingulum (hippocampus)_L",
          "FA_Cingulum (hippocampus)_L",
          "FA_Cingulum (hippocampus)_L",
          "FA_Cingulum (hippocampus)_L",
          "FA_Cingulum (hippocampus)_L",
          "FA_Cingulum (hippocampus)_L",
          "FA_Cingulum (hippocampus)_L",
          "FA_Cingulum (hippocampus)_L",
          "FA_Cingulum (hippocampus)_L",
          "FA_Cingulum (hippocampus)_L",
          "FA_Cingulum (hippocampus)_L",
          "FA_Cingulum (hippocampus)_L",
          "FA_Cingulum (hippocampus)_L",
          "FA_Cingulum (hippocampus)_L",
          "FA_Cingulum (hippocampus)_L",
          "FA_Cingulum (hippocampus)_L",
          "FA_Cingulum (hippocampus)_L",
          "FA_Cingulum (hippocampus)_L",
          "FA_Cingulum (hippocampus)_L",
          "FA_Cingulum (hippocampus)_L",
          "FA_Cingulum (hippocampus)_L",
          "FA_Cingulum (hippocampus)_L",
          "FA_Cingulum (hippocampus)_L",
          "FA_Cingulum (hippocampus)_L",
          "FA_Cingulum (hippocampus)_L",
          "FA_Cingulum (hippocampus)_L",
          "FA_Cingulum (hippocampus)_L",
          "FA_Cingulum (hippocampus)_L",
          "FA_Cingulum (hippocampus)_L",
          "FA_Cingulum (hippocampus)_L",
          "FA_Cingulum (hippocampus)_L",
          "FA_Cingulum (hippocampus)_L",
          "FA_Cingulum (hippocampus)_L",
          "FA_Cingulum (hippocampus)_L",
          "FA_Cingulum (hippocampus)_L",
          "FA_Cingulum (hippocampus)_L",
          "FA_Cingulum (hippocampus)_L",
          "FA_Cingulum (hippocampus)_L",
          "FA_Cingulum (hippocampus)_L",
          "FA_Cingulum (hippocampus)_L",
          "FA_Cingulum (hippocampus)_L",
          "FA_Cingulum (hippocampus)_L",
          "FA_Cingulum (hippocampus)_L",
          "FA_Cingulum (hippocampus)_L",
          "FA_Cingulum (hippocampus)_L",
          "FA_Cingulum (hippocampus)_L",
          "FA_Cingulum (hippocampus)_L",
          "FA_Cingulum (hippocampus)_L",
          "FA_Cingulum (hippocampus)_L",
          "FA_Cingulum (hippocampus)_L",
          "FA_Cingulum (hippocampus)_L",
          "FA_Cingulum (hippocampus)_L",
          "FA_Cingulum (hippocampus)_L",
          "FA_Cingulum (hippocampus)_L",
          "FA_Cingulum (hippocampus)_L",
          "FA_Cingulum (hippocampus)_L",
          "FA_Cingulum (hippocampus)_L",
          "FA_Cingulum (hippocampus)_L",
          "FA_Cingulum (hippocampus)_L",
          "FA_Cingulum (hippocampus)_L",
          "FA_Cingulum (hippocampus)_L",
          "FA_Cingulum (hippocampus)_L",
          "FA_Cingulum (hippocampus)_L",
          "FA_Cingulum (hippocampus)_L",
          "FA_Cingulum (hippocampus)_L",
          "FA_Cingulum (hippocampus)_L",
          "FA_Cingulum (hippocampus)_L",
          "FA_Cingulum (hippocampus)_L",
          "FA_Cingulum (hippocampus)_L",
          "FA_Cingulum (hippocampus)_L",
          "FA_Cingulum (hippocampus)_L",
          "FA_Cingulum (hippocampus)_L",
          "FA_Cingulum (hippocampus)_L",
          "FA_Cingulum (hippocampus)_L",
          "FA_Cingulum (hippocampus)_L",
          "FA_Cingulum (hippocampus)_L",
          "FA_Cingulum (hippocampus)_L",
          "FA_Cingulum (hippocampus)_L",
          "FA_Cingulum (hippocampus)_L",
          "FA_Cingulum (hippocampus)_L",
          "FA_Cingulum (hippocampus)_L",
          "FA_Cingulum (hippocampus)_L",
          "FA_Cingulum (hippocampus)_L",
          "FA_Cingulum (hippocampus)_L",
          "FA_Cingulum (hippocampus)_L",
          "FA_Cingulum (hippocampus)_L",
          "FA_Cingulum (hippocampus)_R",
          "FA_Cingulum (hippocampus)_R",
          "FA_Cingulum (hippocampus)_R",
          "FA_Cingulum (hippocampus)_R",
          "FA_Cingulum (hippocampus)_R",
          "FA_Cingulum (hippocampus)_R",
          "FA_Cingulum (hippocampus)_R",
          "FA_Cingulum (hippocampus)_R",
          "FA_Cingulum (hippocampus)_R",
          "FA_Cingulum (hippocampus)_R",
          "FA_Cingulum (hippocampus)_R",
          "FA_Cingulum (hippocampus)_R",
          "FA_Cingulum (hippocampus)_R",
          "FA_Cingulum (hippocampus)_R",
          "FA_Cingulum (hippocampus)_R",
          "FA_Cingulum (hippocampus)_R",
          "FA_Cingulum (hippocampus)_R",
          "FA_Cingulum (hippocampus)_R",
          "FA_Cingulum (hippocampus)_R",
          "FA_Cingulum (hippocampus)_R",
          "FA_Cingulum (hippocampus)_R",
          "FA_Cingulum (hippocampus)_R",
          "FA_Cingulum (hippocampus)_R",
          "FA_Cingulum (hippocampus)_R",
          "FA_Cingulum (hippocampus)_R",
          "FA_Cingulum (hippocampus)_R",
          "FA_Cingulum (hippocampus)_R",
          "FA_Cingulum (hippocampus)_R",
          "FA_Cingulum (hippocampus)_R",
          "FA_Cingulum (hippocampus)_R",
          "FA_Cingulum (hippocampus)_R",
          "FA_Cingulum (hippocampus)_R",
          "FA_Cingulum (hippocampus)_R",
          "FA_Cingulum (hippocampus)_R",
          "FA_Cingulum (hippocampus)_R",
          "FA_Cingulum (hippocampus)_R",
          "FA_Cingulum (hippocampus)_R",
          "FA_Cingulum (hippocampus)_R",
          "FA_Cingulum (hippocampus)_R",
          "FA_Cingulum (hippocampus)_R",
          "FA_Cingulum (hippocampus)_R",
          "FA_Cingulum (hippocampus)_R",
          "FA_Cingulum (hippocampus)_R",
          "FA_Cingulum (hippocampus)_R",
          "FA_Cingulum (hippocampus)_R",
          "FA_Cingulum (hippocampus)_R",
          "FA_Cingulum (hippocampus)_R",
          "FA_Cingulum (hippocampus)_R",
          "FA_Cingulum (hippocampus)_R",
          "FA_Cingulum (hippocampus)_R",
          "FA_Cingulum (hippocampus)_R",
          "FA_Cingulum (hippocampus)_R",
          "FA_Cingulum (hippocampus)_R",
          "FA_Cingulum (hippocampus)_R",
          "FA_Cingulum (hippocampus)_R",
          "FA_Cingulum (hippocampus)_R",
          "FA_Cingulum (hippocampus)_R",
          "FA_Cingulum (hippocampus)_R",
          "FA_Cingulum (hippocampus)_R",
          "FA_Cingulum (hippocampus)_R",
          "FA_Cingulum (hippocampus)_R",
          "FA_Cingulum (hippocampus)_R",
          "FA_Cingulum (hippocampus)_R",
          "FA_Cingulum (hippocampus)_R",
          "FA_Cingulum (hippocampus)_R",
          "FA_Cingulum (hippocampus)_R",
          "FA_Cingulum (hippocampus)_R",
          "FA_Cingulum (hippocampus)_R",
          "FA_Cingulum (hippocampus)_R",
          "FA_Cingulum (hippocampus)_R",
          "FA_Cingulum (hippocampus)_R",
          "FA_Cingulum (hippocampus)_R",
          "FA_Cingulum (hippocampus)_R",
          "FA_Cingulum (hippocampus)_R",
          "FA_Cingulum (hippocampus)_R",
          "FA_Cingulum (hippocampus)_R",
          "FA_Cingulum (hippocampus)_R",
          "FA_Cingulum (hippocampus)_R",
          "FA_Cingulum (hippocampus)_R",
          "FA_Cingulum (hippocampus)_R",
          "FA_Cingulum (hippocampus)_R",
          "FA_Cingulum (hippocampus)_R",
          "FA_Cingulum (hippocampus)_R",
          "FA_Cingulum (hippocampus)_R",
          "FA_Cingulum (hippocampus)_R",
          "FA_Cingulum (hippocampus)_R",
          "FA_Cingulum (hippocampus)_R"
         ],
         "x0": " ",
         "xaxis": "x",
         "y": [
          0.495761,
          0.499891,
          0.401938,
          0.42886,
          0.462828,
          0.413938,
          0.44726,
          0.447333,
          0.421321,
          0.474136,
          0.478676,
          0.447413,
          0.474702,
          0.478587,
          0.466654,
          0.433625,
          0.450793,
          0.469126,
          0.420809,
          0.458404,
          0.430935,
          0.392585,
          0.455725,
          0.454389,
          0.508229,
          0.442285,
          0.478883,
          0.434151,
          0.478928,
          0.495761,
          0.499891,
          0.401938,
          0.42886,
          0.462828,
          0.413938,
          0.44726,
          0.447333,
          0.421321,
          0.474136,
          0.478676,
          0.447413,
          0.474702,
          0.478587,
          0.466654,
          0.433625,
          0.450793,
          0.469126,
          0.420809,
          0.458404,
          0.430935,
          0.392585,
          0.455725,
          0.454389,
          0.508229,
          0.442285,
          0.478883,
          0.434151,
          0.478928,
          0.495761,
          0.499891,
          0.401938,
          0.42886,
          0.462828,
          0.413938,
          0.44726,
          0.447333,
          0.421321,
          0.474136,
          0.478676,
          0.447413,
          0.474702,
          0.478587,
          0.466654,
          0.433625,
          0.450793,
          0.469126,
          0.420809,
          0.458404,
          0.430935,
          0.392585,
          0.455725,
          0.454389,
          0.508229,
          0.442285,
          0.478883,
          0.434151,
          0.478928,
          0.47386,
          0.487159,
          0.465063,
          0.447467,
          0.521172,
          0.425172,
          0.447707,
          0.417464,
          0.425022,
          0.493633,
          0.503111,
          0.460347,
          0.481394,
          0.464827,
          0.466008,
          0.442607,
          0.46053,
          0.454349,
          0.472544,
          0.480701,
          0.459622,
          0.445595,
          0.470546,
          0.451571,
          0.476126,
          0.478242,
          0.496935,
          0.420738,
          0.496688,
          0.47386,
          0.487159,
          0.465063,
          0.447467,
          0.521172,
          0.425172,
          0.447707,
          0.417464,
          0.425022,
          0.493633,
          0.503111,
          0.460347,
          0.481394,
          0.464827,
          0.466008,
          0.442607,
          0.46053,
          0.454349,
          0.472544,
          0.480701,
          0.459622,
          0.445595,
          0.470546,
          0.451571,
          0.476126,
          0.478242,
          0.496935,
          0.420738,
          0.496688,
          0.47386,
          0.487159,
          0.465063,
          0.447467,
          0.521172,
          0.425172,
          0.447707,
          0.417464,
          0.425022,
          0.493633,
          0.503111,
          0.460347,
          0.481394,
          0.464827,
          0.466008,
          0.442607,
          0.46053,
          0.454349,
          0.472544,
          0.480701,
          0.459622,
          0.445595,
          0.470546,
          0.451571,
          0.476126,
          0.478242,
          0.496935,
          0.420738,
          0.496688
         ],
         "y0": " ",
         "yaxis": "y"
        }
       ],
       "layout": {
        "boxmode": "group",
        "height": 600,
        "legend": {
         "title": {
          "text": "Tract"
         },
         "tracegroupgap": 0
        },
        "showlegend": false,
        "template": {
         "data": {
          "bar": [
           {
            "error_x": {
             "color": "#2a3f5f"
            },
            "error_y": {
             "color": "#2a3f5f"
            },
            "marker": {
             "line": {
              "color": "#E5ECF6",
              "width": 0.5
             },
             "pattern": {
              "fillmode": "overlay",
              "size": 10,
              "solidity": 0.2
             }
            },
            "type": "bar"
           }
          ],
          "barpolar": [
           {
            "marker": {
             "line": {
              "color": "#E5ECF6",
              "width": 0.5
             },
             "pattern": {
              "fillmode": "overlay",
              "size": 10,
              "solidity": 0.2
             }
            },
            "type": "barpolar"
           }
          ],
          "carpet": [
           {
            "aaxis": {
             "endlinecolor": "#2a3f5f",
             "gridcolor": "white",
             "linecolor": "white",
             "minorgridcolor": "white",
             "startlinecolor": "#2a3f5f"
            },
            "baxis": {
             "endlinecolor": "#2a3f5f",
             "gridcolor": "white",
             "linecolor": "white",
             "minorgridcolor": "white",
             "startlinecolor": "#2a3f5f"
            },
            "type": "carpet"
           }
          ],
          "choropleth": [
           {
            "colorbar": {
             "outlinewidth": 0,
             "ticks": ""
            },
            "type": "choropleth"
           }
          ],
          "contour": [
           {
            "colorbar": {
             "outlinewidth": 0,
             "ticks": ""
            },
            "colorscale": [
             [
              0,
              "#0d0887"
             ],
             [
              0.1111111111111111,
              "#46039f"
             ],
             [
              0.2222222222222222,
              "#7201a8"
             ],
             [
              0.3333333333333333,
              "#9c179e"
             ],
             [
              0.4444444444444444,
              "#bd3786"
             ],
             [
              0.5555555555555556,
              "#d8576b"
             ],
             [
              0.6666666666666666,
              "#ed7953"
             ],
             [
              0.7777777777777778,
              "#fb9f3a"
             ],
             [
              0.8888888888888888,
              "#fdca26"
             ],
             [
              1,
              "#f0f921"
             ]
            ],
            "type": "contour"
           }
          ],
          "contourcarpet": [
           {
            "colorbar": {
             "outlinewidth": 0,
             "ticks": ""
            },
            "type": "contourcarpet"
           }
          ],
          "heatmap": [
           {
            "colorbar": {
             "outlinewidth": 0,
             "ticks": ""
            },
            "colorscale": [
             [
              0,
              "#0d0887"
             ],
             [
              0.1111111111111111,
              "#46039f"
             ],
             [
              0.2222222222222222,
              "#7201a8"
             ],
             [
              0.3333333333333333,
              "#9c179e"
             ],
             [
              0.4444444444444444,
              "#bd3786"
             ],
             [
              0.5555555555555556,
              "#d8576b"
             ],
             [
              0.6666666666666666,
              "#ed7953"
             ],
             [
              0.7777777777777778,
              "#fb9f3a"
             ],
             [
              0.8888888888888888,
              "#fdca26"
             ],
             [
              1,
              "#f0f921"
             ]
            ],
            "type": "heatmap"
           }
          ],
          "heatmapgl": [
           {
            "colorbar": {
             "outlinewidth": 0,
             "ticks": ""
            },
            "colorscale": [
             [
              0,
              "#0d0887"
             ],
             [
              0.1111111111111111,
              "#46039f"
             ],
             [
              0.2222222222222222,
              "#7201a8"
             ],
             [
              0.3333333333333333,
              "#9c179e"
             ],
             [
              0.4444444444444444,
              "#bd3786"
             ],
             [
              0.5555555555555556,
              "#d8576b"
             ],
             [
              0.6666666666666666,
              "#ed7953"
             ],
             [
              0.7777777777777778,
              "#fb9f3a"
             ],
             [
              0.8888888888888888,
              "#fdca26"
             ],
             [
              1,
              "#f0f921"
             ]
            ],
            "type": "heatmapgl"
           }
          ],
          "histogram": [
           {
            "marker": {
             "pattern": {
              "fillmode": "overlay",
              "size": 10,
              "solidity": 0.2
             }
            },
            "type": "histogram"
           }
          ],
          "histogram2d": [
           {
            "colorbar": {
             "outlinewidth": 0,
             "ticks": ""
            },
            "colorscale": [
             [
              0,
              "#0d0887"
             ],
             [
              0.1111111111111111,
              "#46039f"
             ],
             [
              0.2222222222222222,
              "#7201a8"
             ],
             [
              0.3333333333333333,
              "#9c179e"
             ],
             [
              0.4444444444444444,
              "#bd3786"
             ],
             [
              0.5555555555555556,
              "#d8576b"
             ],
             [
              0.6666666666666666,
              "#ed7953"
             ],
             [
              0.7777777777777778,
              "#fb9f3a"
             ],
             [
              0.8888888888888888,
              "#fdca26"
             ],
             [
              1,
              "#f0f921"
             ]
            ],
            "type": "histogram2d"
           }
          ],
          "histogram2dcontour": [
           {
            "colorbar": {
             "outlinewidth": 0,
             "ticks": ""
            },
            "colorscale": [
             [
              0,
              "#0d0887"
             ],
             [
              0.1111111111111111,
              "#46039f"
             ],
             [
              0.2222222222222222,
              "#7201a8"
             ],
             [
              0.3333333333333333,
              "#9c179e"
             ],
             [
              0.4444444444444444,
              "#bd3786"
             ],
             [
              0.5555555555555556,
              "#d8576b"
             ],
             [
              0.6666666666666666,
              "#ed7953"
             ],
             [
              0.7777777777777778,
              "#fb9f3a"
             ],
             [
              0.8888888888888888,
              "#fdca26"
             ],
             [
              1,
              "#f0f921"
             ]
            ],
            "type": "histogram2dcontour"
           }
          ],
          "mesh3d": [
           {
            "colorbar": {
             "outlinewidth": 0,
             "ticks": ""
            },
            "type": "mesh3d"
           }
          ],
          "parcoords": [
           {
            "line": {
             "colorbar": {
              "outlinewidth": 0,
              "ticks": ""
             }
            },
            "type": "parcoords"
           }
          ],
          "pie": [
           {
            "automargin": true,
            "type": "pie"
           }
          ],
          "scatter": [
           {
            "fillpattern": {
             "fillmode": "overlay",
             "size": 10,
             "solidity": 0.2
            },
            "type": "scatter"
           }
          ],
          "scatter3d": [
           {
            "line": {
             "colorbar": {
              "outlinewidth": 0,
              "ticks": ""
             }
            },
            "marker": {
             "colorbar": {
              "outlinewidth": 0,
              "ticks": ""
             }
            },
            "type": "scatter3d"
           }
          ],
          "scattercarpet": [
           {
            "marker": {
             "colorbar": {
              "outlinewidth": 0,
              "ticks": ""
             }
            },
            "type": "scattercarpet"
           }
          ],
          "scattergeo": [
           {
            "marker": {
             "colorbar": {
              "outlinewidth": 0,
              "ticks": ""
             }
            },
            "type": "scattergeo"
           }
          ],
          "scattergl": [
           {
            "marker": {
             "colorbar": {
              "outlinewidth": 0,
              "ticks": ""
             }
            },
            "type": "scattergl"
           }
          ],
          "scattermapbox": [
           {
            "marker": {
             "colorbar": {
              "outlinewidth": 0,
              "ticks": ""
             }
            },
            "type": "scattermapbox"
           }
          ],
          "scatterpolar": [
           {
            "marker": {
             "colorbar": {
              "outlinewidth": 0,
              "ticks": ""
             }
            },
            "type": "scatterpolar"
           }
          ],
          "scatterpolargl": [
           {
            "marker": {
             "colorbar": {
              "outlinewidth": 0,
              "ticks": ""
             }
            },
            "type": "scatterpolargl"
           }
          ],
          "scatterternary": [
           {
            "marker": {
             "colorbar": {
              "outlinewidth": 0,
              "ticks": ""
             }
            },
            "type": "scatterternary"
           }
          ],
          "surface": [
           {
            "colorbar": {
             "outlinewidth": 0,
             "ticks": ""
            },
            "colorscale": [
             [
              0,
              "#0d0887"
             ],
             [
              0.1111111111111111,
              "#46039f"
             ],
             [
              0.2222222222222222,
              "#7201a8"
             ],
             [
              0.3333333333333333,
              "#9c179e"
             ],
             [
              0.4444444444444444,
              "#bd3786"
             ],
             [
              0.5555555555555556,
              "#d8576b"
             ],
             [
              0.6666666666666666,
              "#ed7953"
             ],
             [
              0.7777777777777778,
              "#fb9f3a"
             ],
             [
              0.8888888888888888,
              "#fdca26"
             ],
             [
              1,
              "#f0f921"
             ]
            ],
            "type": "surface"
           }
          ],
          "table": [
           {
            "cells": {
             "fill": {
              "color": "#EBF0F8"
             },
             "line": {
              "color": "white"
             }
            },
            "header": {
             "fill": {
              "color": "#C8D4E3"
             },
             "line": {
              "color": "white"
             }
            },
            "type": "table"
           }
          ]
         },
         "layout": {
          "annotationdefaults": {
           "arrowcolor": "#2a3f5f",
           "arrowhead": 0,
           "arrowwidth": 1
          },
          "autotypenumbers": "strict",
          "coloraxis": {
           "colorbar": {
            "outlinewidth": 0,
            "ticks": ""
           }
          },
          "colorscale": {
           "diverging": [
            [
             0,
             "#8e0152"
            ],
            [
             0.1,
             "#c51b7d"
            ],
            [
             0.2,
             "#de77ae"
            ],
            [
             0.3,
             "#f1b6da"
            ],
            [
             0.4,
             "#fde0ef"
            ],
            [
             0.5,
             "#f7f7f7"
            ],
            [
             0.6,
             "#e6f5d0"
            ],
            [
             0.7,
             "#b8e186"
            ],
            [
             0.8,
             "#7fbc41"
            ],
            [
             0.9,
             "#4d9221"
            ],
            [
             1,
             "#276419"
            ]
           ],
           "sequential": [
            [
             0,
             "#0d0887"
            ],
            [
             0.1111111111111111,
             "#46039f"
            ],
            [
             0.2222222222222222,
             "#7201a8"
            ],
            [
             0.3333333333333333,
             "#9c179e"
            ],
            [
             0.4444444444444444,
             "#bd3786"
            ],
            [
             0.5555555555555556,
             "#d8576b"
            ],
            [
             0.6666666666666666,
             "#ed7953"
            ],
            [
             0.7777777777777778,
             "#fb9f3a"
            ],
            [
             0.8888888888888888,
             "#fdca26"
            ],
            [
             1,
             "#f0f921"
            ]
           ],
           "sequentialminus": [
            [
             0,
             "#0d0887"
            ],
            [
             0.1111111111111111,
             "#46039f"
            ],
            [
             0.2222222222222222,
             "#7201a8"
            ],
            [
             0.3333333333333333,
             "#9c179e"
            ],
            [
             0.4444444444444444,
             "#bd3786"
            ],
            [
             0.5555555555555556,
             "#d8576b"
            ],
            [
             0.6666666666666666,
             "#ed7953"
            ],
            [
             0.7777777777777778,
             "#fb9f3a"
            ],
            [
             0.8888888888888888,
             "#fdca26"
            ],
            [
             1,
             "#f0f921"
            ]
           ]
          },
          "colorway": [
           "#636efa",
           "#EF553B",
           "#00cc96",
           "#ab63fa",
           "#FFA15A",
           "#19d3f3",
           "#FF6692",
           "#B6E880",
           "#FF97FF",
           "#FECB52"
          ],
          "font": {
           "color": "#2a3f5f"
          },
          "geo": {
           "bgcolor": "white",
           "lakecolor": "white",
           "landcolor": "#E5ECF6",
           "showlakes": true,
           "showland": true,
           "subunitcolor": "white"
          },
          "hoverlabel": {
           "align": "left"
          },
          "hovermode": "closest",
          "mapbox": {
           "style": "light"
          },
          "paper_bgcolor": "white",
          "plot_bgcolor": "#E5ECF6",
          "polar": {
           "angularaxis": {
            "gridcolor": "white",
            "linecolor": "white",
            "ticks": ""
           },
           "bgcolor": "#E5ECF6",
           "radialaxis": {
            "gridcolor": "white",
            "linecolor": "white",
            "ticks": ""
           }
          },
          "scene": {
           "xaxis": {
            "backgroundcolor": "#E5ECF6",
            "gridcolor": "white",
            "gridwidth": 2,
            "linecolor": "white",
            "showbackground": true,
            "ticks": "",
            "zerolinecolor": "white"
           },
           "yaxis": {
            "backgroundcolor": "#E5ECF6",
            "gridcolor": "white",
            "gridwidth": 2,
            "linecolor": "white",
            "showbackground": true,
            "ticks": "",
            "zerolinecolor": "white"
           },
           "zaxis": {
            "backgroundcolor": "#E5ECF6",
            "gridcolor": "white",
            "gridwidth": 2,
            "linecolor": "white",
            "showbackground": true,
            "ticks": "",
            "zerolinecolor": "white"
           }
          },
          "shapedefaults": {
           "line": {
            "color": "#2a3f5f"
           }
          },
          "ternary": {
           "aaxis": {
            "gridcolor": "white",
            "linecolor": "white",
            "ticks": ""
           },
           "baxis": {
            "gridcolor": "white",
            "linecolor": "white",
            "ticks": ""
           },
           "bgcolor": "#E5ECF6",
           "caxis": {
            "gridcolor": "white",
            "linecolor": "white",
            "ticks": ""
           }
          },
          "title": {
           "x": 0.05
          },
          "xaxis": {
           "automargin": true,
           "gridcolor": "white",
           "linecolor": "white",
           "ticks": "",
           "title": {
            "standoff": 15
           },
           "zerolinecolor": "white",
           "zerolinewidth": 2
          },
          "yaxis": {
           "automargin": true,
           "gridcolor": "white",
           "linecolor": "white",
           "ticks": "",
           "title": {
            "standoff": 15
           },
           "zerolinecolor": "white",
           "zerolinewidth": 2
          }
         }
        },
        "title": {
         "text": "FA Values by Tract"
        },
        "width": 1200,
        "xaxis": {
         "anchor": "y",
         "domain": [
          0,
          1
         ],
         "title": {
          "text": "Tract/FA/MD"
         }
        },
        "yaxis": {
         "anchor": "x",
         "domain": [
          0,
          1
         ],
         "title": {
          "text": "FA Value"
         }
        }
       }
      }
     },
     "metadata": {},
     "output_type": "display_data"
    },
    {
     "data": {
      "application/vnd.plotly.v1+json": {
       "config": {
        "plotlyServerURL": "https://plot.ly"
       },
       "data": [
        {
         "alignmentgroup": "True",
         "boxmean": true,
         "boxpoints": "all",
         "customdata": [
          [
           "IFO"
          ],
          [
           "IFO"
          ],
          [
           "IFO"
          ],
          [
           "IFO"
          ],
          [
           "IFO"
          ],
          [
           "IFO"
          ],
          [
           "IFO"
          ],
          [
           "IFO"
          ],
          [
           "IFO"
          ],
          [
           "IFO"
          ],
          [
           "IFO"
          ],
          [
           "IFO"
          ],
          [
           "IFO"
          ],
          [
           "IFO"
          ],
          [
           "IFO"
          ],
          [
           "IFO"
          ],
          [
           "IFO"
          ],
          [
           "IFO"
          ],
          [
           "IFO"
          ],
          [
           "IFO"
          ],
          [
           "IFO"
          ],
          [
           "IFO"
          ],
          [
           "IFO"
          ],
          [
           "IFO"
          ],
          [
           "IFO"
          ],
          [
           "IFO"
          ],
          [
           "IFO"
          ],
          [
           "IFO"
          ],
          [
           "IFO"
          ],
          [
           "IFO"
          ],
          [
           "IFO"
          ],
          [
           "IFO"
          ],
          [
           "IFO"
          ],
          [
           "IFO"
          ],
          [
           "IFO"
          ],
          [
           "IFO"
          ],
          [
           "IFO"
          ],
          [
           "IFO"
          ],
          [
           "IFO"
          ],
          [
           "IFO"
          ],
          [
           "IFO"
          ],
          [
           "IFO"
          ],
          [
           "IFO"
          ],
          [
           "IFO"
          ],
          [
           "IFO"
          ],
          [
           "IFO"
          ],
          [
           "IFO"
          ],
          [
           "IFO"
          ],
          [
           "IFO"
          ],
          [
           "IFO"
          ],
          [
           "IFO"
          ],
          [
           "IFO"
          ],
          [
           "IFO"
          ],
          [
           "IFO"
          ],
          [
           "IFO"
          ],
          [
           "IFO"
          ],
          [
           "IFO"
          ],
          [
           "IFO"
          ],
          [
           "IFO"
          ],
          [
           "IFO"
          ],
          [
           "IFO"
          ],
          [
           "IFO"
          ],
          [
           "IFO"
          ],
          [
           "IFO"
          ],
          [
           "IFO"
          ],
          [
           "IFO"
          ],
          [
           "IFO"
          ],
          [
           "IFO"
          ],
          [
           "IFO"
          ],
          [
           "IFO"
          ],
          [
           "IFO"
          ],
          [
           "IFO"
          ],
          [
           "IFO"
          ],
          [
           "IFO"
          ],
          [
           "IFO"
          ],
          [
           "IFO"
          ],
          [
           "IFO"
          ],
          [
           "IFO"
          ],
          [
           "IFO"
          ],
          [
           "IFO"
          ],
          [
           "IFO"
          ],
          [
           "IFO"
          ],
          [
           "IFO"
          ],
          [
           "IFO"
          ],
          [
           "IFO"
          ],
          [
           "IFO"
          ],
          [
           "IFO"
          ],
          [
           "IFO"
          ],
          [
           "IFO"
          ],
          [
           "IFO"
          ],
          [
           "IFO"
          ],
          [
           "IFO"
          ],
          [
           "IFO"
          ],
          [
           "IFO"
          ],
          [
           "IFO"
          ],
          [
           "IFO"
          ],
          [
           "IFO"
          ],
          [
           "IFO"
          ],
          [
           "IFO"
          ],
          [
           "IFO"
          ],
          [
           "IFO"
          ],
          [
           "IFO"
          ],
          [
           "IFO"
          ],
          [
           "IFO"
          ],
          [
           "IFO"
          ],
          [
           "IFO"
          ],
          [
           "IFO"
          ],
          [
           "IFO"
          ],
          [
           "IFO"
          ],
          [
           "IFO"
          ],
          [
           "IFO"
          ],
          [
           "IFO"
          ],
          [
           "IFO"
          ],
          [
           "IFO"
          ],
          [
           "IFO"
          ],
          [
           "IFO"
          ],
          [
           "IFO"
          ],
          [
           "IFO"
          ],
          [
           "IFO"
          ],
          [
           "IFO"
          ],
          [
           "IFO"
          ],
          [
           "IFO"
          ],
          [
           "IFO"
          ],
          [
           "IFO"
          ],
          [
           "IFO"
          ],
          [
           "IFO"
          ],
          [
           "IFO"
          ],
          [
           "IFO"
          ],
          [
           "IFO"
          ],
          [
           "IFO"
          ],
          [
           "IFO"
          ],
          [
           "IFO"
          ],
          [
           "IFO"
          ],
          [
           "IFO"
          ],
          [
           "IFO"
          ],
          [
           "IFO"
          ],
          [
           "IFO"
          ],
          [
           "IFO"
          ],
          [
           "IFO"
          ],
          [
           "IFO"
          ],
          [
           "IFO"
          ],
          [
           "IFO"
          ],
          [
           "IFO"
          ],
          [
           "IFO"
          ],
          [
           "IFO"
          ],
          [
           "IFO"
          ],
          [
           "IFO"
          ],
          [
           "IFO"
          ],
          [
           "IFO"
          ],
          [
           "IFO"
          ],
          [
           "IFO"
          ],
          [
           "IFO"
          ],
          [
           "IFO"
          ],
          [
           "IFO"
          ],
          [
           "IFO"
          ],
          [
           "IFO"
          ],
          [
           "IFO"
          ],
          [
           "IFO"
          ],
          [
           "IFO"
          ],
          [
           "IFO"
          ],
          [
           "IFO"
          ],
          [
           "IFO"
          ],
          [
           "IFO"
          ],
          [
           "IFO"
          ],
          [
           "IFO"
          ],
          [
           "IFO"
          ],
          [
           "IFO"
          ],
          [
           "IFO"
          ],
          [
           "IFO"
          ],
          [
           "IFO"
          ],
          [
           "IFO"
          ],
          [
           "IFO"
          ],
          [
           "IFO"
          ],
          [
           "IFO"
          ]
         ],
         "hovertemplate": "Tract=%{customdata[0]}<br>Tract/FA/MD=%{x}<br>FA/MD Value=%{y}<extra></extra>",
         "jitter": 0.3,
         "legendgroup": "IFO",
         "line": {
          "width": 4
         },
         "marker": {
          "color": "#636efa",
          "opacity": 0.6,
          "size": 4
         },
         "name": "IFO",
         "notched": false,
         "offsetgroup": "IFO",
         "orientation": "v",
         "showlegend": true,
         "type": "box",
         "x": [
          "MD_IFO_L",
          "MD_IFO_L",
          "MD_IFO_L",
          "MD_IFO_L",
          "MD_IFO_L",
          "MD_IFO_L",
          "MD_IFO_L",
          "MD_IFO_L",
          "MD_IFO_L",
          "MD_IFO_L",
          "MD_IFO_L",
          "MD_IFO_L",
          "MD_IFO_L",
          "MD_IFO_L",
          "MD_IFO_L",
          "MD_IFO_L",
          "MD_IFO_L",
          "MD_IFO_L",
          "MD_IFO_L",
          "MD_IFO_L",
          "MD_IFO_L",
          "MD_IFO_L",
          "MD_IFO_L",
          "MD_IFO_L",
          "MD_IFO_L",
          "MD_IFO_L",
          "MD_IFO_L",
          "MD_IFO_L",
          "MD_IFO_L",
          "MD_IFO_L",
          "MD_IFO_L",
          "MD_IFO_L",
          "MD_IFO_L",
          "MD_IFO_L",
          "MD_IFO_L",
          "MD_IFO_L",
          "MD_IFO_L",
          "MD_IFO_L",
          "MD_IFO_L",
          "MD_IFO_L",
          "MD_IFO_L",
          "MD_IFO_L",
          "MD_IFO_L",
          "MD_IFO_L",
          "MD_IFO_L",
          "MD_IFO_L",
          "MD_IFO_L",
          "MD_IFO_L",
          "MD_IFO_L",
          "MD_IFO_L",
          "MD_IFO_L",
          "MD_IFO_L",
          "MD_IFO_L",
          "MD_IFO_L",
          "MD_IFO_L",
          "MD_IFO_L",
          "MD_IFO_L",
          "MD_IFO_L",
          "MD_IFO_L",
          "MD_IFO_L",
          "MD_IFO_L",
          "MD_IFO_L",
          "MD_IFO_L",
          "MD_IFO_L",
          "MD_IFO_L",
          "MD_IFO_L",
          "MD_IFO_L",
          "MD_IFO_L",
          "MD_IFO_L",
          "MD_IFO_L",
          "MD_IFO_L",
          "MD_IFO_L",
          "MD_IFO_L",
          "MD_IFO_L",
          "MD_IFO_L",
          "MD_IFO_L",
          "MD_IFO_L",
          "MD_IFO_L",
          "MD_IFO_L",
          "MD_IFO_L",
          "MD_IFO_L",
          "MD_IFO_L",
          "MD_IFO_L",
          "MD_IFO_L",
          "MD_IFO_L",
          "MD_IFO_L",
          "MD_IFO_L",
          "MD_IFO_R",
          "MD_IFO_R",
          "MD_IFO_R",
          "MD_IFO_R",
          "MD_IFO_R",
          "MD_IFO_R",
          "MD_IFO_R",
          "MD_IFO_R",
          "MD_IFO_R",
          "MD_IFO_R",
          "MD_IFO_R",
          "MD_IFO_R",
          "MD_IFO_R",
          "MD_IFO_R",
          "MD_IFO_R",
          "MD_IFO_R",
          "MD_IFO_R",
          "MD_IFO_R",
          "MD_IFO_R",
          "MD_IFO_R",
          "MD_IFO_R",
          "MD_IFO_R",
          "MD_IFO_R",
          "MD_IFO_R",
          "MD_IFO_R",
          "MD_IFO_R",
          "MD_IFO_R",
          "MD_IFO_R",
          "MD_IFO_R",
          "MD_IFO_R",
          "MD_IFO_R",
          "MD_IFO_R",
          "MD_IFO_R",
          "MD_IFO_R",
          "MD_IFO_R",
          "MD_IFO_R",
          "MD_IFO_R",
          "MD_IFO_R",
          "MD_IFO_R",
          "MD_IFO_R",
          "MD_IFO_R",
          "MD_IFO_R",
          "MD_IFO_R",
          "MD_IFO_R",
          "MD_IFO_R",
          "MD_IFO_R",
          "MD_IFO_R",
          "MD_IFO_R",
          "MD_IFO_R",
          "MD_IFO_R",
          "MD_IFO_R",
          "MD_IFO_R",
          "MD_IFO_R",
          "MD_IFO_R",
          "MD_IFO_R",
          "MD_IFO_R",
          "MD_IFO_R",
          "MD_IFO_R",
          "MD_IFO_R",
          "MD_IFO_R",
          "MD_IFO_R",
          "MD_IFO_R",
          "MD_IFO_R",
          "MD_IFO_R",
          "MD_IFO_R",
          "MD_IFO_R",
          "MD_IFO_R",
          "MD_IFO_R",
          "MD_IFO_R",
          "MD_IFO_R",
          "MD_IFO_R",
          "MD_IFO_R",
          "MD_IFO_R",
          "MD_IFO_R",
          "MD_IFO_R",
          "MD_IFO_R",
          "MD_IFO_R",
          "MD_IFO_R",
          "MD_IFO_R",
          "MD_IFO_R",
          "MD_IFO_R",
          "MD_IFO_R",
          "MD_IFO_R",
          "MD_IFO_R",
          "MD_IFO_R",
          "MD_IFO_R",
          "MD_IFO_R"
         ],
         "x0": " ",
         "xaxis": "x",
         "y": [
          0.000576,
          0.00059,
          0.000577,
          0.000561,
          0.000593,
          0.000617,
          0.000622,
          0.000594,
          0.000593,
          0.000595,
          0.000637,
          0.000602,
          0.000594,
          0.000625,
          0.000579,
          0.000613,
          0.0006,
          0.000579,
          0.000613,
          0.000606,
          0.000594,
          0.000626,
          0.000597,
          0.000607,
          0.000583,
          0.000592,
          0.000611,
          0.000625,
          0.000589,
          0.000576,
          0.00059,
          0.000577,
          0.000561,
          0.000593,
          0.000617,
          0.000622,
          0.000594,
          0.000593,
          0.000595,
          0.000637,
          0.000602,
          0.000594,
          0.000625,
          0.000579,
          0.000613,
          0.0006,
          0.000579,
          0.000613,
          0.000606,
          0.000594,
          0.000626,
          0.000597,
          0.000607,
          0.000583,
          0.000592,
          0.000611,
          0.000625,
          0.000589,
          0.000576,
          0.00059,
          0.000577,
          0.000561,
          0.000593,
          0.000617,
          0.000622,
          0.000594,
          0.000593,
          0.000595,
          0.000637,
          0.000602,
          0.000594,
          0.000625,
          0.000579,
          0.000613,
          0.0006,
          0.000579,
          0.000613,
          0.000606,
          0.000594,
          0.000626,
          0.000597,
          0.000607,
          0.000583,
          0.000592,
          0.000611,
          0.000625,
          0.000589,
          0.000543,
          0.00059,
          0.000572,
          0.000569,
          0.000552,
          0.000612,
          0.000606,
          0.000569,
          0.000592,
          0.00056,
          0.00063,
          0.0006,
          0.00057,
          0.000604,
          0.000582,
          0.000605,
          0.000589,
          0.000551,
          0.00057,
          0.000568,
          0.000567,
          0.000602,
          0.000587,
          0.00059,
          0.000573,
          0.000591,
          0.000614,
          0.000629,
          0.000567,
          0.000543,
          0.00059,
          0.000572,
          0.000569,
          0.000552,
          0.000612,
          0.000606,
          0.000569,
          0.000592,
          0.00056,
          0.00063,
          0.0006,
          0.00057,
          0.000604,
          0.000582,
          0.000605,
          0.000589,
          0.000551,
          0.00057,
          0.000568,
          0.000567,
          0.000602,
          0.000587,
          0.00059,
          0.000573,
          0.000591,
          0.000614,
          0.000629,
          0.000567,
          0.000543,
          0.00059,
          0.000572,
          0.000569,
          0.000552,
          0.000612,
          0.000606,
          0.000569,
          0.000592,
          0.00056,
          0.00063,
          0.0006,
          0.00057,
          0.000604,
          0.000582,
          0.000605,
          0.000589,
          0.000551,
          0.00057,
          0.000568,
          0.000567,
          0.000602,
          0.000587,
          0.00059,
          0.000573,
          0.000591,
          0.000614,
          0.000629,
          0.000567
         ],
         "y0": " ",
         "yaxis": "y"
        },
        {
         "alignmentgroup": "True",
         "boxmean": true,
         "boxpoints": "all",
         "customdata": [
          [
           "SLF"
          ],
          [
           "SLF"
          ],
          [
           "SLF"
          ],
          [
           "SLF"
          ],
          [
           "SLF"
          ],
          [
           "SLF"
          ],
          [
           "SLF"
          ],
          [
           "SLF"
          ],
          [
           "SLF"
          ],
          [
           "SLF"
          ],
          [
           "SLF"
          ],
          [
           "SLF"
          ],
          [
           "SLF"
          ],
          [
           "SLF"
          ],
          [
           "SLF"
          ],
          [
           "SLF"
          ],
          [
           "SLF"
          ],
          [
           "SLF"
          ],
          [
           "SLF"
          ],
          [
           "SLF"
          ],
          [
           "SLF"
          ],
          [
           "SLF"
          ],
          [
           "SLF"
          ],
          [
           "SLF"
          ],
          [
           "SLF"
          ],
          [
           "SLF"
          ],
          [
           "SLF"
          ],
          [
           "SLF"
          ],
          [
           "SLF"
          ],
          [
           "SLF"
          ],
          [
           "SLF"
          ],
          [
           "SLF"
          ],
          [
           "SLF"
          ],
          [
           "SLF"
          ],
          [
           "SLF"
          ],
          [
           "SLF"
          ],
          [
           "SLF"
          ],
          [
           "SLF"
          ],
          [
           "SLF"
          ],
          [
           "SLF"
          ],
          [
           "SLF"
          ],
          [
           "SLF"
          ],
          [
           "SLF"
          ],
          [
           "SLF"
          ],
          [
           "SLF"
          ],
          [
           "SLF"
          ],
          [
           "SLF"
          ],
          [
           "SLF"
          ],
          [
           "SLF"
          ],
          [
           "SLF"
          ],
          [
           "SLF"
          ],
          [
           "SLF"
          ],
          [
           "SLF"
          ],
          [
           "SLF"
          ],
          [
           "SLF"
          ],
          [
           "SLF"
          ],
          [
           "SLF"
          ],
          [
           "SLF"
          ],
          [
           "SLF"
          ],
          [
           "SLF"
          ],
          [
           "SLF"
          ],
          [
           "SLF"
          ],
          [
           "SLF"
          ],
          [
           "SLF"
          ],
          [
           "SLF"
          ],
          [
           "SLF"
          ],
          [
           "SLF"
          ],
          [
           "SLF"
          ],
          [
           "SLF"
          ],
          [
           "SLF"
          ],
          [
           "SLF"
          ],
          [
           "SLF"
          ],
          [
           "SLF"
          ],
          [
           "SLF"
          ],
          [
           "SLF"
          ],
          [
           "SLF"
          ],
          [
           "SLF"
          ],
          [
           "SLF"
          ],
          [
           "SLF"
          ],
          [
           "SLF"
          ],
          [
           "SLF"
          ],
          [
           "SLF"
          ],
          [
           "SLF"
          ],
          [
           "SLF"
          ],
          [
           "SLF"
          ],
          [
           "SLF"
          ],
          [
           "SLF"
          ],
          [
           "SLF"
          ],
          [
           "SLF"
          ],
          [
           "SLF"
          ],
          [
           "SLF"
          ],
          [
           "SLF"
          ],
          [
           "SLF"
          ],
          [
           "SLF"
          ],
          [
           "SLF"
          ],
          [
           "SLF"
          ],
          [
           "SLF"
          ],
          [
           "SLF"
          ],
          [
           "SLF"
          ],
          [
           "SLF"
          ],
          [
           "SLF"
          ],
          [
           "SLF"
          ],
          [
           "SLF"
          ],
          [
           "SLF"
          ],
          [
           "SLF"
          ],
          [
           "SLF"
          ],
          [
           "SLF"
          ],
          [
           "SLF"
          ],
          [
           "SLF"
          ],
          [
           "SLF"
          ],
          [
           "SLF"
          ],
          [
           "SLF"
          ],
          [
           "SLF"
          ],
          [
           "SLF"
          ],
          [
           "SLF"
          ],
          [
           "SLF"
          ],
          [
           "SLF"
          ],
          [
           "SLF"
          ],
          [
           "SLF"
          ],
          [
           "SLF"
          ],
          [
           "SLF"
          ],
          [
           "SLF"
          ],
          [
           "SLF"
          ],
          [
           "SLF"
          ],
          [
           "SLF"
          ],
          [
           "SLF"
          ],
          [
           "SLF"
          ],
          [
           "SLF"
          ],
          [
           "SLF"
          ],
          [
           "SLF"
          ],
          [
           "SLF"
          ],
          [
           "SLF"
          ],
          [
           "SLF"
          ],
          [
           "SLF"
          ],
          [
           "SLF"
          ],
          [
           "SLF"
          ],
          [
           "SLF"
          ],
          [
           "SLF"
          ],
          [
           "SLF"
          ],
          [
           "SLF"
          ],
          [
           "SLF"
          ],
          [
           "SLF"
          ],
          [
           "SLF"
          ],
          [
           "SLF"
          ],
          [
           "SLF"
          ],
          [
           "SLF"
          ],
          [
           "SLF"
          ],
          [
           "SLF"
          ],
          [
           "SLF"
          ],
          [
           "SLF"
          ],
          [
           "SLF"
          ],
          [
           "SLF"
          ],
          [
           "SLF"
          ],
          [
           "SLF"
          ],
          [
           "SLF"
          ],
          [
           "SLF"
          ],
          [
           "SLF"
          ],
          [
           "SLF"
          ],
          [
           "SLF"
          ],
          [
           "SLF"
          ],
          [
           "SLF"
          ],
          [
           "SLF"
          ],
          [
           "SLF"
          ],
          [
           "SLF"
          ],
          [
           "SLF"
          ],
          [
           "SLF"
          ],
          [
           "SLF"
          ],
          [
           "SLF"
          ],
          [
           "SLF"
          ],
          [
           "SLF"
          ],
          [
           "SLF"
          ],
          [
           "SLF"
          ],
          [
           "SLF"
          ],
          [
           "SLF"
          ]
         ],
         "hovertemplate": "Tract=%{customdata[0]}<br>Tract/FA/MD=%{x}<br>FA/MD Value=%{y}<extra></extra>",
         "jitter": 0.3,
         "legendgroup": "SLF",
         "line": {
          "width": 4
         },
         "marker": {
          "color": "#EF553B",
          "opacity": 0.6,
          "size": 4
         },
         "name": "SLF",
         "notched": false,
         "offsetgroup": "SLF",
         "orientation": "v",
         "showlegend": true,
         "type": "box",
         "x": [
          "MD_SLF_L",
          "MD_SLF_L",
          "MD_SLF_L",
          "MD_SLF_L",
          "MD_SLF_L",
          "MD_SLF_L",
          "MD_SLF_L",
          "MD_SLF_L",
          "MD_SLF_L",
          "MD_SLF_L",
          "MD_SLF_L",
          "MD_SLF_L",
          "MD_SLF_L",
          "MD_SLF_L",
          "MD_SLF_L",
          "MD_SLF_L",
          "MD_SLF_L",
          "MD_SLF_L",
          "MD_SLF_L",
          "MD_SLF_L",
          "MD_SLF_L",
          "MD_SLF_L",
          "MD_SLF_L",
          "MD_SLF_L",
          "MD_SLF_L",
          "MD_SLF_L",
          "MD_SLF_L",
          "MD_SLF_L",
          "MD_SLF_L",
          "MD_SLF_L",
          "MD_SLF_L",
          "MD_SLF_L",
          "MD_SLF_L",
          "MD_SLF_L",
          "MD_SLF_L",
          "MD_SLF_L",
          "MD_SLF_L",
          "MD_SLF_L",
          "MD_SLF_L",
          "MD_SLF_L",
          "MD_SLF_L",
          "MD_SLF_L",
          "MD_SLF_L",
          "MD_SLF_L",
          "MD_SLF_L",
          "MD_SLF_L",
          "MD_SLF_L",
          "MD_SLF_L",
          "MD_SLF_L",
          "MD_SLF_L",
          "MD_SLF_L",
          "MD_SLF_L",
          "MD_SLF_L",
          "MD_SLF_L",
          "MD_SLF_L",
          "MD_SLF_L",
          "MD_SLF_L",
          "MD_SLF_L",
          "MD_SLF_L",
          "MD_SLF_L",
          "MD_SLF_L",
          "MD_SLF_L",
          "MD_SLF_L",
          "MD_SLF_L",
          "MD_SLF_L",
          "MD_SLF_L",
          "MD_SLF_L",
          "MD_SLF_L",
          "MD_SLF_L",
          "MD_SLF_L",
          "MD_SLF_L",
          "MD_SLF_L",
          "MD_SLF_L",
          "MD_SLF_L",
          "MD_SLF_L",
          "MD_SLF_L",
          "MD_SLF_L",
          "MD_SLF_L",
          "MD_SLF_L",
          "MD_SLF_L",
          "MD_SLF_L",
          "MD_SLF_L",
          "MD_SLF_L",
          "MD_SLF_L",
          "MD_SLF_L",
          "MD_SLF_L",
          "MD_SLF_L",
          "MD_SLF_R",
          "MD_SLF_R",
          "MD_SLF_R",
          "MD_SLF_R",
          "MD_SLF_R",
          "MD_SLF_R",
          "MD_SLF_R",
          "MD_SLF_R",
          "MD_SLF_R",
          "MD_SLF_R",
          "MD_SLF_R",
          "MD_SLF_R",
          "MD_SLF_R",
          "MD_SLF_R",
          "MD_SLF_R",
          "MD_SLF_R",
          "MD_SLF_R",
          "MD_SLF_R",
          "MD_SLF_R",
          "MD_SLF_R",
          "MD_SLF_R",
          "MD_SLF_R",
          "MD_SLF_R",
          "MD_SLF_R",
          "MD_SLF_R",
          "MD_SLF_R",
          "MD_SLF_R",
          "MD_SLF_R",
          "MD_SLF_R",
          "MD_SLF_R",
          "MD_SLF_R",
          "MD_SLF_R",
          "MD_SLF_R",
          "MD_SLF_R",
          "MD_SLF_R",
          "MD_SLF_R",
          "MD_SLF_R",
          "MD_SLF_R",
          "MD_SLF_R",
          "MD_SLF_R",
          "MD_SLF_R",
          "MD_SLF_R",
          "MD_SLF_R",
          "MD_SLF_R",
          "MD_SLF_R",
          "MD_SLF_R",
          "MD_SLF_R",
          "MD_SLF_R",
          "MD_SLF_R",
          "MD_SLF_R",
          "MD_SLF_R",
          "MD_SLF_R",
          "MD_SLF_R",
          "MD_SLF_R",
          "MD_SLF_R",
          "MD_SLF_R",
          "MD_SLF_R",
          "MD_SLF_R",
          "MD_SLF_R",
          "MD_SLF_R",
          "MD_SLF_R",
          "MD_SLF_R",
          "MD_SLF_R",
          "MD_SLF_R",
          "MD_SLF_R",
          "MD_SLF_R",
          "MD_SLF_R",
          "MD_SLF_R",
          "MD_SLF_R",
          "MD_SLF_R",
          "MD_SLF_R",
          "MD_SLF_R",
          "MD_SLF_R",
          "MD_SLF_R",
          "MD_SLF_R",
          "MD_SLF_R",
          "MD_SLF_R",
          "MD_SLF_R",
          "MD_SLF_R",
          "MD_SLF_R",
          "MD_SLF_R",
          "MD_SLF_R",
          "MD_SLF_R",
          "MD_SLF_R",
          "MD_SLF_R",
          "MD_SLF_R",
          "MD_SLF_R"
         ],
         "x0": " ",
         "xaxis": "x",
         "y": [
          0.000483,
          0.000492,
          0.000485,
          0.000491,
          0.000485,
          0.000529,
          0.000497,
          0.000495,
          0.000497,
          0.000513,
          0.00055,
          0.000498,
          0.000501,
          0.000547,
          0.000493,
          0.000536,
          0.000492,
          0.000488,
          0.000512,
          0.000501,
          0.0005,
          0.000518,
          0.000504,
          0.000502,
          0.000511,
          0.000484,
          0.000524,
          0.000522,
          0.000509,
          0.000483,
          0.000492,
          0.000485,
          0.000491,
          0.000485,
          0.000529,
          0.000497,
          0.000495,
          0.000497,
          0.000513,
          0.00055,
          0.000498,
          0.000501,
          0.000547,
          0.000493,
          0.000536,
          0.000492,
          0.000488,
          0.000512,
          0.000501,
          0.0005,
          0.000518,
          0.000504,
          0.000502,
          0.000511,
          0.000484,
          0.000524,
          0.000522,
          0.000509,
          0.000483,
          0.000492,
          0.000485,
          0.000491,
          0.000485,
          0.000529,
          0.000497,
          0.000495,
          0.000497,
          0.000513,
          0.00055,
          0.000498,
          0.000501,
          0.000547,
          0.000493,
          0.000536,
          0.000492,
          0.000488,
          0.000512,
          0.000501,
          0.0005,
          0.000518,
          0.000504,
          0.000502,
          0.000511,
          0.000484,
          0.000524,
          0.000522,
          0.000509,
          0.000488,
          0.000498,
          0.000487,
          0.000495,
          0.000495,
          0.000532,
          0.000508,
          0.000503,
          0.000503,
          0.000507,
          0.000561,
          0.000504,
          0.000507,
          0.000543,
          0.000502,
          0.000534,
          0.000504,
          0.000491,
          0.000533,
          0.000507,
          0.000508,
          0.000523,
          0.000518,
          0.000508,
          0.000501,
          0.000493,
          0.000525,
          0.000531,
          0.000513,
          0.000488,
          0.000498,
          0.000487,
          0.000495,
          0.000495,
          0.000532,
          0.000508,
          0.000503,
          0.000503,
          0.000507,
          0.000561,
          0.000504,
          0.000507,
          0.000543,
          0.000502,
          0.000534,
          0.000504,
          0.000491,
          0.000533,
          0.000507,
          0.000508,
          0.000523,
          0.000518,
          0.000508,
          0.000501,
          0.000493,
          0.000525,
          0.000531,
          0.000513,
          0.000488,
          0.000498,
          0.000487,
          0.000495,
          0.000495,
          0.000532,
          0.000508,
          0.000503,
          0.000503,
          0.000507,
          0.000561,
          0.000504,
          0.000507,
          0.000543,
          0.000502,
          0.000534,
          0.000504,
          0.000491,
          0.000533,
          0.000507,
          0.000508,
          0.000523,
          0.000518,
          0.000508,
          0.000501,
          0.000493,
          0.000525,
          0.000531,
          0.000513
         ],
         "y0": " ",
         "yaxis": "y"
        },
        {
         "alignmentgroup": "True",
         "boxmean": true,
         "boxpoints": "all",
         "customdata": [
          [
           "UF"
          ],
          [
           "UF"
          ],
          [
           "UF"
          ],
          [
           "UF"
          ],
          [
           "UF"
          ],
          [
           "UF"
          ],
          [
           "UF"
          ],
          [
           "UF"
          ],
          [
           "UF"
          ],
          [
           "UF"
          ],
          [
           "UF"
          ],
          [
           "UF"
          ],
          [
           "UF"
          ],
          [
           "UF"
          ],
          [
           "UF"
          ],
          [
           "UF"
          ],
          [
           "UF"
          ],
          [
           "UF"
          ],
          [
           "UF"
          ],
          [
           "UF"
          ],
          [
           "UF"
          ],
          [
           "UF"
          ],
          [
           "UF"
          ],
          [
           "UF"
          ],
          [
           "UF"
          ],
          [
           "UF"
          ],
          [
           "UF"
          ],
          [
           "UF"
          ],
          [
           "UF"
          ],
          [
           "UF"
          ],
          [
           "UF"
          ],
          [
           "UF"
          ],
          [
           "UF"
          ],
          [
           "UF"
          ],
          [
           "UF"
          ],
          [
           "UF"
          ],
          [
           "UF"
          ],
          [
           "UF"
          ],
          [
           "UF"
          ],
          [
           "UF"
          ],
          [
           "UF"
          ],
          [
           "UF"
          ],
          [
           "UF"
          ],
          [
           "UF"
          ],
          [
           "UF"
          ],
          [
           "UF"
          ],
          [
           "UF"
          ],
          [
           "UF"
          ],
          [
           "UF"
          ],
          [
           "UF"
          ],
          [
           "UF"
          ],
          [
           "UF"
          ],
          [
           "UF"
          ],
          [
           "UF"
          ],
          [
           "UF"
          ],
          [
           "UF"
          ],
          [
           "UF"
          ],
          [
           "UF"
          ],
          [
           "UF"
          ],
          [
           "UF"
          ],
          [
           "UF"
          ],
          [
           "UF"
          ],
          [
           "UF"
          ],
          [
           "UF"
          ],
          [
           "UF"
          ],
          [
           "UF"
          ],
          [
           "UF"
          ],
          [
           "UF"
          ],
          [
           "UF"
          ],
          [
           "UF"
          ],
          [
           "UF"
          ],
          [
           "UF"
          ],
          [
           "UF"
          ],
          [
           "UF"
          ],
          [
           "UF"
          ],
          [
           "UF"
          ],
          [
           "UF"
          ],
          [
           "UF"
          ],
          [
           "UF"
          ],
          [
           "UF"
          ],
          [
           "UF"
          ],
          [
           "UF"
          ],
          [
           "UF"
          ],
          [
           "UF"
          ],
          [
           "UF"
          ],
          [
           "UF"
          ],
          [
           "UF"
          ],
          [
           "UF"
          ],
          [
           "UF"
          ],
          [
           "UF"
          ],
          [
           "UF"
          ],
          [
           "UF"
          ],
          [
           "UF"
          ],
          [
           "UF"
          ],
          [
           "UF"
          ],
          [
           "UF"
          ],
          [
           "UF"
          ],
          [
           "UF"
          ],
          [
           "UF"
          ],
          [
           "UF"
          ],
          [
           "UF"
          ],
          [
           "UF"
          ],
          [
           "UF"
          ],
          [
           "UF"
          ],
          [
           "UF"
          ],
          [
           "UF"
          ],
          [
           "UF"
          ],
          [
           "UF"
          ],
          [
           "UF"
          ],
          [
           "UF"
          ],
          [
           "UF"
          ],
          [
           "UF"
          ],
          [
           "UF"
          ],
          [
           "UF"
          ],
          [
           "UF"
          ],
          [
           "UF"
          ],
          [
           "UF"
          ],
          [
           "UF"
          ],
          [
           "UF"
          ],
          [
           "UF"
          ],
          [
           "UF"
          ],
          [
           "UF"
          ],
          [
           "UF"
          ],
          [
           "UF"
          ],
          [
           "UF"
          ],
          [
           "UF"
          ],
          [
           "UF"
          ],
          [
           "UF"
          ],
          [
           "UF"
          ],
          [
           "UF"
          ],
          [
           "UF"
          ],
          [
           "UF"
          ],
          [
           "UF"
          ],
          [
           "UF"
          ],
          [
           "UF"
          ],
          [
           "UF"
          ],
          [
           "UF"
          ],
          [
           "UF"
          ],
          [
           "UF"
          ],
          [
           "UF"
          ],
          [
           "UF"
          ],
          [
           "UF"
          ],
          [
           "UF"
          ],
          [
           "UF"
          ],
          [
           "UF"
          ],
          [
           "UF"
          ],
          [
           "UF"
          ],
          [
           "UF"
          ],
          [
           "UF"
          ],
          [
           "UF"
          ],
          [
           "UF"
          ],
          [
           "UF"
          ],
          [
           "UF"
          ],
          [
           "UF"
          ],
          [
           "UF"
          ],
          [
           "UF"
          ],
          [
           "UF"
          ],
          [
           "UF"
          ],
          [
           "UF"
          ],
          [
           "UF"
          ],
          [
           "UF"
          ],
          [
           "UF"
          ],
          [
           "UF"
          ],
          [
           "UF"
          ],
          [
           "UF"
          ],
          [
           "UF"
          ],
          [
           "UF"
          ],
          [
           "UF"
          ],
          [
           "UF"
          ],
          [
           "UF"
          ],
          [
           "UF"
          ],
          [
           "UF"
          ],
          [
           "UF"
          ],
          [
           "UF"
          ]
         ],
         "hovertemplate": "Tract=%{customdata[0]}<br>Tract/FA/MD=%{x}<br>FA/MD Value=%{y}<extra></extra>",
         "jitter": 0.3,
         "legendgroup": "UF",
         "line": {
          "width": 4
         },
         "marker": {
          "color": "#00cc96",
          "opacity": 0.6,
          "size": 4
         },
         "name": "UF",
         "notched": false,
         "offsetgroup": "UF",
         "orientation": "v",
         "showlegend": true,
         "type": "box",
         "x": [
          "MD_UF_L",
          "MD_UF_L",
          "MD_UF_L",
          "MD_UF_L",
          "MD_UF_L",
          "MD_UF_L",
          "MD_UF_L",
          "MD_UF_L",
          "MD_UF_L",
          "MD_UF_L",
          "MD_UF_L",
          "MD_UF_L",
          "MD_UF_L",
          "MD_UF_L",
          "MD_UF_L",
          "MD_UF_L",
          "MD_UF_L",
          "MD_UF_L",
          "MD_UF_L",
          "MD_UF_L",
          "MD_UF_L",
          "MD_UF_L",
          "MD_UF_L",
          "MD_UF_L",
          "MD_UF_L",
          "MD_UF_L",
          "MD_UF_L",
          "MD_UF_L",
          "MD_UF_L",
          "MD_UF_L",
          "MD_UF_L",
          "MD_UF_L",
          "MD_UF_L",
          "MD_UF_L",
          "MD_UF_L",
          "MD_UF_L",
          "MD_UF_L",
          "MD_UF_L",
          "MD_UF_L",
          "MD_UF_L",
          "MD_UF_L",
          "MD_UF_L",
          "MD_UF_L",
          "MD_UF_L",
          "MD_UF_L",
          "MD_UF_L",
          "MD_UF_L",
          "MD_UF_L",
          "MD_UF_L",
          "MD_UF_L",
          "MD_UF_L",
          "MD_UF_L",
          "MD_UF_L",
          "MD_UF_L",
          "MD_UF_L",
          "MD_UF_L",
          "MD_UF_L",
          "MD_UF_L",
          "MD_UF_L",
          "MD_UF_L",
          "MD_UF_L",
          "MD_UF_L",
          "MD_UF_L",
          "MD_UF_L",
          "MD_UF_L",
          "MD_UF_L",
          "MD_UF_L",
          "MD_UF_L",
          "MD_UF_L",
          "MD_UF_L",
          "MD_UF_L",
          "MD_UF_L",
          "MD_UF_L",
          "MD_UF_L",
          "MD_UF_L",
          "MD_UF_L",
          "MD_UF_L",
          "MD_UF_L",
          "MD_UF_L",
          "MD_UF_L",
          "MD_UF_L",
          "MD_UF_L",
          "MD_UF_L",
          "MD_UF_L",
          "MD_UF_L",
          "MD_UF_L",
          "MD_UF_L",
          "MD_UF_R",
          "MD_UF_R",
          "MD_UF_R",
          "MD_UF_R",
          "MD_UF_R",
          "MD_UF_R",
          "MD_UF_R",
          "MD_UF_R",
          "MD_UF_R",
          "MD_UF_R",
          "MD_UF_R",
          "MD_UF_R",
          "MD_UF_R",
          "MD_UF_R",
          "MD_UF_R",
          "MD_UF_R",
          "MD_UF_R",
          "MD_UF_R",
          "MD_UF_R",
          "MD_UF_R",
          "MD_UF_R",
          "MD_UF_R",
          "MD_UF_R",
          "MD_UF_R",
          "MD_UF_R",
          "MD_UF_R",
          "MD_UF_R",
          "MD_UF_R",
          "MD_UF_R",
          "MD_UF_R",
          "MD_UF_R",
          "MD_UF_R",
          "MD_UF_R",
          "MD_UF_R",
          "MD_UF_R",
          "MD_UF_R",
          "MD_UF_R",
          "MD_UF_R",
          "MD_UF_R",
          "MD_UF_R",
          "MD_UF_R",
          "MD_UF_R",
          "MD_UF_R",
          "MD_UF_R",
          "MD_UF_R",
          "MD_UF_R",
          "MD_UF_R",
          "MD_UF_R",
          "MD_UF_R",
          "MD_UF_R",
          "MD_UF_R",
          "MD_UF_R",
          "MD_UF_R",
          "MD_UF_R",
          "MD_UF_R",
          "MD_UF_R",
          "MD_UF_R",
          "MD_UF_R",
          "MD_UF_R",
          "MD_UF_R",
          "MD_UF_R",
          "MD_UF_R",
          "MD_UF_R",
          "MD_UF_R",
          "MD_UF_R",
          "MD_UF_R",
          "MD_UF_R",
          "MD_UF_R",
          "MD_UF_R",
          "MD_UF_R",
          "MD_UF_R",
          "MD_UF_R",
          "MD_UF_R",
          "MD_UF_R",
          "MD_UF_R",
          "MD_UF_R",
          "MD_UF_R",
          "MD_UF_R",
          "MD_UF_R",
          "MD_UF_R",
          "MD_UF_R",
          "MD_UF_R",
          "MD_UF_R",
          "MD_UF_R",
          "MD_UF_R",
          "MD_UF_R",
          "MD_UF_R"
         ],
         "x0": " ",
         "xaxis": "x",
         "y": [
          0.000575,
          0.0006,
          0.000598,
          0.000559,
          0.000566,
          0.00061,
          0.000616,
          0.000616,
          0.000604,
          0.0006,
          0.000635,
          0.000607,
          0.000594,
          0.000653,
          0.00058,
          0.000622,
          0.000605,
          0.000597,
          0.000596,
          0.000604,
          0.000613,
          0.00061,
          0.000593,
          0.00058,
          0.000587,
          0.000576,
          0.000588,
          0.000598,
          0.00056,
          0.000575,
          0.0006,
          0.000598,
          0.000559,
          0.000566,
          0.00061,
          0.000616,
          0.000616,
          0.000604,
          0.0006,
          0.000635,
          0.000607,
          0.000594,
          0.000653,
          0.00058,
          0.000622,
          0.000605,
          0.000597,
          0.000596,
          0.000604,
          0.000613,
          0.00061,
          0.000593,
          0.00058,
          0.000587,
          0.000576,
          0.000588,
          0.000598,
          0.00056,
          0.000575,
          0.0006,
          0.000598,
          0.000559,
          0.000566,
          0.00061,
          0.000616,
          0.000616,
          0.000604,
          0.0006,
          0.000635,
          0.000607,
          0.000594,
          0.000653,
          0.00058,
          0.000622,
          0.000605,
          0.000597,
          0.000596,
          0.000604,
          0.000613,
          0.00061,
          0.000593,
          0.00058,
          0.000587,
          0.000576,
          0.000588,
          0.000598,
          0.00056,
          0.000559,
          0.000593,
          0.000616,
          0.000592,
          0.00057,
          0.000601,
          0.000618,
          0.000597,
          0.000587,
          0.000591,
          0.000658,
          0.000605,
          0.000597,
          0.000642,
          0.000594,
          0.000625,
          0.000608,
          0.000583,
          0.00062,
          0.00059,
          0.000597,
          0.000612,
          0.000608,
          0.000597,
          0.000592,
          0.000567,
          0.000587,
          0.000593,
          0.000579,
          0.000559,
          0.000593,
          0.000616,
          0.000592,
          0.00057,
          0.000601,
          0.000618,
          0.000597,
          0.000587,
          0.000591,
          0.000658,
          0.000605,
          0.000597,
          0.000642,
          0.000594,
          0.000625,
          0.000608,
          0.000583,
          0.00062,
          0.00059,
          0.000597,
          0.000612,
          0.000608,
          0.000597,
          0.000592,
          0.000567,
          0.000587,
          0.000593,
          0.000579,
          0.000559,
          0.000593,
          0.000616,
          0.000592,
          0.00057,
          0.000601,
          0.000618,
          0.000597,
          0.000587,
          0.000591,
          0.000658,
          0.000605,
          0.000597,
          0.000642,
          0.000594,
          0.000625,
          0.000608,
          0.000583,
          0.00062,
          0.00059,
          0.000597,
          0.000612,
          0.000608,
          0.000597,
          0.000592,
          0.000567,
          0.000587,
          0.000593,
          0.000579
         ],
         "y0": " ",
         "yaxis": "y"
        },
        {
         "alignmentgroup": "True",
         "boxmean": true,
         "boxpoints": "all",
         "customdata": [
          [
           "Cingulum"
          ],
          [
           "Cingulum"
          ],
          [
           "Cingulum"
          ],
          [
           "Cingulum"
          ],
          [
           "Cingulum"
          ],
          [
           "Cingulum"
          ],
          [
           "Cingulum"
          ],
          [
           "Cingulum"
          ],
          [
           "Cingulum"
          ],
          [
           "Cingulum"
          ],
          [
           "Cingulum"
          ],
          [
           "Cingulum"
          ],
          [
           "Cingulum"
          ],
          [
           "Cingulum"
          ],
          [
           "Cingulum"
          ],
          [
           "Cingulum"
          ],
          [
           "Cingulum"
          ],
          [
           "Cingulum"
          ],
          [
           "Cingulum"
          ],
          [
           "Cingulum"
          ],
          [
           "Cingulum"
          ],
          [
           "Cingulum"
          ],
          [
           "Cingulum"
          ],
          [
           "Cingulum"
          ],
          [
           "Cingulum"
          ],
          [
           "Cingulum"
          ],
          [
           "Cingulum"
          ],
          [
           "Cingulum"
          ],
          [
           "Cingulum"
          ],
          [
           "Cingulum"
          ],
          [
           "Cingulum"
          ],
          [
           "Cingulum"
          ],
          [
           "Cingulum"
          ],
          [
           "Cingulum"
          ],
          [
           "Cingulum"
          ],
          [
           "Cingulum"
          ],
          [
           "Cingulum"
          ],
          [
           "Cingulum"
          ],
          [
           "Cingulum"
          ],
          [
           "Cingulum"
          ],
          [
           "Cingulum"
          ],
          [
           "Cingulum"
          ],
          [
           "Cingulum"
          ],
          [
           "Cingulum"
          ],
          [
           "Cingulum"
          ],
          [
           "Cingulum"
          ],
          [
           "Cingulum"
          ],
          [
           "Cingulum"
          ],
          [
           "Cingulum"
          ],
          [
           "Cingulum"
          ],
          [
           "Cingulum"
          ],
          [
           "Cingulum"
          ],
          [
           "Cingulum"
          ],
          [
           "Cingulum"
          ],
          [
           "Cingulum"
          ],
          [
           "Cingulum"
          ],
          [
           "Cingulum"
          ],
          [
           "Cingulum"
          ],
          [
           "Cingulum"
          ],
          [
           "Cingulum"
          ],
          [
           "Cingulum"
          ],
          [
           "Cingulum"
          ],
          [
           "Cingulum"
          ],
          [
           "Cingulum"
          ],
          [
           "Cingulum"
          ],
          [
           "Cingulum"
          ],
          [
           "Cingulum"
          ],
          [
           "Cingulum"
          ],
          [
           "Cingulum"
          ],
          [
           "Cingulum"
          ],
          [
           "Cingulum"
          ],
          [
           "Cingulum"
          ],
          [
           "Cingulum"
          ],
          [
           "Cingulum"
          ],
          [
           "Cingulum"
          ],
          [
           "Cingulum"
          ],
          [
           "Cingulum"
          ],
          [
           "Cingulum"
          ],
          [
           "Cingulum"
          ],
          [
           "Cingulum"
          ],
          [
           "Cingulum"
          ],
          [
           "Cingulum"
          ],
          [
           "Cingulum"
          ],
          [
           "Cingulum"
          ],
          [
           "Cingulum"
          ],
          [
           "Cingulum"
          ],
          [
           "Cingulum"
          ],
          [
           "Cingulum"
          ],
          [
           "Cingulum"
          ],
          [
           "Cingulum"
          ],
          [
           "Cingulum"
          ],
          [
           "Cingulum"
          ],
          [
           "Cingulum"
          ],
          [
           "Cingulum"
          ],
          [
           "Cingulum"
          ],
          [
           "Cingulum"
          ],
          [
           "Cingulum"
          ],
          [
           "Cingulum"
          ],
          [
           "Cingulum"
          ],
          [
           "Cingulum"
          ],
          [
           "Cingulum"
          ],
          [
           "Cingulum"
          ],
          [
           "Cingulum"
          ],
          [
           "Cingulum"
          ],
          [
           "Cingulum"
          ],
          [
           "Cingulum"
          ],
          [
           "Cingulum"
          ],
          [
           "Cingulum"
          ],
          [
           "Cingulum"
          ],
          [
           "Cingulum"
          ],
          [
           "Cingulum"
          ],
          [
           "Cingulum"
          ],
          [
           "Cingulum"
          ],
          [
           "Cingulum"
          ],
          [
           "Cingulum"
          ],
          [
           "Cingulum"
          ],
          [
           "Cingulum"
          ],
          [
           "Cingulum"
          ],
          [
           "Cingulum"
          ],
          [
           "Cingulum"
          ],
          [
           "Cingulum"
          ],
          [
           "Cingulum"
          ],
          [
           "Cingulum"
          ],
          [
           "Cingulum"
          ],
          [
           "Cingulum"
          ],
          [
           "Cingulum"
          ],
          [
           "Cingulum"
          ],
          [
           "Cingulum"
          ],
          [
           "Cingulum"
          ],
          [
           "Cingulum"
          ],
          [
           "Cingulum"
          ],
          [
           "Cingulum"
          ],
          [
           "Cingulum"
          ],
          [
           "Cingulum"
          ],
          [
           "Cingulum"
          ],
          [
           "Cingulum"
          ],
          [
           "Cingulum"
          ],
          [
           "Cingulum"
          ],
          [
           "Cingulum"
          ],
          [
           "Cingulum"
          ],
          [
           "Cingulum"
          ],
          [
           "Cingulum"
          ],
          [
           "Cingulum"
          ],
          [
           "Cingulum"
          ],
          [
           "Cingulum"
          ],
          [
           "Cingulum"
          ],
          [
           "Cingulum"
          ],
          [
           "Cingulum"
          ],
          [
           "Cingulum"
          ],
          [
           "Cingulum"
          ],
          [
           "Cingulum"
          ],
          [
           "Cingulum"
          ],
          [
           "Cingulum"
          ],
          [
           "Cingulum"
          ],
          [
           "Cingulum"
          ],
          [
           "Cingulum"
          ],
          [
           "Cingulum"
          ],
          [
           "Cingulum"
          ],
          [
           "Cingulum"
          ],
          [
           "Cingulum"
          ],
          [
           "Cingulum"
          ],
          [
           "Cingulum"
          ],
          [
           "Cingulum"
          ],
          [
           "Cingulum"
          ],
          [
           "Cingulum"
          ],
          [
           "Cingulum"
          ],
          [
           "Cingulum"
          ],
          [
           "Cingulum"
          ],
          [
           "Cingulum"
          ],
          [
           "Cingulum"
          ],
          [
           "Cingulum"
          ],
          [
           "Cingulum"
          ],
          [
           "Cingulum"
          ],
          [
           "Cingulum"
          ]
         ],
         "hovertemplate": "Tract=%{customdata[0]}<br>Tract/FA/MD=%{x}<br>FA/MD Value=%{y}<extra></extra>",
         "jitter": 0.3,
         "legendgroup": "Cingulum",
         "line": {
          "width": 4
         },
         "marker": {
          "color": "#ab63fa",
          "opacity": 0.6,
          "size": 4
         },
         "name": "Cingulum",
         "notched": false,
         "offsetgroup": "Cingulum",
         "orientation": "v",
         "showlegend": true,
         "type": "box",
         "x": [
          "MD_Cingulum_L",
          "MD_Cingulum_L",
          "MD_Cingulum_L",
          "MD_Cingulum_L",
          "MD_Cingulum_L",
          "MD_Cingulum_L",
          "MD_Cingulum_L",
          "MD_Cingulum_L",
          "MD_Cingulum_L",
          "MD_Cingulum_L",
          "MD_Cingulum_L",
          "MD_Cingulum_L",
          "MD_Cingulum_L",
          "MD_Cingulum_L",
          "MD_Cingulum_L",
          "MD_Cingulum_L",
          "MD_Cingulum_L",
          "MD_Cingulum_L",
          "MD_Cingulum_L",
          "MD_Cingulum_L",
          "MD_Cingulum_L",
          "MD_Cingulum_L",
          "MD_Cingulum_L",
          "MD_Cingulum_L",
          "MD_Cingulum_L",
          "MD_Cingulum_L",
          "MD_Cingulum_L",
          "MD_Cingulum_L",
          "MD_Cingulum_L",
          "MD_Cingulum_L",
          "MD_Cingulum_L",
          "MD_Cingulum_L",
          "MD_Cingulum_L",
          "MD_Cingulum_L",
          "MD_Cingulum_L",
          "MD_Cingulum_L",
          "MD_Cingulum_L",
          "MD_Cingulum_L",
          "MD_Cingulum_L",
          "MD_Cingulum_L",
          "MD_Cingulum_L",
          "MD_Cingulum_L",
          "MD_Cingulum_L",
          "MD_Cingulum_L",
          "MD_Cingulum_L",
          "MD_Cingulum_L",
          "MD_Cingulum_L",
          "MD_Cingulum_L",
          "MD_Cingulum_L",
          "MD_Cingulum_L",
          "MD_Cingulum_L",
          "MD_Cingulum_L",
          "MD_Cingulum_L",
          "MD_Cingulum_L",
          "MD_Cingulum_L",
          "MD_Cingulum_L",
          "MD_Cingulum_L",
          "MD_Cingulum_L",
          "MD_Cingulum_L",
          "MD_Cingulum_L",
          "MD_Cingulum_L",
          "MD_Cingulum_L",
          "MD_Cingulum_L",
          "MD_Cingulum_L",
          "MD_Cingulum_L",
          "MD_Cingulum_L",
          "MD_Cingulum_L",
          "MD_Cingulum_L",
          "MD_Cingulum_L",
          "MD_Cingulum_L",
          "MD_Cingulum_L",
          "MD_Cingulum_L",
          "MD_Cingulum_L",
          "MD_Cingulum_L",
          "MD_Cingulum_L",
          "MD_Cingulum_L",
          "MD_Cingulum_L",
          "MD_Cingulum_L",
          "MD_Cingulum_L",
          "MD_Cingulum_L",
          "MD_Cingulum_L",
          "MD_Cingulum_L",
          "MD_Cingulum_L",
          "MD_Cingulum_L",
          "MD_Cingulum_L",
          "MD_Cingulum_L",
          "MD_Cingulum_L",
          "MD_Cingulum_R",
          "MD_Cingulum_R",
          "MD_Cingulum_R",
          "MD_Cingulum_R",
          "MD_Cingulum_R",
          "MD_Cingulum_R",
          "MD_Cingulum_R",
          "MD_Cingulum_R",
          "MD_Cingulum_R",
          "MD_Cingulum_R",
          "MD_Cingulum_R",
          "MD_Cingulum_R",
          "MD_Cingulum_R",
          "MD_Cingulum_R",
          "MD_Cingulum_R",
          "MD_Cingulum_R",
          "MD_Cingulum_R",
          "MD_Cingulum_R",
          "MD_Cingulum_R",
          "MD_Cingulum_R",
          "MD_Cingulum_R",
          "MD_Cingulum_R",
          "MD_Cingulum_R",
          "MD_Cingulum_R",
          "MD_Cingulum_R",
          "MD_Cingulum_R",
          "MD_Cingulum_R",
          "MD_Cingulum_R",
          "MD_Cingulum_R",
          "MD_Cingulum_R",
          "MD_Cingulum_R",
          "MD_Cingulum_R",
          "MD_Cingulum_R",
          "MD_Cingulum_R",
          "MD_Cingulum_R",
          "MD_Cingulum_R",
          "MD_Cingulum_R",
          "MD_Cingulum_R",
          "MD_Cingulum_R",
          "MD_Cingulum_R",
          "MD_Cingulum_R",
          "MD_Cingulum_R",
          "MD_Cingulum_R",
          "MD_Cingulum_R",
          "MD_Cingulum_R",
          "MD_Cingulum_R",
          "MD_Cingulum_R",
          "MD_Cingulum_R",
          "MD_Cingulum_R",
          "MD_Cingulum_R",
          "MD_Cingulum_R",
          "MD_Cingulum_R",
          "MD_Cingulum_R",
          "MD_Cingulum_R",
          "MD_Cingulum_R",
          "MD_Cingulum_R",
          "MD_Cingulum_R",
          "MD_Cingulum_R",
          "MD_Cingulum_R",
          "MD_Cingulum_R",
          "MD_Cingulum_R",
          "MD_Cingulum_R",
          "MD_Cingulum_R",
          "MD_Cingulum_R",
          "MD_Cingulum_R",
          "MD_Cingulum_R",
          "MD_Cingulum_R",
          "MD_Cingulum_R",
          "MD_Cingulum_R",
          "MD_Cingulum_R",
          "MD_Cingulum_R",
          "MD_Cingulum_R",
          "MD_Cingulum_R",
          "MD_Cingulum_R",
          "MD_Cingulum_R",
          "MD_Cingulum_R",
          "MD_Cingulum_R",
          "MD_Cingulum_R",
          "MD_Cingulum_R",
          "MD_Cingulum_R",
          "MD_Cingulum_R",
          "MD_Cingulum_R",
          "MD_Cingulum_R",
          "MD_Cingulum_R",
          "MD_Cingulum_R",
          "MD_Cingulum_R",
          "MD_Cingulum_R"
         ],
         "x0": " ",
         "xaxis": "x",
         "y": [
          0.000525,
          0.000532,
          0.000524,
          0.000514,
          0.000514,
          0.000554,
          0.000545,
          0.000536,
          0.000535,
          0.000537,
          0.000565,
          0.000538,
          0.000547,
          0.000564,
          0.000524,
          0.000565,
          0.000544,
          0.000532,
          0.000547,
          0.000564,
          0.000531,
          0.000558,
          0.00054,
          0.000541,
          0.000537,
          0.000527,
          0.000555,
          0.000534,
          0.000516,
          0.000525,
          0.000532,
          0.000524,
          0.000514,
          0.000514,
          0.000554,
          0.000545,
          0.000536,
          0.000535,
          0.000537,
          0.000565,
          0.000538,
          0.000547,
          0.000564,
          0.000524,
          0.000565,
          0.000544,
          0.000532,
          0.000547,
          0.000564,
          0.000531,
          0.000558,
          0.00054,
          0.000541,
          0.000537,
          0.000527,
          0.000555,
          0.000534,
          0.000516,
          0.000525,
          0.000532,
          0.000524,
          0.000514,
          0.000514,
          0.000554,
          0.000545,
          0.000536,
          0.000535,
          0.000537,
          0.000565,
          0.000538,
          0.000547,
          0.000564,
          0.000524,
          0.000565,
          0.000544,
          0.000532,
          0.000547,
          0.000564,
          0.000531,
          0.000558,
          0.00054,
          0.000541,
          0.000537,
          0.000527,
          0.000555,
          0.000534,
          0.000516,
          0.000541,
          0.000533,
          0.000546,
          0.000525,
          0.000516,
          0.000563,
          0.000552,
          0.000551,
          0.000546,
          0.000546,
          0.000578,
          0.000563,
          0.00055,
          0.000575,
          0.000537,
          0.000573,
          0.000559,
          0.000544,
          0.000564,
          0.00057,
          0.000545,
          0.000558,
          0.000556,
          0.000559,
          0.000545,
          0.000538,
          0.000564,
          0.000547,
          0.000541,
          0.000541,
          0.000533,
          0.000546,
          0.000525,
          0.000516,
          0.000563,
          0.000552,
          0.000551,
          0.000546,
          0.000546,
          0.000578,
          0.000563,
          0.00055,
          0.000575,
          0.000537,
          0.000573,
          0.000559,
          0.000544,
          0.000564,
          0.00057,
          0.000545,
          0.000558,
          0.000556,
          0.000559,
          0.000545,
          0.000538,
          0.000564,
          0.000547,
          0.000541,
          0.000541,
          0.000533,
          0.000546,
          0.000525,
          0.000516,
          0.000563,
          0.000552,
          0.000551,
          0.000546,
          0.000546,
          0.000578,
          0.000563,
          0.00055,
          0.000575,
          0.000537,
          0.000573,
          0.000559,
          0.000544,
          0.000564,
          0.00057,
          0.000545,
          0.000558,
          0.000556,
          0.000559,
          0.000545,
          0.000538,
          0.000564,
          0.000547,
          0.000541
         ],
         "y0": " ",
         "yaxis": "y"
        },
        {
         "alignmentgroup": "True",
         "boxmean": true,
         "boxpoints": "all",
         "customdata": [
          [
           "Cingulum (hippocampus)"
          ],
          [
           "Cingulum (hippocampus)"
          ],
          [
           "Cingulum (hippocampus)"
          ],
          [
           "Cingulum (hippocampus)"
          ],
          [
           "Cingulum (hippocampus)"
          ],
          [
           "Cingulum (hippocampus)"
          ],
          [
           "Cingulum (hippocampus)"
          ],
          [
           "Cingulum (hippocampus)"
          ],
          [
           "Cingulum (hippocampus)"
          ],
          [
           "Cingulum (hippocampus)"
          ],
          [
           "Cingulum (hippocampus)"
          ],
          [
           "Cingulum (hippocampus)"
          ],
          [
           "Cingulum (hippocampus)"
          ],
          [
           "Cingulum (hippocampus)"
          ],
          [
           "Cingulum (hippocampus)"
          ],
          [
           "Cingulum (hippocampus)"
          ],
          [
           "Cingulum (hippocampus)"
          ],
          [
           "Cingulum (hippocampus)"
          ],
          [
           "Cingulum (hippocampus)"
          ],
          [
           "Cingulum (hippocampus)"
          ],
          [
           "Cingulum (hippocampus)"
          ],
          [
           "Cingulum (hippocampus)"
          ],
          [
           "Cingulum (hippocampus)"
          ],
          [
           "Cingulum (hippocampus)"
          ],
          [
           "Cingulum (hippocampus)"
          ],
          [
           "Cingulum (hippocampus)"
          ],
          [
           "Cingulum (hippocampus)"
          ],
          [
           "Cingulum (hippocampus)"
          ],
          [
           "Cingulum (hippocampus)"
          ],
          [
           "Cingulum (hippocampus)"
          ],
          [
           "Cingulum (hippocampus)"
          ],
          [
           "Cingulum (hippocampus)"
          ],
          [
           "Cingulum (hippocampus)"
          ],
          [
           "Cingulum (hippocampus)"
          ],
          [
           "Cingulum (hippocampus)"
          ],
          [
           "Cingulum (hippocampus)"
          ],
          [
           "Cingulum (hippocampus)"
          ],
          [
           "Cingulum (hippocampus)"
          ],
          [
           "Cingulum (hippocampus)"
          ],
          [
           "Cingulum (hippocampus)"
          ],
          [
           "Cingulum (hippocampus)"
          ],
          [
           "Cingulum (hippocampus)"
          ],
          [
           "Cingulum (hippocampus)"
          ],
          [
           "Cingulum (hippocampus)"
          ],
          [
           "Cingulum (hippocampus)"
          ],
          [
           "Cingulum (hippocampus)"
          ],
          [
           "Cingulum (hippocampus)"
          ],
          [
           "Cingulum (hippocampus)"
          ],
          [
           "Cingulum (hippocampus)"
          ],
          [
           "Cingulum (hippocampus)"
          ],
          [
           "Cingulum (hippocampus)"
          ],
          [
           "Cingulum (hippocampus)"
          ],
          [
           "Cingulum (hippocampus)"
          ],
          [
           "Cingulum (hippocampus)"
          ],
          [
           "Cingulum (hippocampus)"
          ],
          [
           "Cingulum (hippocampus)"
          ],
          [
           "Cingulum (hippocampus)"
          ],
          [
           "Cingulum (hippocampus)"
          ],
          [
           "Cingulum (hippocampus)"
          ],
          [
           "Cingulum (hippocampus)"
          ],
          [
           "Cingulum (hippocampus)"
          ],
          [
           "Cingulum (hippocampus)"
          ],
          [
           "Cingulum (hippocampus)"
          ],
          [
           "Cingulum (hippocampus)"
          ],
          [
           "Cingulum (hippocampus)"
          ],
          [
           "Cingulum (hippocampus)"
          ],
          [
           "Cingulum (hippocampus)"
          ],
          [
           "Cingulum (hippocampus)"
          ],
          [
           "Cingulum (hippocampus)"
          ],
          [
           "Cingulum (hippocampus)"
          ],
          [
           "Cingulum (hippocampus)"
          ],
          [
           "Cingulum (hippocampus)"
          ],
          [
           "Cingulum (hippocampus)"
          ],
          [
           "Cingulum (hippocampus)"
          ],
          [
           "Cingulum (hippocampus)"
          ],
          [
           "Cingulum (hippocampus)"
          ],
          [
           "Cingulum (hippocampus)"
          ],
          [
           "Cingulum (hippocampus)"
          ],
          [
           "Cingulum (hippocampus)"
          ],
          [
           "Cingulum (hippocampus)"
          ],
          [
           "Cingulum (hippocampus)"
          ],
          [
           "Cingulum (hippocampus)"
          ],
          [
           "Cingulum (hippocampus)"
          ],
          [
           "Cingulum (hippocampus)"
          ],
          [
           "Cingulum (hippocampus)"
          ],
          [
           "Cingulum (hippocampus)"
          ],
          [
           "Cingulum (hippocampus)"
          ],
          [
           "Cingulum (hippocampus)"
          ],
          [
           "Cingulum (hippocampus)"
          ],
          [
           "Cingulum (hippocampus)"
          ],
          [
           "Cingulum (hippocampus)"
          ],
          [
           "Cingulum (hippocampus)"
          ],
          [
           "Cingulum (hippocampus)"
          ],
          [
           "Cingulum (hippocampus)"
          ],
          [
           "Cingulum (hippocampus)"
          ],
          [
           "Cingulum (hippocampus)"
          ],
          [
           "Cingulum (hippocampus)"
          ],
          [
           "Cingulum (hippocampus)"
          ],
          [
           "Cingulum (hippocampus)"
          ],
          [
           "Cingulum (hippocampus)"
          ],
          [
           "Cingulum (hippocampus)"
          ],
          [
           "Cingulum (hippocampus)"
          ],
          [
           "Cingulum (hippocampus)"
          ],
          [
           "Cingulum (hippocampus)"
          ],
          [
           "Cingulum (hippocampus)"
          ],
          [
           "Cingulum (hippocampus)"
          ],
          [
           "Cingulum (hippocampus)"
          ],
          [
           "Cingulum (hippocampus)"
          ],
          [
           "Cingulum (hippocampus)"
          ],
          [
           "Cingulum (hippocampus)"
          ],
          [
           "Cingulum (hippocampus)"
          ],
          [
           "Cingulum (hippocampus)"
          ],
          [
           "Cingulum (hippocampus)"
          ],
          [
           "Cingulum (hippocampus)"
          ],
          [
           "Cingulum (hippocampus)"
          ],
          [
           "Cingulum (hippocampus)"
          ],
          [
           "Cingulum (hippocampus)"
          ],
          [
           "Cingulum (hippocampus)"
          ],
          [
           "Cingulum (hippocampus)"
          ],
          [
           "Cingulum (hippocampus)"
          ],
          [
           "Cingulum (hippocampus)"
          ],
          [
           "Cingulum (hippocampus)"
          ],
          [
           "Cingulum (hippocampus)"
          ],
          [
           "Cingulum (hippocampus)"
          ],
          [
           "Cingulum (hippocampus)"
          ],
          [
           "Cingulum (hippocampus)"
          ],
          [
           "Cingulum (hippocampus)"
          ],
          [
           "Cingulum (hippocampus)"
          ],
          [
           "Cingulum (hippocampus)"
          ],
          [
           "Cingulum (hippocampus)"
          ],
          [
           "Cingulum (hippocampus)"
          ],
          [
           "Cingulum (hippocampus)"
          ],
          [
           "Cingulum (hippocampus)"
          ],
          [
           "Cingulum (hippocampus)"
          ],
          [
           "Cingulum (hippocampus)"
          ],
          [
           "Cingulum (hippocampus)"
          ],
          [
           "Cingulum (hippocampus)"
          ],
          [
           "Cingulum (hippocampus)"
          ],
          [
           "Cingulum (hippocampus)"
          ],
          [
           "Cingulum (hippocampus)"
          ],
          [
           "Cingulum (hippocampus)"
          ],
          [
           "Cingulum (hippocampus)"
          ],
          [
           "Cingulum (hippocampus)"
          ],
          [
           "Cingulum (hippocampus)"
          ],
          [
           "Cingulum (hippocampus)"
          ],
          [
           "Cingulum (hippocampus)"
          ],
          [
           "Cingulum (hippocampus)"
          ],
          [
           "Cingulum (hippocampus)"
          ],
          [
           "Cingulum (hippocampus)"
          ],
          [
           "Cingulum (hippocampus)"
          ],
          [
           "Cingulum (hippocampus)"
          ],
          [
           "Cingulum (hippocampus)"
          ],
          [
           "Cingulum (hippocampus)"
          ],
          [
           "Cingulum (hippocampus)"
          ],
          [
           "Cingulum (hippocampus)"
          ],
          [
           "Cingulum (hippocampus)"
          ],
          [
           "Cingulum (hippocampus)"
          ],
          [
           "Cingulum (hippocampus)"
          ],
          [
           "Cingulum (hippocampus)"
          ],
          [
           "Cingulum (hippocampus)"
          ],
          [
           "Cingulum (hippocampus)"
          ],
          [
           "Cingulum (hippocampus)"
          ],
          [
           "Cingulum (hippocampus)"
          ],
          [
           "Cingulum (hippocampus)"
          ],
          [
           "Cingulum (hippocampus)"
          ],
          [
           "Cingulum (hippocampus)"
          ],
          [
           "Cingulum (hippocampus)"
          ],
          [
           "Cingulum (hippocampus)"
          ],
          [
           "Cingulum (hippocampus)"
          ],
          [
           "Cingulum (hippocampus)"
          ],
          [
           "Cingulum (hippocampus)"
          ],
          [
           "Cingulum (hippocampus)"
          ],
          [
           "Cingulum (hippocampus)"
          ],
          [
           "Cingulum (hippocampus)"
          ]
         ],
         "hovertemplate": "Tract=%{customdata[0]}<br>Tract/FA/MD=%{x}<br>FA/MD Value=%{y}<extra></extra>",
         "jitter": 0.3,
         "legendgroup": "Cingulum (hippocampus)",
         "line": {
          "width": 4
         },
         "marker": {
          "color": "#FFA15A",
          "opacity": 0.6,
          "size": 4
         },
         "name": "Cingulum (hippocampus)",
         "notched": false,
         "offsetgroup": "Cingulum (hippocampus)",
         "orientation": "v",
         "showlegend": true,
         "type": "box",
         "x": [
          "MD_Cingulum (hippocampus)_L",
          "MD_Cingulum (hippocampus)_L",
          "MD_Cingulum (hippocampus)_L",
          "MD_Cingulum (hippocampus)_L",
          "MD_Cingulum (hippocampus)_L",
          "MD_Cingulum (hippocampus)_L",
          "MD_Cingulum (hippocampus)_L",
          "MD_Cingulum (hippocampus)_L",
          "MD_Cingulum (hippocampus)_L",
          "MD_Cingulum (hippocampus)_L",
          "MD_Cingulum (hippocampus)_L",
          "MD_Cingulum (hippocampus)_L",
          "MD_Cingulum (hippocampus)_L",
          "MD_Cingulum (hippocampus)_L",
          "MD_Cingulum (hippocampus)_L",
          "MD_Cingulum (hippocampus)_L",
          "MD_Cingulum (hippocampus)_L",
          "MD_Cingulum (hippocampus)_L",
          "MD_Cingulum (hippocampus)_L",
          "MD_Cingulum (hippocampus)_L",
          "MD_Cingulum (hippocampus)_L",
          "MD_Cingulum (hippocampus)_L",
          "MD_Cingulum (hippocampus)_L",
          "MD_Cingulum (hippocampus)_L",
          "MD_Cingulum (hippocampus)_L",
          "MD_Cingulum (hippocampus)_L",
          "MD_Cingulum (hippocampus)_L",
          "MD_Cingulum (hippocampus)_L",
          "MD_Cingulum (hippocampus)_L",
          "MD_Cingulum (hippocampus)_L",
          "MD_Cingulum (hippocampus)_L",
          "MD_Cingulum (hippocampus)_L",
          "MD_Cingulum (hippocampus)_L",
          "MD_Cingulum (hippocampus)_L",
          "MD_Cingulum (hippocampus)_L",
          "MD_Cingulum (hippocampus)_L",
          "MD_Cingulum (hippocampus)_L",
          "MD_Cingulum (hippocampus)_L",
          "MD_Cingulum (hippocampus)_L",
          "MD_Cingulum (hippocampus)_L",
          "MD_Cingulum (hippocampus)_L",
          "MD_Cingulum (hippocampus)_L",
          "MD_Cingulum (hippocampus)_L",
          "MD_Cingulum (hippocampus)_L",
          "MD_Cingulum (hippocampus)_L",
          "MD_Cingulum (hippocampus)_L",
          "MD_Cingulum (hippocampus)_L",
          "MD_Cingulum (hippocampus)_L",
          "MD_Cingulum (hippocampus)_L",
          "MD_Cingulum (hippocampus)_L",
          "MD_Cingulum (hippocampus)_L",
          "MD_Cingulum (hippocampus)_L",
          "MD_Cingulum (hippocampus)_L",
          "MD_Cingulum (hippocampus)_L",
          "MD_Cingulum (hippocampus)_L",
          "MD_Cingulum (hippocampus)_L",
          "MD_Cingulum (hippocampus)_L",
          "MD_Cingulum (hippocampus)_L",
          "MD_Cingulum (hippocampus)_L",
          "MD_Cingulum (hippocampus)_L",
          "MD_Cingulum (hippocampus)_L",
          "MD_Cingulum (hippocampus)_L",
          "MD_Cingulum (hippocampus)_L",
          "MD_Cingulum (hippocampus)_L",
          "MD_Cingulum (hippocampus)_L",
          "MD_Cingulum (hippocampus)_L",
          "MD_Cingulum (hippocampus)_L",
          "MD_Cingulum (hippocampus)_L",
          "MD_Cingulum (hippocampus)_L",
          "MD_Cingulum (hippocampus)_L",
          "MD_Cingulum (hippocampus)_L",
          "MD_Cingulum (hippocampus)_L",
          "MD_Cingulum (hippocampus)_L",
          "MD_Cingulum (hippocampus)_L",
          "MD_Cingulum (hippocampus)_L",
          "MD_Cingulum (hippocampus)_L",
          "MD_Cingulum (hippocampus)_L",
          "MD_Cingulum (hippocampus)_L",
          "MD_Cingulum (hippocampus)_L",
          "MD_Cingulum (hippocampus)_L",
          "MD_Cingulum (hippocampus)_L",
          "MD_Cingulum (hippocampus)_L",
          "MD_Cingulum (hippocampus)_L",
          "MD_Cingulum (hippocampus)_L",
          "MD_Cingulum (hippocampus)_L",
          "MD_Cingulum (hippocampus)_L",
          "MD_Cingulum (hippocampus)_L",
          "MD_Cingulum (hippocampus)_R",
          "MD_Cingulum (hippocampus)_R",
          "MD_Cingulum (hippocampus)_R",
          "MD_Cingulum (hippocampus)_R",
          "MD_Cingulum (hippocampus)_R",
          "MD_Cingulum (hippocampus)_R",
          "MD_Cingulum (hippocampus)_R",
          "MD_Cingulum (hippocampus)_R",
          "MD_Cingulum (hippocampus)_R",
          "MD_Cingulum (hippocampus)_R",
          "MD_Cingulum (hippocampus)_R",
          "MD_Cingulum (hippocampus)_R",
          "MD_Cingulum (hippocampus)_R",
          "MD_Cingulum (hippocampus)_R",
          "MD_Cingulum (hippocampus)_R",
          "MD_Cingulum (hippocampus)_R",
          "MD_Cingulum (hippocampus)_R",
          "MD_Cingulum (hippocampus)_R",
          "MD_Cingulum (hippocampus)_R",
          "MD_Cingulum (hippocampus)_R",
          "MD_Cingulum (hippocampus)_R",
          "MD_Cingulum (hippocampus)_R",
          "MD_Cingulum (hippocampus)_R",
          "MD_Cingulum (hippocampus)_R",
          "MD_Cingulum (hippocampus)_R",
          "MD_Cingulum (hippocampus)_R",
          "MD_Cingulum (hippocampus)_R",
          "MD_Cingulum (hippocampus)_R",
          "MD_Cingulum (hippocampus)_R",
          "MD_Cingulum (hippocampus)_R",
          "MD_Cingulum (hippocampus)_R",
          "MD_Cingulum (hippocampus)_R",
          "MD_Cingulum (hippocampus)_R",
          "MD_Cingulum (hippocampus)_R",
          "MD_Cingulum (hippocampus)_R",
          "MD_Cingulum (hippocampus)_R",
          "MD_Cingulum (hippocampus)_R",
          "MD_Cingulum (hippocampus)_R",
          "MD_Cingulum (hippocampus)_R",
          "MD_Cingulum (hippocampus)_R",
          "MD_Cingulum (hippocampus)_R",
          "MD_Cingulum (hippocampus)_R",
          "MD_Cingulum (hippocampus)_R",
          "MD_Cingulum (hippocampus)_R",
          "MD_Cingulum (hippocampus)_R",
          "MD_Cingulum (hippocampus)_R",
          "MD_Cingulum (hippocampus)_R",
          "MD_Cingulum (hippocampus)_R",
          "MD_Cingulum (hippocampus)_R",
          "MD_Cingulum (hippocampus)_R",
          "MD_Cingulum (hippocampus)_R",
          "MD_Cingulum (hippocampus)_R",
          "MD_Cingulum (hippocampus)_R",
          "MD_Cingulum (hippocampus)_R",
          "MD_Cingulum (hippocampus)_R",
          "MD_Cingulum (hippocampus)_R",
          "MD_Cingulum (hippocampus)_R",
          "MD_Cingulum (hippocampus)_R",
          "MD_Cingulum (hippocampus)_R",
          "MD_Cingulum (hippocampus)_R",
          "MD_Cingulum (hippocampus)_R",
          "MD_Cingulum (hippocampus)_R",
          "MD_Cingulum (hippocampus)_R",
          "MD_Cingulum (hippocampus)_R",
          "MD_Cingulum (hippocampus)_R",
          "MD_Cingulum (hippocampus)_R",
          "MD_Cingulum (hippocampus)_R",
          "MD_Cingulum (hippocampus)_R",
          "MD_Cingulum (hippocampus)_R",
          "MD_Cingulum (hippocampus)_R",
          "MD_Cingulum (hippocampus)_R",
          "MD_Cingulum (hippocampus)_R",
          "MD_Cingulum (hippocampus)_R",
          "MD_Cingulum (hippocampus)_R",
          "MD_Cingulum (hippocampus)_R",
          "MD_Cingulum (hippocampus)_R",
          "MD_Cingulum (hippocampus)_R",
          "MD_Cingulum (hippocampus)_R",
          "MD_Cingulum (hippocampus)_R",
          "MD_Cingulum (hippocampus)_R",
          "MD_Cingulum (hippocampus)_R",
          "MD_Cingulum (hippocampus)_R",
          "MD_Cingulum (hippocampus)_R",
          "MD_Cingulum (hippocampus)_R",
          "MD_Cingulum (hippocampus)_R",
          "MD_Cingulum (hippocampus)_R",
          "MD_Cingulum (hippocampus)_R"
         ],
         "x0": " ",
         "xaxis": "x",
         "y": [
          0.000557,
          0.000546,
          0.000589,
          0.000578,
          0.000563,
          0.000569,
          0.000596,
          0.000596,
          0.0006,
          0.000556,
          0.000629,
          0.000595,
          0.000582,
          0.00062,
          0.000538,
          0.000575,
          0.000586,
          0.000579,
          0.000595,
          0.000587,
          0.000602,
          0.000607,
          0.000579,
          0.000593,
          0.00055,
          0.000576,
          0.000573,
          0.000588,
          0.000569,
          0.000557,
          0.000546,
          0.000589,
          0.000578,
          0.000563,
          0.000569,
          0.000596,
          0.000596,
          0.0006,
          0.000556,
          0.000629,
          0.000595,
          0.000582,
          0.00062,
          0.000538,
          0.000575,
          0.000586,
          0.000579,
          0.000595,
          0.000587,
          0.000602,
          0.000607,
          0.000579,
          0.000593,
          0.00055,
          0.000576,
          0.000573,
          0.000588,
          0.000569,
          0.000557,
          0.000546,
          0.000589,
          0.000578,
          0.000563,
          0.000569,
          0.000596,
          0.000596,
          0.0006,
          0.000556,
          0.000629,
          0.000595,
          0.000582,
          0.00062,
          0.000538,
          0.000575,
          0.000586,
          0.000579,
          0.000595,
          0.000587,
          0.000602,
          0.000607,
          0.000579,
          0.000593,
          0.00055,
          0.000576,
          0.000573,
          0.000588,
          0.000569,
          0.000554,
          0.000544,
          0.000585,
          0.000572,
          0.000531,
          0.000586,
          0.000595,
          0.000601,
          0.000603,
          0.000541,
          0.000617,
          0.000602,
          0.000568,
          0.000615,
          0.000557,
          0.00058,
          0.000578,
          0.000573,
          0.000576,
          0.000563,
          0.000607,
          0.000594,
          0.000575,
          0.000585,
          0.000579,
          0.000568,
          0.000564,
          0.000606,
          0.000562,
          0.000554,
          0.000544,
          0.000585,
          0.000572,
          0.000531,
          0.000586,
          0.000595,
          0.000601,
          0.000603,
          0.000541,
          0.000617,
          0.000602,
          0.000568,
          0.000615,
          0.000557,
          0.00058,
          0.000578,
          0.000573,
          0.000576,
          0.000563,
          0.000607,
          0.000594,
          0.000575,
          0.000585,
          0.000579,
          0.000568,
          0.000564,
          0.000606,
          0.000562,
          0.000554,
          0.000544,
          0.000585,
          0.000572,
          0.000531,
          0.000586,
          0.000595,
          0.000601,
          0.000603,
          0.000541,
          0.000617,
          0.000602,
          0.000568,
          0.000615,
          0.000557,
          0.00058,
          0.000578,
          0.000573,
          0.000576,
          0.000563,
          0.000607,
          0.000594,
          0.000575,
          0.000585,
          0.000579,
          0.000568,
          0.000564,
          0.000606,
          0.000562
         ],
         "y0": " ",
         "yaxis": "y"
        }
       ],
       "layout": {
        "boxmode": "group",
        "height": 600,
        "legend": {
         "title": {
          "text": "Tract"
         },
         "tracegroupgap": 0
        },
        "showlegend": false,
        "template": {
         "data": {
          "bar": [
           {
            "error_x": {
             "color": "#2a3f5f"
            },
            "error_y": {
             "color": "#2a3f5f"
            },
            "marker": {
             "line": {
              "color": "#E5ECF6",
              "width": 0.5
             },
             "pattern": {
              "fillmode": "overlay",
              "size": 10,
              "solidity": 0.2
             }
            },
            "type": "bar"
           }
          ],
          "barpolar": [
           {
            "marker": {
             "line": {
              "color": "#E5ECF6",
              "width": 0.5
             },
             "pattern": {
              "fillmode": "overlay",
              "size": 10,
              "solidity": 0.2
             }
            },
            "type": "barpolar"
           }
          ],
          "carpet": [
           {
            "aaxis": {
             "endlinecolor": "#2a3f5f",
             "gridcolor": "white",
             "linecolor": "white",
             "minorgridcolor": "white",
             "startlinecolor": "#2a3f5f"
            },
            "baxis": {
             "endlinecolor": "#2a3f5f",
             "gridcolor": "white",
             "linecolor": "white",
             "minorgridcolor": "white",
             "startlinecolor": "#2a3f5f"
            },
            "type": "carpet"
           }
          ],
          "choropleth": [
           {
            "colorbar": {
             "outlinewidth": 0,
             "ticks": ""
            },
            "type": "choropleth"
           }
          ],
          "contour": [
           {
            "colorbar": {
             "outlinewidth": 0,
             "ticks": ""
            },
            "colorscale": [
             [
              0,
              "#0d0887"
             ],
             [
              0.1111111111111111,
              "#46039f"
             ],
             [
              0.2222222222222222,
              "#7201a8"
             ],
             [
              0.3333333333333333,
              "#9c179e"
             ],
             [
              0.4444444444444444,
              "#bd3786"
             ],
             [
              0.5555555555555556,
              "#d8576b"
             ],
             [
              0.6666666666666666,
              "#ed7953"
             ],
             [
              0.7777777777777778,
              "#fb9f3a"
             ],
             [
              0.8888888888888888,
              "#fdca26"
             ],
             [
              1,
              "#f0f921"
             ]
            ],
            "type": "contour"
           }
          ],
          "contourcarpet": [
           {
            "colorbar": {
             "outlinewidth": 0,
             "ticks": ""
            },
            "type": "contourcarpet"
           }
          ],
          "heatmap": [
           {
            "colorbar": {
             "outlinewidth": 0,
             "ticks": ""
            },
            "colorscale": [
             [
              0,
              "#0d0887"
             ],
             [
              0.1111111111111111,
              "#46039f"
             ],
             [
              0.2222222222222222,
              "#7201a8"
             ],
             [
              0.3333333333333333,
              "#9c179e"
             ],
             [
              0.4444444444444444,
              "#bd3786"
             ],
             [
              0.5555555555555556,
              "#d8576b"
             ],
             [
              0.6666666666666666,
              "#ed7953"
             ],
             [
              0.7777777777777778,
              "#fb9f3a"
             ],
             [
              0.8888888888888888,
              "#fdca26"
             ],
             [
              1,
              "#f0f921"
             ]
            ],
            "type": "heatmap"
           }
          ],
          "heatmapgl": [
           {
            "colorbar": {
             "outlinewidth": 0,
             "ticks": ""
            },
            "colorscale": [
             [
              0,
              "#0d0887"
             ],
             [
              0.1111111111111111,
              "#46039f"
             ],
             [
              0.2222222222222222,
              "#7201a8"
             ],
             [
              0.3333333333333333,
              "#9c179e"
             ],
             [
              0.4444444444444444,
              "#bd3786"
             ],
             [
              0.5555555555555556,
              "#d8576b"
             ],
             [
              0.6666666666666666,
              "#ed7953"
             ],
             [
              0.7777777777777778,
              "#fb9f3a"
             ],
             [
              0.8888888888888888,
              "#fdca26"
             ],
             [
              1,
              "#f0f921"
             ]
            ],
            "type": "heatmapgl"
           }
          ],
          "histogram": [
           {
            "marker": {
             "pattern": {
              "fillmode": "overlay",
              "size": 10,
              "solidity": 0.2
             }
            },
            "type": "histogram"
           }
          ],
          "histogram2d": [
           {
            "colorbar": {
             "outlinewidth": 0,
             "ticks": ""
            },
            "colorscale": [
             [
              0,
              "#0d0887"
             ],
             [
              0.1111111111111111,
              "#46039f"
             ],
             [
              0.2222222222222222,
              "#7201a8"
             ],
             [
              0.3333333333333333,
              "#9c179e"
             ],
             [
              0.4444444444444444,
              "#bd3786"
             ],
             [
              0.5555555555555556,
              "#d8576b"
             ],
             [
              0.6666666666666666,
              "#ed7953"
             ],
             [
              0.7777777777777778,
              "#fb9f3a"
             ],
             [
              0.8888888888888888,
              "#fdca26"
             ],
             [
              1,
              "#f0f921"
             ]
            ],
            "type": "histogram2d"
           }
          ],
          "histogram2dcontour": [
           {
            "colorbar": {
             "outlinewidth": 0,
             "ticks": ""
            },
            "colorscale": [
             [
              0,
              "#0d0887"
             ],
             [
              0.1111111111111111,
              "#46039f"
             ],
             [
              0.2222222222222222,
              "#7201a8"
             ],
             [
              0.3333333333333333,
              "#9c179e"
             ],
             [
              0.4444444444444444,
              "#bd3786"
             ],
             [
              0.5555555555555556,
              "#d8576b"
             ],
             [
              0.6666666666666666,
              "#ed7953"
             ],
             [
              0.7777777777777778,
              "#fb9f3a"
             ],
             [
              0.8888888888888888,
              "#fdca26"
             ],
             [
              1,
              "#f0f921"
             ]
            ],
            "type": "histogram2dcontour"
           }
          ],
          "mesh3d": [
           {
            "colorbar": {
             "outlinewidth": 0,
             "ticks": ""
            },
            "type": "mesh3d"
           }
          ],
          "parcoords": [
           {
            "line": {
             "colorbar": {
              "outlinewidth": 0,
              "ticks": ""
             }
            },
            "type": "parcoords"
           }
          ],
          "pie": [
           {
            "automargin": true,
            "type": "pie"
           }
          ],
          "scatter": [
           {
            "fillpattern": {
             "fillmode": "overlay",
             "size": 10,
             "solidity": 0.2
            },
            "type": "scatter"
           }
          ],
          "scatter3d": [
           {
            "line": {
             "colorbar": {
              "outlinewidth": 0,
              "ticks": ""
             }
            },
            "marker": {
             "colorbar": {
              "outlinewidth": 0,
              "ticks": ""
             }
            },
            "type": "scatter3d"
           }
          ],
          "scattercarpet": [
           {
            "marker": {
             "colorbar": {
              "outlinewidth": 0,
              "ticks": ""
             }
            },
            "type": "scattercarpet"
           }
          ],
          "scattergeo": [
           {
            "marker": {
             "colorbar": {
              "outlinewidth": 0,
              "ticks": ""
             }
            },
            "type": "scattergeo"
           }
          ],
          "scattergl": [
           {
            "marker": {
             "colorbar": {
              "outlinewidth": 0,
              "ticks": ""
             }
            },
            "type": "scattergl"
           }
          ],
          "scattermapbox": [
           {
            "marker": {
             "colorbar": {
              "outlinewidth": 0,
              "ticks": ""
             }
            },
            "type": "scattermapbox"
           }
          ],
          "scatterpolar": [
           {
            "marker": {
             "colorbar": {
              "outlinewidth": 0,
              "ticks": ""
             }
            },
            "type": "scatterpolar"
           }
          ],
          "scatterpolargl": [
           {
            "marker": {
             "colorbar": {
              "outlinewidth": 0,
              "ticks": ""
             }
            },
            "type": "scatterpolargl"
           }
          ],
          "scatterternary": [
           {
            "marker": {
             "colorbar": {
              "outlinewidth": 0,
              "ticks": ""
             }
            },
            "type": "scatterternary"
           }
          ],
          "surface": [
           {
            "colorbar": {
             "outlinewidth": 0,
             "ticks": ""
            },
            "colorscale": [
             [
              0,
              "#0d0887"
             ],
             [
              0.1111111111111111,
              "#46039f"
             ],
             [
              0.2222222222222222,
              "#7201a8"
             ],
             [
              0.3333333333333333,
              "#9c179e"
             ],
             [
              0.4444444444444444,
              "#bd3786"
             ],
             [
              0.5555555555555556,
              "#d8576b"
             ],
             [
              0.6666666666666666,
              "#ed7953"
             ],
             [
              0.7777777777777778,
              "#fb9f3a"
             ],
             [
              0.8888888888888888,
              "#fdca26"
             ],
             [
              1,
              "#f0f921"
             ]
            ],
            "type": "surface"
           }
          ],
          "table": [
           {
            "cells": {
             "fill": {
              "color": "#EBF0F8"
             },
             "line": {
              "color": "white"
             }
            },
            "header": {
             "fill": {
              "color": "#C8D4E3"
             },
             "line": {
              "color": "white"
             }
            },
            "type": "table"
           }
          ]
         },
         "layout": {
          "annotationdefaults": {
           "arrowcolor": "#2a3f5f",
           "arrowhead": 0,
           "arrowwidth": 1
          },
          "autotypenumbers": "strict",
          "coloraxis": {
           "colorbar": {
            "outlinewidth": 0,
            "ticks": ""
           }
          },
          "colorscale": {
           "diverging": [
            [
             0,
             "#8e0152"
            ],
            [
             0.1,
             "#c51b7d"
            ],
            [
             0.2,
             "#de77ae"
            ],
            [
             0.3,
             "#f1b6da"
            ],
            [
             0.4,
             "#fde0ef"
            ],
            [
             0.5,
             "#f7f7f7"
            ],
            [
             0.6,
             "#e6f5d0"
            ],
            [
             0.7,
             "#b8e186"
            ],
            [
             0.8,
             "#7fbc41"
            ],
            [
             0.9,
             "#4d9221"
            ],
            [
             1,
             "#276419"
            ]
           ],
           "sequential": [
            [
             0,
             "#0d0887"
            ],
            [
             0.1111111111111111,
             "#46039f"
            ],
            [
             0.2222222222222222,
             "#7201a8"
            ],
            [
             0.3333333333333333,
             "#9c179e"
            ],
            [
             0.4444444444444444,
             "#bd3786"
            ],
            [
             0.5555555555555556,
             "#d8576b"
            ],
            [
             0.6666666666666666,
             "#ed7953"
            ],
            [
             0.7777777777777778,
             "#fb9f3a"
            ],
            [
             0.8888888888888888,
             "#fdca26"
            ],
            [
             1,
             "#f0f921"
            ]
           ],
           "sequentialminus": [
            [
             0,
             "#0d0887"
            ],
            [
             0.1111111111111111,
             "#46039f"
            ],
            [
             0.2222222222222222,
             "#7201a8"
            ],
            [
             0.3333333333333333,
             "#9c179e"
            ],
            [
             0.4444444444444444,
             "#bd3786"
            ],
            [
             0.5555555555555556,
             "#d8576b"
            ],
            [
             0.6666666666666666,
             "#ed7953"
            ],
            [
             0.7777777777777778,
             "#fb9f3a"
            ],
            [
             0.8888888888888888,
             "#fdca26"
            ],
            [
             1,
             "#f0f921"
            ]
           ]
          },
          "colorway": [
           "#636efa",
           "#EF553B",
           "#00cc96",
           "#ab63fa",
           "#FFA15A",
           "#19d3f3",
           "#FF6692",
           "#B6E880",
           "#FF97FF",
           "#FECB52"
          ],
          "font": {
           "color": "#2a3f5f"
          },
          "geo": {
           "bgcolor": "white",
           "lakecolor": "white",
           "landcolor": "#E5ECF6",
           "showlakes": true,
           "showland": true,
           "subunitcolor": "white"
          },
          "hoverlabel": {
           "align": "left"
          },
          "hovermode": "closest",
          "mapbox": {
           "style": "light"
          },
          "paper_bgcolor": "white",
          "plot_bgcolor": "#E5ECF6",
          "polar": {
           "angularaxis": {
            "gridcolor": "white",
            "linecolor": "white",
            "ticks": ""
           },
           "bgcolor": "#E5ECF6",
           "radialaxis": {
            "gridcolor": "white",
            "linecolor": "white",
            "ticks": ""
           }
          },
          "scene": {
           "xaxis": {
            "backgroundcolor": "#E5ECF6",
            "gridcolor": "white",
            "gridwidth": 2,
            "linecolor": "white",
            "showbackground": true,
            "ticks": "",
            "zerolinecolor": "white"
           },
           "yaxis": {
            "backgroundcolor": "#E5ECF6",
            "gridcolor": "white",
            "gridwidth": 2,
            "linecolor": "white",
            "showbackground": true,
            "ticks": "",
            "zerolinecolor": "white"
           },
           "zaxis": {
            "backgroundcolor": "#E5ECF6",
            "gridcolor": "white",
            "gridwidth": 2,
            "linecolor": "white",
            "showbackground": true,
            "ticks": "",
            "zerolinecolor": "white"
           }
          },
          "shapedefaults": {
           "line": {
            "color": "#2a3f5f"
           }
          },
          "ternary": {
           "aaxis": {
            "gridcolor": "white",
            "linecolor": "white",
            "ticks": ""
           },
           "baxis": {
            "gridcolor": "white",
            "linecolor": "white",
            "ticks": ""
           },
           "bgcolor": "#E5ECF6",
           "caxis": {
            "gridcolor": "white",
            "linecolor": "white",
            "ticks": ""
           }
          },
          "title": {
           "x": 0.05
          },
          "xaxis": {
           "automargin": true,
           "gridcolor": "white",
           "linecolor": "white",
           "ticks": "",
           "title": {
            "standoff": 15
           },
           "zerolinecolor": "white",
           "zerolinewidth": 2
          },
          "yaxis": {
           "automargin": true,
           "gridcolor": "white",
           "linecolor": "white",
           "ticks": "",
           "title": {
            "standoff": 15
           },
           "zerolinecolor": "white",
           "zerolinewidth": 2
          }
         }
        },
        "title": {
         "text": "MD Values by Tract"
        },
        "width": 1200,
        "xaxis": {
         "anchor": "y",
         "domain": [
          0,
          1
         ],
         "title": {
          "text": "Tract/FA/MD"
         }
        },
        "yaxis": {
         "anchor": "x",
         "domain": [
          0,
          1
         ],
         "title": {
          "text": "MD Value"
         }
        }
       }
      }
     },
     "metadata": {},
     "output_type": "display_data"
    }
   ],
   "source": [
    "# just for fun, let's throw a boxplot to see if there are any differences in the dti data between the patients \n",
    "# agnostic of the emotion.\n",
    "# the x axis is all the columns with FA and MD in the name, and the is the value of the column.\n",
    "\n",
    "from plotly import graph_objects as go\n",
    "\n",
    "data_llll = []\n",
    "for tract, columns in tractdict.items():\n",
    "    for column in columns:\n",
    "        for value in logmratio_dti[column]:\n",
    "            data_llll.append({'Tract': tract, 'Column': column, 'Value': value})\n",
    "df_llll = pd.DataFrame(data_llll)\n",
    "# create new column to discern between FA and MD\n",
    "df_llll['FA/MD'] = df_llll['Column'].apply(lambda x: x.split('_')[0])\n",
    "# rename columns, from value to FA/MD value\n",
    "df_llll = df_llll.rename(columns={'Value': 'FA/MD Value', 'Column': 'Tract/FA/MD'})\n",
    "# separate into FA and MD dataframes\n",
    "df_fa = df_llll[df_llll['FA/MD'] == 'FA']\n",
    "df_md = df_llll[df_llll['FA/MD'] == 'MD']\n",
    "\n",
    "# create boxplot for FA and MD data\n",
    "fig = px.box(df_fa, x='Tract/FA/MD', y='FA/MD Value', points='all', title='FA Values by Tract', color='Tract', \n",
    "                hover_data=['Tract', 'Tract/FA/MD', 'FA/MD Value']).update_traces(\n",
    "                marker=dict(size=4, opacity=0.6), jitter=0.3,\n",
    "                boxmean=True, line=dict(width=4))\n",
    "fig.update_layout(yaxis_title='FA Value', width=1200, height=600, showlegend=False)\n",
    "fig.show()\n",
    "\n",
    "fig = px.box(df_md, x='Tract/FA/MD', y='FA/MD Value', points='all', title='MD Values by Tract', color='Tract',\n",
    "                hover_data=['Tract', 'Tract/FA/MD', 'FA/MD Value']).update_traces(\n",
    "                marker=dict(size=4, opacity=0.6), jitter=0.3,\n",
    "                boxmean=True, line=dict(width=4))\n",
    "fig.update_layout(yaxis_title='MD Value', width=1200, height=600, showlegend=False)\n",
    "fig.show()\n"
   ]
  },
  {
   "cell_type": "code",
   "execution_count": 17,
   "metadata": {},
   "outputs": [],
   "source": [
    "# let's do some sanity checks to see if a single patient has multiple entries for the same emotion\n",
    "# there should be 3 entries for each patient, one for each emotion.\n",
    "# let's check if this is the case for all patients.\n",
    "#  and let's check if there are any patients with less than 3 entries. and let's check if the entries are the same for each emotion. which they should be.\n",
    "# We are dealing with the logmratio_dti dataframe.\n",
    "\n",
    "# check if there are any patients with less than 3 entries\n",
    "patients = logmratio_dti['ID'].unique()\n",
    "for patient in patients:\n",
    "    patient_df = logmratio_dti[logmratio_dti['ID'] == patient]\n",
    "    if patient_df.shape[0] != 3:\n",
    "        print(f\"Patient {patient} has {patient_df.shape[0]} entries\")\n",
    "    \n",
    "    # check if the entries are the same for some dti columns\n",
    "    for column in ['FA_IFO_L', 'FA_IFO_R', 'MD_IFO_L', 'MD_IFO_R']:\n",
    "        if patient_df[column].nunique() != 1:\n",
    "            print(f\"Patient {patient} has different values for {column}\")\n",
    "\n",
    "# if nothing is printed, this means we are good. \n"
   ]
  },
  {
   "cell_type": "code",
   "execution_count": 18,
   "metadata": {},
   "outputs": [
    {
     "data": {
      "text/html": [
       "<div>\n",
       "<style scoped>\n",
       "    .dataframe tbody tr th:only-of-type {\n",
       "        vertical-align: middle;\n",
       "    }\n",
       "\n",
       "    .dataframe tbody tr th {\n",
       "        vertical-align: top;\n",
       "    }\n",
       "\n",
       "    .dataframe thead th {\n",
       "        text-align: right;\n",
       "    }\n",
       "</style>\n",
       "<table border=\"1\" class=\"dataframe\">\n",
       "  <thead>\n",
       "    <tr style=\"text-align: right;\">\n",
       "      <th></th>\n",
       "      <th>Name</th>\n",
       "      <th>ID</th>\n",
       "      <th>Emotion</th>\n",
       "      <th>logMRatio</th>\n",
       "      <th>年龄</th>\n",
       "      <th>性别</th>\n",
       "      <th>采集日期</th>\n",
       "      <th>FA_Fornix</th>\n",
       "      <th>FA_Cingulum_L</th>\n",
       "      <th>FA_Cingulum_R</th>\n",
       "      <th>...</th>\n",
       "      <th>MD_SFO_L</th>\n",
       "      <th>MD_SFO_R</th>\n",
       "      <th>AD_SFO_L</th>\n",
       "      <th>AD_SFO_R</th>\n",
       "      <th>RD_SFO_L</th>\n",
       "      <th>RD_SFO_R</th>\n",
       "      <th>FA_Genu</th>\n",
       "      <th>MD_Genu</th>\n",
       "      <th>AD_Genu</th>\n",
       "      <th>RD_Genu</th>\n",
       "    </tr>\n",
       "  </thead>\n",
       "  <tbody>\n",
       "    <tr>\n",
       "      <th>0</th>\n",
       "      <td>王少刚</td>\n",
       "      <td>1</td>\n",
       "      <td>Disgust</td>\n",
       "      <td>-0.430963</td>\n",
       "      <td>30.0</td>\n",
       "      <td>男</td>\n",
       "      <td>10/17/20</td>\n",
       "      <td>0.573723</td>\n",
       "      <td>0.622870</td>\n",
       "      <td>0.557041</td>\n",
       "      <td>...</td>\n",
       "      <td>0.000488</td>\n",
       "      <td>0.000494</td>\n",
       "      <td>0.000841</td>\n",
       "      <td>0.000827</td>\n",
       "      <td>0.000312</td>\n",
       "      <td>0.000328</td>\n",
       "      <td>0.639504</td>\n",
       "      <td>0.000566</td>\n",
       "      <td>0.001053</td>\n",
       "      <td>0.000323</td>\n",
       "    </tr>\n",
       "    <tr>\n",
       "      <th>1</th>\n",
       "      <td>王梦宣</td>\n",
       "      <td>10</td>\n",
       "      <td>Disgust</td>\n",
       "      <td>0.391020</td>\n",
       "      <td>29.0</td>\n",
       "      <td>女</td>\n",
       "      <td>10/25/20</td>\n",
       "      <td>0.451164</td>\n",
       "      <td>0.606037</td>\n",
       "      <td>0.550508</td>\n",
       "      <td>...</td>\n",
       "      <td>0.000524</td>\n",
       "      <td>0.000518</td>\n",
       "      <td>0.000871</td>\n",
       "      <td>0.000852</td>\n",
       "      <td>0.000350</td>\n",
       "      <td>0.000350</td>\n",
       "      <td>0.612827</td>\n",
       "      <td>0.000608</td>\n",
       "      <td>0.001092</td>\n",
       "      <td>0.000366</td>\n",
       "    </tr>\n",
       "    <tr>\n",
       "      <th>2</th>\n",
       "      <td>姚林林</td>\n",
       "      <td>11</td>\n",
       "      <td>Disgust</td>\n",
       "      <td>0.179413</td>\n",
       "      <td>26.0</td>\n",
       "      <td>女</td>\n",
       "      <td>10/25/20</td>\n",
       "      <td>0.570839</td>\n",
       "      <td>0.604930</td>\n",
       "      <td>0.525909</td>\n",
       "      <td>...</td>\n",
       "      <td>0.000481</td>\n",
       "      <td>0.000500</td>\n",
       "      <td>0.000853</td>\n",
       "      <td>0.000877</td>\n",
       "      <td>0.000296</td>\n",
       "      <td>0.000311</td>\n",
       "      <td>0.642949</td>\n",
       "      <td>0.000566</td>\n",
       "      <td>0.001051</td>\n",
       "      <td>0.000323</td>\n",
       "    </tr>\n",
       "    <tr>\n",
       "      <th>3</th>\n",
       "      <td>赵冰冰</td>\n",
       "      <td>12</td>\n",
       "      <td>Disgust</td>\n",
       "      <td>0.140267</td>\n",
       "      <td>26.0</td>\n",
       "      <td>女</td>\n",
       "      <td>10/25/20</td>\n",
       "      <td>0.538577</td>\n",
       "      <td>0.655879</td>\n",
       "      <td>0.625258</td>\n",
       "      <td>...</td>\n",
       "      <td>0.000514</td>\n",
       "      <td>0.000505</td>\n",
       "      <td>0.000885</td>\n",
       "      <td>0.000852</td>\n",
       "      <td>0.000328</td>\n",
       "      <td>0.000331</td>\n",
       "      <td>0.656406</td>\n",
       "      <td>0.000569</td>\n",
       "      <td>0.001073</td>\n",
       "      <td>0.000317</td>\n",
       "    </tr>\n",
       "    <tr>\n",
       "      <th>4</th>\n",
       "      <td>李思璇</td>\n",
       "      <td>13</td>\n",
       "      <td>Disgust</td>\n",
       "      <td>0.434430</td>\n",
       "      <td>26.0</td>\n",
       "      <td>女</td>\n",
       "      <td>10/25/20</td>\n",
       "      <td>0.601769</td>\n",
       "      <td>0.604695</td>\n",
       "      <td>0.595042</td>\n",
       "      <td>...</td>\n",
       "      <td>0.000487</td>\n",
       "      <td>0.000490</td>\n",
       "      <td>0.000815</td>\n",
       "      <td>0.000830</td>\n",
       "      <td>0.000322</td>\n",
       "      <td>0.000320</td>\n",
       "      <td>0.639033</td>\n",
       "      <td>0.000573</td>\n",
       "      <td>0.001060</td>\n",
       "      <td>0.000329</td>\n",
       "    </tr>\n",
       "  </tbody>\n",
       "</table>\n",
       "<p>5 rows × 87 columns</p>\n",
       "</div>"
      ],
      "text/plain": [
       "  Name  ID  Emotion  logMRatio    年龄 性别      采集日期  FA_Fornix  FA_Cingulum_L  \\\n",
       "0  王少刚   1  Disgust  -0.430963  30.0  男  10/17/20   0.573723       0.622870   \n",
       "1  王梦宣  10  Disgust   0.391020  29.0  女  10/25/20   0.451164       0.606037   \n",
       "2  姚林林  11  Disgust   0.179413  26.0  女  10/25/20   0.570839       0.604930   \n",
       "3  赵冰冰  12  Disgust   0.140267  26.0  女  10/25/20   0.538577       0.655879   \n",
       "4  李思璇  13  Disgust   0.434430  26.0  女  10/25/20   0.601769       0.604695   \n",
       "\n",
       "   FA_Cingulum_R  ...  MD_SFO_L  MD_SFO_R  AD_SFO_L  AD_SFO_R  RD_SFO_L  \\\n",
       "0       0.557041  ...  0.000488  0.000494  0.000841  0.000827  0.000312   \n",
       "1       0.550508  ...  0.000524  0.000518  0.000871  0.000852  0.000350   \n",
       "2       0.525909  ...  0.000481  0.000500  0.000853  0.000877  0.000296   \n",
       "3       0.625258  ...  0.000514  0.000505  0.000885  0.000852  0.000328   \n",
       "4       0.595042  ...  0.000487  0.000490  0.000815  0.000830  0.000322   \n",
       "\n",
       "   RD_SFO_R   FA_Genu   MD_Genu   AD_Genu   RD_Genu  \n",
       "0  0.000328  0.639504  0.000566  0.001053  0.000323  \n",
       "1  0.000350  0.612827  0.000608  0.001092  0.000366  \n",
       "2  0.000311  0.642949  0.000566  0.001051  0.000323  \n",
       "3  0.000331  0.656406  0.000569  0.001073  0.000317  \n",
       "4  0.000320  0.639033  0.000573  0.001060  0.000329  \n",
       "\n",
       "[5 rows x 87 columns]"
      ]
     },
     "execution_count": 18,
     "metadata": {},
     "output_type": "execute_result"
    }
   ],
   "source": [
    "logmratio_dti.head()"
   ]
  },
  {
   "cell_type": "markdown",
   "metadata": {},
   "source": [
    "## Correlation block is here. However, we may add more tracts, and in that occasion, all you have to do is add them to tractdict"
   ]
  },
  {
   "cell_type": "code",
   "execution_count": 19,
   "metadata": {},
   "outputs": [
    {
     "data": {
      "application/vnd.plotly.v1+json": {
       "config": {
        "plotlyServerURL": "https://plot.ly"
       },
       "data": [
        {
         "customdata": [
          [
           "王少刚",
           1,
           "Disgust"
          ],
          [
           "王梦宣",
           10,
           "Disgust"
          ],
          [
           "姚林林",
           11,
           "Disgust"
          ],
          [
           "赵冰冰",
           12,
           "Disgust"
          ],
          [
           "李思璇",
           13,
           "Disgust"
          ],
          [
           "何金辉",
           14,
           "Disgust"
          ],
          [
           "吴建星",
           17,
           "Disgust"
          ],
          [
           "bq",
           18,
           "Disgust"
          ],
          [
           "gxy",
           19,
           "Disgust"
          ],
          [
           "CTG",
           20,
           "Disgust"
          ],
          [
           "zwl",
           21,
           "Disgust"
          ],
          [
           null,
           22,
           "Disgust"
          ],
          [
           "MZY",
           23,
           "Disgust"
          ],
          [
           "林增萍",
           24,
           "Disgust"
          ],
          [
           "qdl",
           25,
           "Disgust"
          ],
          [
           "庄惠翔",
           27,
           "Disgust"
          ],
          [
           "焦雄",
           28,
           "Disgust"
          ],
          [
           "王辉",
           3,
           "Disgust"
          ],
          [
           "郭有容",
           31,
           "Disgust"
          ],
          [
           "余鹏程",
           32,
           "Disgust"
          ],
          [
           "陈若羽",
           34,
           "Disgust"
          ],
          [
           null,
           36,
           "Disgust"
          ],
          [
           "Xuewei Qin",
           39,
           "Disgust"
          ],
          [
           "董正心",
           4,
           "Disgust"
          ],
          [
           "高倩",
           5,
           "Disgust"
          ],
          [
           "叶帅",
           6,
           "Disgust"
          ],
          [
           "李闯",
           7,
           "Disgust"
          ],
          [
           "钱文莉",
           8,
           "Disgust"
          ],
          [
           "李诗晨",
           9,
           "Disgust"
          ]
         ],
         "hovertemplate": "logMRatio=%{x}<br>AD_UF_L=%{y}<br>Name=%{customdata[0]}<br>ID=%{customdata[1]}<br>Emotion=%{customdata[2]}<extra></extra>",
         "legendgroup": "",
         "marker": {
          "color": "#636efa",
          "symbol": "circle"
         },
         "mode": "markers",
         "name": "",
         "orientation": "v",
         "showlegend": false,
         "type": "scatter",
         "x": [
          -0.430962887,
          0.3910200157,
          0.1794127487,
          0.1402669458,
          0.4344298117,
          0.07318147254,
          0.1139884498,
          0.008791730016,
          0.2990014532,
          0.1203343451,
          0.04167093928,
          -0.1984727429,
          -0.07951978022,
          -0.6920294926,
          0.05097761132,
          0.1242922426,
          0.6011630076,
          0.2618077152,
          0.07716797478,
          -0.2686514121,
          0.2644461534,
          -0.07575106391,
          0.2343983171,
          0.1091521419,
          0.2533157084,
          -0.06607974714,
          0.215714741,
          0.01018627875,
          0.1671007244
         ],
         "xaxis": "x",
         "y": [
          0.000989,
          0.000937,
          0.00098,
          0.001016,
          0.001005,
          0.001003,
          0.000996,
          0.00105,
          0.000977,
          0.001019,
          0.001054,
          0.001013,
          0.001011,
          0.00106,
          0.000923,
          0.00103,
          0.000941,
          0.000971,
          0.000972,
          0.001003,
          0.001008,
          0.00106,
          0.00094,
          0.000928,
          0.000941,
          0.000946,
          0.001036,
          0.00096,
          0.000971
         ],
         "yaxis": "y"
        },
        {
         "hovertemplate": "<b>OLS trendline</b><br>AD_UF_L = -6.7366e-05 * logMRatio + 0.000996517<br>R<sup>2</sup>=0.177683<br><br>logMRatio=%{x}<br>AD_UF_L=%{y} <b>(trend)</b><extra></extra>",
         "legendgroup": "",
         "line": {
          "color": "red"
         },
         "marker": {
          "color": "#636efa",
          "symbol": "circle"
         },
         "mode": "lines",
         "name": "",
         "showlegend": false,
         "type": "scatter",
         "x": [
          -0.6920294926,
          -0.430962887,
          -0.2686514121,
          -0.1984727429,
          -0.07951978022,
          -0.07575106391,
          -0.06607974714,
          0.008791730016,
          0.01018627875,
          0.04167093928,
          0.05097761132,
          0.07318147254,
          0.07716797478,
          0.1091521419,
          0.1139884498,
          0.1203343451,
          0.1242922426,
          0.1402669458,
          0.1671007244,
          0.1794127487,
          0.215714741,
          0.2343983171,
          0.2533157084,
          0.2618077152,
          0.2644461534,
          0.2990014532,
          0.3910200157,
          0.4344298117,
          0.6011630076
         ],
         "xaxis": "x",
         "y": [
          0.0010431367281015503,
          0.0010255497262938148,
          0.0010146154584048906,
          0.0010098878051715394,
          0.0010018744249658228,
          0.0010016205417837725,
          0.0010009690242711198,
          0.000995925235537344,
          0.0009958312904268635,
          0.0009937102961297016,
          0.0009930833432583632,
          0.000991587558891315,
          0.0009913190043516016,
          0.0009891643603148219,
          0.0009888385578032957,
          0.0009884110604914266,
          0.0009881444329374069,
          0.000987068281763607,
          0.000985260598579992,
          0.000984431187276607,
          0.0009819856688130823,
          0.0009807270318231446,
          0.0009794526436484252,
          0.0009788805714808662,
          0.0009787028305657216,
          0.0009763749797145845,
          0.0009701760611615457,
          0.0009672517186974039,
          0.0009560195773403601
         ],
         "yaxis": "y"
        }
       ],
       "layout": {
        "annotations": [
         {
          "bgcolor": "#1f77b4",
          "bordercolor": "#1f77b4",
          "borderpad": 4,
          "borderwidth": 2,
          "font": {
           "color": "#ffffff",
           "family": "Courier New, monospace",
           "size": 16
          },
          "opacity": 0.8,
          "showarrow": false,
          "text": "Correlation: -0.42, p-value: 0.02",
          "x": 0.9,
          "xref": "paper",
          "y": 1.1,
          "yref": "paper"
         }
        ],
        "height": 600,
        "legend": {
         "tracegroupgap": 0
        },
        "template": {
         "data": {
          "bar": [
           {
            "error_x": {
             "color": "#2a3f5f"
            },
            "error_y": {
             "color": "#2a3f5f"
            },
            "marker": {
             "line": {
              "color": "#E5ECF6",
              "width": 0.5
             },
             "pattern": {
              "fillmode": "overlay",
              "size": 10,
              "solidity": 0.2
             }
            },
            "type": "bar"
           }
          ],
          "barpolar": [
           {
            "marker": {
             "line": {
              "color": "#E5ECF6",
              "width": 0.5
             },
             "pattern": {
              "fillmode": "overlay",
              "size": 10,
              "solidity": 0.2
             }
            },
            "type": "barpolar"
           }
          ],
          "carpet": [
           {
            "aaxis": {
             "endlinecolor": "#2a3f5f",
             "gridcolor": "white",
             "linecolor": "white",
             "minorgridcolor": "white",
             "startlinecolor": "#2a3f5f"
            },
            "baxis": {
             "endlinecolor": "#2a3f5f",
             "gridcolor": "white",
             "linecolor": "white",
             "minorgridcolor": "white",
             "startlinecolor": "#2a3f5f"
            },
            "type": "carpet"
           }
          ],
          "choropleth": [
           {
            "colorbar": {
             "outlinewidth": 0,
             "ticks": ""
            },
            "type": "choropleth"
           }
          ],
          "contour": [
           {
            "colorbar": {
             "outlinewidth": 0,
             "ticks": ""
            },
            "colorscale": [
             [
              0,
              "#0d0887"
             ],
             [
              0.1111111111111111,
              "#46039f"
             ],
             [
              0.2222222222222222,
              "#7201a8"
             ],
             [
              0.3333333333333333,
              "#9c179e"
             ],
             [
              0.4444444444444444,
              "#bd3786"
             ],
             [
              0.5555555555555556,
              "#d8576b"
             ],
             [
              0.6666666666666666,
              "#ed7953"
             ],
             [
              0.7777777777777778,
              "#fb9f3a"
             ],
             [
              0.8888888888888888,
              "#fdca26"
             ],
             [
              1,
              "#f0f921"
             ]
            ],
            "type": "contour"
           }
          ],
          "contourcarpet": [
           {
            "colorbar": {
             "outlinewidth": 0,
             "ticks": ""
            },
            "type": "contourcarpet"
           }
          ],
          "heatmap": [
           {
            "colorbar": {
             "outlinewidth": 0,
             "ticks": ""
            },
            "colorscale": [
             [
              0,
              "#0d0887"
             ],
             [
              0.1111111111111111,
              "#46039f"
             ],
             [
              0.2222222222222222,
              "#7201a8"
             ],
             [
              0.3333333333333333,
              "#9c179e"
             ],
             [
              0.4444444444444444,
              "#bd3786"
             ],
             [
              0.5555555555555556,
              "#d8576b"
             ],
             [
              0.6666666666666666,
              "#ed7953"
             ],
             [
              0.7777777777777778,
              "#fb9f3a"
             ],
             [
              0.8888888888888888,
              "#fdca26"
             ],
             [
              1,
              "#f0f921"
             ]
            ],
            "type": "heatmap"
           }
          ],
          "heatmapgl": [
           {
            "colorbar": {
             "outlinewidth": 0,
             "ticks": ""
            },
            "colorscale": [
             [
              0,
              "#0d0887"
             ],
             [
              0.1111111111111111,
              "#46039f"
             ],
             [
              0.2222222222222222,
              "#7201a8"
             ],
             [
              0.3333333333333333,
              "#9c179e"
             ],
             [
              0.4444444444444444,
              "#bd3786"
             ],
             [
              0.5555555555555556,
              "#d8576b"
             ],
             [
              0.6666666666666666,
              "#ed7953"
             ],
             [
              0.7777777777777778,
              "#fb9f3a"
             ],
             [
              0.8888888888888888,
              "#fdca26"
             ],
             [
              1,
              "#f0f921"
             ]
            ],
            "type": "heatmapgl"
           }
          ],
          "histogram": [
           {
            "marker": {
             "pattern": {
              "fillmode": "overlay",
              "size": 10,
              "solidity": 0.2
             }
            },
            "type": "histogram"
           }
          ],
          "histogram2d": [
           {
            "colorbar": {
             "outlinewidth": 0,
             "ticks": ""
            },
            "colorscale": [
             [
              0,
              "#0d0887"
             ],
             [
              0.1111111111111111,
              "#46039f"
             ],
             [
              0.2222222222222222,
              "#7201a8"
             ],
             [
              0.3333333333333333,
              "#9c179e"
             ],
             [
              0.4444444444444444,
              "#bd3786"
             ],
             [
              0.5555555555555556,
              "#d8576b"
             ],
             [
              0.6666666666666666,
              "#ed7953"
             ],
             [
              0.7777777777777778,
              "#fb9f3a"
             ],
             [
              0.8888888888888888,
              "#fdca26"
             ],
             [
              1,
              "#f0f921"
             ]
            ],
            "type": "histogram2d"
           }
          ],
          "histogram2dcontour": [
           {
            "colorbar": {
             "outlinewidth": 0,
             "ticks": ""
            },
            "colorscale": [
             [
              0,
              "#0d0887"
             ],
             [
              0.1111111111111111,
              "#46039f"
             ],
             [
              0.2222222222222222,
              "#7201a8"
             ],
             [
              0.3333333333333333,
              "#9c179e"
             ],
             [
              0.4444444444444444,
              "#bd3786"
             ],
             [
              0.5555555555555556,
              "#d8576b"
             ],
             [
              0.6666666666666666,
              "#ed7953"
             ],
             [
              0.7777777777777778,
              "#fb9f3a"
             ],
             [
              0.8888888888888888,
              "#fdca26"
             ],
             [
              1,
              "#f0f921"
             ]
            ],
            "type": "histogram2dcontour"
           }
          ],
          "mesh3d": [
           {
            "colorbar": {
             "outlinewidth": 0,
             "ticks": ""
            },
            "type": "mesh3d"
           }
          ],
          "parcoords": [
           {
            "line": {
             "colorbar": {
              "outlinewidth": 0,
              "ticks": ""
             }
            },
            "type": "parcoords"
           }
          ],
          "pie": [
           {
            "automargin": true,
            "type": "pie"
           }
          ],
          "scatter": [
           {
            "fillpattern": {
             "fillmode": "overlay",
             "size": 10,
             "solidity": 0.2
            },
            "type": "scatter"
           }
          ],
          "scatter3d": [
           {
            "line": {
             "colorbar": {
              "outlinewidth": 0,
              "ticks": ""
             }
            },
            "marker": {
             "colorbar": {
              "outlinewidth": 0,
              "ticks": ""
             }
            },
            "type": "scatter3d"
           }
          ],
          "scattercarpet": [
           {
            "marker": {
             "colorbar": {
              "outlinewidth": 0,
              "ticks": ""
             }
            },
            "type": "scattercarpet"
           }
          ],
          "scattergeo": [
           {
            "marker": {
             "colorbar": {
              "outlinewidth": 0,
              "ticks": ""
             }
            },
            "type": "scattergeo"
           }
          ],
          "scattergl": [
           {
            "marker": {
             "colorbar": {
              "outlinewidth": 0,
              "ticks": ""
             }
            },
            "type": "scattergl"
           }
          ],
          "scattermapbox": [
           {
            "marker": {
             "colorbar": {
              "outlinewidth": 0,
              "ticks": ""
             }
            },
            "type": "scattermapbox"
           }
          ],
          "scatterpolar": [
           {
            "marker": {
             "colorbar": {
              "outlinewidth": 0,
              "ticks": ""
             }
            },
            "type": "scatterpolar"
           }
          ],
          "scatterpolargl": [
           {
            "marker": {
             "colorbar": {
              "outlinewidth": 0,
              "ticks": ""
             }
            },
            "type": "scatterpolargl"
           }
          ],
          "scatterternary": [
           {
            "marker": {
             "colorbar": {
              "outlinewidth": 0,
              "ticks": ""
             }
            },
            "type": "scatterternary"
           }
          ],
          "surface": [
           {
            "colorbar": {
             "outlinewidth": 0,
             "ticks": ""
            },
            "colorscale": [
             [
              0,
              "#0d0887"
             ],
             [
              0.1111111111111111,
              "#46039f"
             ],
             [
              0.2222222222222222,
              "#7201a8"
             ],
             [
              0.3333333333333333,
              "#9c179e"
             ],
             [
              0.4444444444444444,
              "#bd3786"
             ],
             [
              0.5555555555555556,
              "#d8576b"
             ],
             [
              0.6666666666666666,
              "#ed7953"
             ],
             [
              0.7777777777777778,
              "#fb9f3a"
             ],
             [
              0.8888888888888888,
              "#fdca26"
             ],
             [
              1,
              "#f0f921"
             ]
            ],
            "type": "surface"
           }
          ],
          "table": [
           {
            "cells": {
             "fill": {
              "color": "#EBF0F8"
             },
             "line": {
              "color": "white"
             }
            },
            "header": {
             "fill": {
              "color": "#C8D4E3"
             },
             "line": {
              "color": "white"
             }
            },
            "type": "table"
           }
          ]
         },
         "layout": {
          "annotationdefaults": {
           "arrowcolor": "#2a3f5f",
           "arrowhead": 0,
           "arrowwidth": 1
          },
          "autotypenumbers": "strict",
          "coloraxis": {
           "colorbar": {
            "outlinewidth": 0,
            "ticks": ""
           }
          },
          "colorscale": {
           "diverging": [
            [
             0,
             "#8e0152"
            ],
            [
             0.1,
             "#c51b7d"
            ],
            [
             0.2,
             "#de77ae"
            ],
            [
             0.3,
             "#f1b6da"
            ],
            [
             0.4,
             "#fde0ef"
            ],
            [
             0.5,
             "#f7f7f7"
            ],
            [
             0.6,
             "#e6f5d0"
            ],
            [
             0.7,
             "#b8e186"
            ],
            [
             0.8,
             "#7fbc41"
            ],
            [
             0.9,
             "#4d9221"
            ],
            [
             1,
             "#276419"
            ]
           ],
           "sequential": [
            [
             0,
             "#0d0887"
            ],
            [
             0.1111111111111111,
             "#46039f"
            ],
            [
             0.2222222222222222,
             "#7201a8"
            ],
            [
             0.3333333333333333,
             "#9c179e"
            ],
            [
             0.4444444444444444,
             "#bd3786"
            ],
            [
             0.5555555555555556,
             "#d8576b"
            ],
            [
             0.6666666666666666,
             "#ed7953"
            ],
            [
             0.7777777777777778,
             "#fb9f3a"
            ],
            [
             0.8888888888888888,
             "#fdca26"
            ],
            [
             1,
             "#f0f921"
            ]
           ],
           "sequentialminus": [
            [
             0,
             "#0d0887"
            ],
            [
             0.1111111111111111,
             "#46039f"
            ],
            [
             0.2222222222222222,
             "#7201a8"
            ],
            [
             0.3333333333333333,
             "#9c179e"
            ],
            [
             0.4444444444444444,
             "#bd3786"
            ],
            [
             0.5555555555555556,
             "#d8576b"
            ],
            [
             0.6666666666666666,
             "#ed7953"
            ],
            [
             0.7777777777777778,
             "#fb9f3a"
            ],
            [
             0.8888888888888888,
             "#fdca26"
            ],
            [
             1,
             "#f0f921"
            ]
           ]
          },
          "colorway": [
           "#636efa",
           "#EF553B",
           "#00cc96",
           "#ab63fa",
           "#FFA15A",
           "#19d3f3",
           "#FF6692",
           "#B6E880",
           "#FF97FF",
           "#FECB52"
          ],
          "font": {
           "color": "#2a3f5f"
          },
          "geo": {
           "bgcolor": "white",
           "lakecolor": "white",
           "landcolor": "#E5ECF6",
           "showlakes": true,
           "showland": true,
           "subunitcolor": "white"
          },
          "hoverlabel": {
           "align": "left"
          },
          "hovermode": "closest",
          "mapbox": {
           "style": "light"
          },
          "paper_bgcolor": "white",
          "plot_bgcolor": "#E5ECF6",
          "polar": {
           "angularaxis": {
            "gridcolor": "white",
            "linecolor": "white",
            "ticks": ""
           },
           "bgcolor": "#E5ECF6",
           "radialaxis": {
            "gridcolor": "white",
            "linecolor": "white",
            "ticks": ""
           }
          },
          "scene": {
           "xaxis": {
            "backgroundcolor": "#E5ECF6",
            "gridcolor": "white",
            "gridwidth": 2,
            "linecolor": "white",
            "showbackground": true,
            "ticks": "",
            "zerolinecolor": "white"
           },
           "yaxis": {
            "backgroundcolor": "#E5ECF6",
            "gridcolor": "white",
            "gridwidth": 2,
            "linecolor": "white",
            "showbackground": true,
            "ticks": "",
            "zerolinecolor": "white"
           },
           "zaxis": {
            "backgroundcolor": "#E5ECF6",
            "gridcolor": "white",
            "gridwidth": 2,
            "linecolor": "white",
            "showbackground": true,
            "ticks": "",
            "zerolinecolor": "white"
           }
          },
          "shapedefaults": {
           "line": {
            "color": "#2a3f5f"
           }
          },
          "ternary": {
           "aaxis": {
            "gridcolor": "white",
            "linecolor": "white",
            "ticks": ""
           },
           "baxis": {
            "gridcolor": "white",
            "linecolor": "white",
            "ticks": ""
           },
           "bgcolor": "#E5ECF6",
           "caxis": {
            "gridcolor": "white",
            "linecolor": "white",
            "ticks": ""
           }
          },
          "title": {
           "x": 0.05
          },
          "xaxis": {
           "automargin": true,
           "gridcolor": "white",
           "linecolor": "white",
           "ticks": "",
           "title": {
            "standoff": 15
           },
           "zerolinecolor": "white",
           "zerolinewidth": 2
          },
          "yaxis": {
           "automargin": true,
           "gridcolor": "white",
           "linecolor": "white",
           "ticks": "",
           "title": {
            "standoff": 15
           },
           "zerolinecolor": "white",
           "zerolinewidth": 2
          }
         }
        },
        "title": {
         "text": "AD_UF_L vs logMRatio for Disgust"
        },
        "width": 1200,
        "xaxis": {
         "anchor": "y",
         "domain": [
          0,
          1
         ],
         "title": {
          "text": "logMRatio"
         }
        },
        "yaxis": {
         "anchor": "x",
         "domain": [
          0,
          1
         ],
         "title": {
          "text": "AD_UF_L"
         }
        }
       }
      }
     },
     "metadata": {},
     "output_type": "display_data"
    },
    {
     "data": {
      "application/vnd.plotly.v1+json": {
       "config": {
        "plotlyServerURL": "https://plot.ly"
       },
       "data": [
        {
         "customdata": [
          [
           "王少刚",
           1,
           "Happy"
          ],
          [
           "王梦宣",
           10,
           "Happy"
          ],
          [
           "姚林林",
           11,
           "Happy"
          ],
          [
           "赵冰冰",
           12,
           "Happy"
          ],
          [
           "李思璇",
           13,
           "Happy"
          ],
          [
           "何金辉",
           14,
           "Happy"
          ],
          [
           "吴建星",
           17,
           "Happy"
          ],
          [
           "bq",
           18,
           "Happy"
          ],
          [
           "gxy",
           19,
           "Happy"
          ],
          [
           "CTG",
           20,
           "Happy"
          ],
          [
           "zwl",
           21,
           "Happy"
          ],
          [
           null,
           22,
           "Happy"
          ],
          [
           "MZY",
           23,
           "Happy"
          ],
          [
           "林增萍",
           24,
           "Happy"
          ],
          [
           "qdl",
           25,
           "Happy"
          ],
          [
           "庄惠翔",
           27,
           "Happy"
          ],
          [
           "焦雄",
           28,
           "Happy"
          ],
          [
           "王辉",
           3,
           "Happy"
          ],
          [
           "郭有容",
           31,
           "Happy"
          ],
          [
           "余鹏程",
           32,
           "Happy"
          ],
          [
           "陈若羽",
           34,
           "Happy"
          ],
          [
           null,
           36,
           "Happy"
          ],
          [
           "Xuewei Qin",
           39,
           "Happy"
          ],
          [
           "董正心",
           4,
           "Happy"
          ],
          [
           "高倩",
           5,
           "Happy"
          ],
          [
           "叶帅",
           6,
           "Happy"
          ],
          [
           "李闯",
           7,
           "Happy"
          ],
          [
           "钱文莉",
           8,
           "Happy"
          ],
          [
           "李诗晨",
           9,
           "Happy"
          ]
         ],
         "hovertemplate": "logMRatio=%{x}<br>FA_Cingulum_L=%{y}<br>Name=%{customdata[0]}<br>ID=%{customdata[1]}<br>Emotion=%{customdata[2]}<extra></extra>",
         "legendgroup": "",
         "marker": {
          "color": "#636efa",
          "symbol": "circle"
         },
         "mode": "markers",
         "name": "",
         "orientation": "v",
         "showlegend": false,
         "type": "scatter",
         "x": [
          0.3513233098,
          0.4826490925,
          0.2597689469,
          0.2429412523,
          0.2956891251,
          0.2219296077,
          0.1825986607,
          0.06984229766,
          0.1467950958,
          0.2273763015,
          0.272499517,
          0.1717709044,
          0.3061856171,
          0.2255677134,
          0.02387443419,
          0.3350982804,
          0.148470002,
          0.3551326267,
          0.2544547796,
          -0.08591972084,
          0.1310306538,
          0.06338290398,
          0.1217118043,
          0.195576716,
          0.1962284299,
          0.2852527461,
          0.114093325,
          0.1423027863,
          0.1235240006
         ],
         "xaxis": "x",
         "y": [
          0.62287,
          0.606037,
          0.60493,
          0.655879,
          0.604695,
          0.573706,
          0.593242,
          0.564535,
          0.612985,
          0.625611,
          0.589261,
          0.596532,
          0.57599,
          0.633214,
          0.569445,
          0.584713,
          0.567155,
          0.608268,
          0.587196,
          0.563036,
          0.617974,
          0.548733,
          0.590439,
          0.594413,
          0.591718,
          0.574968,
          0.594689,
          0.585707,
          0.603756
         ],
         "yaxis": "y"
        },
        {
         "hovertemplate": "<b>OLS trendline</b><br>FA_Cingulum_L = 0.0863968 * logMRatio + 0.57708<br>R<sup>2</sup>=0.180222<br><br>logMRatio=%{x}<br>FA_Cingulum_L=%{y} <b>(trend)</b><extra></extra>",
         "legendgroup": "",
         "line": {
          "color": "red"
         },
         "marker": {
          "color": "#636efa",
          "symbol": "circle"
         },
         "mode": "lines",
         "name": "",
         "showlegend": false,
         "type": "scatter",
         "x": [
          -0.08591972084,
          0.02387443419,
          0.06338290398,
          0.06984229766,
          0.114093325,
          0.1217118043,
          0.1235240006,
          0.1310306538,
          0.1423027863,
          0.1467950958,
          0.148470002,
          0.1717709044,
          0.1825986607,
          0.195576716,
          0.1962284299,
          0.2219296077,
          0.2255677134,
          0.2273763015,
          0.2429412523,
          0.2544547796,
          0.2597689469,
          0.272499517,
          0.2852527461,
          0.2956891251,
          0.3061856171,
          0.3350982804,
          0.3513233098,
          0.3551326267,
          0.4826490925
         ],
         "xaxis": "x",
         "y": [
          0.5696565385312754,
          0.5791424047419206,
          0.5825558110249132,
          0.583113882119259,
          0.5869370303088519,
          0.5875952427186895,
          0.5877518107221914,
          0.5884003617122278,
          0.5893742381519567,
          0.5897623594220022,
          0.5899070659969946,
          0.5919201899441966,
          0.5928556736918988,
          0.5939769364423295,
          0.5940332424529849,
          0.5962537425697734,
          0.5965680633450547,
          0.5967243196115388,
          0.5980690819153585,
          0.5990638140989667,
          0.59952294127213,
          0.6006228220874689,
          0.6017246605684268,
          0.6026263305607004,
          0.6035331941252126,
          0.60603115638725,
          0.6074329473852328,
          0.6077620602643061,
          0.6187790778268768
         ],
         "yaxis": "y"
        }
       ],
       "layout": {
        "annotations": [
         {
          "bgcolor": "#1f77b4",
          "bordercolor": "#1f77b4",
          "borderpad": 4,
          "borderwidth": 2,
          "font": {
           "color": "#ffffff",
           "family": "Courier New, monospace",
           "size": 16
          },
          "opacity": 0.8,
          "showarrow": false,
          "text": "Correlation: 0.42, p-value: 0.02",
          "x": 0.9,
          "xref": "paper",
          "y": 1.1,
          "yref": "paper"
         }
        ],
        "height": 600,
        "legend": {
         "tracegroupgap": 0
        },
        "template": {
         "data": {
          "bar": [
           {
            "error_x": {
             "color": "#2a3f5f"
            },
            "error_y": {
             "color": "#2a3f5f"
            },
            "marker": {
             "line": {
              "color": "#E5ECF6",
              "width": 0.5
             },
             "pattern": {
              "fillmode": "overlay",
              "size": 10,
              "solidity": 0.2
             }
            },
            "type": "bar"
           }
          ],
          "barpolar": [
           {
            "marker": {
             "line": {
              "color": "#E5ECF6",
              "width": 0.5
             },
             "pattern": {
              "fillmode": "overlay",
              "size": 10,
              "solidity": 0.2
             }
            },
            "type": "barpolar"
           }
          ],
          "carpet": [
           {
            "aaxis": {
             "endlinecolor": "#2a3f5f",
             "gridcolor": "white",
             "linecolor": "white",
             "minorgridcolor": "white",
             "startlinecolor": "#2a3f5f"
            },
            "baxis": {
             "endlinecolor": "#2a3f5f",
             "gridcolor": "white",
             "linecolor": "white",
             "minorgridcolor": "white",
             "startlinecolor": "#2a3f5f"
            },
            "type": "carpet"
           }
          ],
          "choropleth": [
           {
            "colorbar": {
             "outlinewidth": 0,
             "ticks": ""
            },
            "type": "choropleth"
           }
          ],
          "contour": [
           {
            "colorbar": {
             "outlinewidth": 0,
             "ticks": ""
            },
            "colorscale": [
             [
              0,
              "#0d0887"
             ],
             [
              0.1111111111111111,
              "#46039f"
             ],
             [
              0.2222222222222222,
              "#7201a8"
             ],
             [
              0.3333333333333333,
              "#9c179e"
             ],
             [
              0.4444444444444444,
              "#bd3786"
             ],
             [
              0.5555555555555556,
              "#d8576b"
             ],
             [
              0.6666666666666666,
              "#ed7953"
             ],
             [
              0.7777777777777778,
              "#fb9f3a"
             ],
             [
              0.8888888888888888,
              "#fdca26"
             ],
             [
              1,
              "#f0f921"
             ]
            ],
            "type": "contour"
           }
          ],
          "contourcarpet": [
           {
            "colorbar": {
             "outlinewidth": 0,
             "ticks": ""
            },
            "type": "contourcarpet"
           }
          ],
          "heatmap": [
           {
            "colorbar": {
             "outlinewidth": 0,
             "ticks": ""
            },
            "colorscale": [
             [
              0,
              "#0d0887"
             ],
             [
              0.1111111111111111,
              "#46039f"
             ],
             [
              0.2222222222222222,
              "#7201a8"
             ],
             [
              0.3333333333333333,
              "#9c179e"
             ],
             [
              0.4444444444444444,
              "#bd3786"
             ],
             [
              0.5555555555555556,
              "#d8576b"
             ],
             [
              0.6666666666666666,
              "#ed7953"
             ],
             [
              0.7777777777777778,
              "#fb9f3a"
             ],
             [
              0.8888888888888888,
              "#fdca26"
             ],
             [
              1,
              "#f0f921"
             ]
            ],
            "type": "heatmap"
           }
          ],
          "heatmapgl": [
           {
            "colorbar": {
             "outlinewidth": 0,
             "ticks": ""
            },
            "colorscale": [
             [
              0,
              "#0d0887"
             ],
             [
              0.1111111111111111,
              "#46039f"
             ],
             [
              0.2222222222222222,
              "#7201a8"
             ],
             [
              0.3333333333333333,
              "#9c179e"
             ],
             [
              0.4444444444444444,
              "#bd3786"
             ],
             [
              0.5555555555555556,
              "#d8576b"
             ],
             [
              0.6666666666666666,
              "#ed7953"
             ],
             [
              0.7777777777777778,
              "#fb9f3a"
             ],
             [
              0.8888888888888888,
              "#fdca26"
             ],
             [
              1,
              "#f0f921"
             ]
            ],
            "type": "heatmapgl"
           }
          ],
          "histogram": [
           {
            "marker": {
             "pattern": {
              "fillmode": "overlay",
              "size": 10,
              "solidity": 0.2
             }
            },
            "type": "histogram"
           }
          ],
          "histogram2d": [
           {
            "colorbar": {
             "outlinewidth": 0,
             "ticks": ""
            },
            "colorscale": [
             [
              0,
              "#0d0887"
             ],
             [
              0.1111111111111111,
              "#46039f"
             ],
             [
              0.2222222222222222,
              "#7201a8"
             ],
             [
              0.3333333333333333,
              "#9c179e"
             ],
             [
              0.4444444444444444,
              "#bd3786"
             ],
             [
              0.5555555555555556,
              "#d8576b"
             ],
             [
              0.6666666666666666,
              "#ed7953"
             ],
             [
              0.7777777777777778,
              "#fb9f3a"
             ],
             [
              0.8888888888888888,
              "#fdca26"
             ],
             [
              1,
              "#f0f921"
             ]
            ],
            "type": "histogram2d"
           }
          ],
          "histogram2dcontour": [
           {
            "colorbar": {
             "outlinewidth": 0,
             "ticks": ""
            },
            "colorscale": [
             [
              0,
              "#0d0887"
             ],
             [
              0.1111111111111111,
              "#46039f"
             ],
             [
              0.2222222222222222,
              "#7201a8"
             ],
             [
              0.3333333333333333,
              "#9c179e"
             ],
             [
              0.4444444444444444,
              "#bd3786"
             ],
             [
              0.5555555555555556,
              "#d8576b"
             ],
             [
              0.6666666666666666,
              "#ed7953"
             ],
             [
              0.7777777777777778,
              "#fb9f3a"
             ],
             [
              0.8888888888888888,
              "#fdca26"
             ],
             [
              1,
              "#f0f921"
             ]
            ],
            "type": "histogram2dcontour"
           }
          ],
          "mesh3d": [
           {
            "colorbar": {
             "outlinewidth": 0,
             "ticks": ""
            },
            "type": "mesh3d"
           }
          ],
          "parcoords": [
           {
            "line": {
             "colorbar": {
              "outlinewidth": 0,
              "ticks": ""
             }
            },
            "type": "parcoords"
           }
          ],
          "pie": [
           {
            "automargin": true,
            "type": "pie"
           }
          ],
          "scatter": [
           {
            "fillpattern": {
             "fillmode": "overlay",
             "size": 10,
             "solidity": 0.2
            },
            "type": "scatter"
           }
          ],
          "scatter3d": [
           {
            "line": {
             "colorbar": {
              "outlinewidth": 0,
              "ticks": ""
             }
            },
            "marker": {
             "colorbar": {
              "outlinewidth": 0,
              "ticks": ""
             }
            },
            "type": "scatter3d"
           }
          ],
          "scattercarpet": [
           {
            "marker": {
             "colorbar": {
              "outlinewidth": 0,
              "ticks": ""
             }
            },
            "type": "scattercarpet"
           }
          ],
          "scattergeo": [
           {
            "marker": {
             "colorbar": {
              "outlinewidth": 0,
              "ticks": ""
             }
            },
            "type": "scattergeo"
           }
          ],
          "scattergl": [
           {
            "marker": {
             "colorbar": {
              "outlinewidth": 0,
              "ticks": ""
             }
            },
            "type": "scattergl"
           }
          ],
          "scattermapbox": [
           {
            "marker": {
             "colorbar": {
              "outlinewidth": 0,
              "ticks": ""
             }
            },
            "type": "scattermapbox"
           }
          ],
          "scatterpolar": [
           {
            "marker": {
             "colorbar": {
              "outlinewidth": 0,
              "ticks": ""
             }
            },
            "type": "scatterpolar"
           }
          ],
          "scatterpolargl": [
           {
            "marker": {
             "colorbar": {
              "outlinewidth": 0,
              "ticks": ""
             }
            },
            "type": "scatterpolargl"
           }
          ],
          "scatterternary": [
           {
            "marker": {
             "colorbar": {
              "outlinewidth": 0,
              "ticks": ""
             }
            },
            "type": "scatterternary"
           }
          ],
          "surface": [
           {
            "colorbar": {
             "outlinewidth": 0,
             "ticks": ""
            },
            "colorscale": [
             [
              0,
              "#0d0887"
             ],
             [
              0.1111111111111111,
              "#46039f"
             ],
             [
              0.2222222222222222,
              "#7201a8"
             ],
             [
              0.3333333333333333,
              "#9c179e"
             ],
             [
              0.4444444444444444,
              "#bd3786"
             ],
             [
              0.5555555555555556,
              "#d8576b"
             ],
             [
              0.6666666666666666,
              "#ed7953"
             ],
             [
              0.7777777777777778,
              "#fb9f3a"
             ],
             [
              0.8888888888888888,
              "#fdca26"
             ],
             [
              1,
              "#f0f921"
             ]
            ],
            "type": "surface"
           }
          ],
          "table": [
           {
            "cells": {
             "fill": {
              "color": "#EBF0F8"
             },
             "line": {
              "color": "white"
             }
            },
            "header": {
             "fill": {
              "color": "#C8D4E3"
             },
             "line": {
              "color": "white"
             }
            },
            "type": "table"
           }
          ]
         },
         "layout": {
          "annotationdefaults": {
           "arrowcolor": "#2a3f5f",
           "arrowhead": 0,
           "arrowwidth": 1
          },
          "autotypenumbers": "strict",
          "coloraxis": {
           "colorbar": {
            "outlinewidth": 0,
            "ticks": ""
           }
          },
          "colorscale": {
           "diverging": [
            [
             0,
             "#8e0152"
            ],
            [
             0.1,
             "#c51b7d"
            ],
            [
             0.2,
             "#de77ae"
            ],
            [
             0.3,
             "#f1b6da"
            ],
            [
             0.4,
             "#fde0ef"
            ],
            [
             0.5,
             "#f7f7f7"
            ],
            [
             0.6,
             "#e6f5d0"
            ],
            [
             0.7,
             "#b8e186"
            ],
            [
             0.8,
             "#7fbc41"
            ],
            [
             0.9,
             "#4d9221"
            ],
            [
             1,
             "#276419"
            ]
           ],
           "sequential": [
            [
             0,
             "#0d0887"
            ],
            [
             0.1111111111111111,
             "#46039f"
            ],
            [
             0.2222222222222222,
             "#7201a8"
            ],
            [
             0.3333333333333333,
             "#9c179e"
            ],
            [
             0.4444444444444444,
             "#bd3786"
            ],
            [
             0.5555555555555556,
             "#d8576b"
            ],
            [
             0.6666666666666666,
             "#ed7953"
            ],
            [
             0.7777777777777778,
             "#fb9f3a"
            ],
            [
             0.8888888888888888,
             "#fdca26"
            ],
            [
             1,
             "#f0f921"
            ]
           ],
           "sequentialminus": [
            [
             0,
             "#0d0887"
            ],
            [
             0.1111111111111111,
             "#46039f"
            ],
            [
             0.2222222222222222,
             "#7201a8"
            ],
            [
             0.3333333333333333,
             "#9c179e"
            ],
            [
             0.4444444444444444,
             "#bd3786"
            ],
            [
             0.5555555555555556,
             "#d8576b"
            ],
            [
             0.6666666666666666,
             "#ed7953"
            ],
            [
             0.7777777777777778,
             "#fb9f3a"
            ],
            [
             0.8888888888888888,
             "#fdca26"
            ],
            [
             1,
             "#f0f921"
            ]
           ]
          },
          "colorway": [
           "#636efa",
           "#EF553B",
           "#00cc96",
           "#ab63fa",
           "#FFA15A",
           "#19d3f3",
           "#FF6692",
           "#B6E880",
           "#FF97FF",
           "#FECB52"
          ],
          "font": {
           "color": "#2a3f5f"
          },
          "geo": {
           "bgcolor": "white",
           "lakecolor": "white",
           "landcolor": "#E5ECF6",
           "showlakes": true,
           "showland": true,
           "subunitcolor": "white"
          },
          "hoverlabel": {
           "align": "left"
          },
          "hovermode": "closest",
          "mapbox": {
           "style": "light"
          },
          "paper_bgcolor": "white",
          "plot_bgcolor": "#E5ECF6",
          "polar": {
           "angularaxis": {
            "gridcolor": "white",
            "linecolor": "white",
            "ticks": ""
           },
           "bgcolor": "#E5ECF6",
           "radialaxis": {
            "gridcolor": "white",
            "linecolor": "white",
            "ticks": ""
           }
          },
          "scene": {
           "xaxis": {
            "backgroundcolor": "#E5ECF6",
            "gridcolor": "white",
            "gridwidth": 2,
            "linecolor": "white",
            "showbackground": true,
            "ticks": "",
            "zerolinecolor": "white"
           },
           "yaxis": {
            "backgroundcolor": "#E5ECF6",
            "gridcolor": "white",
            "gridwidth": 2,
            "linecolor": "white",
            "showbackground": true,
            "ticks": "",
            "zerolinecolor": "white"
           },
           "zaxis": {
            "backgroundcolor": "#E5ECF6",
            "gridcolor": "white",
            "gridwidth": 2,
            "linecolor": "white",
            "showbackground": true,
            "ticks": "",
            "zerolinecolor": "white"
           }
          },
          "shapedefaults": {
           "line": {
            "color": "#2a3f5f"
           }
          },
          "ternary": {
           "aaxis": {
            "gridcolor": "white",
            "linecolor": "white",
            "ticks": ""
           },
           "baxis": {
            "gridcolor": "white",
            "linecolor": "white",
            "ticks": ""
           },
           "bgcolor": "#E5ECF6",
           "caxis": {
            "gridcolor": "white",
            "linecolor": "white",
            "ticks": ""
           }
          },
          "title": {
           "x": 0.05
          },
          "xaxis": {
           "automargin": true,
           "gridcolor": "white",
           "linecolor": "white",
           "ticks": "",
           "title": {
            "standoff": 15
           },
           "zerolinecolor": "white",
           "zerolinewidth": 2
          },
          "yaxis": {
           "automargin": true,
           "gridcolor": "white",
           "linecolor": "white",
           "ticks": "",
           "title": {
            "standoff": 15
           },
           "zerolinecolor": "white",
           "zerolinewidth": 2
          }
         }
        },
        "title": {
         "text": "FA_Cingulum_L vs logMRatio for Happy"
        },
        "width": 1200,
        "xaxis": {
         "anchor": "y",
         "domain": [
          0,
          1
         ],
         "title": {
          "text": "logMRatio"
         }
        },
        "yaxis": {
         "anchor": "x",
         "domain": [
          0,
          1
         ],
         "title": {
          "text": "FA_Cingulum_L"
         }
        }
       }
      }
     },
     "metadata": {},
     "output_type": "display_data"
    },
    {
     "data": {
      "application/vnd.plotly.v1+json": {
       "config": {
        "plotlyServerURL": "https://plot.ly"
       },
       "data": [
        {
         "customdata": [
          [
           "王少刚",
           1,
           "Happy"
          ],
          [
           "王梦宣",
           10,
           "Happy"
          ],
          [
           "姚林林",
           11,
           "Happy"
          ],
          [
           "赵冰冰",
           12,
           "Happy"
          ],
          [
           "李思璇",
           13,
           "Happy"
          ],
          [
           "何金辉",
           14,
           "Happy"
          ],
          [
           "吴建星",
           17,
           "Happy"
          ],
          [
           "bq",
           18,
           "Happy"
          ],
          [
           "gxy",
           19,
           "Happy"
          ],
          [
           "CTG",
           20,
           "Happy"
          ],
          [
           "zwl",
           21,
           "Happy"
          ],
          [
           null,
           22,
           "Happy"
          ],
          [
           "MZY",
           23,
           "Happy"
          ],
          [
           "林增萍",
           24,
           "Happy"
          ],
          [
           "qdl",
           25,
           "Happy"
          ],
          [
           "庄惠翔",
           27,
           "Happy"
          ],
          [
           "焦雄",
           28,
           "Happy"
          ],
          [
           "王辉",
           3,
           "Happy"
          ],
          [
           "郭有容",
           31,
           "Happy"
          ],
          [
           "余鹏程",
           32,
           "Happy"
          ],
          [
           "陈若羽",
           34,
           "Happy"
          ],
          [
           null,
           36,
           "Happy"
          ],
          [
           "Xuewei Qin",
           39,
           "Happy"
          ],
          [
           "董正心",
           4,
           "Happy"
          ],
          [
           "高倩",
           5,
           "Happy"
          ],
          [
           "叶帅",
           6,
           "Happy"
          ],
          [
           "李闯",
           7,
           "Happy"
          ],
          [
           "钱文莉",
           8,
           "Happy"
          ],
          [
           "李诗晨",
           9,
           "Happy"
          ]
         ],
         "hovertemplate": "logMRatio=%{x}<br>FA_Cingulum_R=%{y}<br>Name=%{customdata[0]}<br>ID=%{customdata[1]}<br>Emotion=%{customdata[2]}<extra></extra>",
         "legendgroup": "",
         "marker": {
          "color": "#636efa",
          "symbol": "circle"
         },
         "mode": "markers",
         "name": "",
         "orientation": "v",
         "showlegend": false,
         "type": "scatter",
         "x": [
          0.3513233098,
          0.4826490925,
          0.2597689469,
          0.2429412523,
          0.2956891251,
          0.2219296077,
          0.1825986607,
          0.06984229766,
          0.1467950958,
          0.2273763015,
          0.272499517,
          0.1717709044,
          0.3061856171,
          0.2255677134,
          0.02387443419,
          0.3350982804,
          0.148470002,
          0.3551326267,
          0.2544547796,
          -0.08591972084,
          0.1310306538,
          0.06338290398,
          0.1217118043,
          0.195576716,
          0.1962284299,
          0.2852527461,
          0.114093325,
          0.1423027863,
          0.1235240006
         ],
         "xaxis": "x",
         "y": [
          0.557041,
          0.550508,
          0.525909,
          0.625258,
          0.595042,
          0.547374,
          0.575865,
          0.515294,
          0.568577,
          0.525771,
          0.541802,
          0.530846,
          0.520436,
          0.559774,
          0.516044,
          0.539679,
          0.503003,
          0.55548,
          0.50938,
          0.498781,
          0.572325,
          0.519822,
          0.518678,
          0.536256,
          0.554488,
          0.522858,
          0.528627,
          0.544502,
          0.524005
         ],
         "yaxis": "y"
        },
        {
         "hovertemplate": "<b>OLS trendline</b><br>FA_Cingulum_R = 0.0930421 * logMRatio + 0.522003<br>R<sup>2</sup>=0.143502<br><br>logMRatio=%{x}<br>FA_Cingulum_R=%{y} <b>(trend)</b><extra></extra>",
         "legendgroup": "",
         "line": {
          "color": "red"
         },
         "marker": {
          "color": "#636efa",
          "symbol": "circle"
         },
         "mode": "lines",
         "name": "",
         "showlegend": false,
         "type": "scatter",
         "x": [
          -0.08591972084,
          0.02387443419,
          0.06338290398,
          0.06984229766,
          0.114093325,
          0.1217118043,
          0.1235240006,
          0.1310306538,
          0.1423027863,
          0.1467950958,
          0.148470002,
          0.1717709044,
          0.1825986607,
          0.195576716,
          0.1962284299,
          0.2219296077,
          0.2255677134,
          0.2273763015,
          0.2429412523,
          0.2544547796,
          0.2597689469,
          0.272499517,
          0.2852527461,
          0.2956891251,
          0.3061856171,
          0.3350982804,
          0.3513233098,
          0.3551326267,
          0.4826490925
         ],
         "xaxis": "x",
         "y": [
          0.5140090043711985,
          0.5242244787820158,
          0.5279004282170292,
          0.5285014235143599,
          0.532618630275691,
          0.53332746928736,
          0.533496079765076,
          0.5341945142459873,
          0.5352432966796026,
          0.5356612704117214,
          0.5358171071356521,
          0.5379850711056022,
          0.5389925078619486,
          0.5402000128678671,
          0.5402606496719558,
          0.5426519402108012,
          0.5429904370613124,
          0.5431587118246658,
          0.5446069069181075,
          0.5456781492213,
          0.5461725902965386,
          0.547357068769515,
          0.5485436554825394,
          0.5495146776884753,
          0.5504912929317917,
          0.5531813866987051,
          0.5546909968651587,
          0.5550454235584923,
          0.5669098182795212
         ],
         "yaxis": "y"
        }
       ],
       "layout": {
        "annotations": [
         {
          "bgcolor": "#1f77b4",
          "bordercolor": "#1f77b4",
          "borderpad": 4,
          "borderwidth": 2,
          "font": {
           "color": "#ffffff",
           "family": "Courier New, monospace",
           "size": 16
          },
          "opacity": 0.8,
          "showarrow": false,
          "text": "Correlation: 0.38, p-value: 0.04",
          "x": 0.9,
          "xref": "paper",
          "y": 1.1,
          "yref": "paper"
         }
        ],
        "height": 600,
        "legend": {
         "tracegroupgap": 0
        },
        "template": {
         "data": {
          "bar": [
           {
            "error_x": {
             "color": "#2a3f5f"
            },
            "error_y": {
             "color": "#2a3f5f"
            },
            "marker": {
             "line": {
              "color": "#E5ECF6",
              "width": 0.5
             },
             "pattern": {
              "fillmode": "overlay",
              "size": 10,
              "solidity": 0.2
             }
            },
            "type": "bar"
           }
          ],
          "barpolar": [
           {
            "marker": {
             "line": {
              "color": "#E5ECF6",
              "width": 0.5
             },
             "pattern": {
              "fillmode": "overlay",
              "size": 10,
              "solidity": 0.2
             }
            },
            "type": "barpolar"
           }
          ],
          "carpet": [
           {
            "aaxis": {
             "endlinecolor": "#2a3f5f",
             "gridcolor": "white",
             "linecolor": "white",
             "minorgridcolor": "white",
             "startlinecolor": "#2a3f5f"
            },
            "baxis": {
             "endlinecolor": "#2a3f5f",
             "gridcolor": "white",
             "linecolor": "white",
             "minorgridcolor": "white",
             "startlinecolor": "#2a3f5f"
            },
            "type": "carpet"
           }
          ],
          "choropleth": [
           {
            "colorbar": {
             "outlinewidth": 0,
             "ticks": ""
            },
            "type": "choropleth"
           }
          ],
          "contour": [
           {
            "colorbar": {
             "outlinewidth": 0,
             "ticks": ""
            },
            "colorscale": [
             [
              0,
              "#0d0887"
             ],
             [
              0.1111111111111111,
              "#46039f"
             ],
             [
              0.2222222222222222,
              "#7201a8"
             ],
             [
              0.3333333333333333,
              "#9c179e"
             ],
             [
              0.4444444444444444,
              "#bd3786"
             ],
             [
              0.5555555555555556,
              "#d8576b"
             ],
             [
              0.6666666666666666,
              "#ed7953"
             ],
             [
              0.7777777777777778,
              "#fb9f3a"
             ],
             [
              0.8888888888888888,
              "#fdca26"
             ],
             [
              1,
              "#f0f921"
             ]
            ],
            "type": "contour"
           }
          ],
          "contourcarpet": [
           {
            "colorbar": {
             "outlinewidth": 0,
             "ticks": ""
            },
            "type": "contourcarpet"
           }
          ],
          "heatmap": [
           {
            "colorbar": {
             "outlinewidth": 0,
             "ticks": ""
            },
            "colorscale": [
             [
              0,
              "#0d0887"
             ],
             [
              0.1111111111111111,
              "#46039f"
             ],
             [
              0.2222222222222222,
              "#7201a8"
             ],
             [
              0.3333333333333333,
              "#9c179e"
             ],
             [
              0.4444444444444444,
              "#bd3786"
             ],
             [
              0.5555555555555556,
              "#d8576b"
             ],
             [
              0.6666666666666666,
              "#ed7953"
             ],
             [
              0.7777777777777778,
              "#fb9f3a"
             ],
             [
              0.8888888888888888,
              "#fdca26"
             ],
             [
              1,
              "#f0f921"
             ]
            ],
            "type": "heatmap"
           }
          ],
          "heatmapgl": [
           {
            "colorbar": {
             "outlinewidth": 0,
             "ticks": ""
            },
            "colorscale": [
             [
              0,
              "#0d0887"
             ],
             [
              0.1111111111111111,
              "#46039f"
             ],
             [
              0.2222222222222222,
              "#7201a8"
             ],
             [
              0.3333333333333333,
              "#9c179e"
             ],
             [
              0.4444444444444444,
              "#bd3786"
             ],
             [
              0.5555555555555556,
              "#d8576b"
             ],
             [
              0.6666666666666666,
              "#ed7953"
             ],
             [
              0.7777777777777778,
              "#fb9f3a"
             ],
             [
              0.8888888888888888,
              "#fdca26"
             ],
             [
              1,
              "#f0f921"
             ]
            ],
            "type": "heatmapgl"
           }
          ],
          "histogram": [
           {
            "marker": {
             "pattern": {
              "fillmode": "overlay",
              "size": 10,
              "solidity": 0.2
             }
            },
            "type": "histogram"
           }
          ],
          "histogram2d": [
           {
            "colorbar": {
             "outlinewidth": 0,
             "ticks": ""
            },
            "colorscale": [
             [
              0,
              "#0d0887"
             ],
             [
              0.1111111111111111,
              "#46039f"
             ],
             [
              0.2222222222222222,
              "#7201a8"
             ],
             [
              0.3333333333333333,
              "#9c179e"
             ],
             [
              0.4444444444444444,
              "#bd3786"
             ],
             [
              0.5555555555555556,
              "#d8576b"
             ],
             [
              0.6666666666666666,
              "#ed7953"
             ],
             [
              0.7777777777777778,
              "#fb9f3a"
             ],
             [
              0.8888888888888888,
              "#fdca26"
             ],
             [
              1,
              "#f0f921"
             ]
            ],
            "type": "histogram2d"
           }
          ],
          "histogram2dcontour": [
           {
            "colorbar": {
             "outlinewidth": 0,
             "ticks": ""
            },
            "colorscale": [
             [
              0,
              "#0d0887"
             ],
             [
              0.1111111111111111,
              "#46039f"
             ],
             [
              0.2222222222222222,
              "#7201a8"
             ],
             [
              0.3333333333333333,
              "#9c179e"
             ],
             [
              0.4444444444444444,
              "#bd3786"
             ],
             [
              0.5555555555555556,
              "#d8576b"
             ],
             [
              0.6666666666666666,
              "#ed7953"
             ],
             [
              0.7777777777777778,
              "#fb9f3a"
             ],
             [
              0.8888888888888888,
              "#fdca26"
             ],
             [
              1,
              "#f0f921"
             ]
            ],
            "type": "histogram2dcontour"
           }
          ],
          "mesh3d": [
           {
            "colorbar": {
             "outlinewidth": 0,
             "ticks": ""
            },
            "type": "mesh3d"
           }
          ],
          "parcoords": [
           {
            "line": {
             "colorbar": {
              "outlinewidth": 0,
              "ticks": ""
             }
            },
            "type": "parcoords"
           }
          ],
          "pie": [
           {
            "automargin": true,
            "type": "pie"
           }
          ],
          "scatter": [
           {
            "fillpattern": {
             "fillmode": "overlay",
             "size": 10,
             "solidity": 0.2
            },
            "type": "scatter"
           }
          ],
          "scatter3d": [
           {
            "line": {
             "colorbar": {
              "outlinewidth": 0,
              "ticks": ""
             }
            },
            "marker": {
             "colorbar": {
              "outlinewidth": 0,
              "ticks": ""
             }
            },
            "type": "scatter3d"
           }
          ],
          "scattercarpet": [
           {
            "marker": {
             "colorbar": {
              "outlinewidth": 0,
              "ticks": ""
             }
            },
            "type": "scattercarpet"
           }
          ],
          "scattergeo": [
           {
            "marker": {
             "colorbar": {
              "outlinewidth": 0,
              "ticks": ""
             }
            },
            "type": "scattergeo"
           }
          ],
          "scattergl": [
           {
            "marker": {
             "colorbar": {
              "outlinewidth": 0,
              "ticks": ""
             }
            },
            "type": "scattergl"
           }
          ],
          "scattermapbox": [
           {
            "marker": {
             "colorbar": {
              "outlinewidth": 0,
              "ticks": ""
             }
            },
            "type": "scattermapbox"
           }
          ],
          "scatterpolar": [
           {
            "marker": {
             "colorbar": {
              "outlinewidth": 0,
              "ticks": ""
             }
            },
            "type": "scatterpolar"
           }
          ],
          "scatterpolargl": [
           {
            "marker": {
             "colorbar": {
              "outlinewidth": 0,
              "ticks": ""
             }
            },
            "type": "scatterpolargl"
           }
          ],
          "scatterternary": [
           {
            "marker": {
             "colorbar": {
              "outlinewidth": 0,
              "ticks": ""
             }
            },
            "type": "scatterternary"
           }
          ],
          "surface": [
           {
            "colorbar": {
             "outlinewidth": 0,
             "ticks": ""
            },
            "colorscale": [
             [
              0,
              "#0d0887"
             ],
             [
              0.1111111111111111,
              "#46039f"
             ],
             [
              0.2222222222222222,
              "#7201a8"
             ],
             [
              0.3333333333333333,
              "#9c179e"
             ],
             [
              0.4444444444444444,
              "#bd3786"
             ],
             [
              0.5555555555555556,
              "#d8576b"
             ],
             [
              0.6666666666666666,
              "#ed7953"
             ],
             [
              0.7777777777777778,
              "#fb9f3a"
             ],
             [
              0.8888888888888888,
              "#fdca26"
             ],
             [
              1,
              "#f0f921"
             ]
            ],
            "type": "surface"
           }
          ],
          "table": [
           {
            "cells": {
             "fill": {
              "color": "#EBF0F8"
             },
             "line": {
              "color": "white"
             }
            },
            "header": {
             "fill": {
              "color": "#C8D4E3"
             },
             "line": {
              "color": "white"
             }
            },
            "type": "table"
           }
          ]
         },
         "layout": {
          "annotationdefaults": {
           "arrowcolor": "#2a3f5f",
           "arrowhead": 0,
           "arrowwidth": 1
          },
          "autotypenumbers": "strict",
          "coloraxis": {
           "colorbar": {
            "outlinewidth": 0,
            "ticks": ""
           }
          },
          "colorscale": {
           "diverging": [
            [
             0,
             "#8e0152"
            ],
            [
             0.1,
             "#c51b7d"
            ],
            [
             0.2,
             "#de77ae"
            ],
            [
             0.3,
             "#f1b6da"
            ],
            [
             0.4,
             "#fde0ef"
            ],
            [
             0.5,
             "#f7f7f7"
            ],
            [
             0.6,
             "#e6f5d0"
            ],
            [
             0.7,
             "#b8e186"
            ],
            [
             0.8,
             "#7fbc41"
            ],
            [
             0.9,
             "#4d9221"
            ],
            [
             1,
             "#276419"
            ]
           ],
           "sequential": [
            [
             0,
             "#0d0887"
            ],
            [
             0.1111111111111111,
             "#46039f"
            ],
            [
             0.2222222222222222,
             "#7201a8"
            ],
            [
             0.3333333333333333,
             "#9c179e"
            ],
            [
             0.4444444444444444,
             "#bd3786"
            ],
            [
             0.5555555555555556,
             "#d8576b"
            ],
            [
             0.6666666666666666,
             "#ed7953"
            ],
            [
             0.7777777777777778,
             "#fb9f3a"
            ],
            [
             0.8888888888888888,
             "#fdca26"
            ],
            [
             1,
             "#f0f921"
            ]
           ],
           "sequentialminus": [
            [
             0,
             "#0d0887"
            ],
            [
             0.1111111111111111,
             "#46039f"
            ],
            [
             0.2222222222222222,
             "#7201a8"
            ],
            [
             0.3333333333333333,
             "#9c179e"
            ],
            [
             0.4444444444444444,
             "#bd3786"
            ],
            [
             0.5555555555555556,
             "#d8576b"
            ],
            [
             0.6666666666666666,
             "#ed7953"
            ],
            [
             0.7777777777777778,
             "#fb9f3a"
            ],
            [
             0.8888888888888888,
             "#fdca26"
            ],
            [
             1,
             "#f0f921"
            ]
           ]
          },
          "colorway": [
           "#636efa",
           "#EF553B",
           "#00cc96",
           "#ab63fa",
           "#FFA15A",
           "#19d3f3",
           "#FF6692",
           "#B6E880",
           "#FF97FF",
           "#FECB52"
          ],
          "font": {
           "color": "#2a3f5f"
          },
          "geo": {
           "bgcolor": "white",
           "lakecolor": "white",
           "landcolor": "#E5ECF6",
           "showlakes": true,
           "showland": true,
           "subunitcolor": "white"
          },
          "hoverlabel": {
           "align": "left"
          },
          "hovermode": "closest",
          "mapbox": {
           "style": "light"
          },
          "paper_bgcolor": "white",
          "plot_bgcolor": "#E5ECF6",
          "polar": {
           "angularaxis": {
            "gridcolor": "white",
            "linecolor": "white",
            "ticks": ""
           },
           "bgcolor": "#E5ECF6",
           "radialaxis": {
            "gridcolor": "white",
            "linecolor": "white",
            "ticks": ""
           }
          },
          "scene": {
           "xaxis": {
            "backgroundcolor": "#E5ECF6",
            "gridcolor": "white",
            "gridwidth": 2,
            "linecolor": "white",
            "showbackground": true,
            "ticks": "",
            "zerolinecolor": "white"
           },
           "yaxis": {
            "backgroundcolor": "#E5ECF6",
            "gridcolor": "white",
            "gridwidth": 2,
            "linecolor": "white",
            "showbackground": true,
            "ticks": "",
            "zerolinecolor": "white"
           },
           "zaxis": {
            "backgroundcolor": "#E5ECF6",
            "gridcolor": "white",
            "gridwidth": 2,
            "linecolor": "white",
            "showbackground": true,
            "ticks": "",
            "zerolinecolor": "white"
           }
          },
          "shapedefaults": {
           "line": {
            "color": "#2a3f5f"
           }
          },
          "ternary": {
           "aaxis": {
            "gridcolor": "white",
            "linecolor": "white",
            "ticks": ""
           },
           "baxis": {
            "gridcolor": "white",
            "linecolor": "white",
            "ticks": ""
           },
           "bgcolor": "#E5ECF6",
           "caxis": {
            "gridcolor": "white",
            "linecolor": "white",
            "ticks": ""
           }
          },
          "title": {
           "x": 0.05
          },
          "xaxis": {
           "automargin": true,
           "gridcolor": "white",
           "linecolor": "white",
           "ticks": "",
           "title": {
            "standoff": 15
           },
           "zerolinecolor": "white",
           "zerolinewidth": 2
          },
          "yaxis": {
           "automargin": true,
           "gridcolor": "white",
           "linecolor": "white",
           "ticks": "",
           "title": {
            "standoff": 15
           },
           "zerolinecolor": "white",
           "zerolinewidth": 2
          }
         }
        },
        "title": {
         "text": "FA_Cingulum_R vs logMRatio for Happy"
        },
        "width": 1200,
        "xaxis": {
         "anchor": "y",
         "domain": [
          0,
          1
         ],
         "title": {
          "text": "logMRatio"
         }
        },
        "yaxis": {
         "anchor": "x",
         "domain": [
          0,
          1
         ],
         "title": {
          "text": "FA_Cingulum_R"
         }
        }
       }
      }
     },
     "metadata": {},
     "output_type": "display_data"
    },
    {
     "data": {
      "application/vnd.plotly.v1+json": {
       "config": {
        "plotlyServerURL": "https://plot.ly"
       },
       "data": [
        {
         "customdata": [
          [
           "王少刚",
           1,
           "Disgust"
          ],
          [
           "王梦宣",
           10,
           "Disgust"
          ],
          [
           "姚林林",
           11,
           "Disgust"
          ],
          [
           "赵冰冰",
           12,
           "Disgust"
          ],
          [
           "李思璇",
           13,
           "Disgust"
          ],
          [
           "何金辉",
           14,
           "Disgust"
          ],
          [
           "吴建星",
           17,
           "Disgust"
          ],
          [
           "bq",
           18,
           "Disgust"
          ],
          [
           "gxy",
           19,
           "Disgust"
          ],
          [
           "CTG",
           20,
           "Disgust"
          ],
          [
           "zwl",
           21,
           "Disgust"
          ],
          [
           null,
           22,
           "Disgust"
          ],
          [
           "MZY",
           23,
           "Disgust"
          ],
          [
           "林增萍",
           24,
           "Disgust"
          ],
          [
           "qdl",
           25,
           "Disgust"
          ],
          [
           "庄惠翔",
           27,
           "Disgust"
          ],
          [
           "焦雄",
           28,
           "Disgust"
          ],
          [
           "王辉",
           3,
           "Disgust"
          ],
          [
           "郭有容",
           31,
           "Disgust"
          ],
          [
           "余鹏程",
           32,
           "Disgust"
          ],
          [
           "陈若羽",
           34,
           "Disgust"
          ],
          [
           null,
           36,
           "Disgust"
          ],
          [
           "Xuewei Qin",
           39,
           "Disgust"
          ],
          [
           "董正心",
           4,
           "Disgust"
          ],
          [
           "高倩",
           5,
           "Disgust"
          ],
          [
           "叶帅",
           6,
           "Disgust"
          ],
          [
           "李闯",
           7,
           "Disgust"
          ],
          [
           "钱文莉",
           8,
           "Disgust"
          ],
          [
           "李诗晨",
           9,
           "Disgust"
          ]
         ],
         "hovertemplate": "logMRatio=%{x}<br>MD_Cingulum_R=%{y}<br>Name=%{customdata[0]}<br>ID=%{customdata[1]}<br>Emotion=%{customdata[2]}<extra></extra>",
         "legendgroup": "",
         "marker": {
          "color": "#636efa",
          "symbol": "circle"
         },
         "mode": "markers",
         "name": "",
         "orientation": "v",
         "showlegend": false,
         "type": "scatter",
         "x": [
          -0.430962887,
          0.3910200157,
          0.1794127487,
          0.1402669458,
          0.4344298117,
          0.07318147254,
          0.1139884498,
          0.008791730016,
          0.2990014532,
          0.1203343451,
          0.04167093928,
          -0.1984727429,
          -0.07951978022,
          -0.6920294926,
          0.05097761132,
          0.1242922426,
          0.6011630076,
          0.2618077152,
          0.07716797478,
          -0.2686514121,
          0.2644461534,
          -0.07575106391,
          0.2343983171,
          0.1091521419,
          0.2533157084,
          -0.06607974714,
          0.215714741,
          0.01018627875,
          0.1671007244
         ],
         "xaxis": "x",
         "y": [
          0.000541,
          0.000533,
          0.000546,
          0.000525,
          0.000516,
          0.000563,
          0.000552,
          0.000551,
          0.000546,
          0.000546,
          0.000578,
          0.000563,
          0.00055,
          0.000575,
          0.000537,
          0.000573,
          0.000559,
          0.000544,
          0.000564,
          0.00057,
          0.000545,
          0.000558,
          0.000556,
          0.000559,
          0.000545,
          0.000538,
          0.000564,
          0.000547,
          0.000541
         ],
         "yaxis": "y"
        },
        {
         "hovertemplate": "<b>OLS trendline</b><br>MD_Cingulum_R = -2.19757e-05 * logMRatio + 0.000552996<br>R<sup>2</sup>=0.149181<br><br>logMRatio=%{x}<br>MD_Cingulum_R=%{y} <b>(trend)</b><extra></extra>",
         "legendgroup": "",
         "line": {
          "color": "red"
         },
         "marker": {
          "color": "#636efa",
          "symbol": "circle"
         },
         "mode": "lines",
         "name": "",
         "showlegend": false,
         "type": "scatter",
         "x": [
          -0.6920294926,
          -0.430962887,
          -0.2686514121,
          -0.1984727429,
          -0.07951978022,
          -0.07575106391,
          -0.06607974714,
          0.008791730016,
          0.01018627875,
          0.04167093928,
          0.05097761132,
          0.07318147254,
          0.07716797478,
          0.1091521419,
          0.1139884498,
          0.1203343451,
          0.1242922426,
          0.1402669458,
          0.1671007244,
          0.1794127487,
          0.215714741,
          0.2343983171,
          0.2533157084,
          0.2618077152,
          0.2644461534,
          0.2990014532,
          0.3910200157,
          0.4344298117,
          0.6011630076
         ],
         "xaxis": "x",
         "y": [
          0.0005682033439161724,
          0.0005624662293531395,
          0.0005588993253278009,
          0.0005573571017862022,
          0.0005547430302815802,
          0.0005546602102013315,
          0.0005544476764988408,
          0.0005528023253404256,
          0.0005527716791923581,
          0.0005520797825630528,
          0.0005518752621741991,
          0.000551387317363073,
          0.0005512997112902697,
          0.000550596837667085,
          0.0005504905565423098,
          0.0005503511012172695,
          0.0005502641237529016,
          0.0005499130688864309,
          0.0005493233785212713,
          0.0005490528134915173,
          0.0005482550527506796,
          0.0005478444685770105,
          0.0005474287461567784,
          0.0005472421285854897,
          0.0005471841471282823,
          0.0005464247711320421,
          0.0005444026012195984,
          0.0005434486417032616,
          0.0005397845673796212
         ],
         "yaxis": "y"
        }
       ],
       "layout": {
        "annotations": [
         {
          "bgcolor": "#1f77b4",
          "bordercolor": "#1f77b4",
          "borderpad": 4,
          "borderwidth": 2,
          "font": {
           "color": "#ffffff",
           "family": "Courier New, monospace",
           "size": 16
          },
          "opacity": 0.8,
          "showarrow": false,
          "text": "Correlation: -0.39, p-value: 0.04",
          "x": 0.9,
          "xref": "paper",
          "y": 1.1,
          "yref": "paper"
         }
        ],
        "height": 600,
        "legend": {
         "tracegroupgap": 0
        },
        "template": {
         "data": {
          "bar": [
           {
            "error_x": {
             "color": "#2a3f5f"
            },
            "error_y": {
             "color": "#2a3f5f"
            },
            "marker": {
             "line": {
              "color": "#E5ECF6",
              "width": 0.5
             },
             "pattern": {
              "fillmode": "overlay",
              "size": 10,
              "solidity": 0.2
             }
            },
            "type": "bar"
           }
          ],
          "barpolar": [
           {
            "marker": {
             "line": {
              "color": "#E5ECF6",
              "width": 0.5
             },
             "pattern": {
              "fillmode": "overlay",
              "size": 10,
              "solidity": 0.2
             }
            },
            "type": "barpolar"
           }
          ],
          "carpet": [
           {
            "aaxis": {
             "endlinecolor": "#2a3f5f",
             "gridcolor": "white",
             "linecolor": "white",
             "minorgridcolor": "white",
             "startlinecolor": "#2a3f5f"
            },
            "baxis": {
             "endlinecolor": "#2a3f5f",
             "gridcolor": "white",
             "linecolor": "white",
             "minorgridcolor": "white",
             "startlinecolor": "#2a3f5f"
            },
            "type": "carpet"
           }
          ],
          "choropleth": [
           {
            "colorbar": {
             "outlinewidth": 0,
             "ticks": ""
            },
            "type": "choropleth"
           }
          ],
          "contour": [
           {
            "colorbar": {
             "outlinewidth": 0,
             "ticks": ""
            },
            "colorscale": [
             [
              0,
              "#0d0887"
             ],
             [
              0.1111111111111111,
              "#46039f"
             ],
             [
              0.2222222222222222,
              "#7201a8"
             ],
             [
              0.3333333333333333,
              "#9c179e"
             ],
             [
              0.4444444444444444,
              "#bd3786"
             ],
             [
              0.5555555555555556,
              "#d8576b"
             ],
             [
              0.6666666666666666,
              "#ed7953"
             ],
             [
              0.7777777777777778,
              "#fb9f3a"
             ],
             [
              0.8888888888888888,
              "#fdca26"
             ],
             [
              1,
              "#f0f921"
             ]
            ],
            "type": "contour"
           }
          ],
          "contourcarpet": [
           {
            "colorbar": {
             "outlinewidth": 0,
             "ticks": ""
            },
            "type": "contourcarpet"
           }
          ],
          "heatmap": [
           {
            "colorbar": {
             "outlinewidth": 0,
             "ticks": ""
            },
            "colorscale": [
             [
              0,
              "#0d0887"
             ],
             [
              0.1111111111111111,
              "#46039f"
             ],
             [
              0.2222222222222222,
              "#7201a8"
             ],
             [
              0.3333333333333333,
              "#9c179e"
             ],
             [
              0.4444444444444444,
              "#bd3786"
             ],
             [
              0.5555555555555556,
              "#d8576b"
             ],
             [
              0.6666666666666666,
              "#ed7953"
             ],
             [
              0.7777777777777778,
              "#fb9f3a"
             ],
             [
              0.8888888888888888,
              "#fdca26"
             ],
             [
              1,
              "#f0f921"
             ]
            ],
            "type": "heatmap"
           }
          ],
          "heatmapgl": [
           {
            "colorbar": {
             "outlinewidth": 0,
             "ticks": ""
            },
            "colorscale": [
             [
              0,
              "#0d0887"
             ],
             [
              0.1111111111111111,
              "#46039f"
             ],
             [
              0.2222222222222222,
              "#7201a8"
             ],
             [
              0.3333333333333333,
              "#9c179e"
             ],
             [
              0.4444444444444444,
              "#bd3786"
             ],
             [
              0.5555555555555556,
              "#d8576b"
             ],
             [
              0.6666666666666666,
              "#ed7953"
             ],
             [
              0.7777777777777778,
              "#fb9f3a"
             ],
             [
              0.8888888888888888,
              "#fdca26"
             ],
             [
              1,
              "#f0f921"
             ]
            ],
            "type": "heatmapgl"
           }
          ],
          "histogram": [
           {
            "marker": {
             "pattern": {
              "fillmode": "overlay",
              "size": 10,
              "solidity": 0.2
             }
            },
            "type": "histogram"
           }
          ],
          "histogram2d": [
           {
            "colorbar": {
             "outlinewidth": 0,
             "ticks": ""
            },
            "colorscale": [
             [
              0,
              "#0d0887"
             ],
             [
              0.1111111111111111,
              "#46039f"
             ],
             [
              0.2222222222222222,
              "#7201a8"
             ],
             [
              0.3333333333333333,
              "#9c179e"
             ],
             [
              0.4444444444444444,
              "#bd3786"
             ],
             [
              0.5555555555555556,
              "#d8576b"
             ],
             [
              0.6666666666666666,
              "#ed7953"
             ],
             [
              0.7777777777777778,
              "#fb9f3a"
             ],
             [
              0.8888888888888888,
              "#fdca26"
             ],
             [
              1,
              "#f0f921"
             ]
            ],
            "type": "histogram2d"
           }
          ],
          "histogram2dcontour": [
           {
            "colorbar": {
             "outlinewidth": 0,
             "ticks": ""
            },
            "colorscale": [
             [
              0,
              "#0d0887"
             ],
             [
              0.1111111111111111,
              "#46039f"
             ],
             [
              0.2222222222222222,
              "#7201a8"
             ],
             [
              0.3333333333333333,
              "#9c179e"
             ],
             [
              0.4444444444444444,
              "#bd3786"
             ],
             [
              0.5555555555555556,
              "#d8576b"
             ],
             [
              0.6666666666666666,
              "#ed7953"
             ],
             [
              0.7777777777777778,
              "#fb9f3a"
             ],
             [
              0.8888888888888888,
              "#fdca26"
             ],
             [
              1,
              "#f0f921"
             ]
            ],
            "type": "histogram2dcontour"
           }
          ],
          "mesh3d": [
           {
            "colorbar": {
             "outlinewidth": 0,
             "ticks": ""
            },
            "type": "mesh3d"
           }
          ],
          "parcoords": [
           {
            "line": {
             "colorbar": {
              "outlinewidth": 0,
              "ticks": ""
             }
            },
            "type": "parcoords"
           }
          ],
          "pie": [
           {
            "automargin": true,
            "type": "pie"
           }
          ],
          "scatter": [
           {
            "fillpattern": {
             "fillmode": "overlay",
             "size": 10,
             "solidity": 0.2
            },
            "type": "scatter"
           }
          ],
          "scatter3d": [
           {
            "line": {
             "colorbar": {
              "outlinewidth": 0,
              "ticks": ""
             }
            },
            "marker": {
             "colorbar": {
              "outlinewidth": 0,
              "ticks": ""
             }
            },
            "type": "scatter3d"
           }
          ],
          "scattercarpet": [
           {
            "marker": {
             "colorbar": {
              "outlinewidth": 0,
              "ticks": ""
             }
            },
            "type": "scattercarpet"
           }
          ],
          "scattergeo": [
           {
            "marker": {
             "colorbar": {
              "outlinewidth": 0,
              "ticks": ""
             }
            },
            "type": "scattergeo"
           }
          ],
          "scattergl": [
           {
            "marker": {
             "colorbar": {
              "outlinewidth": 0,
              "ticks": ""
             }
            },
            "type": "scattergl"
           }
          ],
          "scattermapbox": [
           {
            "marker": {
             "colorbar": {
              "outlinewidth": 0,
              "ticks": ""
             }
            },
            "type": "scattermapbox"
           }
          ],
          "scatterpolar": [
           {
            "marker": {
             "colorbar": {
              "outlinewidth": 0,
              "ticks": ""
             }
            },
            "type": "scatterpolar"
           }
          ],
          "scatterpolargl": [
           {
            "marker": {
             "colorbar": {
              "outlinewidth": 0,
              "ticks": ""
             }
            },
            "type": "scatterpolargl"
           }
          ],
          "scatterternary": [
           {
            "marker": {
             "colorbar": {
              "outlinewidth": 0,
              "ticks": ""
             }
            },
            "type": "scatterternary"
           }
          ],
          "surface": [
           {
            "colorbar": {
             "outlinewidth": 0,
             "ticks": ""
            },
            "colorscale": [
             [
              0,
              "#0d0887"
             ],
             [
              0.1111111111111111,
              "#46039f"
             ],
             [
              0.2222222222222222,
              "#7201a8"
             ],
             [
              0.3333333333333333,
              "#9c179e"
             ],
             [
              0.4444444444444444,
              "#bd3786"
             ],
             [
              0.5555555555555556,
              "#d8576b"
             ],
             [
              0.6666666666666666,
              "#ed7953"
             ],
             [
              0.7777777777777778,
              "#fb9f3a"
             ],
             [
              0.8888888888888888,
              "#fdca26"
             ],
             [
              1,
              "#f0f921"
             ]
            ],
            "type": "surface"
           }
          ],
          "table": [
           {
            "cells": {
             "fill": {
              "color": "#EBF0F8"
             },
             "line": {
              "color": "white"
             }
            },
            "header": {
             "fill": {
              "color": "#C8D4E3"
             },
             "line": {
              "color": "white"
             }
            },
            "type": "table"
           }
          ]
         },
         "layout": {
          "annotationdefaults": {
           "arrowcolor": "#2a3f5f",
           "arrowhead": 0,
           "arrowwidth": 1
          },
          "autotypenumbers": "strict",
          "coloraxis": {
           "colorbar": {
            "outlinewidth": 0,
            "ticks": ""
           }
          },
          "colorscale": {
           "diverging": [
            [
             0,
             "#8e0152"
            ],
            [
             0.1,
             "#c51b7d"
            ],
            [
             0.2,
             "#de77ae"
            ],
            [
             0.3,
             "#f1b6da"
            ],
            [
             0.4,
             "#fde0ef"
            ],
            [
             0.5,
             "#f7f7f7"
            ],
            [
             0.6,
             "#e6f5d0"
            ],
            [
             0.7,
             "#b8e186"
            ],
            [
             0.8,
             "#7fbc41"
            ],
            [
             0.9,
             "#4d9221"
            ],
            [
             1,
             "#276419"
            ]
           ],
           "sequential": [
            [
             0,
             "#0d0887"
            ],
            [
             0.1111111111111111,
             "#46039f"
            ],
            [
             0.2222222222222222,
             "#7201a8"
            ],
            [
             0.3333333333333333,
             "#9c179e"
            ],
            [
             0.4444444444444444,
             "#bd3786"
            ],
            [
             0.5555555555555556,
             "#d8576b"
            ],
            [
             0.6666666666666666,
             "#ed7953"
            ],
            [
             0.7777777777777778,
             "#fb9f3a"
            ],
            [
             0.8888888888888888,
             "#fdca26"
            ],
            [
             1,
             "#f0f921"
            ]
           ],
           "sequentialminus": [
            [
             0,
             "#0d0887"
            ],
            [
             0.1111111111111111,
             "#46039f"
            ],
            [
             0.2222222222222222,
             "#7201a8"
            ],
            [
             0.3333333333333333,
             "#9c179e"
            ],
            [
             0.4444444444444444,
             "#bd3786"
            ],
            [
             0.5555555555555556,
             "#d8576b"
            ],
            [
             0.6666666666666666,
             "#ed7953"
            ],
            [
             0.7777777777777778,
             "#fb9f3a"
            ],
            [
             0.8888888888888888,
             "#fdca26"
            ],
            [
             1,
             "#f0f921"
            ]
           ]
          },
          "colorway": [
           "#636efa",
           "#EF553B",
           "#00cc96",
           "#ab63fa",
           "#FFA15A",
           "#19d3f3",
           "#FF6692",
           "#B6E880",
           "#FF97FF",
           "#FECB52"
          ],
          "font": {
           "color": "#2a3f5f"
          },
          "geo": {
           "bgcolor": "white",
           "lakecolor": "white",
           "landcolor": "#E5ECF6",
           "showlakes": true,
           "showland": true,
           "subunitcolor": "white"
          },
          "hoverlabel": {
           "align": "left"
          },
          "hovermode": "closest",
          "mapbox": {
           "style": "light"
          },
          "paper_bgcolor": "white",
          "plot_bgcolor": "#E5ECF6",
          "polar": {
           "angularaxis": {
            "gridcolor": "white",
            "linecolor": "white",
            "ticks": ""
           },
           "bgcolor": "#E5ECF6",
           "radialaxis": {
            "gridcolor": "white",
            "linecolor": "white",
            "ticks": ""
           }
          },
          "scene": {
           "xaxis": {
            "backgroundcolor": "#E5ECF6",
            "gridcolor": "white",
            "gridwidth": 2,
            "linecolor": "white",
            "showbackground": true,
            "ticks": "",
            "zerolinecolor": "white"
           },
           "yaxis": {
            "backgroundcolor": "#E5ECF6",
            "gridcolor": "white",
            "gridwidth": 2,
            "linecolor": "white",
            "showbackground": true,
            "ticks": "",
            "zerolinecolor": "white"
           },
           "zaxis": {
            "backgroundcolor": "#E5ECF6",
            "gridcolor": "white",
            "gridwidth": 2,
            "linecolor": "white",
            "showbackground": true,
            "ticks": "",
            "zerolinecolor": "white"
           }
          },
          "shapedefaults": {
           "line": {
            "color": "#2a3f5f"
           }
          },
          "ternary": {
           "aaxis": {
            "gridcolor": "white",
            "linecolor": "white",
            "ticks": ""
           },
           "baxis": {
            "gridcolor": "white",
            "linecolor": "white",
            "ticks": ""
           },
           "bgcolor": "#E5ECF6",
           "caxis": {
            "gridcolor": "white",
            "linecolor": "white",
            "ticks": ""
           }
          },
          "title": {
           "x": 0.05
          },
          "xaxis": {
           "automargin": true,
           "gridcolor": "white",
           "linecolor": "white",
           "ticks": "",
           "title": {
            "standoff": 15
           },
           "zerolinecolor": "white",
           "zerolinewidth": 2
          },
          "yaxis": {
           "automargin": true,
           "gridcolor": "white",
           "linecolor": "white",
           "ticks": "",
           "title": {
            "standoff": 15
           },
           "zerolinecolor": "white",
           "zerolinewidth": 2
          }
         }
        },
        "title": {
         "text": "MD_Cingulum_R vs logMRatio for Disgust"
        },
        "width": 1200,
        "xaxis": {
         "anchor": "y",
         "domain": [
          0,
          1
         ],
         "title": {
          "text": "logMRatio"
         }
        },
        "yaxis": {
         "anchor": "x",
         "domain": [
          0,
          1
         ],
         "title": {
          "text": "MD_Cingulum_R"
         }
        }
       }
      }
     },
     "metadata": {},
     "output_type": "display_data"
    },
    {
     "data": {
      "application/vnd.plotly.v1+json": {
       "config": {
        "plotlyServerURL": "https://plot.ly"
       },
       "data": [
        {
         "customdata": [
          [
           "王少刚",
           1,
           "Happy"
          ],
          [
           "王梦宣",
           10,
           "Happy"
          ],
          [
           "姚林林",
           11,
           "Happy"
          ],
          [
           "赵冰冰",
           12,
           "Happy"
          ],
          [
           "李思璇",
           13,
           "Happy"
          ],
          [
           "何金辉",
           14,
           "Happy"
          ],
          [
           "吴建星",
           17,
           "Happy"
          ],
          [
           "bq",
           18,
           "Happy"
          ],
          [
           "gxy",
           19,
           "Happy"
          ],
          [
           "CTG",
           20,
           "Happy"
          ],
          [
           "zwl",
           21,
           "Happy"
          ],
          [
           null,
           22,
           "Happy"
          ],
          [
           "MZY",
           23,
           "Happy"
          ],
          [
           "林增萍",
           24,
           "Happy"
          ],
          [
           "qdl",
           25,
           "Happy"
          ],
          [
           "庄惠翔",
           27,
           "Happy"
          ],
          [
           "焦雄",
           28,
           "Happy"
          ],
          [
           "王辉",
           3,
           "Happy"
          ],
          [
           "郭有容",
           31,
           "Happy"
          ],
          [
           "余鹏程",
           32,
           "Happy"
          ],
          [
           "陈若羽",
           34,
           "Happy"
          ],
          [
           null,
           36,
           "Happy"
          ],
          [
           "Xuewei Qin",
           39,
           "Happy"
          ],
          [
           "董正心",
           4,
           "Happy"
          ],
          [
           "高倩",
           5,
           "Happy"
          ],
          [
           "叶帅",
           6,
           "Happy"
          ],
          [
           "李闯",
           7,
           "Happy"
          ],
          [
           "钱文莉",
           8,
           "Happy"
          ],
          [
           "李诗晨",
           9,
           "Happy"
          ]
         ],
         "hovertemplate": "logMRatio=%{x}<br>RD_Cingulum_L=%{y}<br>Name=%{customdata[0]}<br>ID=%{customdata[1]}<br>Emotion=%{customdata[2]}<extra></extra>",
         "legendgroup": "",
         "marker": {
          "color": "#636efa",
          "symbol": "circle"
         },
         "mode": "markers",
         "name": "",
         "orientation": "v",
         "showlegend": false,
         "type": "scatter",
         "x": [
          0.3513233098,
          0.4826490925,
          0.2597689469,
          0.2429412523,
          0.2956891251,
          0.2219296077,
          0.1825986607,
          0.06984229766,
          0.1467950958,
          0.2273763015,
          0.272499517,
          0.1717709044,
          0.3061856171,
          0.2255677134,
          0.02387443419,
          0.3350982804,
          0.148470002,
          0.3551326267,
          0.2544547796,
          -0.08591972084,
          0.1310306538,
          0.06338290398,
          0.1217118043,
          0.195576716,
          0.1962284299,
          0.2852527461,
          0.114093325,
          0.1423027863,
          0.1235240006
         ],
         "xaxis": "x",
         "y": [
          0.000304,
          0.000316,
          0.000313,
          0.000281,
          0.00031,
          0.000346,
          0.000332,
          0.000345,
          0.000317,
          0.00031,
          0.000349,
          0.000326,
          0.000342,
          0.000321,
          0.000333,
          0.000347,
          0.000344,
          0.000315,
          0.000338,
          0.000357,
          0.000311,
          0.000363,
          0.000328,
          0.000329,
          0.000327,
          0.000331,
          0.000336,
          0.000329,
          0.000313
         ],
         "yaxis": "y"
        },
        {
         "hovertemplate": "<b>OLS trendline</b><br>RD_Cingulum_L = -6.05044e-05 * logMRatio + 0.000340263<br>R<sup>2</sup>=0.154028<br><br>logMRatio=%{x}<br>RD_Cingulum_L=%{y} <b>(trend)</b><extra></extra>",
         "legendgroup": "",
         "line": {
          "color": "red"
         },
         "marker": {
          "color": "#636efa",
          "symbol": "circle"
         },
         "mode": "lines",
         "name": "",
         "showlegend": false,
         "type": "scatter",
         "x": [
          -0.08591972084,
          0.02387443419,
          0.06338290398,
          0.06984229766,
          0.114093325,
          0.1217118043,
          0.1235240006,
          0.1310306538,
          0.1423027863,
          0.1467950958,
          0.148470002,
          0.1717709044,
          0.1825986607,
          0.195576716,
          0.1962284299,
          0.2219296077,
          0.2255677134,
          0.2273763015,
          0.2429412523,
          0.2544547796,
          0.2597689469,
          0.272499517,
          0.2852527461,
          0.2956891251,
          0.3061856171,
          0.3350982804,
          0.3513233098,
          0.3551326267,
          0.4826490925
         ],
         "xaxis": "x",
         "y": [
          0.0003454614747624983,
          0.0003388184424328699,
          0.00033642800514558995,
          0.00033603718323859213,
          0.00033335980022891767,
          0.0003328988485117823,
          0.00033278920261482867,
          0.00033233501687168705,
          0.0003316530029648366,
          0.00033138119835706813,
          0.0003312798591188122,
          0.00032987005139352465,
          0.00032921492421358883,
          0.0003284296944269026,
          0.00032839026285145866,
          0.00032683522784082193,
          0.0003266151063436703,
          0.0003265056787587866,
          0.00032556393034471827,
          0.0003248673109840514,
          0.00032454578034183,
          0.0003237755245051163,
          0.00032300389769861367,
          0.00032237245057756877,
          0.0003217373663539629,
          0.0003199880222565009,
          0.0003190063361656164,
          0.0003187758556330818,
          0.00031106054506269777
         ],
         "yaxis": "y"
        }
       ],
       "layout": {
        "annotations": [
         {
          "bgcolor": "#1f77b4",
          "bordercolor": "#1f77b4",
          "borderpad": 4,
          "borderwidth": 2,
          "font": {
           "color": "#ffffff",
           "family": "Courier New, monospace",
           "size": 16
          },
          "opacity": 0.8,
          "showarrow": false,
          "text": "Correlation: -0.39, p-value: 0.04",
          "x": 0.9,
          "xref": "paper",
          "y": 1.1,
          "yref": "paper"
         }
        ],
        "height": 600,
        "legend": {
         "tracegroupgap": 0
        },
        "template": {
         "data": {
          "bar": [
           {
            "error_x": {
             "color": "#2a3f5f"
            },
            "error_y": {
             "color": "#2a3f5f"
            },
            "marker": {
             "line": {
              "color": "#E5ECF6",
              "width": 0.5
             },
             "pattern": {
              "fillmode": "overlay",
              "size": 10,
              "solidity": 0.2
             }
            },
            "type": "bar"
           }
          ],
          "barpolar": [
           {
            "marker": {
             "line": {
              "color": "#E5ECF6",
              "width": 0.5
             },
             "pattern": {
              "fillmode": "overlay",
              "size": 10,
              "solidity": 0.2
             }
            },
            "type": "barpolar"
           }
          ],
          "carpet": [
           {
            "aaxis": {
             "endlinecolor": "#2a3f5f",
             "gridcolor": "white",
             "linecolor": "white",
             "minorgridcolor": "white",
             "startlinecolor": "#2a3f5f"
            },
            "baxis": {
             "endlinecolor": "#2a3f5f",
             "gridcolor": "white",
             "linecolor": "white",
             "minorgridcolor": "white",
             "startlinecolor": "#2a3f5f"
            },
            "type": "carpet"
           }
          ],
          "choropleth": [
           {
            "colorbar": {
             "outlinewidth": 0,
             "ticks": ""
            },
            "type": "choropleth"
           }
          ],
          "contour": [
           {
            "colorbar": {
             "outlinewidth": 0,
             "ticks": ""
            },
            "colorscale": [
             [
              0,
              "#0d0887"
             ],
             [
              0.1111111111111111,
              "#46039f"
             ],
             [
              0.2222222222222222,
              "#7201a8"
             ],
             [
              0.3333333333333333,
              "#9c179e"
             ],
             [
              0.4444444444444444,
              "#bd3786"
             ],
             [
              0.5555555555555556,
              "#d8576b"
             ],
             [
              0.6666666666666666,
              "#ed7953"
             ],
             [
              0.7777777777777778,
              "#fb9f3a"
             ],
             [
              0.8888888888888888,
              "#fdca26"
             ],
             [
              1,
              "#f0f921"
             ]
            ],
            "type": "contour"
           }
          ],
          "contourcarpet": [
           {
            "colorbar": {
             "outlinewidth": 0,
             "ticks": ""
            },
            "type": "contourcarpet"
           }
          ],
          "heatmap": [
           {
            "colorbar": {
             "outlinewidth": 0,
             "ticks": ""
            },
            "colorscale": [
             [
              0,
              "#0d0887"
             ],
             [
              0.1111111111111111,
              "#46039f"
             ],
             [
              0.2222222222222222,
              "#7201a8"
             ],
             [
              0.3333333333333333,
              "#9c179e"
             ],
             [
              0.4444444444444444,
              "#bd3786"
             ],
             [
              0.5555555555555556,
              "#d8576b"
             ],
             [
              0.6666666666666666,
              "#ed7953"
             ],
             [
              0.7777777777777778,
              "#fb9f3a"
             ],
             [
              0.8888888888888888,
              "#fdca26"
             ],
             [
              1,
              "#f0f921"
             ]
            ],
            "type": "heatmap"
           }
          ],
          "heatmapgl": [
           {
            "colorbar": {
             "outlinewidth": 0,
             "ticks": ""
            },
            "colorscale": [
             [
              0,
              "#0d0887"
             ],
             [
              0.1111111111111111,
              "#46039f"
             ],
             [
              0.2222222222222222,
              "#7201a8"
             ],
             [
              0.3333333333333333,
              "#9c179e"
             ],
             [
              0.4444444444444444,
              "#bd3786"
             ],
             [
              0.5555555555555556,
              "#d8576b"
             ],
             [
              0.6666666666666666,
              "#ed7953"
             ],
             [
              0.7777777777777778,
              "#fb9f3a"
             ],
             [
              0.8888888888888888,
              "#fdca26"
             ],
             [
              1,
              "#f0f921"
             ]
            ],
            "type": "heatmapgl"
           }
          ],
          "histogram": [
           {
            "marker": {
             "pattern": {
              "fillmode": "overlay",
              "size": 10,
              "solidity": 0.2
             }
            },
            "type": "histogram"
           }
          ],
          "histogram2d": [
           {
            "colorbar": {
             "outlinewidth": 0,
             "ticks": ""
            },
            "colorscale": [
             [
              0,
              "#0d0887"
             ],
             [
              0.1111111111111111,
              "#46039f"
             ],
             [
              0.2222222222222222,
              "#7201a8"
             ],
             [
              0.3333333333333333,
              "#9c179e"
             ],
             [
              0.4444444444444444,
              "#bd3786"
             ],
             [
              0.5555555555555556,
              "#d8576b"
             ],
             [
              0.6666666666666666,
              "#ed7953"
             ],
             [
              0.7777777777777778,
              "#fb9f3a"
             ],
             [
              0.8888888888888888,
              "#fdca26"
             ],
             [
              1,
              "#f0f921"
             ]
            ],
            "type": "histogram2d"
           }
          ],
          "histogram2dcontour": [
           {
            "colorbar": {
             "outlinewidth": 0,
             "ticks": ""
            },
            "colorscale": [
             [
              0,
              "#0d0887"
             ],
             [
              0.1111111111111111,
              "#46039f"
             ],
             [
              0.2222222222222222,
              "#7201a8"
             ],
             [
              0.3333333333333333,
              "#9c179e"
             ],
             [
              0.4444444444444444,
              "#bd3786"
             ],
             [
              0.5555555555555556,
              "#d8576b"
             ],
             [
              0.6666666666666666,
              "#ed7953"
             ],
             [
              0.7777777777777778,
              "#fb9f3a"
             ],
             [
              0.8888888888888888,
              "#fdca26"
             ],
             [
              1,
              "#f0f921"
             ]
            ],
            "type": "histogram2dcontour"
           }
          ],
          "mesh3d": [
           {
            "colorbar": {
             "outlinewidth": 0,
             "ticks": ""
            },
            "type": "mesh3d"
           }
          ],
          "parcoords": [
           {
            "line": {
             "colorbar": {
              "outlinewidth": 0,
              "ticks": ""
             }
            },
            "type": "parcoords"
           }
          ],
          "pie": [
           {
            "automargin": true,
            "type": "pie"
           }
          ],
          "scatter": [
           {
            "fillpattern": {
             "fillmode": "overlay",
             "size": 10,
             "solidity": 0.2
            },
            "type": "scatter"
           }
          ],
          "scatter3d": [
           {
            "line": {
             "colorbar": {
              "outlinewidth": 0,
              "ticks": ""
             }
            },
            "marker": {
             "colorbar": {
              "outlinewidth": 0,
              "ticks": ""
             }
            },
            "type": "scatter3d"
           }
          ],
          "scattercarpet": [
           {
            "marker": {
             "colorbar": {
              "outlinewidth": 0,
              "ticks": ""
             }
            },
            "type": "scattercarpet"
           }
          ],
          "scattergeo": [
           {
            "marker": {
             "colorbar": {
              "outlinewidth": 0,
              "ticks": ""
             }
            },
            "type": "scattergeo"
           }
          ],
          "scattergl": [
           {
            "marker": {
             "colorbar": {
              "outlinewidth": 0,
              "ticks": ""
             }
            },
            "type": "scattergl"
           }
          ],
          "scattermapbox": [
           {
            "marker": {
             "colorbar": {
              "outlinewidth": 0,
              "ticks": ""
             }
            },
            "type": "scattermapbox"
           }
          ],
          "scatterpolar": [
           {
            "marker": {
             "colorbar": {
              "outlinewidth": 0,
              "ticks": ""
             }
            },
            "type": "scatterpolar"
           }
          ],
          "scatterpolargl": [
           {
            "marker": {
             "colorbar": {
              "outlinewidth": 0,
              "ticks": ""
             }
            },
            "type": "scatterpolargl"
           }
          ],
          "scatterternary": [
           {
            "marker": {
             "colorbar": {
              "outlinewidth": 0,
              "ticks": ""
             }
            },
            "type": "scatterternary"
           }
          ],
          "surface": [
           {
            "colorbar": {
             "outlinewidth": 0,
             "ticks": ""
            },
            "colorscale": [
             [
              0,
              "#0d0887"
             ],
             [
              0.1111111111111111,
              "#46039f"
             ],
             [
              0.2222222222222222,
              "#7201a8"
             ],
             [
              0.3333333333333333,
              "#9c179e"
             ],
             [
              0.4444444444444444,
              "#bd3786"
             ],
             [
              0.5555555555555556,
              "#d8576b"
             ],
             [
              0.6666666666666666,
              "#ed7953"
             ],
             [
              0.7777777777777778,
              "#fb9f3a"
             ],
             [
              0.8888888888888888,
              "#fdca26"
             ],
             [
              1,
              "#f0f921"
             ]
            ],
            "type": "surface"
           }
          ],
          "table": [
           {
            "cells": {
             "fill": {
              "color": "#EBF0F8"
             },
             "line": {
              "color": "white"
             }
            },
            "header": {
             "fill": {
              "color": "#C8D4E3"
             },
             "line": {
              "color": "white"
             }
            },
            "type": "table"
           }
          ]
         },
         "layout": {
          "annotationdefaults": {
           "arrowcolor": "#2a3f5f",
           "arrowhead": 0,
           "arrowwidth": 1
          },
          "autotypenumbers": "strict",
          "coloraxis": {
           "colorbar": {
            "outlinewidth": 0,
            "ticks": ""
           }
          },
          "colorscale": {
           "diverging": [
            [
             0,
             "#8e0152"
            ],
            [
             0.1,
             "#c51b7d"
            ],
            [
             0.2,
             "#de77ae"
            ],
            [
             0.3,
             "#f1b6da"
            ],
            [
             0.4,
             "#fde0ef"
            ],
            [
             0.5,
             "#f7f7f7"
            ],
            [
             0.6,
             "#e6f5d0"
            ],
            [
             0.7,
             "#b8e186"
            ],
            [
             0.8,
             "#7fbc41"
            ],
            [
             0.9,
             "#4d9221"
            ],
            [
             1,
             "#276419"
            ]
           ],
           "sequential": [
            [
             0,
             "#0d0887"
            ],
            [
             0.1111111111111111,
             "#46039f"
            ],
            [
             0.2222222222222222,
             "#7201a8"
            ],
            [
             0.3333333333333333,
             "#9c179e"
            ],
            [
             0.4444444444444444,
             "#bd3786"
            ],
            [
             0.5555555555555556,
             "#d8576b"
            ],
            [
             0.6666666666666666,
             "#ed7953"
            ],
            [
             0.7777777777777778,
             "#fb9f3a"
            ],
            [
             0.8888888888888888,
             "#fdca26"
            ],
            [
             1,
             "#f0f921"
            ]
           ],
           "sequentialminus": [
            [
             0,
             "#0d0887"
            ],
            [
             0.1111111111111111,
             "#46039f"
            ],
            [
             0.2222222222222222,
             "#7201a8"
            ],
            [
             0.3333333333333333,
             "#9c179e"
            ],
            [
             0.4444444444444444,
             "#bd3786"
            ],
            [
             0.5555555555555556,
             "#d8576b"
            ],
            [
             0.6666666666666666,
             "#ed7953"
            ],
            [
             0.7777777777777778,
             "#fb9f3a"
            ],
            [
             0.8888888888888888,
             "#fdca26"
            ],
            [
             1,
             "#f0f921"
            ]
           ]
          },
          "colorway": [
           "#636efa",
           "#EF553B",
           "#00cc96",
           "#ab63fa",
           "#FFA15A",
           "#19d3f3",
           "#FF6692",
           "#B6E880",
           "#FF97FF",
           "#FECB52"
          ],
          "font": {
           "color": "#2a3f5f"
          },
          "geo": {
           "bgcolor": "white",
           "lakecolor": "white",
           "landcolor": "#E5ECF6",
           "showlakes": true,
           "showland": true,
           "subunitcolor": "white"
          },
          "hoverlabel": {
           "align": "left"
          },
          "hovermode": "closest",
          "mapbox": {
           "style": "light"
          },
          "paper_bgcolor": "white",
          "plot_bgcolor": "#E5ECF6",
          "polar": {
           "angularaxis": {
            "gridcolor": "white",
            "linecolor": "white",
            "ticks": ""
           },
           "bgcolor": "#E5ECF6",
           "radialaxis": {
            "gridcolor": "white",
            "linecolor": "white",
            "ticks": ""
           }
          },
          "scene": {
           "xaxis": {
            "backgroundcolor": "#E5ECF6",
            "gridcolor": "white",
            "gridwidth": 2,
            "linecolor": "white",
            "showbackground": true,
            "ticks": "",
            "zerolinecolor": "white"
           },
           "yaxis": {
            "backgroundcolor": "#E5ECF6",
            "gridcolor": "white",
            "gridwidth": 2,
            "linecolor": "white",
            "showbackground": true,
            "ticks": "",
            "zerolinecolor": "white"
           },
           "zaxis": {
            "backgroundcolor": "#E5ECF6",
            "gridcolor": "white",
            "gridwidth": 2,
            "linecolor": "white",
            "showbackground": true,
            "ticks": "",
            "zerolinecolor": "white"
           }
          },
          "shapedefaults": {
           "line": {
            "color": "#2a3f5f"
           }
          },
          "ternary": {
           "aaxis": {
            "gridcolor": "white",
            "linecolor": "white",
            "ticks": ""
           },
           "baxis": {
            "gridcolor": "white",
            "linecolor": "white",
            "ticks": ""
           },
           "bgcolor": "#E5ECF6",
           "caxis": {
            "gridcolor": "white",
            "linecolor": "white",
            "ticks": ""
           }
          },
          "title": {
           "x": 0.05
          },
          "xaxis": {
           "automargin": true,
           "gridcolor": "white",
           "linecolor": "white",
           "ticks": "",
           "title": {
            "standoff": 15
           },
           "zerolinecolor": "white",
           "zerolinewidth": 2
          },
          "yaxis": {
           "automargin": true,
           "gridcolor": "white",
           "linecolor": "white",
           "ticks": "",
           "title": {
            "standoff": 15
           },
           "zerolinecolor": "white",
           "zerolinewidth": 2
          }
         }
        },
        "title": {
         "text": "RD_Cingulum_L vs logMRatio for Happy"
        },
        "width": 1200,
        "xaxis": {
         "anchor": "y",
         "domain": [
          0,
          1
         ],
         "title": {
          "text": "logMRatio"
         }
        },
        "yaxis": {
         "anchor": "x",
         "domain": [
          0,
          1
         ],
         "title": {
          "text": "RD_Cingulum_L"
         }
        }
       }
      }
     },
     "metadata": {},
     "output_type": "display_data"
    },
    {
     "data": {
      "application/vnd.plotly.v1+json": {
       "config": {
        "plotlyServerURL": "https://plot.ly"
       },
       "data": [
        {
         "customdata": [
          [
           "王少刚",
           1,
           "Happy"
          ],
          [
           "王梦宣",
           10,
           "Happy"
          ],
          [
           "姚林林",
           11,
           "Happy"
          ],
          [
           "赵冰冰",
           12,
           "Happy"
          ],
          [
           "李思璇",
           13,
           "Happy"
          ],
          [
           "何金辉",
           14,
           "Happy"
          ],
          [
           "吴建星",
           17,
           "Happy"
          ],
          [
           "bq",
           18,
           "Happy"
          ],
          [
           "gxy",
           19,
           "Happy"
          ],
          [
           "CTG",
           20,
           "Happy"
          ],
          [
           "zwl",
           21,
           "Happy"
          ],
          [
           null,
           22,
           "Happy"
          ],
          [
           "MZY",
           23,
           "Happy"
          ],
          [
           "林增萍",
           24,
           "Happy"
          ],
          [
           "qdl",
           25,
           "Happy"
          ],
          [
           "庄惠翔",
           27,
           "Happy"
          ],
          [
           "焦雄",
           28,
           "Happy"
          ],
          [
           "王辉",
           3,
           "Happy"
          ],
          [
           "郭有容",
           31,
           "Happy"
          ],
          [
           "余鹏程",
           32,
           "Happy"
          ],
          [
           "陈若羽",
           34,
           "Happy"
          ],
          [
           null,
           36,
           "Happy"
          ],
          [
           "Xuewei Qin",
           39,
           "Happy"
          ],
          [
           "董正心",
           4,
           "Happy"
          ],
          [
           "高倩",
           5,
           "Happy"
          ],
          [
           "叶帅",
           6,
           "Happy"
          ],
          [
           "李闯",
           7,
           "Happy"
          ],
          [
           "钱文莉",
           8,
           "Happy"
          ],
          [
           "李诗晨",
           9,
           "Happy"
          ]
         ],
         "hovertemplate": "logMRatio=%{x}<br>RD_Cingulum_R=%{y}<br>Name=%{customdata[0]}<br>ID=%{customdata[1]}<br>Emotion=%{customdata[2]}<extra></extra>",
         "legendgroup": "",
         "marker": {
          "color": "#636efa",
          "symbol": "circle"
         },
         "mode": "markers",
         "name": "",
         "orientation": "v",
         "showlegend": false,
         "type": "scatter",
         "x": [
          0.3513233098,
          0.4826490925,
          0.2597689469,
          0.2429412523,
          0.2956891251,
          0.2219296077,
          0.1825986607,
          0.06984229766,
          0.1467950958,
          0.2273763015,
          0.272499517,
          0.1717709044,
          0.3061856171,
          0.2255677134,
          0.02387443419,
          0.3350982804,
          0.148470002,
          0.3551326267,
          0.2544547796,
          -0.08591972084,
          0.1310306538,
          0.06338290398,
          0.1217118043,
          0.195576716,
          0.1962284299,
          0.2852527461,
          0.114093325,
          0.1423027863,
          0.1235240006
         ],
         "xaxis": "x",
         "y": [
          0.00035,
          0.00035,
          0.000369,
          0.000305,
          0.000318,
          0.000368,
          0.000349,
          0.000379,
          0.00035,
          0.000368,
          0.000384,
          0.000377,
          0.000376,
          0.00037,
          0.000371,
          0.000378,
          0.000389,
          0.000351,
          0.00039,
          0.000398,
          0.000344,
          0.000379,
          0.00038,
          0.000372,
          0.000355,
          0.000365,
          0.000378,
          0.000362,
          0.00037
         ],
         "yaxis": "y"
        },
        {
         "hovertemplate": "<b>OLS trendline</b><br>RD_Cingulum_R = -6.84484e-05 * logMRatio + 0.000379179<br>R<sup>2</sup>=0.150705<br><br>logMRatio=%{x}<br>RD_Cingulum_R=%{y} <b>(trend)</b><extra></extra>",
         "legendgroup": "",
         "line": {
          "color": "red"
         },
         "marker": {
          "color": "#636efa",
          "symbol": "circle"
         },
         "mode": "lines",
         "name": "",
         "showlegend": false,
         "type": "scatter",
         "x": [
          -0.08591972084,
          0.02387443419,
          0.06338290398,
          0.06984229766,
          0.114093325,
          0.1217118043,
          0.1235240006,
          0.1310306538,
          0.1423027863,
          0.1467950958,
          0.148470002,
          0.1717709044,
          0.1825986607,
          0.195576716,
          0.1962284299,
          0.2219296077,
          0.2255677134,
          0.2273763015,
          0.2429412523,
          0.2544547796,
          0.2597689469,
          0.272499517,
          0.2852527461,
          0.2956891251,
          0.3061856171,
          0.3350982804,
          0.3513233098,
          0.3551326267,
          0.4826490925
         ],
         "xaxis": "x",
         "y": [
          0.00038505991702624334,
          0.0003775446799444489,
          0.00037484038737869583,
          0.0003743982520492097,
          0.00037136933888454985,
          0.00037084786596892335,
          0.00037072382398481657,
          0.00037021000538970647,
          0.0003694384456638563,
          0.0003691309541500496,
          0.0003690163094571757,
          0.00036742139936648914,
          0.0003666802564920241,
          0.0003657919290358541,
          0.00036574732024527987,
          0.00036398811508180307,
          0.0003637390924734806,
          0.00036361529746498404,
          0.0003625499010839426,
          0.0003617618182640186,
          0.000361398071877511,
          0.0003605266843937077,
          0.0003596537459370225,
          0.0003589393922226647,
          0.0003582209238680824,
          0.00035624189757741846,
          0.000355131319855255,
          0.0003548705781098008,
          0.00034614227675297825
         ],
         "yaxis": "y"
        }
       ],
       "layout": {
        "annotations": [
         {
          "bgcolor": "#1f77b4",
          "bordercolor": "#1f77b4",
          "borderpad": 4,
          "borderwidth": 2,
          "font": {
           "color": "#ffffff",
           "family": "Courier New, monospace",
           "size": 16
          },
          "opacity": 0.8,
          "showarrow": false,
          "text": "Correlation: -0.39, p-value: 0.04",
          "x": 0.9,
          "xref": "paper",
          "y": 1.1,
          "yref": "paper"
         }
        ],
        "height": 600,
        "legend": {
         "tracegroupgap": 0
        },
        "template": {
         "data": {
          "bar": [
           {
            "error_x": {
             "color": "#2a3f5f"
            },
            "error_y": {
             "color": "#2a3f5f"
            },
            "marker": {
             "line": {
              "color": "#E5ECF6",
              "width": 0.5
             },
             "pattern": {
              "fillmode": "overlay",
              "size": 10,
              "solidity": 0.2
             }
            },
            "type": "bar"
           }
          ],
          "barpolar": [
           {
            "marker": {
             "line": {
              "color": "#E5ECF6",
              "width": 0.5
             },
             "pattern": {
              "fillmode": "overlay",
              "size": 10,
              "solidity": 0.2
             }
            },
            "type": "barpolar"
           }
          ],
          "carpet": [
           {
            "aaxis": {
             "endlinecolor": "#2a3f5f",
             "gridcolor": "white",
             "linecolor": "white",
             "minorgridcolor": "white",
             "startlinecolor": "#2a3f5f"
            },
            "baxis": {
             "endlinecolor": "#2a3f5f",
             "gridcolor": "white",
             "linecolor": "white",
             "minorgridcolor": "white",
             "startlinecolor": "#2a3f5f"
            },
            "type": "carpet"
           }
          ],
          "choropleth": [
           {
            "colorbar": {
             "outlinewidth": 0,
             "ticks": ""
            },
            "type": "choropleth"
           }
          ],
          "contour": [
           {
            "colorbar": {
             "outlinewidth": 0,
             "ticks": ""
            },
            "colorscale": [
             [
              0,
              "#0d0887"
             ],
             [
              0.1111111111111111,
              "#46039f"
             ],
             [
              0.2222222222222222,
              "#7201a8"
             ],
             [
              0.3333333333333333,
              "#9c179e"
             ],
             [
              0.4444444444444444,
              "#bd3786"
             ],
             [
              0.5555555555555556,
              "#d8576b"
             ],
             [
              0.6666666666666666,
              "#ed7953"
             ],
             [
              0.7777777777777778,
              "#fb9f3a"
             ],
             [
              0.8888888888888888,
              "#fdca26"
             ],
             [
              1,
              "#f0f921"
             ]
            ],
            "type": "contour"
           }
          ],
          "contourcarpet": [
           {
            "colorbar": {
             "outlinewidth": 0,
             "ticks": ""
            },
            "type": "contourcarpet"
           }
          ],
          "heatmap": [
           {
            "colorbar": {
             "outlinewidth": 0,
             "ticks": ""
            },
            "colorscale": [
             [
              0,
              "#0d0887"
             ],
             [
              0.1111111111111111,
              "#46039f"
             ],
             [
              0.2222222222222222,
              "#7201a8"
             ],
             [
              0.3333333333333333,
              "#9c179e"
             ],
             [
              0.4444444444444444,
              "#bd3786"
             ],
             [
              0.5555555555555556,
              "#d8576b"
             ],
             [
              0.6666666666666666,
              "#ed7953"
             ],
             [
              0.7777777777777778,
              "#fb9f3a"
             ],
             [
              0.8888888888888888,
              "#fdca26"
             ],
             [
              1,
              "#f0f921"
             ]
            ],
            "type": "heatmap"
           }
          ],
          "heatmapgl": [
           {
            "colorbar": {
             "outlinewidth": 0,
             "ticks": ""
            },
            "colorscale": [
             [
              0,
              "#0d0887"
             ],
             [
              0.1111111111111111,
              "#46039f"
             ],
             [
              0.2222222222222222,
              "#7201a8"
             ],
             [
              0.3333333333333333,
              "#9c179e"
             ],
             [
              0.4444444444444444,
              "#bd3786"
             ],
             [
              0.5555555555555556,
              "#d8576b"
             ],
             [
              0.6666666666666666,
              "#ed7953"
             ],
             [
              0.7777777777777778,
              "#fb9f3a"
             ],
             [
              0.8888888888888888,
              "#fdca26"
             ],
             [
              1,
              "#f0f921"
             ]
            ],
            "type": "heatmapgl"
           }
          ],
          "histogram": [
           {
            "marker": {
             "pattern": {
              "fillmode": "overlay",
              "size": 10,
              "solidity": 0.2
             }
            },
            "type": "histogram"
           }
          ],
          "histogram2d": [
           {
            "colorbar": {
             "outlinewidth": 0,
             "ticks": ""
            },
            "colorscale": [
             [
              0,
              "#0d0887"
             ],
             [
              0.1111111111111111,
              "#46039f"
             ],
             [
              0.2222222222222222,
              "#7201a8"
             ],
             [
              0.3333333333333333,
              "#9c179e"
             ],
             [
              0.4444444444444444,
              "#bd3786"
             ],
             [
              0.5555555555555556,
              "#d8576b"
             ],
             [
              0.6666666666666666,
              "#ed7953"
             ],
             [
              0.7777777777777778,
              "#fb9f3a"
             ],
             [
              0.8888888888888888,
              "#fdca26"
             ],
             [
              1,
              "#f0f921"
             ]
            ],
            "type": "histogram2d"
           }
          ],
          "histogram2dcontour": [
           {
            "colorbar": {
             "outlinewidth": 0,
             "ticks": ""
            },
            "colorscale": [
             [
              0,
              "#0d0887"
             ],
             [
              0.1111111111111111,
              "#46039f"
             ],
             [
              0.2222222222222222,
              "#7201a8"
             ],
             [
              0.3333333333333333,
              "#9c179e"
             ],
             [
              0.4444444444444444,
              "#bd3786"
             ],
             [
              0.5555555555555556,
              "#d8576b"
             ],
             [
              0.6666666666666666,
              "#ed7953"
             ],
             [
              0.7777777777777778,
              "#fb9f3a"
             ],
             [
              0.8888888888888888,
              "#fdca26"
             ],
             [
              1,
              "#f0f921"
             ]
            ],
            "type": "histogram2dcontour"
           }
          ],
          "mesh3d": [
           {
            "colorbar": {
             "outlinewidth": 0,
             "ticks": ""
            },
            "type": "mesh3d"
           }
          ],
          "parcoords": [
           {
            "line": {
             "colorbar": {
              "outlinewidth": 0,
              "ticks": ""
             }
            },
            "type": "parcoords"
           }
          ],
          "pie": [
           {
            "automargin": true,
            "type": "pie"
           }
          ],
          "scatter": [
           {
            "fillpattern": {
             "fillmode": "overlay",
             "size": 10,
             "solidity": 0.2
            },
            "type": "scatter"
           }
          ],
          "scatter3d": [
           {
            "line": {
             "colorbar": {
              "outlinewidth": 0,
              "ticks": ""
             }
            },
            "marker": {
             "colorbar": {
              "outlinewidth": 0,
              "ticks": ""
             }
            },
            "type": "scatter3d"
           }
          ],
          "scattercarpet": [
           {
            "marker": {
             "colorbar": {
              "outlinewidth": 0,
              "ticks": ""
             }
            },
            "type": "scattercarpet"
           }
          ],
          "scattergeo": [
           {
            "marker": {
             "colorbar": {
              "outlinewidth": 0,
              "ticks": ""
             }
            },
            "type": "scattergeo"
           }
          ],
          "scattergl": [
           {
            "marker": {
             "colorbar": {
              "outlinewidth": 0,
              "ticks": ""
             }
            },
            "type": "scattergl"
           }
          ],
          "scattermapbox": [
           {
            "marker": {
             "colorbar": {
              "outlinewidth": 0,
              "ticks": ""
             }
            },
            "type": "scattermapbox"
           }
          ],
          "scatterpolar": [
           {
            "marker": {
             "colorbar": {
              "outlinewidth": 0,
              "ticks": ""
             }
            },
            "type": "scatterpolar"
           }
          ],
          "scatterpolargl": [
           {
            "marker": {
             "colorbar": {
              "outlinewidth": 0,
              "ticks": ""
             }
            },
            "type": "scatterpolargl"
           }
          ],
          "scatterternary": [
           {
            "marker": {
             "colorbar": {
              "outlinewidth": 0,
              "ticks": ""
             }
            },
            "type": "scatterternary"
           }
          ],
          "surface": [
           {
            "colorbar": {
             "outlinewidth": 0,
             "ticks": ""
            },
            "colorscale": [
             [
              0,
              "#0d0887"
             ],
             [
              0.1111111111111111,
              "#46039f"
             ],
             [
              0.2222222222222222,
              "#7201a8"
             ],
             [
              0.3333333333333333,
              "#9c179e"
             ],
             [
              0.4444444444444444,
              "#bd3786"
             ],
             [
              0.5555555555555556,
              "#d8576b"
             ],
             [
              0.6666666666666666,
              "#ed7953"
             ],
             [
              0.7777777777777778,
              "#fb9f3a"
             ],
             [
              0.8888888888888888,
              "#fdca26"
             ],
             [
              1,
              "#f0f921"
             ]
            ],
            "type": "surface"
           }
          ],
          "table": [
           {
            "cells": {
             "fill": {
              "color": "#EBF0F8"
             },
             "line": {
              "color": "white"
             }
            },
            "header": {
             "fill": {
              "color": "#C8D4E3"
             },
             "line": {
              "color": "white"
             }
            },
            "type": "table"
           }
          ]
         },
         "layout": {
          "annotationdefaults": {
           "arrowcolor": "#2a3f5f",
           "arrowhead": 0,
           "arrowwidth": 1
          },
          "autotypenumbers": "strict",
          "coloraxis": {
           "colorbar": {
            "outlinewidth": 0,
            "ticks": ""
           }
          },
          "colorscale": {
           "diverging": [
            [
             0,
             "#8e0152"
            ],
            [
             0.1,
             "#c51b7d"
            ],
            [
             0.2,
             "#de77ae"
            ],
            [
             0.3,
             "#f1b6da"
            ],
            [
             0.4,
             "#fde0ef"
            ],
            [
             0.5,
             "#f7f7f7"
            ],
            [
             0.6,
             "#e6f5d0"
            ],
            [
             0.7,
             "#b8e186"
            ],
            [
             0.8,
             "#7fbc41"
            ],
            [
             0.9,
             "#4d9221"
            ],
            [
             1,
             "#276419"
            ]
           ],
           "sequential": [
            [
             0,
             "#0d0887"
            ],
            [
             0.1111111111111111,
             "#46039f"
            ],
            [
             0.2222222222222222,
             "#7201a8"
            ],
            [
             0.3333333333333333,
             "#9c179e"
            ],
            [
             0.4444444444444444,
             "#bd3786"
            ],
            [
             0.5555555555555556,
             "#d8576b"
            ],
            [
             0.6666666666666666,
             "#ed7953"
            ],
            [
             0.7777777777777778,
             "#fb9f3a"
            ],
            [
             0.8888888888888888,
             "#fdca26"
            ],
            [
             1,
             "#f0f921"
            ]
           ],
           "sequentialminus": [
            [
             0,
             "#0d0887"
            ],
            [
             0.1111111111111111,
             "#46039f"
            ],
            [
             0.2222222222222222,
             "#7201a8"
            ],
            [
             0.3333333333333333,
             "#9c179e"
            ],
            [
             0.4444444444444444,
             "#bd3786"
            ],
            [
             0.5555555555555556,
             "#d8576b"
            ],
            [
             0.6666666666666666,
             "#ed7953"
            ],
            [
             0.7777777777777778,
             "#fb9f3a"
            ],
            [
             0.8888888888888888,
             "#fdca26"
            ],
            [
             1,
             "#f0f921"
            ]
           ]
          },
          "colorway": [
           "#636efa",
           "#EF553B",
           "#00cc96",
           "#ab63fa",
           "#FFA15A",
           "#19d3f3",
           "#FF6692",
           "#B6E880",
           "#FF97FF",
           "#FECB52"
          ],
          "font": {
           "color": "#2a3f5f"
          },
          "geo": {
           "bgcolor": "white",
           "lakecolor": "white",
           "landcolor": "#E5ECF6",
           "showlakes": true,
           "showland": true,
           "subunitcolor": "white"
          },
          "hoverlabel": {
           "align": "left"
          },
          "hovermode": "closest",
          "mapbox": {
           "style": "light"
          },
          "paper_bgcolor": "white",
          "plot_bgcolor": "#E5ECF6",
          "polar": {
           "angularaxis": {
            "gridcolor": "white",
            "linecolor": "white",
            "ticks": ""
           },
           "bgcolor": "#E5ECF6",
           "radialaxis": {
            "gridcolor": "white",
            "linecolor": "white",
            "ticks": ""
           }
          },
          "scene": {
           "xaxis": {
            "backgroundcolor": "#E5ECF6",
            "gridcolor": "white",
            "gridwidth": 2,
            "linecolor": "white",
            "showbackground": true,
            "ticks": "",
            "zerolinecolor": "white"
           },
           "yaxis": {
            "backgroundcolor": "#E5ECF6",
            "gridcolor": "white",
            "gridwidth": 2,
            "linecolor": "white",
            "showbackground": true,
            "ticks": "",
            "zerolinecolor": "white"
           },
           "zaxis": {
            "backgroundcolor": "#E5ECF6",
            "gridcolor": "white",
            "gridwidth": 2,
            "linecolor": "white",
            "showbackground": true,
            "ticks": "",
            "zerolinecolor": "white"
           }
          },
          "shapedefaults": {
           "line": {
            "color": "#2a3f5f"
           }
          },
          "ternary": {
           "aaxis": {
            "gridcolor": "white",
            "linecolor": "white",
            "ticks": ""
           },
           "baxis": {
            "gridcolor": "white",
            "linecolor": "white",
            "ticks": ""
           },
           "bgcolor": "#E5ECF6",
           "caxis": {
            "gridcolor": "white",
            "linecolor": "white",
            "ticks": ""
           }
          },
          "title": {
           "x": 0.05
          },
          "xaxis": {
           "automargin": true,
           "gridcolor": "white",
           "linecolor": "white",
           "ticks": "",
           "title": {
            "standoff": 15
           },
           "zerolinecolor": "white",
           "zerolinewidth": 2
          },
          "yaxis": {
           "automargin": true,
           "gridcolor": "white",
           "linecolor": "white",
           "ticks": "",
           "title": {
            "standoff": 15
           },
           "zerolinecolor": "white",
           "zerolinewidth": 2
          }
         }
        },
        "title": {
         "text": "RD_Cingulum_R vs logMRatio for Happy"
        },
        "width": 1200,
        "xaxis": {
         "anchor": "y",
         "domain": [
          0,
          1
         ],
         "title": {
          "text": "logMRatio"
         }
        },
        "yaxis": {
         "anchor": "x",
         "domain": [
          0,
          1
         ],
         "title": {
          "text": "RD_Cingulum_R"
         }
        }
       }
      }
     },
     "metadata": {},
     "output_type": "display_data"
    }
   ],
   "source": [
    "tracts = [column for column in dti_df.columns if ('Cingulum' in column or 'IFO' in column or 'SLF' in column or 'UF' in column or 'Genu' in column)]\n",
    "tractdict = {\n",
    "    'IFO': ['FA_IFO_L', 'FA_IFO_R', 'MD_IFO_L', 'MD_IFO_R', 'AD_IFO_L', 'AD_IFO_R', 'RD_IFO_L', 'RD_IFO_R'],\n",
    "    'SLF': ['FA_SLF_L', 'FA_SLF_R', 'MD_SLF_L', 'MD_SLF_R', 'AD_SLF_L', 'AD_SLF_R', 'RD_SLF_L', 'RD_SLF_R'],\n",
    "    'UF': ['FA_UF_L', 'FA_UF_R', 'MD_UF_L', 'MD_UF_R', 'AD_UF_L', 'AD_UF_R', 'RD_UF_L', 'RD_UF_R'],\n",
    "    'Cingulum': ['FA_Cingulum_L', 'FA_Cingulum_R', 'MD_Cingulum_L', 'MD_Cingulum_R', 'AD_Cingulum_L', 'AD_Cingulum_R', 'RD_Cingulum_L', 'RD_Cingulum_R'],\n",
    "    'Cingulum (hippocampus)': ['FA_Cingulum (hippocampus)_L', 'FA_Cingulum (hippocampus)_R', 'MD_Cingulum (hippocampus)_L', 'MD_Cingulum (hippocampus)_R', 'AD_Cingulum (hippocampus)_L', 'AD_Cingulum (hippocampus)_R', 'RD_Cingulum (hippocampus)_L', 'RD_Cingulum (hippocampus)_R']\n",
    "\n",
    "}\n",
    "\n",
    "# here is the logic, we iterate over each tract and for each tract, we iterate over the FA and MD columns.\n",
    "# then we perform a pearson correlation between the logmratio (for each emotion) and the FA/MD values for each tract.\n",
    "# in the occasion of a significant correlation, we plot the scatter plot with a line of best fit, reporting both the correlation coefficient and the p-value.\n",
    "# we will do this for each emotion.\n",
    "\n",
    "\n",
    "\n",
    "# create a dictionary to store the results\n",
    "results = {}\n",
    "\n",
    "# iterate over each tract\n",
    "for tract, columns in tractdict.items():\n",
    "    # create a dictionary to store the results for each tract\n",
    "    results[tract] = {}\n",
    "    # iterate over each FA and MD column\n",
    "    for column in columns:\n",
    "        # create a dictionary to store the results for each column\n",
    "        results[tract][column] = {}\n",
    "        # iterate over each emotion\n",
    "        for emotion in logmratio_dti['Emotion'].unique():\n",
    "            # create a dictionary to store the results for each emotion\n",
    "            results[tract][column][emotion] = {}\n",
    "            # get the logmratio and FA/MD values for the current emotion\n",
    "            emotion_df = logmratio_dti[logmratio_dti['Emotion'] == emotion]\n",
    "            logmratio = emotion_df['logMRatio']\n",
    "            fa_md = emotion_df[column]\n",
    "            # perform the pearson correlation\n",
    "            correlation, pvalue = stats.pearsonr(logmratio, fa_md)\n",
    "            # store the results\n",
    "            results[tract][column][emotion]['correlation'] = correlation\n",
    "            results[tract][column][emotion]['pvalue'] = pvalue\n",
    "            # if the pvalue is significant, plot the scatter plot\n",
    "            if pvalue < 0.05:\n",
    "                fig = px.scatter(emotion_df, x='logMRatio', y=column, title=f'{column} vs logMRatio for {emotion}', trendline='ols'\n",
    "                                , trendline_color_override='red', hover_data=['Name', 'ID', 'Emotion', column])\n",
    "                fig.update_layout(yaxis_title=column, xaxis_title='logMRatio', width=1200, height=600)\n",
    "                # add the correlation coefficient and pvalue to the plot\n",
    "                fig.add_annotation(text=f\"Correlation: {correlation:.2f}, p-value: {pvalue:.2f}\", x=0.9, \n",
    "                                y = 1.1, \n",
    "                                    showarrow=False, \n",
    "                                    font=dict(\n",
    "                                        family=\"Courier New, monospace\",\n",
    "                                        size=16,\n",
    "                                        color=\"#ffffff\"\n",
    "                                    ), xref=\"paper\", yref=\"paper\", bgcolor=\"#1f77b4\", bordercolor=\"#1f77b4\", borderwidth=2, borderpad=4, opacity=0.8)\n",
    "                fig.show()\n",
    "            \n"
   ]
  },
  {
   "cell_type": "code",
   "execution_count": null,
   "metadata": {},
   "outputs": [],
   "source": []
  }
 ],
 "metadata": {
  "kernelspec": {
   "display_name": "base",
   "language": "python",
   "name": "python3"
  },
  "language_info": {
   "codemirror_mode": {
    "name": "ipython",
    "version": 3
   },
   "file_extension": ".py",
   "mimetype": "text/x-python",
   "name": "python",
   "nbconvert_exporter": "python",
   "pygments_lexer": "ipython3",
   "version": "3.10.13"
  }
 },
 "nbformat": 4,
 "nbformat_minor": 2
}
